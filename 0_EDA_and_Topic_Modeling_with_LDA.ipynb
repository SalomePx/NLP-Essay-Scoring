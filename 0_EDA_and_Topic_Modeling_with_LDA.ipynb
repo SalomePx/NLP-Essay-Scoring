{
  "cells": [
    {
      "cell_type": "markdown",
      "metadata": {
        "id": "fFS_GWM1F7lN"
      },
      "source": [
        "# Exploratory Data Analysis and Topic Modeling\n",
        "\n",
        "This section will cover:\n",
        "\n",
        "* initial exploratory analysis\n",
        "* grammar and spelling correction \n",
        "* feature extraction with SpaCy \n",
        "* topic modeling with latent Dirichlet allocation (LDA).\n",
        "* automatic scoring with LDA"
      ]
    },
    {
      "cell_type": "code",
      "execution_count": 1,
      "metadata": {
        "colab": {
          "base_uri": "https://localhost:8080/"
        },
        "id": "PYnDPugGGO8z",
        "outputId": "2095fbf5-2d62-4fea-90e4-c70908b017b6"
      },
      "outputs": [
        {
          "name": "stdout",
          "output_type": "stream",
          "text": [
            "Requirement already satisfied: language-tool-python in /usr/local/Caskroom/miniforge/base/envs/myenv/lib/python3.9/site-packages (2.7.1)\n",
            "Requirement already satisfied: requests in /usr/local/Caskroom/miniforge/base/envs/myenv/lib/python3.9/site-packages (from language-tool-python) (2.26.0)\n",
            "Requirement already satisfied: tqdm in /usr/local/Caskroom/miniforge/base/envs/myenv/lib/python3.9/site-packages (from language-tool-python) (4.63.0)\n",
            "Requirement already satisfied: idna<4,>=2.5 in /usr/local/Caskroom/miniforge/base/envs/myenv/lib/python3.9/site-packages (from requests->language-tool-python) (3.1)\n",
            "Requirement already satisfied: urllib3<1.27,>=1.21.1 in /usr/local/Caskroom/miniforge/base/envs/myenv/lib/python3.9/site-packages (from requests->language-tool-python) (1.26.7)\n",
            "Requirement already satisfied: charset-normalizer~=2.0.0 in /usr/local/Caskroom/miniforge/base/envs/myenv/lib/python3.9/site-packages (from requests->language-tool-python) (2.0.8)\n",
            "Requirement already satisfied: certifi>=2017.4.17 in /usr/local/Caskroom/miniforge/base/envs/myenv/lib/python3.9/site-packages (from requests->language-tool-python) (2021.10.8)\n",
            "Requirement already satisfied: pyLDAvis in /usr/local/Caskroom/miniforge/base/envs/myenv/lib/python3.9/site-packages (3.3.1)\n",
            "Requirement already satisfied: setuptools in /usr/local/Caskroom/miniforge/base/envs/myenv/lib/python3.9/site-packages (from pyLDAvis) (58.3.0)\n",
            "Requirement already satisfied: future in /usr/local/Caskroom/miniforge/base/envs/myenv/lib/python3.9/site-packages (from pyLDAvis) (0.18.2)\n",
            "Requirement already satisfied: numexpr in /usr/local/Caskroom/miniforge/base/envs/myenv/lib/python3.9/site-packages (from pyLDAvis) (2.8.1)\n",
            "Requirement already satisfied: scipy in /usr/local/Caskroom/miniforge/base/envs/myenv/lib/python3.9/site-packages (from pyLDAvis) (1.7.3)\n",
            "Requirement already satisfied: funcy in /usr/local/Caskroom/miniforge/base/envs/myenv/lib/python3.9/site-packages (from pyLDAvis) (1.17)\n",
            "Requirement already satisfied: gensim in /usr/local/Caskroom/miniforge/base/envs/myenv/lib/python3.9/site-packages (from pyLDAvis) (4.1.2)\n",
            "Requirement already satisfied: scikit-learn in /usr/local/Caskroom/miniforge/base/envs/myenv/lib/python3.9/site-packages (from pyLDAvis) (1.0.1)\n",
            "Requirement already satisfied: numpy>=1.20.0 in /usr/local/Caskroom/miniforge/base/envs/myenv/lib/python3.9/site-packages (from pyLDAvis) (1.22.3)\n",
            "Requirement already satisfied: sklearn in /usr/local/Caskroom/miniforge/base/envs/myenv/lib/python3.9/site-packages (from pyLDAvis) (0.0)\n",
            "Requirement already satisfied: pandas>=1.2.0 in /usr/local/Caskroom/miniforge/base/envs/myenv/lib/python3.9/site-packages (from pyLDAvis) (1.3.4)\n",
            "Requirement already satisfied: joblib in /usr/local/Caskroom/miniforge/base/envs/myenv/lib/python3.9/site-packages (from pyLDAvis) (1.1.0)\n",
            "Requirement already satisfied: jinja2 in /usr/local/Caskroom/miniforge/base/envs/myenv/lib/python3.9/site-packages (from pyLDAvis) (3.0.2)\n",
            "Requirement already satisfied: python-dateutil>=2.7.3 in /usr/local/Caskroom/miniforge/base/envs/myenv/lib/python3.9/site-packages (from pandas>=1.2.0->pyLDAvis) (2.8.2)\n",
            "Requirement already satisfied: pytz>=2017.3 in /usr/local/Caskroom/miniforge/base/envs/myenv/lib/python3.9/site-packages (from pandas>=1.2.0->pyLDAvis) (2021.3)\n",
            "Requirement already satisfied: smart-open>=1.8.1 in /usr/local/Caskroom/miniforge/base/envs/myenv/lib/python3.9/site-packages (from gensim->pyLDAvis) (5.2.1)\n",
            "Requirement already satisfied: MarkupSafe>=2.0 in /usr/local/Caskroom/miniforge/base/envs/myenv/lib/python3.9/site-packages (from jinja2->pyLDAvis) (2.0.1)\n",
            "Requirement already satisfied: packaging in /usr/local/Caskroom/miniforge/base/envs/myenv/lib/python3.9/site-packages (from numexpr->pyLDAvis) (21.0)\n",
            "Requirement already satisfied: threadpoolctl>=2.0.0 in /usr/local/Caskroom/miniforge/base/envs/myenv/lib/python3.9/site-packages (from scikit-learn->pyLDAvis) (3.0.0)\n",
            "Requirement already satisfied: six>=1.5 in /usr/local/Caskroom/miniforge/base/envs/myenv/lib/python3.9/site-packages (from python-dateutil>=2.7.3->pandas>=1.2.0->pyLDAvis) (1.16.0)\n",
            "Requirement already satisfied: pyparsing>=2.0.2 in /usr/local/Caskroom/miniforge/base/envs/myenv/lib/python3.9/site-packages (from packaging->numexpr->pyLDAvis) (3.0.4)\n"
          ]
        }
      ],
      "source": [
        "!pip install language-tool-python\n",
        "!pip install pyLDAvis"
      ]
    },
    {
      "cell_type": "code",
      "execution_count": 2,
      "metadata": {
        "id": "57QK2uiZF7lO"
      },
      "outputs": [],
      "source": [
        "%matplotlib inline\n",
        "\n",
        "import numpy as np\n",
        "import pandas as pd\n",
        "import re\n",
        "from datetime import datetime\n",
        "\n",
        "import matplotlib.pyplot as plt\n",
        "import seaborn as sns\n",
        "\n",
        "import spacy\n",
        "from spacy.lang.en.stop_words import STOP_WORDS\n",
        "from string import punctuation\n",
        "\n",
        "import language_tool_python\n",
        "\n",
        "from sklearn.feature_extraction.text import CountVectorizer\n",
        "from sklearn.decomposition import LatentDirichletAllocation\n",
        "import joblib\n",
        "from sklearn.model_selection import train_test_split\n",
        "\n",
        "import pyLDAvis\n",
        "from pyLDAvis.sklearn import prepare\n",
        "\n",
        "import swifter\n",
        "\n",
        "plt.style.use('seaborn-colorblind')\n",
        "\n",
        "# Setup Pandas\n",
        "pd.set_option('display.width', 500)\n",
        "pd.set_option('display.max_columns', 100)\n",
        "pd.set_option('display.notebook_repr_html', True)\n",
        "pd.set_option('display.max_colwidth', 100)\n",
        "\n",
        "pyLDAvis.enable_notebook()\n",
        "# plt.rcParams['figure.figsize'] = [8, 5]\n",
        "plt.rcParams['figure.dpi']= 100\n",
        "\n",
        "import warnings\n",
        "warnings.simplefilter(\"ignore\", DeprecationWarning)"
      ]
    },
    {
      "cell_type": "code",
      "execution_count": 3,
      "metadata": {
        "colab": {
          "base_uri": "https://localhost:8080/",
          "height": 314
        },
        "id": "oePjeKc7F7lQ",
        "outputId": "e682fe9a-9d03-4eab-fdc1-496bc38cba71"
      },
      "outputs": [
        {
          "data": {
            "text/html": [
              "<div>\n",
              "<style scoped>\n",
              "    .dataframe tbody tr th:only-of-type {\n",
              "        vertical-align: middle;\n",
              "    }\n",
              "\n",
              "    .dataframe tbody tr th {\n",
              "        vertical-align: top;\n",
              "    }\n",
              "\n",
              "    .dataframe thead th {\n",
              "        text-align: right;\n",
              "    }\n",
              "</style>\n",
              "<table border=\"1\" class=\"dataframe\">\n",
              "  <thead>\n",
              "    <tr style=\"text-align: right;\">\n",
              "      <th></th>\n",
              "      <th>essay_id</th>\n",
              "      <th>topic</th>\n",
              "      <th>essay</th>\n",
              "      <th>rater1_domain1</th>\n",
              "      <th>rater2_domain1</th>\n",
              "      <th>rater3_domain1</th>\n",
              "      <th>target_score</th>\n",
              "      <th>rater1_domain2</th>\n",
              "      <th>rater2_domain2</th>\n",
              "      <th>topic2_target</th>\n",
              "      <th>rater1_trait1</th>\n",
              "      <th>rater1_trait2</th>\n",
              "      <th>rater1_trait3</th>\n",
              "      <th>rater1_trait4</th>\n",
              "      <th>rater1_trait5</th>\n",
              "      <th>rater1_trait6</th>\n",
              "      <th>rater2_trait1</th>\n",
              "      <th>rater2_trait2</th>\n",
              "      <th>rater2_trait3</th>\n",
              "      <th>rater2_trait4</th>\n",
              "      <th>rater2_trait5</th>\n",
              "      <th>rater2_trait6</th>\n",
              "      <th>rater3_trait1</th>\n",
              "      <th>rater3_trait2</th>\n",
              "      <th>rater3_trait3</th>\n",
              "      <th>rater3_trait4</th>\n",
              "      <th>rater3_trait5</th>\n",
              "      <th>rater3_trait6</th>\n",
              "    </tr>\n",
              "  </thead>\n",
              "  <tbody>\n",
              "    <tr>\n",
              "      <th>482</th>\n",
              "      <td>485</td>\n",
              "      <td>1</td>\n",
              "      <td>Dear @CAPS1 @CAPS2 @CAPS3, I believe that computers have a negative affect on people. Computers ...</td>\n",
              "      <td>5</td>\n",
              "      <td>5</td>\n",
              "      <td>NaN</td>\n",
              "      <td>10</td>\n",
              "      <td>NaN</td>\n",
              "      <td>NaN</td>\n",
              "      <td>NaN</td>\n",
              "      <td>NaN</td>\n",
              "      <td>NaN</td>\n",
              "      <td>NaN</td>\n",
              "      <td>NaN</td>\n",
              "      <td>NaN</td>\n",
              "      <td>NaN</td>\n",
              "      <td>NaN</td>\n",
              "      <td>NaN</td>\n",
              "      <td>NaN</td>\n",
              "      <td>NaN</td>\n",
              "      <td>NaN</td>\n",
              "      <td>NaN</td>\n",
              "      <td>NaN</td>\n",
              "      <td>NaN</td>\n",
              "      <td>NaN</td>\n",
              "      <td>NaN</td>\n",
              "      <td>NaN</td>\n",
              "      <td>NaN</td>\n",
              "    </tr>\n",
              "  </tbody>\n",
              "</table>\n",
              "</div>"
            ],
            "text/plain": [
              "     essay_id  topic                                                                                                essay  rater1_domain1  rater2_domain1  rater3_domain1  target_score  rater1_domain2  rater2_domain2  topic2_target  rater1_trait1  rater1_trait2  rater1_trait3  rater1_trait4  rater1_trait5  rater1_trait6  rater2_trait1  rater2_trait2  rater2_trait3  rater2_trait4  rater2_trait5  rater2_trait6  rater3_trait1  rater3_trait2  rater3_trait3  rater3_trait4  rater3_trait5  \\\n",
              "482       485      1  Dear @CAPS1 @CAPS2 @CAPS3, I believe that computers have a negative affect on people. Computers ...               5               5             NaN            10             NaN             NaN            NaN            NaN            NaN            NaN            NaN            NaN            NaN            NaN            NaN            NaN            NaN            NaN            NaN            NaN            NaN            NaN            NaN            NaN   \n",
              "\n",
              "     rater3_trait6  \n",
              "482            NaN  "
            ]
          },
          "execution_count": 3,
          "metadata": {},
          "output_type": "execute_result"
        }
      ],
      "source": [
        "try:\n",
        "  training_set  = pd.read_csv('data/training_set_rel3.tsv', sep='\\t', encoding = \"ISO-8859-1\")\\\n",
        "                .rename(columns={'essay_set': 'topic', 'domain1_score': 'target_score', 'domain2_score': 'topic2_target'})\n",
        "except pd.errors.ParserError as e:\n",
        "        print(f\"Problem file: training_set_rel3.tsv caused Exception: {e}\")\n",
        "        pass\n",
        "training_set.sample()"
      ]
    },
    {
      "cell_type": "code",
      "execution_count": 4,
      "metadata": {
        "colab": {
          "base_uri": "https://localhost:8080/"
        },
        "id": "TsqC3gXnF7lQ",
        "outputId": "4f07d4fb-0a4b-4cad-df1d-476b8a12a26a"
      },
      "outputs": [
        {
          "name": "stdout",
          "output_type": "stream",
          "text": [
            "<class 'pandas.core.frame.DataFrame'>\n",
            "RangeIndex: 12976 entries, 0 to 12975\n",
            "Data columns (total 28 columns):\n",
            " #   Column          Non-Null Count  Dtype  \n",
            "---  ------          --------------  -----  \n",
            " 0   essay_id        12976 non-null  int64  \n",
            " 1   topic           12976 non-null  int64  \n",
            " 2   essay           12976 non-null  object \n",
            " 3   rater1_domain1  12976 non-null  int64  \n",
            " 4   rater2_domain1  12976 non-null  int64  \n",
            " 5   rater3_domain1  128 non-null    float64\n",
            " 6   target_score    12976 non-null  int64  \n",
            " 7   rater1_domain2  1800 non-null   float64\n",
            " 8   rater2_domain2  1800 non-null   float64\n",
            " 9   topic2_target   1800 non-null   float64\n",
            " 10  rater1_trait1   2292 non-null   float64\n",
            " 11  rater1_trait2   2292 non-null   float64\n",
            " 12  rater1_trait3   2292 non-null   float64\n",
            " 13  rater1_trait4   2292 non-null   float64\n",
            " 14  rater1_trait5   723 non-null    float64\n",
            " 15  rater1_trait6   723 non-null    float64\n",
            " 16  rater2_trait1   2292 non-null   float64\n",
            " 17  rater2_trait2   2292 non-null   float64\n",
            " 18  rater2_trait3   2292 non-null   float64\n",
            " 19  rater2_trait4   2292 non-null   float64\n",
            " 20  rater2_trait5   723 non-null    float64\n",
            " 21  rater2_trait6   723 non-null    float64\n",
            " 22  rater3_trait1   128 non-null    float64\n",
            " 23  rater3_trait2   128 non-null    float64\n",
            " 24  rater3_trait3   128 non-null    float64\n",
            " 25  rater3_trait4   128 non-null    float64\n",
            " 26  rater3_trait5   128 non-null    float64\n",
            " 27  rater3_trait6   128 non-null    float64\n",
            "dtypes: float64(22), int64(5), object(1)\n",
            "memory usage: 2.8+ MB\n"
          ]
        }
      ],
      "source": [
        "training_set.info()"
      ]
    },
    {
      "cell_type": "code",
      "execution_count": 5,
      "metadata": {
        "colab": {
          "base_uri": "https://localhost:8080/",
          "height": 404
        },
        "id": "HPzN3T8oF7lR",
        "outputId": "3d8eaa91-ca00-40ee-f6db-2c3540407c18"
      },
      "outputs": [
        {
          "data": {
            "image/png": "[encoded data removed]",
            "text/plain": [
              "<Figure size 600x400 with 1 Axes>"
            ]
          },
          "metadata": {
            "needs_background": "light"
          },
          "output_type": "display_data"
        }
      ],
      "source": [
        "training_set.groupby('topic').agg('count').plot.bar(y='essay', rot=0, legend=False)\n",
        "plt.title('Essay count by topic #')\n",
        "plt.ylabel('Count')\n",
        "plt.show()"
      ]
    },
    {
      "cell_type": "markdown",
      "metadata": {
        "id": "J21R0dXzF7lR"
      },
      "source": [
        "Since topic 8 has the fewest essays and the most distinct scores, it might prove to be the most challenging topic to model."
      ]
    },
    {
      "cell_type": "code",
      "execution_count": 6,
      "metadata": {
        "id": "8tghqtIAF7lR"
      },
      "outputs": [],
      "source": [
        "# Count characters and words for each essay\n",
        "training_set['word_count'] = training_set['essay'].str.strip().str.split().str.len()"
      ]
    },
    {
      "cell_type": "code",
      "execution_count": 7,
      "metadata": {
        "colab": {
          "base_uri": "https://localhost:8080/",
          "height": 401
        },
        "id": "3bhoHlJWF7lS",
        "outputId": "4dbb7b6c-fb5a-4734-9746-bd63c9b24bf9"
      },
      "outputs": [
        {
          "data": {
            "image/png": "[encoded data removed]",
            "text/plain": [
              "<Figure size 700x400 with 8 Axes>"
            ]
          },
          "metadata": {
            "needs_background": "light"
          },
          "output_type": "display_data"
        }
      ],
      "source": [
        "training_set.hist(column='word_count', by='topic', bins=25, sharey=True, sharex=True, layout=(2, 4), figsize=(7,4), rot=0) \n",
        "plt.suptitle('Word count by topic #')\n",
        "plt.xlabel('Number of words')\n",
        "plt.tight_layout(rect=[0, 0.03, 1, 0.95])\n",
        "plt.show()"
      ]
    },
    {
      "cell_type": "code",
      "execution_count": 8,
      "metadata": {
        "colab": {
          "base_uri": "https://localhost:8080/",
          "height": 328
        },
        "id": "rlegHGFPF7lS",
        "outputId": "a71d01ab-2c44-4035-b23d-702f1fab5bed"
      },
      "outputs": [
        {
          "data": {
            "text/html": [
              "<div>\n",
              "<style scoped>\n",
              "    .dataframe tbody tr th:only-of-type {\n",
              "        vertical-align: middle;\n",
              "    }\n",
              "\n",
              "    .dataframe tbody tr th {\n",
              "        vertical-align: top;\n",
              "    }\n",
              "\n",
              "    .dataframe thead th {\n",
              "        text-align: right;\n",
              "    }\n",
              "</style>\n",
              "<table border=\"1\" class=\"dataframe\">\n",
              "  <thead>\n",
              "    <tr style=\"text-align: right;\">\n",
              "      <th></th>\n",
              "      <th>min</th>\n",
              "      <th>max</th>\n",
              "      <th>count</th>\n",
              "      <th>nunique</th>\n",
              "    </tr>\n",
              "    <tr>\n",
              "      <th>topic</th>\n",
              "      <th></th>\n",
              "      <th></th>\n",
              "      <th></th>\n",
              "      <th></th>\n",
              "    </tr>\n",
              "  </thead>\n",
              "  <tbody>\n",
              "    <tr>\n",
              "      <th>1</th>\n",
              "      <td>2</td>\n",
              "      <td>12</td>\n",
              "      <td>1783</td>\n",
              "      <td>11</td>\n",
              "    </tr>\n",
              "    <tr>\n",
              "      <th>2</th>\n",
              "      <td>1</td>\n",
              "      <td>6</td>\n",
              "      <td>1800</td>\n",
              "      <td>6</td>\n",
              "    </tr>\n",
              "    <tr>\n",
              "      <th>3</th>\n",
              "      <td>0</td>\n",
              "      <td>3</td>\n",
              "      <td>1726</td>\n",
              "      <td>4</td>\n",
              "    </tr>\n",
              "    <tr>\n",
              "      <th>4</th>\n",
              "      <td>0</td>\n",
              "      <td>3</td>\n",
              "      <td>1770</td>\n",
              "      <td>4</td>\n",
              "    </tr>\n",
              "    <tr>\n",
              "      <th>5</th>\n",
              "      <td>0</td>\n",
              "      <td>4</td>\n",
              "      <td>1805</td>\n",
              "      <td>5</td>\n",
              "    </tr>\n",
              "    <tr>\n",
              "      <th>6</th>\n",
              "      <td>0</td>\n",
              "      <td>4</td>\n",
              "      <td>1800</td>\n",
              "      <td>5</td>\n",
              "    </tr>\n",
              "    <tr>\n",
              "      <th>7</th>\n",
              "      <td>2</td>\n",
              "      <td>24</td>\n",
              "      <td>1569</td>\n",
              "      <td>23</td>\n",
              "    </tr>\n",
              "    <tr>\n",
              "      <th>8</th>\n",
              "      <td>10</td>\n",
              "      <td>60</td>\n",
              "      <td>723</td>\n",
              "      <td>34</td>\n",
              "    </tr>\n",
              "  </tbody>\n",
              "</table>\n",
              "</div>"
            ],
            "text/plain": [
              "       min  max  count  nunique\n",
              "topic                          \n",
              "1        2   12   1783       11\n",
              "2        1    6   1800        6\n",
              "3        0    3   1726        4\n",
              "4        0    3   1770        4\n",
              "5        0    4   1805        5\n",
              "6        0    4   1800        5\n",
              "7        2   24   1569       23\n",
              "8       10   60    723       34"
            ]
          },
          "execution_count": 8,
          "metadata": {},
          "output_type": "execute_result"
        }
      ],
      "source": [
        "training_set.groupby(['topic'])['target_score'].agg(['min','max','count','nunique'])"
      ]
    },
    {
      "cell_type": "code",
      "execution_count": 9,
      "metadata": {
        "colab": {
          "base_uri": "https://localhost:8080/",
          "height": 972
        },
        "id": "5dOYeVqNF7lS",
        "outputId": "02d201d0-3fb7-471d-dc7f-4ecc1e4cb7f5",
        "scrolled": false
      },
      "outputs": [
        {
          "data": {
            "image/png": "[encoded data removed]",
            "text/plain": [
              "<Figure size 800x1000 with 8 Axes>"
            ]
          },
          "metadata": {
            "needs_background": "light"
          },
          "output_type": "display_data"
        }
      ],
      "source": [
        "topic_number = 0\n",
        "fig, ax = plt.subplots(4,2, figsize=(8,10))\n",
        "for i in range(4):\n",
        "    for j in range(2):\n",
        "        topic_number += 1\n",
        "        sns.violinplot(x='target_score', y='word_count', data=training_set[training_set['topic'] == topic_number], ax=ax[i,j])\n",
        "        ax[i,j].set_title('Topic %i' % topic_number)\n",
        "ax[3,0].locator_params(nbins=10)\n",
        "ax[3,1].locator_params(nbins=10)\n",
        "plt.suptitle('Word count by score')\n",
        "plt.tight_layout(rect=[0, 0.03, 1, 0.95])\n",
        "plt.show()"
      ]
    },
    {
      "cell_type": "markdown",
      "metadata": {
        "id": "nzvx-IGOF7lT"
      },
      "source": [
        "We can see a reasonable correlation between word count and score for all but topic 8 where the word count apparently reaches a maximum at the upper third of the scores."
      ]
    },
    {
      "cell_type": "code",
      "execution_count": 10,
      "metadata": {
        "colab": {
          "base_uri": "https://localhost:8080/",
          "height": 877
        },
        "id": "dMkgRx3rF7lT",
        "outputId": "4126e6af-132e-4846-d3e5-561e6d86a9d8",
        "scrolled": false
      },
      "outputs": [
        {
          "data": {
            "image/png": "[encoded data removed]",
            "text/plain": [
              "<Figure size 900x900 with 8 Axes>"
            ]
          },
          "metadata": {
            "needs_background": "light"
          },
          "output_type": "display_data"
        }
      ],
      "source": [
        "topic_number = 0\n",
        "fig, ax = plt.subplots(4,2, figsize=(9,9), sharey=False)\n",
        "for i in range(4):\n",
        "    for j in range(2):\n",
        "        topic_number += 1\n",
        "        training_set[training_set['topic'] == topic_number]\\\n",
        "            .groupby('target_score')['essay_id']\\\n",
        "            .agg('count')\\\n",
        "            .plot.bar(ax=ax[i, j], rot=0)\n",
        "        ax[i,j].set_title('Topic %i' % topic_number)\n",
        "ax[3,0].locator_params(nbins=10)\n",
        "ax[3,1].locator_params(nbins=10)\n",
        "plt.suptitle('Histograms of essay scores')\n",
        "plt.tight_layout(rect=[0, 0.03, 1, 0.95])\n",
        "plt.show()"
      ]
    },
    {
      "cell_type": "markdown",
      "metadata": {
        "id": "dVt09PShF7lT"
      },
      "source": [
        "Many scores are underrepresented. Classification could be difficult without rebalancing."
      ]
    },
    {
      "cell_type": "markdown",
      "metadata": {
        "id": "5UWGk_meF7lU"
      },
      "source": [
        "## Essay processing:\n",
        "\n",
        "1. Language correction with languagetool (add number of corrections as feature)\n",
        "2. Sentence tokenization with Spacy\n",
        "3. Sentence count and length\n",
        "4. Word tokenize with Spacy\n",
        "5. Word token classification (punctuation, stop words and anonymized entities, pos, ent)\n",
        "6. Document similarity (based on arbitrary high scoring essay for each topic)"
      ]
    },
    {
      "cell_type": "markdown",
      "metadata": {
        "id": "KOvpPJDLF7lU"
      },
      "source": [
        "## Grammar and spelling\n",
        "\n",
        "As to be expected with student essays, many essays exhibit grammar and spelling errors. \n",
        "\n",
        "Parts-of-speech (POS) and named-entity-recognition (NER) is hampered in part by the lack of consitent spelling and punctuation. Therefore, the essays will be corrected using languagetool and the nlp parsing will be performed with Spacy on the corrected essays."
      ]
    },
    {
      "cell_type": "code",
      "execution_count": 11,
      "metadata": {
        "id": "lC_7lU-9F7lU"
      },
      "outputs": [],
      "source": [
        "text = 'Some people are still using Myspoce instead of facdbook'"
      ]
    },
    {
      "cell_type": "markdown",
      "metadata": {
        "id": "zlyyHpCFF7lU"
      },
      "source": [
        "Textblob is an open source nlp package and something to keep an eye on. Unlike Spacy, textblob includes a statistics based spell checker. It only claims 70% accuracy, and in my testing it didn't perform well.\n",
        "\n",
        "https://textblob.readthedocs.io/en/dev/"
      ]
    },
    {
      "cell_type": "code",
      "execution_count": 12,
      "metadata": {
        "colab": {
          "base_uri": "https://localhost:8080/"
        },
        "id": "mxjUSrHwF7lU",
        "outputId": "c18879c5-21ce-4f67-daa3-884d3ae5af6c"
      },
      "outputs": [
        {
          "name": "stdout",
          "output_type": "stream",
          "text": [
            "Some people are still using Myspoce instead of facdbook\n"
          ]
        }
      ],
      "source": [
        "from textblob import TextBlob\n",
        "data = TextBlob(text)\n",
        "print (data.correct())"
      ]
    },
    {
      "cell_type": "markdown",
      "metadata": {
        "id": "u-TjFEF8F7lV"
      },
      "source": [
        "Languagetool.org has a python wrapper for spelling and grammatical errors at \n",
        "https://github.com/myint/language-check\n",
        "\n",
        "It appears to work quite well, although it requires intermediate storage of a list of errors ('matches')."
      ]
    },
    {
      "cell_type": "code",
      "execution_count": 13,
      "metadata": {
        "colab": {
          "base_uri": "https://localhost:8080/",
          "height": 37
        },
        "id": "T7COlRbRF7lV",
        "outputId": "5887ee93-eb6a-4481-cf06-7e1ce0679b55"
      },
      "outputs": [
        {
          "data": {
            "text/plain": [
              "'Some people are still using MySpace instead of Facebook'"
            ]
          },
          "execution_count": 13,
          "metadata": {},
          "output_type": "execute_result"
        }
      ],
      "source": [
        "tool = language_tool_python.LanguageTool('en-US')\n",
        "\n",
        "matches = tool.check(text)\n",
        "tool.correct(text)"
      ]
    },
    {
      "cell_type": "code",
      "execution_count": 14,
      "metadata": {
        "colab": {
          "base_uri": "https://localhost:8080/",
          "height": 71
        },
        "id": "rUVJ3pjWF7lV",
        "outputId": "cf87f512-33b9-4615-cedf-b993bc24bb50"
      },
      "outputs": [
        {
          "data": {
            "text/plain": [
              "'I do think that there should be a censorship in not just in libaries, but everywhare.       Personlly, I think that the way that the libraries have the books are appropite and if the parents do not want thier children going any where  that is not privy to them keep a hand lenght away     As for the parents, the parents know the aera that intrest them ,therefor the parents should go there'"
            ]
          },
          "execution_count": 14,
          "metadata": {},
          "output_type": "execute_result"
        }
      ],
      "source": [
        "text = training_set.essay[1871]\n",
        "text"
      ]
    },
    {
      "cell_type": "code",
      "execution_count": 15,
      "metadata": {
        "colab": {
          "base_uri": "https://localhost:8080/",
          "height": 71
        },
        "id": "7gM0dQefF7lV",
        "outputId": "3167b17e-fe1d-4b2f-c86a-fee7d6195e2f",
        "scrolled": true
      },
      "outputs": [
        {
          "data": {
            "text/plain": [
              "'I do think that there should be a censorship in not just in libraries, but everywhere.  Personally, I think that the way that the libraries have the books are appropriate and if the parents do not want their children going anywhere that is not privy to them keep a hand length away As for the parents, the parents know the area that interest them, therefor the parents should go there'"
            ]
          },
          "execution_count": 15,
          "metadata": {},
          "output_type": "execute_result"
        }
      ],
      "source": [
        "tool.correct(text)\n"
      ]
    },
    {
      "cell_type": "markdown",
      "metadata": {
        "id": "BTi9kQzcF7lW"
      },
      "source": [
        "As seen in the last sentence, languagetool did not correct `\",therefor\"`. Nonetheless, it should be good enough to proceed."
      ]
    },
    {
      "cell_type": "code",
      "execution_count": 16,
      "metadata": {
        "colab": {
          "base_uri": "https://localhost:8080/",
          "height": 68,
          "referenced_widgets": [
            "b86d569150314f6f99ddebb7138ecd52",
            "de8bec6a161646859bd48a6d6083c4ee",
            "14df679685284b4fbfeffb07f3ac9129",
            "aff33b4d00754d2a9ee1b45ce33c0669",
            "8045f83b93914187a255f95fac31869f",
            "8c7bd94b136449309a63ea4c0aba9722",
            "cf9a7d6ed86644b79449db21103cc3c3",
            "b195ba6e1fc649dd85c564b5aa093b74",
            "28e85182e56a4489a4cf3c443e3179cb",
            "63f2625f03564b8c878d0b78258cf93c",
            "3441dabd8770428c8c9c17bb3dca180a"
          ]
        },
        "id": "ATKgQBcWF7lW",
        "outputId": "81430015-5cc8-4b93-814e-ee8d803c40ad"
      },
      "outputs": [
        {
          "name": "stderr",
          "output_type": "stream",
          "text": [
            "Pandas Apply: 100%|██████████| 12976/12976 [19:38<00:00, 11.01it/s]"
          ]
        },
        {
          "name": "stdout",
          "output_type": "stream",
          "text": [
            "Processing time: 0:23:02.447240\n"
          ]
        },
        {
          "name": "stderr",
          "output_type": "stream",
          "text": [
            "\n"
          ]
        }
      ],
      "source": [
        "\"\"\"\n",
        "use language tool to correct for most spelling and grammatical errors. Also count the applied corrections. \n",
        "Using language_check python wrapper for languagetool:\n",
        "https://www.languagetool.org/dev\n",
        "\"\"\"\n",
        "tool = language_tool_python.LanguageTool('en-US')\n",
        "\n",
        "t0 = datetime.now()\n",
        "\n",
        "#training_set['matches'] = training_set['essay'].apply(lambda txt: tool.check(txt))\n",
        "#training_set['corrections'] = training_set.apply(lambda l: len(l['matches']), axis=1)\n",
        "training_set['corrected'] = training_set.swifter.apply(lambda l: tool.correct(l['essay']), axis=1)\n",
        "\n",
        "t1 = datetime.now()\n",
        "print('Processing time: {}'.format(t1 - t0))\n",
        "\n",
        "# save work\n",
        "training_set.to_pickle('training_corr.pkl')"
      ]
    },
    {
      "cell_type": "code",
      "execution_count": 24,
      "metadata": {},
      "outputs": [
        {
          "name": "stdout",
          "output_type": "stream",
          "text": [
            "0        Dear local newspaper, I think effects computers have on people are great learning skills/affects...\n",
            "1        Dear @CAPS1 @CAPS2, I believe that using computers will benefit us in many ways like talking and...\n",
            "2        Dear, @CAPS1 @CAPS2 @CAPS3 More and more people use computers, but not everyone agrees that this...\n",
            "3        Dear Local Newspaper, @CAPS1 I have found that many experts say that computers do not benefit ou...\n",
            "4        Dear @LOCATION1, I know having computers has a positive effect on people. The computers connect ...\n",
            "                                                        ...                                                 \n",
            "12971     In most stories mothers and daughters are either enemies or friends, in @CAPS13 story however, ...\n",
            "12972     I never understood the meaning laughter is the shortest distance between two people, tell I dat...\n",
            "12973    When you laugh, is @CAPS5 out of habit, or is @CAPS1 cause? What are the causes for laughing? Is...\n",
            "12974     Trippin' on fences I am @NUM1 years young, and in those short @NUM1 years, all I can ever remem...\n",
            "12975     Many people believe that laughter can improve your life. Laughing lets out endorphins that give...\n",
            "Name: corrected, Length: 12976, dtype: object\n"
          ]
        }
      ],
      "source": [
        "print(training_set['corrected'])\n",
        "training_set['corrected'].to_csv(\"data/corrected_training_set_rel3\",  index = False)\n",
        "test = pd.read_csv(\"/Users/ryanbelkhir/PycharmProjects/NLP/NLP-Essay-Scoring/data/corrected_training_set_rel3\")"
      ]
    },
    {
      "cell_type": "markdown",
      "metadata": {
        "id": "jg6zfsQEF7lW"
      },
      "source": [
        "Here's a very special example of poor writing skills (or perhaps a digitization error?). None of the spell checkers I tried were able to make much sense out of this."
      ]
    },
    {
      "cell_type": "code",
      "execution_count": 42,
      "metadata": {
        "colab": {
          "base_uri": "https://localhost:8080/"
        },
        "id": "ZtGiNkPnF7lW",
        "outputId": "9a0136e4-7524-4621-eec8-b1637999b2d1",
        "scrolled": true
      },
      "outputs": [
        {
          "name": "stdout",
          "output_type": "stream",
          "text": [
            "Original:\n",
            "I aegre waf the evansmant ov tnachnolage. The evansmant ov tnachnolige is being to halp fined a kohar froi alnsas. Tnanchnolage waf ont ot we wod not go to the moon. Tnachnologe evans as we maech at. The people are in tnacholege to the frchr fror the good ov live. Famas invanyor ues tnacholage leki lena orde dvanse and his fling mashine. Tnachologe is the grat\n",
            "Corrected with languagetool:\n",
            "I Segre weigh the evanescent of tnachnolage. The evanescent of tnachnolige is being to half fined a Zohar from Kansas. Tnanchnolage weigh on tot we won not go to the moon. Technology Evans as we match at. The people are in tnacholege to the arch for the good of live. FAMAS inventor UES anchorage Levi Lena order dance and his fling machine. Tnachologe is the great\n"
          ]
        }
      ],
      "source": [
        "print('Original:')\n",
        "print(training_set.essay[18])\n",
        "print('Corrected with languagetool:')\n",
        "print(training_set.corrected[18])"
      ]
    },
    {
      "cell_type": "markdown",
      "metadata": {
        "id": "BJgWIdGdF7lX"
      },
      "source": [
        "## NLP with SpaCy\n",
        "\n",
        "Although much of the analysis could be performed with other NLP packages, SpaCy was chosen due to its combination of speed and simplicity."
      ]
    },
    {
      "cell_type": "code",
      "execution_count": 43,
      "metadata": {
        "id": "7arDOagGF7lX"
      },
      "outputs": [],
      "source": [
        "training_set = pd.read_pickle('training_corr.pkl')"
      ]
    },
    {
      "cell_type": "code",
      "execution_count": 44,
      "metadata": {
        "colab": {
          "base_uri": "https://localhost:8080/"
        },
        "id": "QeHD-0bYF7lX",
        "outputId": "45c9a79c-6474-4ad2-9e96-6a23ed914244",
        "scrolled": true
      },
      "outputs": [
        {
          "name": "stdout",
          "output_type": "stream",
          "text": [
            "Processing time: 0:05:40.733656\n"
          ]
        }
      ],
      "source": [
        "sents = []\n",
        "tokens = []\n",
        "lemma = []\n",
        "pos = []\n",
        "ner = []\n",
        "\n",
        "stop_words = set(STOP_WORDS)\n",
        "stop_words.update(punctuation) # remove it if you need punctuation \n",
        "\n",
        "nlp = spacy.load('en_core_web_sm')\n",
        "\n",
        "t0 = datetime.now()\n",
        "\n",
        "# suppress numpy warnings\n",
        "np.warnings.filterwarnings('ignore')\n",
        "\n",
        "for essay in nlp.pipe(training_set['corrected'], batch_size=100, n_threads=3):\n",
        "    if essay.is_parsed:\n",
        "        tokens.append([e.text for e in essay])\n",
        "        sents.append([sent.string.strip() for sent in essay.sents])\n",
        "        pos.append([e.pos_ for e in essay])\n",
        "        ner.append([e.text for e in essay.ents])\n",
        "        lemma.append([n.lemma_ for n in essay])\n",
        "    else:\n",
        "        # We want to make sure that the lists of parsed results have the\n",
        "        # same number of entries of the original Dataframe, so add some blanks in case the parse fails\n",
        "        tokens.append(None)\n",
        "        lemma.append(None)\n",
        "        pos.append(None)\n",
        "        sents.append(None)\n",
        "        ner.append(None)\n",
        "\n",
        "training_set['tokens'] = tokens\n",
        "training_set['lemma'] = lemma\n",
        "training_set['pos'] = pos\n",
        "training_set['sents'] = sents\n",
        "training_set['ner'] = ner\n",
        "\n",
        "t1 = datetime.now()\n",
        "print('Processing time: {}'.format(t1 - t0))"
      ]
    },
    {
      "cell_type": "code",
      "execution_count": 45,
      "metadata": {
        "id": "gCbhNn81F7lX"
      },
      "outputs": [],
      "source": [
        "training_set.to_pickle('training_spacy.pkl')"
      ]
    },
    {
      "cell_type": "code",
      "execution_count": 46,
      "metadata": {
        "id": "WbqgslzMF7lX"
      },
      "outputs": [],
      "source": [
        "training_set = pd.read_pickle('training_spacy.pkl')"
      ]
    },
    {
      "cell_type": "code",
      "execution_count": 47,
      "metadata": {
        "colab": {
          "base_uri": "https://localhost:8080/",
          "height": 418
        },
        "id": "Sv9r5M0ZF7lY",
        "outputId": "4622e991-9418-405d-d8ef-5d05418c4db0"
      },
      "outputs": [
        {
          "data": {
            "text/html": [
              "\n",
              "  <div id=\"df-83cb9f78-3afc-42f4-9fed-4b0c404b79e2\">\n",
              "    <div class=\"colab-df-container\">\n",
              "      <div>\n",
              "<style scoped>\n",
              "    .dataframe tbody tr th:only-of-type {\n",
              "        vertical-align: middle;\n",
              "    }\n",
              "\n",
              "    .dataframe tbody tr th {\n",
              "        vertical-align: top;\n",
              "    }\n",
              "\n",
              "    .dataframe thead th {\n",
              "        text-align: right;\n",
              "    }\n",
              "</style>\n",
              "<table border=\"1\" class=\"dataframe\">\n",
              "  <thead>\n",
              "    <tr style=\"text-align: right;\">\n",
              "      <th></th>\n",
              "      <th>tokens</th>\n",
              "      <th>pos</th>\n",
              "      <th>sents</th>\n",
              "      <th>ner</th>\n",
              "    </tr>\n",
              "  </thead>\n",
              "  <tbody>\n",
              "    <tr>\n",
              "      <th>0</th>\n",
              "      <td>[Dear, local, newspaper, ,, I, think, effects, computers, have, on, people, are, great, learning...</td>\n",
              "      <td>[ADJ, ADJ, NOUN, PUNCT, PRON, VERB, NOUN, NOUN, AUX, ADP, NOUN, AUX, ADJ, NOUN, NOUN, SYM, NOUN,...</td>\n",
              "      <td>[Dear local newspaper, I think effects computers have on people are great learning skills/affect...</td>\n",
              "      <td>[@ORGANIZATION1, @ORGANIZATION2, @CAPS1, Facebook, MySpace, @DATE1, all day]</td>\n",
              "    </tr>\n",
              "    <tr>\n",
              "      <th>1</th>\n",
              "      <td>[Dear, @CAPS1, @CAPS2, ,, I, believe, that, using, computers, will, benefit, us, in, many, ways,...</td>\n",
              "      <td>[ADJ, ADP, INTJ, PUNCT, PRON, VERB, SCONJ, VERB, NOUN, VERB, VERB, PRON, ADP, ADJ, NOUN, SCONJ, ...</td>\n",
              "      <td>[Dear @CAPS1 @CAPS2, I believe that using computers will benefit us in many ways like talking an...</td>\n",
              "      <td>[Dear @CAPS1 @CAPS2, Facebook and MySpace, millions, one, MySpace, Facebook, millions, @LOCATION...</td>\n",
              "    </tr>\n",
              "    <tr>\n",
              "      <th>2</th>\n",
              "      <td>[Dear, ,, @CAPS1, @CAPS2, @CAPS3, More, and, more, people, use, computers, ,, but, not, everyone...</td>\n",
              "      <td>[PROPN, PUNCT, X, DET, PRON, ADJ, CCONJ, ADJ, NOUN, VERB, NOUN, PUNCT, CCONJ, PART, PRON, VERB, ...</td>\n",
              "      <td>[Dear, @CAPS1 @CAPS2 @CAPS3 More and more people use computers, but not everyone agrees that thi...</td>\n",
              "      <td>[@CAPS1 @CAPS2 @CAPS3 More, today, one, @CAPS4, one, @MONTH1, @CAPS5, thousand, @ORGANIZATION1]</td>\n",
              "    </tr>\n",
              "    <tr>\n",
              "      <th>3</th>\n",
              "      <td>[Dear, Local, Newspaper, ,, @CAPS1, I, have, found, that, many, experts, say, that, computers, d...</td>\n",
              "      <td>[ADJ, PROPN, PROPN, PUNCT, ADP, PRON, AUX, VERB, SCONJ, ADJ, NOUN, VERB, SCONJ, NOUN, AUX, PART,...</td>\n",
              "      <td>[Dear Local Newspaper,, @CAPS1, I have found that many experts say that computers do not benefit...</td>\n",
              "      <td>[Dear Local Newspaper, @PERSON1, @PERSON2, @CAPS3, @LOCATION2, @PERCENT2 of people, @PERCENT3, @...</td>\n",
              "    </tr>\n",
              "    <tr>\n",
              "      <th>4</th>\n",
              "      <td>[Dear, @LOCATION1, ,, I, know, having, computers, has, a, positive, effect, on, people, ., The, ...</td>\n",
              "      <td>[ADJ, PROPN, PUNCT, PRON, VERB, VERB, NOUN, AUX, DET, ADJ, NOUN, ADP, NOUN, PUNCT, DET, NOUN, VE...</td>\n",
              "      <td>[Dear, @LOCATION1, I know having computers has a positive effect on people., The computers conne...</td>\n",
              "      <td>[First, one, one, Secondly, @LOCATION2, one, only one, @CAPS1]</td>\n",
              "    </tr>\n",
              "  </tbody>\n",
              "</table>\n",
              "</div>\n",
              "      <button class=\"colab-df-convert\" onclick=\"convertToInteractive('df-83cb9f78-3afc-42f4-9fed-4b0c404b79e2')\"\n",
              "              title=\"Convert this dataframe to an interactive table.\"\n",
              "              style=\"display:none;\">\n",
              "        \n",
              "  <svg xmlns=\"http://www.w3.org/2000/svg\" height=\"24px\"viewBox=\"0 0 24 24\"\n",
              "       width=\"24px\">\n",
              "    <path d=\"M0 0h24v24H0V0z\" fill=\"none\"/>\n",
              "    <path d=\"M18.56 5.44l.94 2.06.94-2.06 2.06-.94-2.06-.94-.94-2.06-.94 2.06-2.06.94zm-11 1L8.5 8.5l.94-2.06 2.06-.94-2.06-.94L8.5 2.5l-.94 2.06-2.06.94zm10 10l.94 2.06.94-2.06 2.06-.94-2.06-.94-.94-2.06-.94 2.06-2.06.94z\"/><path d=\"M17.41 7.96l-1.37-1.37c-.4-.4-.92-.59-1.43-.59-.52 0-1.04.2-1.43.59L10.3 9.45l-7.72 7.72c-.78.78-.78 2.05 0 2.83L4 21.41c.39.39.9.59 1.41.59.51 0 1.02-.2 1.41-.59l7.78-7.78 2.81-2.81c.8-.78.8-2.07 0-2.86zM5.41 20L4 18.59l7.72-7.72 1.47 1.35L5.41 20z\"/>\n",
              "  </svg>\n",
              "      </button>\n",
              "      \n",
              "  <style>\n",
              "    .colab-df-container {\n",
              "      display:flex;\n",
              "      flex-wrap:wrap;\n",
              "      gap: 12px;\n",
              "    }\n",
              "\n",
              "    .colab-df-convert {\n",
              "      background-color: #E8F0FE;\n",
              "      border: none;\n",
              "      border-radius: 50%;\n",
              "      cursor: pointer;\n",
              "      display: none;\n",
              "      fill: #1967D2;\n",
              "      height: 32px;\n",
              "      padding: 0 0 0 0;\n",
              "      width: 32px;\n",
              "    }\n",
              "\n",
              "    .colab-df-convert:hover {\n",
              "      background-color: #E2EBFA;\n",
              "      box-shadow: 0px 1px 2px rgba(60, 64, 67, 0.3), 0px 1px 3px 1px rgba(60, 64, 67, 0.15);\n",
              "      fill: #174EA6;\n",
              "    }\n",
              "\n",
              "    [theme=dark] .colab-df-convert {\n",
              "      background-color: #3B4455;\n",
              "      fill: #D2E3FC;\n",
              "    }\n",
              "\n",
              "    [theme=dark] .colab-df-convert:hover {\n",
              "      background-color: #434B5C;\n",
              "      box-shadow: 0px 1px 3px 1px rgba(0, 0, 0, 0.15);\n",
              "      filter: drop-shadow(0px 1px 2px rgba(0, 0, 0, 0.3));\n",
              "      fill: #FFFFFF;\n",
              "    }\n",
              "  </style>\n",
              "\n",
              "      <script>\n",
              "        const buttonEl =\n",
              "          document.querySelector('#df-83cb9f78-3afc-42f4-9fed-4b0c404b79e2 button.colab-df-convert');\n",
              "        buttonEl.style.display =\n",
              "          google.colab.kernel.accessAllowed ? 'block' : 'none';\n",
              "\n",
              "        async function convertToInteractive(key) {\n",
              "          const element = document.querySelector('#df-83cb9f78-3afc-42f4-9fed-4b0c404b79e2');\n",
              "          const dataTable =\n",
              "            await google.colab.kernel.invokeFunction('convertToInteractive',\n",
              "                                                     [key], {});\n",
              "          if (!dataTable) return;\n",
              "\n",
              "          const docLinkHtml = 'Like what you see? Visit the ' +\n",
              "            '<a target=\"_blank\" href=https://colab.research.google.com/notebooks/data_table.ipynb>data table notebook</a>'\n",
              "            + ' to learn more about interactive tables.';\n",
              "          element.innerHTML = '';\n",
              "          dataTable['output_type'] = 'display_data';\n",
              "          await google.colab.output.renderOutput(dataTable, element);\n",
              "          const docLink = document.createElement('div');\n",
              "          docLink.innerHTML = docLinkHtml;\n",
              "          element.appendChild(docLink);\n",
              "        }\n",
              "      </script>\n",
              "    </div>\n",
              "  </div>\n",
              "  "
            ],
            "text/plain": [
              "                                                                                                tokens                                                                                                  pos                                                                                                sents                                                                                                  ner\n",
              "0  [Dear, local, newspaper, ,, I, think, effects, computers, have, on, people, are, great, learning...  [ADJ, ADJ, NOUN, PUNCT, PRON, VERB, NOUN, NOUN, AUX, ADP, NOUN, AUX, ADJ, NOUN, NOUN, SYM, NOUN,...  [Dear local newspaper, I think effects computers have on people are great learning skills/affect...                         [@ORGANIZATION1, @ORGANIZATION2, @CAPS1, Facebook, MySpace, @DATE1, all day]\n",
              "1  [Dear, @CAPS1, @CAPS2, ,, I, believe, that, using, computers, will, benefit, us, in, many, ways,...  [ADJ, ADP, INTJ, PUNCT, PRON, VERB, SCONJ, VERB, NOUN, VERB, VERB, PRON, ADP, ADJ, NOUN, SCONJ, ...  [Dear @CAPS1 @CAPS2, I believe that using computers will benefit us in many ways like talking an...  [Dear @CAPS1 @CAPS2, Facebook and MySpace, millions, one, MySpace, Facebook, millions, @LOCATION...\n",
              "2  [Dear, ,, @CAPS1, @CAPS2, @CAPS3, More, and, more, people, use, computers, ,, but, not, everyone...  [PROPN, PUNCT, X, DET, PRON, ADJ, CCONJ, ADJ, NOUN, VERB, NOUN, PUNCT, CCONJ, PART, PRON, VERB, ...  [Dear, @CAPS1 @CAPS2 @CAPS3 More and more people use computers, but not everyone agrees that thi...      [@CAPS1 @CAPS2 @CAPS3 More, today, one, @CAPS4, one, @MONTH1, @CAPS5, thousand, @ORGANIZATION1]\n",
              "3  [Dear, Local, Newspaper, ,, @CAPS1, I, have, found, that, many, experts, say, that, computers, d...  [ADJ, PROPN, PROPN, PUNCT, ADP, PRON, AUX, VERB, SCONJ, ADJ, NOUN, VERB, SCONJ, NOUN, AUX, PART,...  [Dear Local Newspaper,, @CAPS1, I have found that many experts say that computers do not benefit...  [Dear Local Newspaper, @PERSON1, @PERSON2, @CAPS3, @LOCATION2, @PERCENT2 of people, @PERCENT3, @...\n",
              "4  [Dear, @LOCATION1, ,, I, know, having, computers, has, a, positive, effect, on, people, ., The, ...  [ADJ, PROPN, PUNCT, PRON, VERB, VERB, NOUN, AUX, DET, ADJ, NOUN, ADP, NOUN, PUNCT, DET, NOUN, VE...  [Dear, @LOCATION1, I know having computers has a positive effect on people., The computers conne...                                       [First, one, one, Secondly, @LOCATION2, one, only one, @CAPS1]"
            ]
          },
          "execution_count": 47,
          "metadata": {},
          "output_type": "execute_result"
        }
      ],
      "source": [
        "training_set[['tokens', 'pos', 'sents', 'ner']].head()"
      ]
    },
    {
      "cell_type": "markdown",
      "metadata": {
        "id": "2ud3rn3OF7lY"
      },
      "source": [
        "# Topic Modeling with Latent Dirichlet Allocation"
      ]
    },
    {
      "cell_type": "markdown",
      "metadata": {
        "id": "_ve7CMk1F7lY"
      },
      "source": [
        "Latent Dirichlet Allocation, or **LDA**, uses probabilities to allocate any number of documents to a pre-defined number of topics. A very good explanation is given here:\n",
        "\n",
        "https://tedunderwood.com/2012/04/07/topic-modeling-made-just-simple-enough/\n",
        "\n",
        "The *Hewlett ASAP* essays are already labeled as belonging to one of eight topics. A baseline excercise will determine how well essays are allocated to a topic using LDA.\n",
        "\n",
        "A second experiment will be performed using LDA to assign scores.\n",
        "\n",
        "Another important remark is that LDA is based on probability distributions. Probing these distributions introduces randomness so the results of running this notebook might not exactly match the comments or annotations."
      ]
    },
    {
      "cell_type": "markdown",
      "metadata": {
        "id": "96YHEz92F7lY"
      },
      "source": [
        "To minimize confusion between the *LDA* derived topics and the *Hewlett ASAP* given topics, the given topic numbers will be replaced with a one-word summary.\n",
        "\n",
        "LDA uses the probability of finding certain words associated with documents. Stop words will not be very helpful, for example, the word \"the\" is going to have a high probability across all topics. In order to refine the word list, we'll also use the lemma generated by SpaCy instead of the regular essay. As a reminder, the lemma were generated on language corrected essays."
      ]
    },
    {
      "cell_type": "code",
      "execution_count": 48,
      "metadata": {
        "id": "Ho42OsubF7lY"
      },
      "outputs": [],
      "source": [
        "# Replace topic numbers with meaningful one-word summary:\n",
        "topic_dict = {'topic':{1: 'computer', \n",
        "                        2: 'censorship', \n",
        "                        3: 'cyclist', \n",
        "                        4: 'hibiscus', \n",
        "                        5: 'mood', \n",
        "                        6: 'dirigibles', \n",
        "                        7: 'patience', \n",
        "                        8: 'laughter'}}\n",
        "\n",
        "training_set.replace(topic_dict, inplace=True)\n",
        "\n",
        "# Lemmatized essays re-joined (list to essay)\n",
        "training_set['l_essay'] = training_set['lemma'].apply(' '.join)"
      ]
    },
    {
      "cell_type": "markdown",
      "metadata": {
        "id": "MC12lGmiF7lY"
      },
      "source": [
        "Convert essays to a matrix of token (lemma) counts:"
      ]
    },
    {
      "cell_type": "code",
      "execution_count": 52,
      "metadata": {
        "colab": {
          "base_uri": "https://localhost:8080/"
        },
        "id": "KX3aeQsAF7lZ",
        "outputId": "fa60b611-5fe2-4610-9937-3b8b1f9cf615"
      },
      "outputs": [
        {
          "data": {
            "text/plain": [
              "computer     20392\n",
              "book         13977\n",
              "building      7826\n",
              "library       7624\n",
              "read          6125\n",
              "dirigible     6046\n",
              "child         5769\n",
              "help          5205\n",
              "offensive     5117\n",
              "talk          4969\n",
              "dtype: int64"
            ]
          },
          "execution_count": 52,
          "metadata": {},
          "output_type": "execute_result"
        }
      ],
      "source": [
        "# Baseline: number of unique lemma\n",
        "vectorizer = CountVectorizer(max_df=.2, \n",
        "                             min_df=3, \n",
        "                             stop_words=STOP_WORDS, \n",
        "                             max_features=2000) # default: binary=False\n",
        "doc_term_matrix = vectorizer.fit_transform(training_set.l_essay) # using lemmatized essays\n",
        "\n",
        "# Most frequent tokens:\n",
        "words = vectorizer.get_feature_names()\n",
        "\n",
        "doc_term_matrix_df = pd.DataFrame.sparse.from_spmatrix(doc_term_matrix, columns=words)\n",
        "word_freq = doc_term_matrix_df.sum(axis=0).astype(int)\n",
        "word_freq.sort_values(ascending=False).head(10) "
      ]
    },
    {
      "cell_type": "markdown",
      "metadata": {
        "id": "J8pc2sNbF7lZ"
      },
      "source": [
        "Apply LDA on the word frequency matrix."
      ]
    },
    {
      "cell_type": "code",
      "execution_count": 53,
      "metadata": {
        "colab": {
          "base_uri": "https://localhost:8080/"
        },
        "id": "pqkWAnxBF7lZ",
        "outputId": "2a17f9ea-974c-4bc7-fdbf-1d1550f2575b"
      },
      "outputs": [
        {
          "name": "stdout",
          "output_type": "stream",
          "text": [
            "iteration: 1 of max_iter: 40\n",
            "iteration: 2 of max_iter: 40\n",
            "iteration: 3 of max_iter: 40\n",
            "iteration: 4 of max_iter: 40\n",
            "iteration: 5 of max_iter: 40, perplexity: 377.0239\n",
            "iteration: 6 of max_iter: 40\n",
            "iteration: 7 of max_iter: 40\n",
            "iteration: 8 of max_iter: 40\n",
            "iteration: 9 of max_iter: 40\n",
            "iteration: 10 of max_iter: 40, perplexity: 369.9156\n",
            "iteration: 11 of max_iter: 40\n",
            "iteration: 12 of max_iter: 40\n",
            "iteration: 13 of max_iter: 40\n",
            "iteration: 14 of max_iter: 40\n",
            "iteration: 15 of max_iter: 40, perplexity: 367.8919\n",
            "iteration: 16 of max_iter: 40\n",
            "iteration: 17 of max_iter: 40\n",
            "iteration: 18 of max_iter: 40\n",
            "iteration: 19 of max_iter: 40\n",
            "iteration: 20 of max_iter: 40, perplexity: 367.2625\n",
            "iteration: 21 of max_iter: 40\n",
            "iteration: 22 of max_iter: 40\n",
            "iteration: 23 of max_iter: 40\n",
            "iteration: 24 of max_iter: 40\n",
            "iteration: 25 of max_iter: 40, perplexity: 366.3844\n",
            "iteration: 26 of max_iter: 40\n",
            "iteration: 27 of max_iter: 40\n",
            "iteration: 28 of max_iter: 40\n",
            "iteration: 29 of max_iter: 40\n",
            "iteration: 30 of max_iter: 40, perplexity: 366.2208\n",
            "iteration: 31 of max_iter: 40\n",
            "iteration: 32 of max_iter: 40\n",
            "iteration: 33 of max_iter: 40\n",
            "iteration: 34 of max_iter: 40\n",
            "iteration: 35 of max_iter: 40, perplexity: 366.2051\n",
            "iteration: 36 of max_iter: 40\n",
            "iteration: 37 of max_iter: 40\n",
            "iteration: 38 of max_iter: 40\n",
            "iteration: 39 of max_iter: 40\n",
            "iteration: 40 of max_iter: 40, perplexity: 366.2006\n"
          ]
        },
        {
          "data": {
            "text/plain": [
              "['lda_baseline.pkl']"
            ]
          },
          "execution_count": 53,
          "metadata": {},
          "output_type": "execute_result"
        }
      ],
      "source": [
        "lda_base = LatentDirichletAllocation(n_components=8,\n",
        "                                     n_jobs=-1,\n",
        "                                     learning_method='batch',\n",
        "                                     max_iter=40,\n",
        "                                     perp_tol=0.01,\n",
        "                                     verbose=1,\n",
        "                                     evaluate_every=5)\n",
        "lda_base.fit(doc_term_matrix)\n",
        "\n",
        "# save base model\n",
        "joblib.dump(lda_base, 'lda_baseline.pkl')"
      ]
    },
    {
      "cell_type": "markdown",
      "metadata": {
        "id": "hr_Eu0AnF7lZ"
      },
      "source": [
        "Topic probabilities for all words. The numbered topics are generated from the latent Dirichlet allocation. "
      ]
    },
    {
      "cell_type": "code",
      "execution_count": 54,
      "metadata": {
        "colab": {
          "base_uri": "https://localhost:8080/",
          "height": 359
        },
        "id": "7xdlkqu7F7lZ",
        "outputId": "bf4a9e1a-79d7-4e44-d5eb-a71b8c37db1d"
      },
      "outputs": [
        {
          "data": {
            "text/html": [
              "\n",
              "  <div id=\"df-8fd6ef63-0db7-4524-8595-ba12f7026214\">\n",
              "    <div class=\"colab-df-container\">\n",
              "      <div>\n",
              "<style scoped>\n",
              "    .dataframe tbody tr th:only-of-type {\n",
              "        vertical-align: middle;\n",
              "    }\n",
              "\n",
              "    .dataframe tbody tr th {\n",
              "        vertical-align: top;\n",
              "    }\n",
              "\n",
              "    .dataframe thead th {\n",
              "        text-align: right;\n",
              "    }\n",
              "</style>\n",
              "<table border=\"1\" class=\"dataframe\">\n",
              "  <thead>\n",
              "    <tr style=\"text-align: right;\">\n",
              "      <th></th>\n",
              "      <th>Topic 1</th>\n",
              "      <th>Topic 2</th>\n",
              "      <th>Topic 3</th>\n",
              "      <th>Topic 4</th>\n",
              "      <th>Topic 5</th>\n",
              "      <th>Topic 6</th>\n",
              "      <th>Topic 7</th>\n",
              "      <th>Topic 8</th>\n",
              "    </tr>\n",
              "  </thead>\n",
              "  <tbody>\n",
              "    <tr>\n",
              "      <th>slavery</th>\n",
              "      <td>5.008797e-04</td>\n",
              "      <td>6.993725e-07</td>\n",
              "      <td>0.000002</td>\n",
              "      <td>0.000001</td>\n",
              "      <td>0.000001</td>\n",
              "      <td>0.000002</td>\n",
              "      <td>0.000003</td>\n",
              "      <td>0.000002</td>\n",
              "    </tr>\n",
              "    <tr>\n",
              "      <th>player</th>\n",
              "      <td>2.345663e-05</td>\n",
              "      <td>4.299535e-04</td>\n",
              "      <td>0.000052</td>\n",
              "      <td>0.000001</td>\n",
              "      <td>0.000369</td>\n",
              "      <td>0.000002</td>\n",
              "      <td>0.000003</td>\n",
              "      <td>0.000002</td>\n",
              "    </tr>\n",
              "    <tr>\n",
              "      <th>road</th>\n",
              "      <td>6.654991e-07</td>\n",
              "      <td>7.003911e-07</td>\n",
              "      <td>0.000002</td>\n",
              "      <td>0.000001</td>\n",
              "      <td>0.000066</td>\n",
              "      <td>0.000002</td>\n",
              "      <td>0.000003</td>\n",
              "      <td>0.016389</td>\n",
              "    </tr>\n",
              "    <tr>\n",
              "      <th>chat</th>\n",
              "      <td>6.653077e-07</td>\n",
              "      <td>6.999925e-07</td>\n",
              "      <td>0.002079</td>\n",
              "      <td>0.000001</td>\n",
              "      <td>0.005423</td>\n",
              "      <td>0.000002</td>\n",
              "      <td>0.000003</td>\n",
              "      <td>0.000002</td>\n",
              "    </tr>\n",
              "    <tr>\n",
              "      <th>city</th>\n",
              "      <td>1.392892e-04</td>\n",
              "      <td>1.670926e-04</td>\n",
              "      <td>0.000002</td>\n",
              "      <td>0.005071</td>\n",
              "      <td>0.000278</td>\n",
              "      <td>0.000002</td>\n",
              "      <td>0.000003</td>\n",
              "      <td>0.000096</td>\n",
              "    </tr>\n",
              "    <tr>\n",
              "      <th>responsible</th>\n",
              "      <td>2.523778e-04</td>\n",
              "      <td>4.402844e-05</td>\n",
              "      <td>0.000145</td>\n",
              "      <td>0.000001</td>\n",
              "      <td>0.000020</td>\n",
              "      <td>0.000052</td>\n",
              "      <td>0.000003</td>\n",
              "      <td>0.000002</td>\n",
              "    </tr>\n",
              "    <tr>\n",
              "      <th>dress</th>\n",
              "      <td>4.892496e-05</td>\n",
              "      <td>5.884241e-04</td>\n",
              "      <td>0.000002</td>\n",
              "      <td>0.000001</td>\n",
              "      <td>0.000016</td>\n",
              "      <td>0.000002</td>\n",
              "      <td>0.000003</td>\n",
              "      <td>0.000002</td>\n",
              "    </tr>\n",
              "    <tr>\n",
              "      <th>wash</th>\n",
              "      <td>7.010793e-06</td>\n",
              "      <td>2.432686e-04</td>\n",
              "      <td>0.000002</td>\n",
              "      <td>0.000001</td>\n",
              "      <td>0.000001</td>\n",
              "      <td>0.000018</td>\n",
              "      <td>0.000134</td>\n",
              "      <td>0.000018</td>\n",
              "    </tr>\n",
              "    <tr>\n",
              "      <th>info</th>\n",
              "      <td>6.653324e-07</td>\n",
              "      <td>7.012279e-07</td>\n",
              "      <td>0.000291</td>\n",
              "      <td>0.000001</td>\n",
              "      <td>0.000697</td>\n",
              "      <td>0.000002</td>\n",
              "      <td>0.000003</td>\n",
              "      <td>0.000031</td>\n",
              "    </tr>\n",
              "    <tr>\n",
              "      <th>knee</th>\n",
              "      <td>6.651941e-07</td>\n",
              "      <td>1.569013e-04</td>\n",
              "      <td>0.000002</td>\n",
              "      <td>0.000001</td>\n",
              "      <td>0.000001</td>\n",
              "      <td>0.000002</td>\n",
              "      <td>0.000003</td>\n",
              "      <td>0.000279</td>\n",
              "    </tr>\n",
              "  </tbody>\n",
              "</table>\n",
              "</div>\n",
              "      <button class=\"colab-df-convert\" onclick=\"convertToInteractive('df-8fd6ef63-0db7-4524-8595-ba12f7026214')\"\n",
              "              title=\"Convert this dataframe to an interactive table.\"\n",
              "              style=\"display:none;\">\n",
              "        \n",
              "  <svg xmlns=\"http://www.w3.org/2000/svg\" height=\"24px\"viewBox=\"0 0 24 24\"\n",
              "       width=\"24px\">\n",
              "    <path d=\"M0 0h24v24H0V0z\" fill=\"none\"/>\n",
              "    <path d=\"M18.56 5.44l.94 2.06.94-2.06 2.06-.94-2.06-.94-.94-2.06-.94 2.06-2.06.94zm-11 1L8.5 8.5l.94-2.06 2.06-.94-2.06-.94L8.5 2.5l-.94 2.06-2.06.94zm10 10l.94 2.06.94-2.06 2.06-.94-2.06-.94-.94-2.06-.94 2.06-2.06.94z\"/><path d=\"M17.41 7.96l-1.37-1.37c-.4-.4-.92-.59-1.43-.59-.52 0-1.04.2-1.43.59L10.3 9.45l-7.72 7.72c-.78.78-.78 2.05 0 2.83L4 21.41c.39.39.9.59 1.41.59.51 0 1.02-.2 1.41-.59l7.78-7.78 2.81-2.81c.8-.78.8-2.07 0-2.86zM5.41 20L4 18.59l7.72-7.72 1.47 1.35L5.41 20z\"/>\n",
              "  </svg>\n",
              "      </button>\n",
              "      \n",
              "  <style>\n",
              "    .colab-df-container {\n",
              "      display:flex;\n",
              "      flex-wrap:wrap;\n",
              "      gap: 12px;\n",
              "    }\n",
              "\n",
              "    .colab-df-convert {\n",
              "      background-color: #E8F0FE;\n",
              "      border: none;\n",
              "      border-radius: 50%;\n",
              "      cursor: pointer;\n",
              "      display: none;\n",
              "      fill: #1967D2;\n",
              "      height: 32px;\n",
              "      padding: 0 0 0 0;\n",
              "      width: 32px;\n",
              "    }\n",
              "\n",
              "    .colab-df-convert:hover {\n",
              "      background-color: #E2EBFA;\n",
              "      box-shadow: 0px 1px 2px rgba(60, 64, 67, 0.3), 0px 1px 3px 1px rgba(60, 64, 67, 0.15);\n",
              "      fill: #174EA6;\n",
              "    }\n",
              "\n",
              "    [theme=dark] .colab-df-convert {\n",
              "      background-color: #3B4455;\n",
              "      fill: #D2E3FC;\n",
              "    }\n",
              "\n",
              "    [theme=dark] .colab-df-convert:hover {\n",
              "      background-color: #434B5C;\n",
              "      box-shadow: 0px 1px 3px 1px rgba(0, 0, 0, 0.15);\n",
              "      filter: drop-shadow(0px 1px 2px rgba(0, 0, 0, 0.3));\n",
              "      fill: #FFFFFF;\n",
              "    }\n",
              "  </style>\n",
              "\n",
              "      <script>\n",
              "        const buttonEl =\n",
              "          document.querySelector('#df-8fd6ef63-0db7-4524-8595-ba12f7026214 button.colab-df-convert');\n",
              "        buttonEl.style.display =\n",
              "          google.colab.kernel.accessAllowed ? 'block' : 'none';\n",
              "\n",
              "        async function convertToInteractive(key) {\n",
              "          const element = document.querySelector('#df-8fd6ef63-0db7-4524-8595-ba12f7026214');\n",
              "          const dataTable =\n",
              "            await google.colab.kernel.invokeFunction('convertToInteractive',\n",
              "                                                     [key], {});\n",
              "          if (!dataTable) return;\n",
              "\n",
              "          const docLinkHtml = 'Like what you see? Visit the ' +\n",
              "            '<a target=\"_blank\" href=https://colab.research.google.com/notebooks/data_table.ipynb>data table notebook</a>'\n",
              "            + ' to learn more about interactive tables.';\n",
              "          element.innerHTML = '';\n",
              "          dataTable['output_type'] = 'display_data';\n",
              "          await google.colab.output.renderOutput(dataTable, element);\n",
              "          const docLink = document.createElement('div');\n",
              "          docLink.innerHTML = docLinkHtml;\n",
              "          element.appendChild(docLink);\n",
              "        }\n",
              "      </script>\n",
              "    </div>\n",
              "  </div>\n",
              "  "
            ],
            "text/plain": [
              "                  Topic 1       Topic 2   Topic 3   Topic 4   Topic 5   Topic 6   Topic 7   Topic 8\n",
              "slavery      5.008797e-04  6.993725e-07  0.000002  0.000001  0.000001  0.000002  0.000003  0.000002\n",
              "player       2.345663e-05  4.299535e-04  0.000052  0.000001  0.000369  0.000002  0.000003  0.000002\n",
              "road         6.654991e-07  7.003911e-07  0.000002  0.000001  0.000066  0.000002  0.000003  0.016389\n",
              "chat         6.653077e-07  6.999925e-07  0.002079  0.000001  0.005423  0.000002  0.000003  0.000002\n",
              "city         1.392892e-04  1.670926e-04  0.000002  0.005071  0.000278  0.000002  0.000003  0.000096\n",
              "responsible  2.523778e-04  4.402844e-05  0.000145  0.000001  0.000020  0.000052  0.000003  0.000002\n",
              "dress        4.892496e-05  5.884241e-04  0.000002  0.000001  0.000016  0.000002  0.000003  0.000002\n",
              "wash         7.010793e-06  2.432686e-04  0.000002  0.000001  0.000001  0.000018  0.000134  0.000018\n",
              "info         6.653324e-07  7.012279e-07  0.000291  0.000001  0.000697  0.000002  0.000003  0.000031\n",
              "knee         6.651941e-07  1.569013e-04  0.000002  0.000001  0.000001  0.000002  0.000003  0.000279"
            ]
          },
          "execution_count": 54,
          "metadata": {},
          "output_type": "execute_result"
        }
      ],
      "source": [
        "topic_labels = ['Topic {}'.format(i) for i in range(1, 9)]\n",
        "topics_count = lda_base.components_\n",
        "topics_prob = topics_count / topics_count.sum(axis=1).reshape(-1, 1)\n",
        "topics = pd.DataFrame(topics_prob.T,\n",
        "                      index=words,\n",
        "                      columns=topic_labels)\n",
        "topics.sample(10)"
      ]
    },
    {
      "cell_type": "code",
      "execution_count": 55,
      "metadata": {
        "colab": {
          "base_uri": "https://localhost:8080/",
          "height": 419
        },
        "id": "yDum8iG0F7lZ",
        "outputId": "e81bd145-fc0e-492b-a196-8b61d03c1e8b"
      },
      "outputs": [
        {
          "data": {
            "image/png": "[encoded data removed]",
            "text/plain": [
              "<Figure size 600x400 with 2 Axes>"
            ]
          },
          "metadata": {
            "needs_background": "light"
          },
          "output_type": "display_data"
        }
      ],
      "source": [
        "one_word = list(topic_dict['topic'].values())\n",
        "sns.heatmap(topics.reindex(one_word), cmap='Blues')\n",
        "plt.title('Topic probabilities for one-word-summary')\n",
        "plt.show()"
      ]
    },
    {
      "cell_type": "markdown",
      "metadata": {
        "id": "6q9JnIomF7la"
      },
      "source": [
        "The heatmap suggests assignments for all but 1 topics. \n",
        "\n",
        "Below are the most probable words for each topic. We can already see our one-word summaries of the actual topic near the top of the list. "
      ]
    },
    {
      "cell_type": "code",
      "execution_count": 56,
      "metadata": {
        "colab": {
          "base_uri": "https://localhost:8080/",
          "height": 359
        },
        "id": "CVBYBSh8F7la",
        "outputId": "725273df-dc90-4f21-ed37-401a2751f8cc"
      },
      "outputs": [
        {
          "data": {
            "text/html": [
              "\n",
              "  <div id=\"df-7726e040-e654-4231-a0c0-35ba3c19dedf\">\n",
              "    <div class=\"colab-df-container\">\n",
              "      <div>\n",
              "<style scoped>\n",
              "    .dataframe tbody tr th:only-of-type {\n",
              "        vertical-align: middle;\n",
              "    }\n",
              "\n",
              "    .dataframe tbody tr th {\n",
              "        vertical-align: top;\n",
              "    }\n",
              "\n",
              "    .dataframe thead th {\n",
              "        text-align: right;\n",
              "    }\n",
              "</style>\n",
              "<table border=\"1\" class=\"dataframe\">\n",
              "  <thead>\n",
              "    <tr style=\"text-align: right;\">\n",
              "      <th></th>\n",
              "      <th>Topic 1</th>\n",
              "      <th>Topic 2</th>\n",
              "      <th>Topic 3</th>\n",
              "      <th>Topic 4</th>\n",
              "      <th>Topic 5</th>\n",
              "      <th>Topic 6</th>\n",
              "      <th>Topic 7</th>\n",
              "      <th>Topic 8</th>\n",
              "    </tr>\n",
              "  </thead>\n",
              "  <tbody>\n",
              "    <tr>\n",
              "      <th>0</th>\n",
              "      <td>book</td>\n",
              "      <td>laugh</td>\n",
              "      <td>computer</td>\n",
              "      <td>building</td>\n",
              "      <td>computer</td>\n",
              "      <td>mood</td>\n",
              "      <td>test</td>\n",
              "      <td>cyclist</td>\n",
              "    </tr>\n",
              "    <tr>\n",
              "      <th>1</th>\n",
              "      <td>library</td>\n",
              "      <td>patient</td>\n",
              "      <td>spend</td>\n",
              "      <td>dirigible</td>\n",
              "      <td>help</td>\n",
              "      <td>memoir</td>\n",
              "      <td>sang</td>\n",
              "      <td>water</td>\n",
              "    </tr>\n",
              "    <tr>\n",
              "      <th>2</th>\n",
              "      <td>read</td>\n",
              "      <td>wait</td>\n",
              "      <td>exercise</td>\n",
              "      <td>obstacle</td>\n",
              "      <td>learn</td>\n",
              "      <td>love</td>\n",
              "      <td>hibiscus</td>\n",
              "      <td>laughter</td>\n",
              "    </tr>\n",
              "    <tr>\n",
              "      <th>3</th>\n",
              "      <td>offensive</td>\n",
              "      <td>person1</td>\n",
              "      <td>kid</td>\n",
              "      <td>state</td>\n",
              "      <td>talk</td>\n",
              "      <td>create</td>\n",
              "      <td>paragraph</td>\n",
              "      <td>setting</td>\n",
              "    </tr>\n",
              "    <tr>\n",
              "      <th>4</th>\n",
              "      <td>child</td>\n",
              "      <td>caps3</td>\n",
              "      <td>outside</td>\n",
              "      <td>empire</td>\n",
              "      <td>online</td>\n",
              "      <td>narcs</td>\n",
              "      <td>conclude</td>\n",
              "      <td>affect</td>\n",
              "    </tr>\n",
              "    <tr>\n",
              "      <th>5</th>\n",
              "      <td>movie</td>\n",
              "      <td>caps4</td>\n",
              "      <td>bad</td>\n",
              "      <td>mast</td>\n",
              "      <td>information</td>\n",
              "      <td>grateful</td>\n",
              "      <td>plant</td>\n",
              "      <td>feature</td>\n",
              "    </tr>\n",
              "    <tr>\n",
              "      <th>6</th>\n",
              "      <td>shelf</td>\n",
              "      <td>tell</td>\n",
              "      <td>nature</td>\n",
              "      <td>builder</td>\n",
              "      <td>hand</td>\n",
              "      <td>happy</td>\n",
              "      <td>spring</td>\n",
              "      <td>road</td>\n",
              "    </tr>\n",
              "    <tr>\n",
              "      <th>7</th>\n",
              "      <td>music</td>\n",
              "      <td>start</td>\n",
              "      <td>play</td>\n",
              "      <td>face</td>\n",
              "      <td>place</td>\n",
              "      <td>rodriguez</td>\n",
              "      <td>geese</td>\n",
              "      <td>hot</td>\n",
              "    </tr>\n",
              "    <tr>\n",
              "      <th>8</th>\n",
              "      <td>material</td>\n",
              "      <td>mom</td>\n",
              "      <td>reason</td>\n",
              "      <td>dock</td>\n",
              "      <td>reason</td>\n",
              "      <td>house</td>\n",
              "      <td>end</td>\n",
              "      <td>hill</td>\n",
              "    </tr>\n",
              "    <tr>\n",
              "      <th>9</th>\n",
              "      <td>magazine</td>\n",
              "      <td>caps5</td>\n",
              "      <td>enjoy</td>\n",
              "      <td>mooring</td>\n",
              "      <td>world</td>\n",
              "      <td>paragraph</td>\n",
              "      <td>winter</td>\n",
              "      <td>desert</td>\n",
              "    </tr>\n",
              "  </tbody>\n",
              "</table>\n",
              "</div>\n",
              "      <button class=\"colab-df-convert\" onclick=\"convertToInteractive('df-7726e040-e654-4231-a0c0-35ba3c19dedf')\"\n",
              "              title=\"Convert this dataframe to an interactive table.\"\n",
              "              style=\"display:none;\">\n",
              "        \n",
              "  <svg xmlns=\"http://www.w3.org/2000/svg\" height=\"24px\"viewBox=\"0 0 24 24\"\n",
              "       width=\"24px\">\n",
              "    <path d=\"M0 0h24v24H0V0z\" fill=\"none\"/>\n",
              "    <path d=\"M18.56 5.44l.94 2.06.94-2.06 2.06-.94-2.06-.94-.94-2.06-.94 2.06-2.06.94zm-11 1L8.5 8.5l.94-2.06 2.06-.94-2.06-.94L8.5 2.5l-.94 2.06-2.06.94zm10 10l.94 2.06.94-2.06 2.06-.94-2.06-.94-.94-2.06-.94 2.06-2.06.94z\"/><path d=\"M17.41 7.96l-1.37-1.37c-.4-.4-.92-.59-1.43-.59-.52 0-1.04.2-1.43.59L10.3 9.45l-7.72 7.72c-.78.78-.78 2.05 0 2.83L4 21.41c.39.39.9.59 1.41.59.51 0 1.02-.2 1.41-.59l7.78-7.78 2.81-2.81c.8-.78.8-2.07 0-2.86zM5.41 20L4 18.59l7.72-7.72 1.47 1.35L5.41 20z\"/>\n",
              "  </svg>\n",
              "      </button>\n",
              "      \n",
              "  <style>\n",
              "    .colab-df-container {\n",
              "      display:flex;\n",
              "      flex-wrap:wrap;\n",
              "      gap: 12px;\n",
              "    }\n",
              "\n",
              "    .colab-df-convert {\n",
              "      background-color: #E8F0FE;\n",
              "      border: none;\n",
              "      border-radius: 50%;\n",
              "      cursor: pointer;\n",
              "      display: none;\n",
              "      fill: #1967D2;\n",
              "      height: 32px;\n",
              "      padding: 0 0 0 0;\n",
              "      width: 32px;\n",
              "    }\n",
              "\n",
              "    .colab-df-convert:hover {\n",
              "      background-color: #E2EBFA;\n",
              "      box-shadow: 0px 1px 2px rgba(60, 64, 67, 0.3), 0px 1px 3px 1px rgba(60, 64, 67, 0.15);\n",
              "      fill: #174EA6;\n",
              "    }\n",
              "\n",
              "    [theme=dark] .colab-df-convert {\n",
              "      background-color: #3B4455;\n",
              "      fill: #D2E3FC;\n",
              "    }\n",
              "\n",
              "    [theme=dark] .colab-df-convert:hover {\n",
              "      background-color: #434B5C;\n",
              "      box-shadow: 0px 1px 3px 1px rgba(0, 0, 0, 0.15);\n",
              "      filter: drop-shadow(0px 1px 2px rgba(0, 0, 0, 0.3));\n",
              "      fill: #FFFFFF;\n",
              "    }\n",
              "  </style>\n",
              "\n",
              "      <script>\n",
              "        const buttonEl =\n",
              "          document.querySelector('#df-7726e040-e654-4231-a0c0-35ba3c19dedf button.colab-df-convert');\n",
              "        buttonEl.style.display =\n",
              "          google.colab.kernel.accessAllowed ? 'block' : 'none';\n",
              "\n",
              "        async function convertToInteractive(key) {\n",
              "          const element = document.querySelector('#df-7726e040-e654-4231-a0c0-35ba3c19dedf');\n",
              "          const dataTable =\n",
              "            await google.colab.kernel.invokeFunction('convertToInteractive',\n",
              "                                                     [key], {});\n",
              "          if (!dataTable) return;\n",
              "\n",
              "          const docLinkHtml = 'Like what you see? Visit the ' +\n",
              "            '<a target=\"_blank\" href=https://colab.research.google.com/notebooks/data_table.ipynb>data table notebook</a>'\n",
              "            + ' to learn more about interactive tables.';\n",
              "          element.innerHTML = '';\n",
              "          dataTable['output_type'] = 'display_data';\n",
              "          await google.colab.output.renderOutput(dataTable, element);\n",
              "          const docLink = document.createElement('div');\n",
              "          docLink.innerHTML = docLinkHtml;\n",
              "          element.appendChild(docLink);\n",
              "        }\n",
              "      </script>\n",
              "    </div>\n",
              "  </div>\n",
              "  "
            ],
            "text/plain": [
              "     Topic 1  Topic 2   Topic 3    Topic 4      Topic 5    Topic 6    Topic 7   Topic 8\n",
              "0       book    laugh  computer   building     computer       mood       test   cyclist\n",
              "1    library  patient     spend  dirigible         help     memoir       sang     water\n",
              "2       read     wait  exercise   obstacle        learn       love   hibiscus  laughter\n",
              "3  offensive  person1       kid      state         talk     create  paragraph   setting\n",
              "4      child    caps3   outside     empire       online      narcs   conclude    affect\n",
              "5      movie    caps4       bad       mast  information   grateful      plant   feature\n",
              "6      shelf     tell    nature    builder         hand      happy     spring      road\n",
              "7      music    start      play       face        place  rodriguez      geese       hot\n",
              "8   material      mom    reason       dock       reason      house        end      hill\n",
              "9   magazine    caps5     enjoy    mooring        world  paragraph     winter    desert"
            ]
          },
          "execution_count": 56,
          "metadata": {},
          "output_type": "execute_result"
        }
      ],
      "source": [
        "top_words = {}\n",
        "for topic, words_ in topics.items():\n",
        "    top_words[topic] = words_.nlargest(10).index.tolist()\n",
        "pd.DataFrame(top_words)"
      ]
    },
    {
      "cell_type": "markdown",
      "metadata": {
        "id": "ZVrA6enLF7la"
      },
      "source": [
        "Now we can assign LDA topic probabilities to each essay and aggregate. It is now clear that, for example, LDA allocated topic 3 is aligned with the given topic \"computers\"."
      ]
    },
    {
      "cell_type": "code",
      "execution_count": 57,
      "metadata": {
        "colab": {
          "base_uri": "https://localhost:8080/",
          "height": 390
        },
        "id": "Xi0SruW5F7la",
        "outputId": "be0c4dc0-9cce-424f-83e8-b85154d7df73",
        "scrolled": false
      },
      "outputs": [
        {
          "data": {
            "text/html": [
              "\n",
              "  <div id=\"df-f0456a0e-c39e-4c52-9fef-b27e7ee08b69\">\n",
              "    <div class=\"colab-df-container\">\n",
              "      <div>\n",
              "<style scoped>\n",
              "    .dataframe tbody tr th:only-of-type {\n",
              "        vertical-align: middle;\n",
              "    }\n",
              "\n",
              "    .dataframe tbody tr th {\n",
              "        vertical-align: top;\n",
              "    }\n",
              "\n",
              "    .dataframe thead th {\n",
              "        text-align: right;\n",
              "    }\n",
              "</style>\n",
              "<table border=\"1\" class=\"dataframe\">\n",
              "  <thead>\n",
              "    <tr style=\"text-align: right;\">\n",
              "      <th></th>\n",
              "      <th>Topic 1</th>\n",
              "      <th>Topic 2</th>\n",
              "      <th>Topic 3</th>\n",
              "      <th>Topic 4</th>\n",
              "      <th>Topic 5</th>\n",
              "      <th>Topic 6</th>\n",
              "      <th>Topic 7</th>\n",
              "      <th>Topic 8</th>\n",
              "    </tr>\n",
              "    <tr>\n",
              "      <th>topic</th>\n",
              "      <th></th>\n",
              "      <th></th>\n",
              "      <th></th>\n",
              "      <th></th>\n",
              "      <th></th>\n",
              "      <th></th>\n",
              "      <th></th>\n",
              "      <th></th>\n",
              "    </tr>\n",
              "  </thead>\n",
              "  <tbody>\n",
              "    <tr>\n",
              "      <th>dirigibles</th>\n",
              "      <td>0.003473</td>\n",
              "      <td>0.003474</td>\n",
              "      <td>0.003477</td>\n",
              "      <td>0.975685</td>\n",
              "      <td>0.003473</td>\n",
              "      <td>0.003472</td>\n",
              "      <td>0.003472</td>\n",
              "      <td>0.003474</td>\n",
              "    </tr>\n",
              "    <tr>\n",
              "      <th>laughter</th>\n",
              "      <td>0.000677</td>\n",
              "      <td>0.688760</td>\n",
              "      <td>0.000677</td>\n",
              "      <td>0.000678</td>\n",
              "      <td>0.000678</td>\n",
              "      <td>0.032421</td>\n",
              "      <td>0.022741</td>\n",
              "      <td>0.253368</td>\n",
              "    </tr>\n",
              "    <tr>\n",
              "      <th>hibiscus</th>\n",
              "      <td>0.004632</td>\n",
              "      <td>0.004634</td>\n",
              "      <td>0.004631</td>\n",
              "      <td>0.004630</td>\n",
              "      <td>0.004631</td>\n",
              "      <td>0.004634</td>\n",
              "      <td>0.967576</td>\n",
              "      <td>0.004631</td>\n",
              "    </tr>\n",
              "    <tr>\n",
              "      <th>cyclist</th>\n",
              "      <td>0.003049</td>\n",
              "      <td>0.003050</td>\n",
              "      <td>0.003050</td>\n",
              "      <td>0.003050</td>\n",
              "      <td>0.003051</td>\n",
              "      <td>0.003050</td>\n",
              "      <td>0.003050</td>\n",
              "      <td>0.978649</td>\n",
              "    </tr>\n",
              "    <tr>\n",
              "      <th>hibiscus</th>\n",
              "      <td>0.006955</td>\n",
              "      <td>0.006955</td>\n",
              "      <td>0.006951</td>\n",
              "      <td>0.006949</td>\n",
              "      <td>0.006951</td>\n",
              "      <td>0.006952</td>\n",
              "      <td>0.951340</td>\n",
              "      <td>0.006948</td>\n",
              "    </tr>\n",
              "    <tr>\n",
              "      <th>mood</th>\n",
              "      <td>0.004321</td>\n",
              "      <td>0.004315</td>\n",
              "      <td>0.004316</td>\n",
              "      <td>0.004311</td>\n",
              "      <td>0.004315</td>\n",
              "      <td>0.969796</td>\n",
              "      <td>0.004312</td>\n",
              "      <td>0.004314</td>\n",
              "    </tr>\n",
              "    <tr>\n",
              "      <th>computer</th>\n",
              "      <td>0.001137</td>\n",
              "      <td>0.001137</td>\n",
              "      <td>0.683562</td>\n",
              "      <td>0.001137</td>\n",
              "      <td>0.309616</td>\n",
              "      <td>0.001137</td>\n",
              "      <td>0.001137</td>\n",
              "      <td>0.001137</td>\n",
              "    </tr>\n",
              "    <tr>\n",
              "      <th>hibiscus</th>\n",
              "      <td>0.004034</td>\n",
              "      <td>0.004035</td>\n",
              "      <td>0.043683</td>\n",
              "      <td>0.004032</td>\n",
              "      <td>0.004036</td>\n",
              "      <td>0.004046</td>\n",
              "      <td>0.932093</td>\n",
              "      <td>0.004040</td>\n",
              "    </tr>\n",
              "    <tr>\n",
              "      <th>hibiscus</th>\n",
              "      <td>0.002980</td>\n",
              "      <td>0.002981</td>\n",
              "      <td>0.002979</td>\n",
              "      <td>0.002978</td>\n",
              "      <td>0.002982</td>\n",
              "      <td>0.002980</td>\n",
              "      <td>0.979140</td>\n",
              "      <td>0.002979</td>\n",
              "    </tr>\n",
              "    <tr>\n",
              "      <th>hibiscus</th>\n",
              "      <td>0.011371</td>\n",
              "      <td>0.011366</td>\n",
              "      <td>0.011367</td>\n",
              "      <td>0.011364</td>\n",
              "      <td>0.011371</td>\n",
              "      <td>0.011370</td>\n",
              "      <td>0.920425</td>\n",
              "      <td>0.011365</td>\n",
              "    </tr>\n",
              "  </tbody>\n",
              "</table>\n",
              "</div>\n",
              "      <button class=\"colab-df-convert\" onclick=\"convertToInteractive('df-f0456a0e-c39e-4c52-9fef-b27e7ee08b69')\"\n",
              "              title=\"Convert this dataframe to an interactive table.\"\n",
              "              style=\"display:none;\">\n",
              "        \n",
              "  <svg xmlns=\"http://www.w3.org/2000/svg\" height=\"24px\"viewBox=\"0 0 24 24\"\n",
              "       width=\"24px\">\n",
              "    <path d=\"M0 0h24v24H0V0z\" fill=\"none\"/>\n",
              "    <path d=\"M18.56 5.44l.94 2.06.94-2.06 2.06-.94-2.06-.94-.94-2.06-.94 2.06-2.06.94zm-11 1L8.5 8.5l.94-2.06 2.06-.94-2.06-.94L8.5 2.5l-.94 2.06-2.06.94zm10 10l.94 2.06.94-2.06 2.06-.94-2.06-.94-.94-2.06-.94 2.06-2.06.94z\"/><path d=\"M17.41 7.96l-1.37-1.37c-.4-.4-.92-.59-1.43-.59-.52 0-1.04.2-1.43.59L10.3 9.45l-7.72 7.72c-.78.78-.78 2.05 0 2.83L4 21.41c.39.39.9.59 1.41.59.51 0 1.02-.2 1.41-.59l7.78-7.78 2.81-2.81c.8-.78.8-2.07 0-2.86zM5.41 20L4 18.59l7.72-7.72 1.47 1.35L5.41 20z\"/>\n",
              "  </svg>\n",
              "      </button>\n",
              "      \n",
              "  <style>\n",
              "    .colab-df-container {\n",
              "      display:flex;\n",
              "      flex-wrap:wrap;\n",
              "      gap: 12px;\n",
              "    }\n",
              "\n",
              "    .colab-df-convert {\n",
              "      background-color: #E8F0FE;\n",
              "      border: none;\n",
              "      border-radius: 50%;\n",
              "      cursor: pointer;\n",
              "      display: none;\n",
              "      fill: #1967D2;\n",
              "      height: 32px;\n",
              "      padding: 0 0 0 0;\n",
              "      width: 32px;\n",
              "    }\n",
              "\n",
              "    .colab-df-convert:hover {\n",
              "      background-color: #E2EBFA;\n",
              "      box-shadow: 0px 1px 2px rgba(60, 64, 67, 0.3), 0px 1px 3px 1px rgba(60, 64, 67, 0.15);\n",
              "      fill: #174EA6;\n",
              "    }\n",
              "\n",
              "    [theme=dark] .colab-df-convert {\n",
              "      background-color: #3B4455;\n",
              "      fill: #D2E3FC;\n",
              "    }\n",
              "\n",
              "    [theme=dark] .colab-df-convert:hover {\n",
              "      background-color: #434B5C;\n",
              "      box-shadow: 0px 1px 3px 1px rgba(0, 0, 0, 0.15);\n",
              "      filter: drop-shadow(0px 1px 2px rgba(0, 0, 0, 0.3));\n",
              "      fill: #FFFFFF;\n",
              "    }\n",
              "  </style>\n",
              "\n",
              "      <script>\n",
              "        const buttonEl =\n",
              "          document.querySelector('#df-f0456a0e-c39e-4c52-9fef-b27e7ee08b69 button.colab-df-convert');\n",
              "        buttonEl.style.display =\n",
              "          google.colab.kernel.accessAllowed ? 'block' : 'none';\n",
              "\n",
              "        async function convertToInteractive(key) {\n",
              "          const element = document.querySelector('#df-f0456a0e-c39e-4c52-9fef-b27e7ee08b69');\n",
              "          const dataTable =\n",
              "            await google.colab.kernel.invokeFunction('convertToInteractive',\n",
              "                                                     [key], {});\n",
              "          if (!dataTable) return;\n",
              "\n",
              "          const docLinkHtml = 'Like what you see? Visit the ' +\n",
              "            '<a target=\"_blank\" href=https://colab.research.google.com/notebooks/data_table.ipynb>data table notebook</a>'\n",
              "            + ' to learn more about interactive tables.';\n",
              "          element.innerHTML = '';\n",
              "          dataTable['output_type'] = 'display_data';\n",
              "          await google.colab.output.renderOutput(dataTable, element);\n",
              "          const docLink = document.createElement('div');\n",
              "          docLink.innerHTML = docLinkHtml;\n",
              "          element.appendChild(docLink);\n",
              "        }\n",
              "      </script>\n",
              "    </div>\n",
              "  </div>\n",
              "  "
            ],
            "text/plain": [
              "             Topic 1   Topic 2   Topic 3   Topic 4   Topic 5   Topic 6   Topic 7   Topic 8\n",
              "topic                                                                                     \n",
              "dirigibles  0.003473  0.003474  0.003477  0.975685  0.003473  0.003472  0.003472  0.003474\n",
              "laughter    0.000677  0.688760  0.000677  0.000678  0.000678  0.032421  0.022741  0.253368\n",
              "hibiscus    0.004632  0.004634  0.004631  0.004630  0.004631  0.004634  0.967576  0.004631\n",
              "cyclist     0.003049  0.003050  0.003050  0.003050  0.003051  0.003050  0.003050  0.978649\n",
              "hibiscus    0.006955  0.006955  0.006951  0.006949  0.006951  0.006952  0.951340  0.006948\n",
              "mood        0.004321  0.004315  0.004316  0.004311  0.004315  0.969796  0.004312  0.004314\n",
              "computer    0.001137  0.001137  0.683562  0.001137  0.309616  0.001137  0.001137  0.001137\n",
              "hibiscus    0.004034  0.004035  0.043683  0.004032  0.004036  0.004046  0.932093  0.004040\n",
              "hibiscus    0.002980  0.002981  0.002979  0.002978  0.002982  0.002980  0.979140  0.002979\n",
              "hibiscus    0.011371  0.011366  0.011367  0.011364  0.011371  0.011370  0.920425  0.011365"
            ]
          },
          "execution_count": 57,
          "metadata": {},
          "output_type": "execute_result"
        }
      ],
      "source": [
        "train_preds = lda_base.transform(doc_term_matrix)\n",
        "train_eval = pd.DataFrame(train_preds, columns=topic_labels, index=training_set.topic)\n",
        "train_eval.sample(10)"
      ]
    },
    {
      "cell_type": "code",
      "execution_count": 58,
      "metadata": {
        "colab": {
          "base_uri": "https://localhost:8080/",
          "height": 480
        },
        "id": "_IVOG7YKF7la",
        "outputId": "6e9ec4c1-6870-4692-82f8-92dc9daa5ae2"
      },
      "outputs": [
        {
          "data": {
            "image/png": "[encoded data removed]",
            "text/plain": [
              "<Figure size 1000x500 with 1 Axes>"
            ]
          },
          "metadata": {
            "needs_background": "light"
          },
          "output_type": "display_data"
        }
      ],
      "source": [
        "train_eval.groupby(level='topic').mean().plot.bar(title='Avg. Topic Probabilities', rot=0, colormap='tab10', figsize=(10,5));"
      ]
    },
    {
      "cell_type": "markdown",
      "metadata": {
        "id": "j_1CZPWZF7lb"
      },
      "source": [
        "The baseline model was successful in that each given topic is allocated with high probability to an LDA topic:"
      ]
    },
    {
      "cell_type": "code",
      "execution_count": 59,
      "metadata": {
        "colab": {
          "base_uri": "https://localhost:8080/",
          "height": 920
        },
        "id": "yb2so6qAF7lb",
        "outputId": "12159f72-74d5-4d23-c0ff-fff56626215c"
      },
      "outputs": [
        {
          "data": {
            "text/html": [
              "\n",
              "  <div id=\"df-e22a24c5-a273-4594-ac83-34425a3550da\">\n",
              "    <div class=\"colab-df-container\">\n",
              "      <div>\n",
              "<style scoped>\n",
              "    .dataframe tbody tr th:only-of-type {\n",
              "        vertical-align: middle;\n",
              "    }\n",
              "\n",
              "    .dataframe tbody tr th {\n",
              "        vertical-align: top;\n",
              "    }\n",
              "\n",
              "    .dataframe thead th {\n",
              "        text-align: right;\n",
              "    }\n",
              "</style>\n",
              "<table border=\"1\" class=\"dataframe\">\n",
              "  <thead>\n",
              "    <tr style=\"text-align: right;\">\n",
              "      <th></th>\n",
              "      <th>topic</th>\n",
              "      <th>assignment</th>\n",
              "    </tr>\n",
              "  </thead>\n",
              "  <tbody>\n",
              "    <tr>\n",
              "      <th>0</th>\n",
              "      <td>censorship</td>\n",
              "      <td>Topic 1</td>\n",
              "    </tr>\n",
              "    <tr>\n",
              "      <th>1</th>\n",
              "      <td>computer</td>\n",
              "      <td>Topic 5</td>\n",
              "    </tr>\n",
              "    <tr>\n",
              "      <th>2</th>\n",
              "      <td>cyclist</td>\n",
              "      <td>Topic 8</td>\n",
              "    </tr>\n",
              "    <tr>\n",
              "      <th>3</th>\n",
              "      <td>dirigibles</td>\n",
              "      <td>Topic 4</td>\n",
              "    </tr>\n",
              "    <tr>\n",
              "      <th>4</th>\n",
              "      <td>hibiscus</td>\n",
              "      <td>Topic 7</td>\n",
              "    </tr>\n",
              "    <tr>\n",
              "      <th>5</th>\n",
              "      <td>laughter</td>\n",
              "      <td>Topic 2</td>\n",
              "    </tr>\n",
              "    <tr>\n",
              "      <th>6</th>\n",
              "      <td>mood</td>\n",
              "      <td>Topic 6</td>\n",
              "    </tr>\n",
              "    <tr>\n",
              "      <th>7</th>\n",
              "      <td>patience</td>\n",
              "      <td>Topic 2</td>\n",
              "    </tr>\n",
              "  </tbody>\n",
              "</table>\n",
              "</div>\n",
              "      <button class=\"colab-df-convert\" onclick=\"convertToInteractive('df-e22a24c5-a273-4594-ac83-34425a3550da')\"\n",
              "              title=\"Convert this dataframe to an interactive table.\"\n",
              "              style=\"display:none;\">\n",
              "        \n",
              "  <svg xmlns=\"http://www.w3.org/2000/svg\" height=\"24px\"viewBox=\"0 0 24 24\"\n",
              "       width=\"24px\">\n",
              "    <path d=\"M0 0h24v24H0V0z\" fill=\"none\"/>\n",
              "    <path d=\"M18.56 5.44l.94 2.06.94-2.06 2.06-.94-2.06-.94-.94-2.06-.94 2.06-2.06.94zm-11 1L8.5 8.5l.94-2.06 2.06-.94-2.06-.94L8.5 2.5l-.94 2.06-2.06.94zm10 10l.94 2.06.94-2.06 2.06-.94-2.06-.94-.94-2.06-.94 2.06-2.06.94z\"/><path d=\"M17.41 7.96l-1.37-1.37c-.4-.4-.92-.59-1.43-.59-.52 0-1.04.2-1.43.59L10.3 9.45l-7.72 7.72c-.78.78-.78 2.05 0 2.83L4 21.41c.39.39.9.59 1.41.59.51 0 1.02-.2 1.41-.59l7.78-7.78 2.81-2.81c.8-.78.8-2.07 0-2.86zM5.41 20L4 18.59l7.72-7.72 1.47 1.35L5.41 20z\"/>\n",
              "  </svg>\n",
              "      </button>\n",
              "      \n",
              "  <style>\n",
              "    .colab-df-container {\n",
              "      display:flex;\n",
              "      flex-wrap:wrap;\n",
              "      gap: 12px;\n",
              "    }\n",
              "\n",
              "    .colab-df-convert {\n",
              "      background-color: #E8F0FE;\n",
              "      border: none;\n",
              "      border-radius: 50%;\n",
              "      cursor: pointer;\n",
              "      display: none;\n",
              "      fill: #1967D2;\n",
              "      height: 32px;\n",
              "      padding: 0 0 0 0;\n",
              "      width: 32px;\n",
              "    }\n",
              "\n",
              "    .colab-df-convert:hover {\n",
              "      background-color: #E2EBFA;\n",
              "      box-shadow: 0px 1px 2px rgba(60, 64, 67, 0.3), 0px 1px 3px 1px rgba(60, 64, 67, 0.15);\n",
              "      fill: #174EA6;\n",
              "    }\n",
              "\n",
              "    [theme=dark] .colab-df-convert {\n",
              "      background-color: #3B4455;\n",
              "      fill: #D2E3FC;\n",
              "    }\n",
              "\n",
              "    [theme=dark] .colab-df-convert:hover {\n",
              "      background-color: #434B5C;\n",
              "      box-shadow: 0px 1px 3px 1px rgba(0, 0, 0, 0.15);\n",
              "      filter: drop-shadow(0px 1px 2px rgba(0, 0, 0, 0.3));\n",
              "      fill: #FFFFFF;\n",
              "    }\n",
              "  </style>\n",
              "\n",
              "      <script>\n",
              "        const buttonEl =\n",
              "          document.querySelector('#df-e22a24c5-a273-4594-ac83-34425a3550da button.colab-df-convert');\n",
              "        buttonEl.style.display =\n",
              "          google.colab.kernel.accessAllowed ? 'block' : 'none';\n",
              "\n",
              "        async function convertToInteractive(key) {\n",
              "          const element = document.querySelector('#df-e22a24c5-a273-4594-ac83-34425a3550da');\n",
              "          const dataTable =\n",
              "            await google.colab.kernel.invokeFunction('convertToInteractive',\n",
              "                                                     [key], {});\n",
              "          if (!dataTable) return;\n",
              "\n",
              "          const docLinkHtml = 'Like what you see? Visit the ' +\n",
              "            '<a target=\"_blank\" href=https://colab.research.google.com/notebooks/data_table.ipynb>data table notebook</a>'\n",
              "            + ' to learn more about interactive tables.';\n",
              "          element.innerHTML = '';\n",
              "          dataTable['output_type'] = 'display_data';\n",
              "          await google.colab.output.renderOutput(dataTable, element);\n",
              "          const docLink = document.createElement('div');\n",
              "          docLink.innerHTML = docLinkHtml;\n",
              "          element.appendChild(docLink);\n",
              "        }\n",
              "      </script>\n",
              "    </div>\n",
              "  </div>\n",
              "  "
            ],
            "text/plain": [
              "        topic assignment\n",
              "0  censorship    Topic 1\n",
              "1    computer    Topic 5\n",
              "2     cyclist    Topic 8\n",
              "3  dirigibles    Topic 4\n",
              "4    hibiscus    Topic 7\n",
              "5    laughter    Topic 2\n",
              "6        mood    Topic 6\n",
              "7    patience    Topic 2"
            ]
          },
          "execution_count": 59,
          "metadata": {},
          "output_type": "execute_result"
        },
        {
          "data": {
            "image/png": "[encoded data removed]",
            "text/plain": [
              "<Figure size 800x800 with 2 Axes>"
            ]
          },
          "metadata": {
            "needs_background": "light"
          },
          "output_type": "display_data"
        }
      ],
      "source": [
        "df = train_eval.groupby(level='topic').agg('median')\n",
        "fig, ax = plt.subplots(figsize=(8,8))\n",
        "g = sns.heatmap(df, annot=True, fmt='.1%', annot_kws={\"size\": 10}, cmap='Blues', square=True)\n",
        "loc, labels = plt.yticks()\n",
        "g.set_yticklabels(labels, rotation=0)\n",
        "g.set_title('Topic Assignments');\n",
        "\n",
        "df = train_eval\\\n",
        "            .idxmax(axis=1)\\\n",
        "            .reset_index()\\\n",
        "            .groupby('topic', as_index=False)\\\n",
        "            .agg(lambda x:x.value_counts().index[0])\\\n",
        "            .rename(columns={0:'assignment'})\n",
        "df"
      ]
    },
    {
      "cell_type": "markdown",
      "metadata": {
        "id": "aZFtG4_QF7lb"
      },
      "source": [
        "## Visualization with PyLDAVis\n",
        "\n",
        "#### Lambda\n",
        "\n",
        "- **$\\lambda$ = 0**: how probable is a word to appear in a topic - words are ranked on lift P(word | topic) / P(word)\n",
        "- **$\\lambda$ = 1**: how exclusive is a word to a topic -  words are purely ranked on P(word | topic)\n",
        "\n",
        "The ranking formula is $\\lambda * P(\\text{word} \\vert \\text{topic}) + (1 - \\lambda) * \\text{lift}$\n",
        "\n",
        "User studies suggest $\\lambda = 0.6$ works for most people."
      ]
    },
    {
      "cell_type": "code",
      "execution_count": 60,
      "metadata": {
        "colab": {
          "base_uri": "https://localhost:8080/",
          "height": 861
        },
        "id": "i3UZ2ZLcF7lb",
        "outputId": "72a25edf-e66e-4049-a07a-3a20933f6b06",
        "scrolled": false
      },
      "outputs": [
        {
          "data": {
            "text/html": [
              "\n",
              "<link rel=\"stylesheet\" type=\"text/css\" href=\"https://cdn.jsdelivr.net/gh/bmabey/pyLDAvis@3.3.1/pyLDAvis/js/ldavis.v1.0.0.css\">\n",
              "\n",
              "\n",
              "<div id=\"ldavis_el591401483769147682668067831\"></div>\n",
              "<script type=\"text/javascript\">\n",
              "\n",
              "var ldavis_el591401483769147682668067831_data = {\"mdsDat\": {\"x\": [0.12566582864748102, 0.10127956473341884, 0.16979061720059518, -0.31932360543926736, -0.09552067206467296, 0.1387860976073235, -0.008861646226307165, -0.11181618445857075], \"y\": [-0.036865012291172186, 0.0057765918831316375, -0.09875489289468521, -0.2054234322079139, 0.003767443453593239, -0.11843386364855628, 0.21684694558218714, 0.2330862201234158], \"topics\": [1, 2, 3, 4, 5, 6, 7, 8], \"cluster\": [1, 1, 1, 1, 1, 1, 1, 1], \"Freq\": [21.722536818800275, 20.600738690172253, 14.313385813151037, 13.033776099607037, 9.169466565267422, 8.389787674457008, 7.449848850321289, 5.320459488223674]}, \"tinfo\": {\"Term\": [\"computer\", \"book\", \"building\", \"dirigible\", \"mood\", \"library\", \"cyclist\", \"test\", \"offensive\", \"obstacle\", \"empire\", \"sang\", \"water\", \"memoir\", \"laugh\", \"love\", \"paragraph\", \"mast\", \"laughter\", \"hibiscus\", \"movie\", \"state\", \"setting\", \"builder\", \"patient\", \"shelf\", \"read\", \"narcs\", \"create\", \"spend\", \"offensive\", \"shelf\", \"material\", \"remove\", \"censorship\", \"censor\", \"offend\", \"freedom\", \"violence\", \"magazine\", \"katherine\", \"paterson\", \"librarian\", \"rating\", \"literature\", \"genre\", \"profanity\", \"slavery\", \"uncensored\", \"abhor\", \"appropriate\", \"romance\", \"maturity\", \"nudity\", \"bookshelf\", \"library\", \"vulgar\", \"religion\", \"graphic\", \"medium\", \"book\", \"explicit\", \"sex\", \"movie\", \"section\", \"ban\", \"content\", \"certain\", \"inappropriate\", \"read\", \"mature\", \"speech\", \"music\", \"public\", \"child\", \"view\", \"drug\", \"item\", \"age\", \"listen\", \"etc\", \"month1\", \"right\", \"adult\", \"opinion\", \"watch\", \"kid\", \"different\", \"person\", \"believe\", \"young\", \"bad\", \"world\", \"away\", \"look\", \"patient\", \"patience\", \"caps11\", \"caps12\", \"caps13\", \"caps14\", \"person4\", \"caps15\", \"ibm\", \"bus\", \"truck\", \"asleep\", \"wake\", \"patiently\", \"stomach\", \"caps17\", \"laugh\", \"person5\", \"pant\", \"deer\", \"shower\", \"chocolate\", \"wet\", \"bust\", \"puppy\", \"hunt\", \"impatient\", \"roller\", \"yell\", \"dentist\", \"wait\", \"dad\", \"clock\", \"seat\", \"time1\", \"brother\", \"funny\", \"mom\", \"sister\", \"smile\", \"scream\", \"caps8\", \"lunch\", \"person3\", \"caps9\", \"person2\", \"caps7\", \"caps10\", \"person1\", \"caps6\", \"line\", \"caps4\", \"minute\", \"date1\", \"caps5\", \"walk\", \"caps3\", \"sit\", \"ask\", \"hour\", \"start\", \"tell\", \"car\", \"little\", \"look\", \"organization1\", \"year\", \"long\", \"feel\", \"try\", \"talk\", \"play\", \"house\", \"coordination\", \"communicate\", \"faraway\", \"google\", \"keyboard\", \"earthquake\", \"chatting\", \"textbook\", \"handwriting\", \"convenient\", \"typing\", \"application\", \"webcam\", \"distant\", \"communication\", \"engine\", \"update\", \"email\", \"dictionary\", \"efficient\", \"program\", \"assignment\", \"handy\", \"instant\", \"com\", \"tool\", \"mail\", \"research\", \"helpful\", \"improve\", \"benefit\", \"website\", \"online\", \"chat\", \"touch\", \"internet\", \"information\", \"computer\", \"positive\", \"project\", \"useful\", \"search\", \"help\", \"hand\", \"learn\", \"easy\", \"society\", \"technology\", \"eye\", \"homework\", \"paper\", \"student\", \"type\", \"talk\", \"job\", \"effect\", \"teach\", \"dear\", \"place\", \"world\", \"school\", \"game\", \"reason\", \"great\", \"work\", \"look\", \"allow\", \"lot\", \"caps3\", \"dirigible\", \"empire\", \"mast\", \"builder\", \"dock\", \"mooring\", \"wind\", \"hydrogen\", \"flammable\", \"frame\", \"york\", \"airship\", \"urban\", \"blimp\", \"helium\", \"architect\", \"moor\", \"tether\", \"swivel\", \"pedestrian\", \"landing\", \"hindenburg\", \"smith\", \"populated\", \"modify\", \"densely\", \"steel\", \"al\", \"dirigibles\", \"docking\", \"shift\", \"building\", \"obstacle\", \"attempt\", \"ship\", \"highly\", \"law\", \"current\", \"safety\", \"state\", \"area\", \"face\", \"low\", \"fly\", \"stress\", \"violent\", \"allow\", \"problem\", \"air\", \"nature\", \"cyclist\", \"water\", \"laughter\", \"setting\", \"hill\", \"desert\", \"rough\", \"heat\", \"terrain\", \"june\", \"dehydrate\", \"snake\", \"journey\", \"laughing\", \"dry\", \"pump\", \"yosemite\", \"kurmanji\", \"rolling\", \"thirsty\", \"bottle\", \"juice\", \"ghost\", \"dehydration\", \"caps16\", \"joe\", \"giggle\", \"heatstroke\", \"pedal\", \"thirst\", \"road\", \"feature\", \"california\", \"exceed\", \"joke\", \"hot\", \"affect\", \"speed\", \"ahead\", \"town\", \"relationship\", \"bike\", \"ride\", \"post\", \"limit\", \"sun\", \"man\", \"old\", \"change\", \"feel\", \"example\", \"effect\", \"hard\", \"exercise\", \"addict\", \"obesity\", \"lazy\", \"obese\", \"addiction\", \"overweight\", \"virus\", \"addicted\", \"predator\", \"exercising\", \"outdoors\", \"unhealthy\", \"health\", \"fat\", \"active\", \"excessive\", \"healthy\", \"bully\", \"spend\", \"interaction\", \"distraction\", \"depression\", \"spending\", \"cancer\", \"distract\", \"suicide\", \"average\", \"interact\", \"activity\", \"negative\", \"screen\", \"outside\", \"computer\", \"waste\", \"nature\", \"enjoy\", \"dear\", \"instead\", \"play\", \"social\", \"kid\", \"bad\", \"effect\", \"percent1\", \"game\", \"reason\", \"sit\", \"hour\", \"cause\", \"stay\", \"child\", \"lot\", \"problem\", \"caps3\", \"talk\", \"technology\", \"online\", \"fun\", \"away\", \"person\", \"memoir\", \"narcs\", \"grateful\", \"rodriguez\", \"cuban\", \"sacrifice\", \"thankful\", \"cuba\", \"immigrant\", \"cooking\", \"loving\", \"gratitude\", \"gratefulness\", \"passionate\", \"celebration\", \"selflessly\", \"culinary\", \"solidarity\", \"congregation\", \"warmth\", \"backdrop\", \"admiration\", \"courageous\", \"mood\", \"blueprints\", \"eternally\", \"generosity\", \"encompass\", \"unity\", \"gracious\", \"happiness\", \"childhood\", \"create\", \"neighborhood\", \"love\", \"happy\", \"blood\", \"describe\", \"warm\", \"kitchen\", \"house\", \"culture\", \"simple\", \"paragraph\", \"forget\", \"care\", \"live\", \"talk\", \"great\", \"grow\", \"feel\", \"tell\", \"music\", \"example\", \"child\", \"sang\", \"hibiscus\", \"plant\", \"spring\", \"geese\", \"flower\", \"bud\", \"melt\", \"vow\", \"adapt\", \"silently\", \"vietnam\", \"ho\", \"bloom\", \"retake\", \"mining\", \"symbolize\", \"sangs\", \"conclude\", \"snow\", \"budding\", \"test\", \"winter\", \"homeland\", \"blossom\", \"familiar\", \"symbol\", \"ending\", \"garden\", \"return\", \"fail\", \"grandmother\", \"season\", \"driver\", \"paragraph\", \"remind\", \"end\", \"pass\", \"represent\", \"mother\", \"try\", \"memory\", \"reader\", \"feel\", \"hope\", \"start\", \"reason\", \"change\", \"country\"], \"Freq\": [20482.0, 13948.0, 7796.0, 6023.0, 4310.0, 7608.0, 3904.0, 2729.0, 5106.0, 3996.0, 3442.0, 2361.0, 2879.0, 2582.0, 4397.0, 3683.0, 3105.0, 2976.0, 2464.0, 1987.0, 4533.0, 4925.0, 2214.0, 2572.0, 3264.0, 3336.0, 6114.0, 1922.0, 2381.0, 2368.0, 5105.695548285035, 3335.6578343242645, 2933.55780071054, 2163.282222544753, 1848.9858992959887, 1464.845821572042, 1143.5649844215031, 609.7596464055885, 334.3761725039091, 2785.433768497328, 229.610972986618, 224.62214002946305, 206.6623411778907, 148.7915208350989, 259.5284653434749, 113.86999911486558, 97.9057225374316, 93.9147340430721, 92.91684475047842, 80.94378399528715, 465.54409734989486, 70.96577745955344, 66.9742794487486, 55.99962784360161, 54.00384806607045, 7478.873356205977, 122.58848045864512, 256.8542215549569, 133.31925355948655, 371.0725794246709, 13501.598472595095, 146.74346505690542, 323.1722371756108, 4261.0340428214, 837.9829117064947, 481.7689173203736, 507.19665553037845, 1835.661560805945, 810.9594313009469, 5361.210859885761, 273.18374065822434, 321.443258568923, 2975.311385506939, 778.4824466186276, 4495.588003719399, 678.2793345357093, 412.94108120624696, 504.274662513417, 1080.0703644480152, 1127.5299310185062, 764.3939300734534, 1908.4340707728984, 2057.7920689245834, 1076.9847155070659, 1138.8103573552912, 1397.7484177895412, 2099.1043424640775, 1537.6695342734563, 1847.0985725124897, 1655.3968060319119, 1007.1737092427268, 1441.296302167976, 1344.9848981929754, 1177.0243667740897, 1189.4984588074376, 3263.9401733892573, 1491.273312965989, 588.028619113942, 329.39041595408105, 328.39570087447476, 285.6209119152929, 281.6416346326991, 277.6628364693873, 266.72015767797916, 239.86168202773013, 141.3802845491089, 133.4223192320147, 300.3901079689605, 129.44343662810917, 126.4587731283726, 119.49560602388554, 4358.7172727767165, 87.66294394760254, 80.6998686859867, 79.70481684844471, 78.71041087027912, 70.75199326690407, 60.80457668864323, 59.809825568455395, 58.81515322704571, 54.83547228312353, 113.52300684418303, 51.85192947073631, 313.078465958746, 50.85722281225861, 2831.1710755004005, 1169.3482216268847, 128.0994004002525, 219.3938565604706, 468.1702465968461, 917.9193522864897, 841.6024165855497, 2011.062020541381, 827.9167466418836, 688.9070030220718, 239.83200213981388, 851.6102371999549, 213.87950426929265, 526.5344901144614, 624.8339422105457, 1263.265635413241, 1120.045192271915, 484.8871087781648, 2737.777942778467, 1456.5940638815903, 922.0354061499596, 2338.894462992994, 835.2423471958563, 1119.752490200166, 1621.961329188134, 1154.8346574642871, 2708.5040538335884, 1260.9113806624891, 1205.8672599670738, 1288.2258014396432, 2058.178879372026, 2142.022742049919, 777.654189974332, 1153.8622371577953, 1551.1035345949488, 1189.9752313801791, 1012.325037844493, 1037.643253889111, 1155.1810287789197, 1088.5441846495664, 1161.8819373000829, 956.1445915671134, 943.0689533477171, 975.7072975304253, 690.243858811368, 266.55715328822083, 142.35568834773636, 84.26137856174634, 53.21120914183274, 52.20937951711147, 50.2062975678969, 50.20623924959867, 47.20086460398027, 105.73922840018626, 56.2131818991508, 168.22460473810497, 75.42562238157157, 435.8913492934073, 99.24389085158337, 88.05225632859383, 409.01548690416985, 50.14490838560996, 51.937138780823844, 241.03865782431578, 134.56008956431378, 56.78295990371905, 182.94724146073193, 128.4780714120987, 183.10526185223708, 331.3777721523567, 773.642144404178, 483.0774237579497, 225.12004929009632, 874.6395950634919, 880.06434308111, 1459.4264482964415, 670.0450372553803, 443.09194466063184, 1189.7618172928237, 1457.4571820953472, 12401.195273711366, 902.514835578766, 584.5886575585495, 273.9137281285126, 415.0887162770368, 3175.439473954319, 1304.4302742110312, 2376.177793103251, 894.3053441574061, 1079.974344306709, 674.5316160367837, 1137.2177590145934, 518.6393524185614, 494.40401815011563, 773.6729989679192, 1024.1204465546214, 2063.838256547923, 661.8017427435456, 1064.1991816392542, 738.8709077564159, 722.5058696006555, 1286.1923981622551, 1197.0123259398135, 1169.714911151175, 933.3592017555284, 1234.4872263402422, 1031.03511990172, 947.618217996583, 1028.197657923413, 866.6594931542006, 826.547188984929, 763.1522624517492, 6022.9528738869, 3441.8830254812738, 2975.6766544287475, 2571.232676995008, 2347.094970855369, 2243.493597515189, 2019.3553297131484, 1368.8585839203315, 868.7825276328615, 860.8129251505216, 846.8667925806117, 798.0546394776811, 764.1848980885269, 662.5758656927604, 561.962955366228, 559.9705626434232, 512.1545837649719, 409.54933777408974, 363.72548619955154, 362.72932894689563, 330.85199605905825, 322.8827689272312, 320.8904120790628, 317.901738215995, 316.9056132251592, 312.92105347689215, 298.9744525443683, 290.00906109222103, 287.02073902015405, 277.05906559128397, 624.5456686201218, 7468.328946327934, 3867.099212236294, 1169.9093920649934, 613.0857939684005, 718.1874382566156, 1334.122519409112, 757.3130723020967, 826.340400467917, 3804.975903051996, 1569.1683609150618, 2402.971358755215, 855.2261064951059, 922.397287751842, 803.4883607547487, 698.9103260410789, 1459.7270637380016, 1342.8248020552844, 821.5216118429596, 744.6019851793357, 3903.179043894531, 2878.676605469201, 2463.901993210746, 2213.2476750918536, 945.0533267093138, 940.0800765226946, 651.6274154493972, 592.9428593487197, 441.75432710716296, 394.01056658734694, 362.1813883206686, 358.20263152166837, 346.2662702419426, 322.3938266336958, 288.5761430779336, 265.6987541370292, 258.73651466316846, 254.7578673260472, 234.86455430990185, 219.94459965202347, 216.96044515860297, 203.0352921365, 200.0511716214511, 174.19022145066825, 174.18878870761188, 153.30231038680486, 150.31727043165773, 139.37704393437608, 130.42492544762405, 128.4357067694856, 1297.167867956638, 1402.8081363528, 394.85595760977185, 451.5473708052234, 563.166489996826, 952.8616842393732, 2055.4499584093255, 588.8097039671248, 393.8142513930809, 809.8405337570694, 621.6912138443247, 450.53337088471096, 879.8180987978823, 419.9816970643215, 537.0336548011314, 339.33248746601663, 509.01364622837997, 712.758330534741, 454.92694965667465, 500.1195308985384, 444.9198617400162, 426.86165075775386, 394.9448244379848, 1637.1153630270667, 297.66855793265955, 217.98786273700745, 202.85811358809573, 184.7033883312688, 94.93617478339084, 93.92722344771141, 80.81532085307411, 64.67758411949461, 49.548326214136225, 46.522491524437434, 99.47189990784446, 149.4235726951384, 385.6760099550103, 136.29843579486374, 146.06669369991664, 74.57491579570319, 342.4358684673428, 80.51022650022723, 2054.4341495293033, 95.16001581871718, 44.44760703057975, 42.883303783824786, 49.89843261477728, 43.478435076466184, 79.5785711993755, 37.627821164054154, 100.23842652261366, 396.9293682524252, 221.4238159648057, 382.39376175953487, 236.0183677473428, 955.2984328722193, 8080.219501393302, 229.17576465846213, 820.5308336283542, 676.5820857013213, 523.6184838516939, 499.774758058136, 806.7188318827621, 273.00137760710106, 1056.996750472566, 929.6296589402937, 658.6952804485494, 281.57754351833387, 595.37352272019, 785.2307454071663, 488.44976342671123, 499.6260636483588, 452.8758912708712, 417.84708129714846, 659.4720796968734, 523.5487391029565, 455.8375531857853, 530.7480417511964, 543.2581146040056, 320.20603830674935, 371.3639106865707, 365.1891160532416, 367.2856733388742, 369.8707077638435, 2581.355727728984, 1921.1332046925377, 1684.4871103126284, 1171.422684178265, 738.8973832802056, 637.477602966642, 395.85958094149436, 354.09900653011925, 353.1045725061453, 319.29783015937824, 256.65641393536936, 232.79302160368522, 194.01492202040777, 185.06597608230683, 173.1343529990498, 153.24818599536178, 140.32214282167126, 133.36196513600947, 131.37326132049034, 128.39016835717734, 123.41884142840287, 118.44720432910208, 112.48128457556982, 4276.855880605607, 108.50418828521137, 108.50415208550598, 106.51556141815031, 105.52119944463506, 104.52677138336635, 101.5438926474823, 614.9001625633844, 379.41132454582316, 1953.3581985060803, 455.3646352774188, 2577.8395479726787, 1523.294837108943, 294.0232230983708, 517.4142182396812, 441.25820126423537, 301.79548810171764, 1147.9472621140605, 493.9240919697115, 466.49757975778806, 908.3228567364034, 423.8542488896645, 400.835398516424, 552.9362611045677, 678.4086319732962, 577.0222343128709, 416.49456144034883, 524.5981072993817, 461.7598249086109, 438.8090099828542, 420.2049689324051, 405.8886393072983, 2360.8990370763886, 1986.8361318120094, 1133.2559869405666, 1060.6323677576486, 876.5855724588572, 794.0129951628933, 661.6982756663331, 495.55858342982145, 375.18206635151967, 298.5784620922257, 264.7535072485288, 198.09913291406082, 194.1195626520412, 169.2483730777373, 133.43400282912725, 125.4751410209083, 125.47491276461757, 120.50097571692015, 1473.7739949769532, 686.9825346389227, 56.8306959031767, 2686.457236529388, 845.5736946444623, 219.74467534808068, 49.866282621239954, 225.82545518214178, 72.30493053376154, 108.0812806202793, 150.3222253073917, 622.9131961400332, 734.0671273653935, 160.75438342848017, 234.15732325279168, 252.24402652925733, 1727.5225118532126, 293.6184567928778, 861.0733919701997, 511.383638905991, 172.1450594233221, 413.78373818188146, 658.1557506504275, 291.8275271643758, 327.10174272551285, 513.8664748049481, 355.66842316077873, 441.8164983515173, 365.5913803226579, 309.33888521341447, 281.6129657202318], \"Total\": [20482.0, 13948.0, 7796.0, 6023.0, 4310.0, 7608.0, 3904.0, 2729.0, 5106.0, 3996.0, 3442.0, 2361.0, 2879.0, 2582.0, 4397.0, 3683.0, 3105.0, 2976.0, 2464.0, 1987.0, 4533.0, 4925.0, 2214.0, 2572.0, 3264.0, 3336.0, 6114.0, 1922.0, 2381.0, 2368.0, 5106.5686963101725, 3336.531039534869, 2934.4311660772573, 2164.155477678986, 1849.8590504548747, 1465.718972741242, 1144.4381803133485, 610.6331385271976, 335.2496027922073, 2795.778112196575, 230.48412542078478, 225.4952932430731, 207.53549741158466, 149.6650478752757, 261.4259048030415, 114.74321917834693, 98.7789558262885, 94.78789015307612, 93.79012501629522, 81.81692651645498, 470.9765470515809, 71.83926162190517, 67.84819412565885, 56.87276563571671, 54.87723341199536, 7608.4649389994265, 124.73457881311991, 261.4291413498229, 135.70212948578597, 378.1737511086802, 13948.497285357562, 149.66565459651088, 332.34561469799235, 4533.7686014861, 879.8956146966381, 501.9227507458804, 529.817725490598, 2002.8971034507563, 867.6598324231791, 6114.730472074066, 284.333369599639, 339.2137504803531, 3601.5846086760143, 871.1848132698236, 5763.34049901736, 789.4608844242478, 450.3862651594844, 569.9719303165243, 1428.9057552920963, 1504.5296861772647, 948.7112324828727, 2916.6581439465695, 3285.623981552587, 1466.3882386132323, 1645.4271365073896, 2223.267320076513, 4067.619743411004, 2637.6175734670437, 3459.1896490127606, 3108.8692646607083, 1477.8476110463057, 3727.1374465513386, 3349.7426516508053, 2867.239188301182, 4268.853028939182, 3264.813750923005, 1492.1468981809237, 588.9025113424937, 330.2642491889777, 329.26948611636845, 286.49469683141723, 282.51564889714876, 278.53659610786684, 267.59420786105414, 240.73562044748763, 142.2541274263675, 134.29602714718803, 302.410784473123, 130.31697601989598, 127.33269144484561, 120.36935157571241, 4397.844431715995, 88.53695324382245, 81.57361169549982, 80.57885171447813, 79.58408751146287, 71.62598999476948, 61.678360796162636, 60.68359817274348, 59.68883641080454, 55.70978676824259, 115.39694886590395, 52.72549754324435, 318.3880360003612, 51.7307349755752, 2965.6153527702377, 1216.0038577914102, 130.33569723413976, 224.8331636856991, 484.5920826708453, 957.3759974543581, 881.5432421477245, 2164.5099300384804, 881.8554888094044, 734.1306522962955, 248.71111772780452, 927.6366272291527, 221.9257169025759, 571.4458378614762, 684.8045720712958, 1467.3617506996704, 1301.4929505295997, 538.5311364889619, 3579.742062106452, 1851.5284120924375, 1131.4661165105897, 3359.230930047444, 1025.2451396956544, 1489.8607783555835, 2397.772437920507, 1579.570549664499, 4546.0322850884, 1837.4139157031411, 1797.6926607343212, 1969.2482116117158, 3682.6721968348015, 3964.1071718807816, 1030.222262671326, 2189.5057048526237, 4268.853028939182, 2548.2778447030987, 1948.112266157951, 2084.973513648591, 3850.918458084396, 3340.3639835514105, 4966.350275288754, 2544.0041185703603, 2395.9067668710877, 976.5800304891306, 691.1170697930759, 267.4299416660385, 143.2285137576637, 85.1342974903189, 54.08393921335817, 53.0823167970635, 51.07906606065683, 51.07906587460761, 48.07418907607483, 109.1911707009252, 58.0831057863194, 175.3236764333351, 79.10391917865776, 467.97125623044434, 107.1210076247749, 96.16019617926567, 447.9865617408473, 55.06989505974095, 57.069098664936874, 266.3561302040725, 149.1850855937761, 63.12351002344097, 205.46733169915512, 145.27382411077167, 207.21830552928554, 375.477562188892, 881.1309390334391, 561.8836897407305, 262.3660294411236, 1056.704582329176, 1078.109936183193, 1831.5370793399181, 821.3700599002474, 534.3424290561426, 1565.631732779438, 1947.520236141072, 20482.16138917898, 1200.1207871450783, 766.3227887042278, 330.57112253248005, 525.2511903411114, 5203.974105158747, 1953.3385891716014, 4130.399028327886, 1358.8632133395224, 1730.507703943721, 1001.802650150315, 1902.8008180605918, 733.1676405500018, 692.0632078945305, 1243.5345447350526, 1844.125556702281, 4966.350275288754, 1071.8108825112104, 2286.715523886098, 1313.2087099986586, 1272.5855411010893, 3372.579915551664, 3349.7426516508053, 3250.867289749308, 2314.668723711527, 4315.2714652641125, 3138.5757347642684, 3006.8070070674257, 4268.853028939182, 3133.85872855725, 3766.5889512437593, 4546.0322850884, 6023.826201573167, 3442.756358498385, 2976.5499954662014, 2572.1060139121546, 2347.9683393169284, 2244.366925365631, 2020.2292518349416, 1369.731911001769, 869.6558549507467, 861.6865156359348, 847.7401712999621, 798.927966543968, 765.0582735730612, 663.4491943876658, 562.8362827131746, 560.8439481067072, 513.0279105984928, 410.42266403325067, 364.59896159704454, 363.6027940683473, 331.7254359703776, 323.7560965570575, 321.7637617726537, 318.7752596467771, 317.7790928384763, 313.7944220729244, 299.84807871135104, 290.8825724432675, 287.89406863310893, 277.9323942084158, 627.5990411961191, 7796.508950576686, 3996.455074324307, 1230.2423201042188, 635.6748143509135, 765.2080119985043, 1495.6382170930458, 817.1050922169549, 906.1681817595158, 4925.462258956207, 2050.8559026471053, 3489.803060582301, 1050.2391174487423, 1180.4141210327048, 971.8207234961843, 816.0491385109365, 3133.85872855725, 2820.642455825893, 1342.3181456099792, 1680.62969271189, 3904.0525636129573, 2879.5504344593373, 2464.7762704851784, 2214.1213798228655, 945.9269949133615, 940.9536841572299, 652.5016293713836, 593.8165548431666, 442.6278898416215, 394.8841012756082, 363.0549088243251, 359.0762602475012, 347.1403137601119, 323.2684198791452, 289.44990190551516, 266.57267164324236, 259.6100335170651, 255.63138446649853, 235.7381396732388, 220.81820532880747, 217.8342186280634, 203.90894686692968, 200.92496143715428, 175.06374120442365, 175.0637440865445, 154.17583368375608, 151.19184755754807, 140.2505620083065, 131.2986016659262, 129.3092772301536, 1306.0504016531124, 1415.489658992626, 398.8846818805488, 462.66286246671325, 592.9749825950173, 1043.4885953072155, 2408.3016669201857, 681.735756748176, 439.79542171456893, 1032.674820286641, 796.1185484658195, 565.6864190233734, 1639.7181658880338, 545.1993646847146, 929.5396859432257, 412.2478566318461, 1016.8160147454993, 2319.343669430521, 1808.6612460179663, 3850.918458084396, 2752.600641032088, 2286.715523886098, 2027.8894823528803, 1637.9873920334583, 298.54061293815374, 218.8596703052005, 203.73037163235838, 185.57522449439247, 95.8080825332056, 94.7994587142189, 81.68740697413249, 65.54949607076531, 50.42020243726286, 47.394344406036275, 101.84928561102637, 153.27856326964064, 398.2428313767314, 144.1322155131356, 161.2569843086948, 82.60725780209677, 387.8357331510234, 91.66178760250958, 2368.5228726605083, 110.82705469824099, 54.345689400957575, 54.32160378709696, 65.37841113084922, 58.3530936401464, 107.54944142101887, 54.28299931011268, 144.8734298732621, 592.704977703884, 333.7537772471985, 597.7680666652849, 364.1192891126716, 1695.0035100281773, 20482.16138917898, 368.9005344613388, 1680.62969271189, 1483.4654963734376, 1272.5855411010893, 1210.752613764926, 2544.0041185703603, 544.7691429392996, 4067.619743411004, 3727.1374465513386, 2286.715523886098, 596.8770681348076, 2314.668723711527, 4315.2714652641125, 1837.4139157031411, 1969.2482116117158, 1714.8743075985376, 1724.6987200524732, 5763.34049901736, 3766.5889512437593, 2820.642455825893, 4546.0322850884, 4966.350275288754, 1001.802650150315, 1831.5370793399181, 1741.73981024916, 2867.239188301182, 3459.1896490127606, 2582.229292862266, 1922.006765422298, 1685.360739310191, 1172.296244814074, 739.7709444639526, 638.3512193972871, 396.7336399298611, 354.97257383721546, 353.97826346168864, 320.1716892230867, 257.53009282842527, 233.66662754577663, 194.88849713031496, 185.93969828910076, 174.00796553774612, 154.12174467003092, 141.19570121300455, 134.2355239636673, 132.24690194940212, 129.2639704878019, 124.29241361811768, 119.32085956249304, 113.35499274127517, 4310.353392349181, 109.37774809264651, 109.37774810744133, 107.38912602805719, 106.39481500654111, 105.40050484284313, 102.41757121648612, 648.3058188161228, 411.9227170716405, 2381.390858349069, 516.3177970927838, 3683.824844588598, 2535.3040834242665, 371.1908631660096, 760.9725660981265, 637.6431410008478, 397.7876634442278, 2395.9067668710877, 815.0643200678664, 807.102859188348, 3105.0539116960335, 999.8612535549255, 919.8944695126685, 2132.3259476742014, 4966.350275288754, 3138.5757347642684, 1328.3697408986407, 3850.918458084396, 3964.1071718807816, 3601.5846086760143, 2752.600641032088, 5763.34049901736, 2361.7725355680686, 1987.709626349146, 1134.1299049296697, 1061.505987507124, 877.4590766713399, 794.8866803728265, 662.5718738427909, 496.43223098958845, 376.05560262276276, 299.45229612478363, 265.62745675544545, 198.97262965214756, 194.9932384789376, 170.12203392490835, 134.3074990857203, 126.34871435590036, 126.34871419348777, 121.3744729607541, 1493.3969338473423, 697.5235508846431, 57.70419052334726, 2729.1544559596864, 859.5447362501368, 224.8364033603176, 51.73802011793531, 234.85648313427305, 76.61636080291561, 116.41103096475581, 162.2166074665441, 679.538838737677, 851.2830900560072, 179.21703436003, 278.6091223755449, 303.4738521042359, 3105.0539116960335, 406.06073164436623, 2307.784396740914, 1120.6468617333576, 202.97404180606964, 1048.5631984564202, 3340.3639835514105, 744.2610491827492, 1030.0130774705374, 3850.918458084396, 1427.47363683518, 3682.6721968348015, 4315.2714652641125, 1808.6612460179663, 1470.2762566531662], \"Category\": [\"Default\", \"Default\", \"Default\", \"Default\", \"Default\", \"Default\", \"Default\", \"Default\", \"Default\", \"Default\", \"Default\", \"Default\", \"Default\", \"Default\", \"Default\", \"Default\", \"Default\", \"Default\", \"Default\", \"Default\", \"Default\", \"Default\", \"Default\", \"Default\", \"Default\", \"Default\", \"Default\", \"Default\", \"Default\", \"Default\", \"Topic1\", \"Topic1\", \"Topic1\", \"Topic1\", \"Topic1\", \"Topic1\", \"Topic1\", \"Topic1\", \"Topic1\", \"Topic1\", \"Topic1\", \"Topic1\", \"Topic1\", \"Topic1\", \"Topic1\", \"Topic1\", \"Topic1\", \"Topic1\", \"Topic1\", \"Topic1\", \"Topic1\", \"Topic1\", \"Topic1\", \"Topic1\", \"Topic1\", \"Topic1\", \"Topic1\", \"Topic1\", \"Topic1\", \"Topic1\", \"Topic1\", \"Topic1\", \"Topic1\", \"Topic1\", \"Topic1\", \"Topic1\", \"Topic1\", \"Topic1\", \"Topic1\", \"Topic1\", \"Topic1\", \"Topic1\", \"Topic1\", \"Topic1\", \"Topic1\", \"Topic1\", \"Topic1\", \"Topic1\", \"Topic1\", \"Topic1\", \"Topic1\", \"Topic1\", \"Topic1\", \"Topic1\", \"Topic1\", \"Topic1\", \"Topic1\", \"Topic1\", \"Topic1\", \"Topic1\", \"Topic1\", \"Topic1\", \"Topic1\", \"Topic1\", \"Topic1\", \"Topic2\", \"Topic2\", \"Topic2\", \"Topic2\", \"Topic2\", \"Topic2\", \"Topic2\", \"Topic2\", \"Topic2\", \"Topic2\", \"Topic2\", \"Topic2\", \"Topic2\", \"Topic2\", \"Topic2\", \"Topic2\", \"Topic2\", \"Topic2\", \"Topic2\", \"Topic2\", \"Topic2\", \"Topic2\", \"Topic2\", \"Topic2\", \"Topic2\", \"Topic2\", \"Topic2\", \"Topic2\", \"Topic2\", \"Topic2\", \"Topic2\", \"Topic2\", \"Topic2\", \"Topic2\", \"Topic2\", \"Topic2\", \"Topic2\", \"Topic2\", \"Topic2\", \"Topic2\", \"Topic2\", \"Topic2\", \"Topic2\", \"Topic2\", \"Topic2\", \"Topic2\", \"Topic2\", \"Topic2\", \"Topic2\", \"Topic2\", \"Topic2\", \"Topic2\", \"Topic2\", \"Topic2\", \"Topic2\", \"Topic2\", \"Topic2\", \"Topic2\", \"Topic2\", \"Topic2\", \"Topic2\", \"Topic2\", \"Topic2\", \"Topic2\", \"Topic2\", \"Topic2\", \"Topic2\", \"Topic2\", \"Topic2\", \"Topic2\", \"Topic2\", \"Topic2\", \"Topic2\", \"Topic3\", \"Topic3\", \"Topic3\", \"Topic3\", \"Topic3\", \"Topic3\", \"Topic3\", \"Topic3\", \"Topic3\", \"Topic3\", \"Topic3\", \"Topic3\", \"Topic3\", \"Topic3\", \"Topic3\", \"Topic3\", \"Topic3\", \"Topic3\", \"Topic3\", \"Topic3\", \"Topic3\", \"Topic3\", \"Topic3\", \"Topic3\", \"Topic3\", \"Topic3\", \"Topic3\", \"Topic3\", \"Topic3\", \"Topic3\", \"Topic3\", \"Topic3\", \"Topic3\", \"Topic3\", \"Topic3\", \"Topic3\", \"Topic3\", \"Topic3\", \"Topic3\", \"Topic3\", \"Topic3\", \"Topic3\", \"Topic3\", \"Topic3\", \"Topic3\", \"Topic3\", \"Topic3\", \"Topic3\", \"Topic3\", \"Topic3\", \"Topic3\", \"Topic3\", \"Topic3\", \"Topic3\", \"Topic3\", \"Topic3\", \"Topic3\", \"Topic3\", \"Topic3\", \"Topic3\", \"Topic3\", \"Topic3\", \"Topic3\", \"Topic3\", \"Topic3\", \"Topic3\", \"Topic3\", \"Topic3\", \"Topic3\", \"Topic4\", \"Topic4\", \"Topic4\", \"Topic4\", \"Topic4\", \"Topic4\", \"Topic4\", \"Topic4\", \"Topic4\", \"Topic4\", \"Topic4\", \"Topic4\", \"Topic4\", \"Topic4\", \"Topic4\", \"Topic4\", \"Topic4\", \"Topic4\", \"Topic4\", \"Topic4\", \"Topic4\", \"Topic4\", \"Topic4\", \"Topic4\", \"Topic4\", \"Topic4\", \"Topic4\", \"Topic4\", \"Topic4\", \"Topic4\", \"Topic4\", \"Topic4\", \"Topic4\", \"Topic4\", \"Topic4\", \"Topic4\", \"Topic4\", \"Topic4\", \"Topic4\", \"Topic4\", \"Topic4\", \"Topic4\", \"Topic4\", \"Topic4\", \"Topic4\", \"Topic4\", \"Topic4\", \"Topic4\", \"Topic4\", \"Topic4\", \"Topic5\", \"Topic5\", \"Topic5\", \"Topic5\", \"Topic5\", \"Topic5\", \"Topic5\", \"Topic5\", \"Topic5\", \"Topic5\", \"Topic5\", \"Topic5\", \"Topic5\", \"Topic5\", \"Topic5\", \"Topic5\", \"Topic5\", \"Topic5\", \"Topic5\", \"Topic5\", \"Topic5\", \"Topic5\", \"Topic5\", \"Topic5\", \"Topic5\", \"Topic5\", \"Topic5\", \"Topic5\", \"Topic5\", \"Topic5\", \"Topic5\", \"Topic5\", \"Topic5\", \"Topic5\", \"Topic5\", \"Topic5\", \"Topic5\", \"Topic5\", \"Topic5\", \"Topic5\", \"Topic5\", \"Topic5\", \"Topic5\", \"Topic5\", \"Topic5\", \"Topic5\", \"Topic5\", \"Topic5\", \"Topic5\", \"Topic5\", \"Topic5\", \"Topic5\", \"Topic5\", \"Topic6\", \"Topic6\", \"Topic6\", \"Topic6\", \"Topic6\", \"Topic6\", \"Topic6\", \"Topic6\", \"Topic6\", \"Topic6\", \"Topic6\", \"Topic6\", \"Topic6\", \"Topic6\", \"Topic6\", \"Topic6\", \"Topic6\", \"Topic6\", \"Topic6\", \"Topic6\", \"Topic6\", \"Topic6\", \"Topic6\", \"Topic6\", \"Topic6\", \"Topic6\", \"Topic6\", \"Topic6\", \"Topic6\", \"Topic6\", \"Topic6\", \"Topic6\", \"Topic6\", \"Topic6\", \"Topic6\", \"Topic6\", \"Topic6\", \"Topic6\", \"Topic6\", \"Topic6\", \"Topic6\", \"Topic6\", \"Topic6\", \"Topic6\", \"Topic6\", \"Topic6\", \"Topic6\", \"Topic6\", \"Topic6\", \"Topic6\", \"Topic6\", \"Topic6\", \"Topic6\", \"Topic6\", \"Topic6\", \"Topic6\", \"Topic6\", \"Topic6\", \"Topic6\", \"Topic6\", \"Topic6\", \"Topic7\", \"Topic7\", \"Topic7\", \"Topic7\", \"Topic7\", \"Topic7\", \"Topic7\", \"Topic7\", \"Topic7\", \"Topic7\", \"Topic7\", \"Topic7\", \"Topic7\", \"Topic7\", \"Topic7\", \"Topic7\", \"Topic7\", \"Topic7\", \"Topic7\", \"Topic7\", \"Topic7\", \"Topic7\", \"Topic7\", \"Topic7\", \"Topic7\", \"Topic7\", \"Topic7\", \"Topic7\", \"Topic7\", \"Topic7\", \"Topic7\", \"Topic7\", \"Topic7\", \"Topic7\", \"Topic7\", \"Topic7\", \"Topic7\", \"Topic7\", \"Topic7\", \"Topic7\", \"Topic7\", \"Topic7\", \"Topic7\", \"Topic7\", \"Topic7\", \"Topic7\", \"Topic7\", \"Topic7\", \"Topic7\", \"Topic7\", \"Topic7\", \"Topic7\", \"Topic7\", \"Topic7\", \"Topic7\", \"Topic8\", \"Topic8\", \"Topic8\", \"Topic8\", \"Topic8\", \"Topic8\", \"Topic8\", \"Topic8\", \"Topic8\", \"Topic8\", \"Topic8\", \"Topic8\", \"Topic8\", \"Topic8\", \"Topic8\", \"Topic8\", \"Topic8\", \"Topic8\", \"Topic8\", \"Topic8\", \"Topic8\", \"Topic8\", \"Topic8\", \"Topic8\", \"Topic8\", \"Topic8\", \"Topic8\", \"Topic8\", \"Topic8\", \"Topic8\", \"Topic8\", \"Topic8\", \"Topic8\", \"Topic8\", \"Topic8\", \"Topic8\", \"Topic8\", \"Topic8\", \"Topic8\", \"Topic8\", \"Topic8\", \"Topic8\", \"Topic8\", \"Topic8\", \"Topic8\", \"Topic8\", \"Topic8\", \"Topic8\", \"Topic8\"], \"logprob\": [30.0, 29.0, 28.0, 27.0, 26.0, 25.0, 24.0, 23.0, 22.0, 21.0, 20.0, 19.0, 18.0, 17.0, 16.0, 15.0, 14.0, 13.0, 12.0, 11.0, 10.0, 9.0, 8.0, 7.0, 6.0, 5.0, 4.0, 3.0, 2.0, 1.0, -3.6034, -4.0291, -4.1576, -4.4622, -4.6191, -4.852, -5.0996, -5.7285, -6.3293, -4.2094, -6.7051, -6.7271, -6.8104, -7.139, -6.5827, -7.4065, -7.5575, -7.5991, -7.6098, -7.7478, -5.9983, -7.8793, -7.9372, -8.1162, -8.1525, -3.2217, -7.3327, -6.593, -7.2488, -6.2251, -2.631, -7.1528, -6.3633, -3.7843, -5.4105, -5.9641, -5.9126, -4.6264, -5.4433, -3.5546, -6.5314, -6.3687, -4.1434, -5.4842, -3.7307, -5.622, -6.1182, -5.9184, -5.1568, -5.1137, -5.5024, -4.5875, -4.5121, -5.1596, -5.1038, -4.8989, -4.4923, -4.8035, -4.6202, -4.7297, -5.2266, -4.8682, -4.9374, -5.0708, -5.0602, -3.9978, -4.7811, -5.7117, -6.2913, -6.2943, -6.4338, -6.4479, -6.4621, -6.5023, -6.6084, -7.1371, -7.195, -6.3834, -7.2253, -7.2486, -7.3052, -3.7086, -7.615, -7.6978, -7.7102, -7.7227, -7.8293, -7.9808, -7.9973, -8.0141, -8.0842, -7.3565, -8.1401, -6.3421, -8.1595, -4.1401, -5.0243, -7.2357, -6.6976, -5.9397, -5.2664, -5.3532, -4.4821, -5.3696, -5.5534, -6.6086, -5.3414, -6.7231, -5.8222, -5.651, -4.9471, -5.0674, -5.9046, -4.1736, -4.8047, -5.2619, -4.3311, -5.3608, -5.0676, -4.6971, -5.0368, -4.1844, -4.9489, -4.9936, -4.9275, -4.4589, -4.419, -5.4322, -5.0376, -4.7418, -5.0068, -5.1685, -5.1438, -5.0365, -5.0959, -5.0307, -5.2256, -5.2394, -4.8412, -5.1873, -6.1388, -6.766, -7.2905, -7.7501, -7.7691, -7.8082, -7.8082, -7.87, -7.0634, -7.6952, -6.5991, -7.4012, -5.647, -7.1268, -7.2464, -5.7106, -7.8095, -7.7743, -6.2394, -6.8224, -7.6851, -6.5152, -6.8686, -6.5143, -5.9211, -5.0733, -5.5442, -6.3077, -4.9506, -4.9444, -4.4386, -5.217, -5.6306, -4.6429, -4.4399, -2.2988, -4.9192, -5.3535, -6.1116, -5.6959, -3.6612, -4.5509, -3.9511, -4.9283, -4.7397, -5.2104, -4.688, -5.4732, -5.521, -5.0732, -4.7928, -4.0921, -5.2294, -4.7544, -5.1193, -5.1417, -4.5649, -4.6368, -4.6599, -4.8856, -4.606, -4.7861, -4.8704, -4.7888, -4.9597, -5.0071, -5.0869, -2.9274, -3.487, -3.6325, -3.7786, -3.8698, -3.9149, -4.0202, -4.409, -4.8636, -4.8728, -4.8892, -4.9485, -4.9919, -5.1346, -5.2993, -5.3028, -5.3921, -5.6157, -5.7343, -5.7371, -5.8291, -5.8534, -5.8596, -5.869, -5.8721, -5.8848, -5.9304, -5.9608, -5.9712, -6.0065, -5.1937, -2.7123, -3.3705, -4.566, -5.2122, -5.054, -4.4347, -5.0009, -4.9137, -3.3867, -4.2724, -3.8463, -4.8794, -4.8037, -4.9418, -5.0812, -4.3447, -4.4282, -4.9196, -5.0179, -3.0095, -3.314, -3.4696, -3.5768, -4.4278, -4.4331, -4.7996, -4.894, -5.1883, -5.3027, -5.3869, -5.398, -5.4319, -5.5033, -5.6141, -5.6967, -5.7233, -5.7387, -5.8201, -5.8857, -5.8993, -5.9657, -5.9805, -6.1189, -6.1189, -6.2466, -6.2663, -6.3419, -6.4083, -6.4236, -4.1111, -4.0328, -5.3005, -5.1664, -4.9455, -4.4196, -3.6508, -4.901, -5.3032, -4.5822, -4.8466, -5.1686, -4.4993, -5.2388, -4.993, -5.4521, -5.0466, -4.7099, -5.1589, -5.0642, -5.1812, -5.2226, -5.3003, -3.7895, -5.4942, -5.8058, -5.8777, -5.9714, -6.637, -6.6477, -6.798, -7.0208, -7.2872, -7.3503, -6.5903, -6.1834, -5.2352, -6.2754, -6.2061, -6.8784, -5.3541, -6.8018, -3.5624, -6.6346, -7.3959, -7.4317, -7.2802, -7.4179, -6.8135, -7.5625, -6.5826, -5.2064, -5.7901, -5.2437, -5.7263, -4.3282, -2.193, -5.7557, -4.4802, -4.6731, -4.9294, -4.976, -4.4972, -5.5807, -4.227, -4.3554, -4.6999, -5.5498, -4.801, -4.5242, -4.999, -4.9763, -5.0746, -5.1551, -4.6988, -4.9296, -5.0681, -4.9159, -4.8926, -5.4212, -5.273, -5.2898, -5.2841, -5.277, -3.2153, -3.5107, -3.6422, -4.0054, -4.4662, -4.6139, -5.0903, -5.2018, -5.2046, -5.3053, -5.5236, -5.6212, -5.8034, -5.8507, -5.9173, -6.0393, -6.1274, -6.1783, -6.1933, -6.2163, -6.2558, -6.2969, -6.3486, -2.7104, -6.3846, -6.3846, -6.4031, -6.4125, -6.4219, -6.4509, -4.6499, -5.1328, -3.4941, -4.9503, -3.2167, -3.7427, -5.3877, -4.8225, -4.9817, -5.3616, -4.0256, -4.869, -4.9261, -4.2598, -5.022, -5.0778, -4.7561, -4.5516, -4.7135, -5.0395, -4.8087, -4.9363, -4.9873, -5.0306, -5.0653, -2.9679, -3.1404, -3.7019, -3.7681, -3.9587, -4.0576, -4.2399, -4.5291, -4.8073, -5.0357, -5.1559, -5.446, -5.4663, -5.6034, -5.8411, -5.9026, -5.9026, -5.9431, -3.4392, -4.2024, -6.6947, -2.8388, -3.9947, -5.3423, -6.8254, -5.315, -6.4538, -6.0519, -5.722, -4.3003, -4.1361, -5.6549, -5.2787, -5.2043, -3.2803, -5.0525, -3.9766, -4.4976, -5.5864, -4.7094, -4.2453, -5.0586, -4.9445, -4.4928, -4.8607, -4.6438, -4.8332, -5.0003, -5.0942], \"loglift\": [30.0, 29.0, 28.0, 27.0, 26.0, 25.0, 24.0, 23.0, 22.0, 21.0, 20.0, 19.0, 18.0, 17.0, 16.0, 15.0, 14.0, 13.0, 12.0, 11.0, 10.0, 9.0, 8.0, 7.0, 6.0, 5.0, 4.0, 3.0, 2.0, 1.0, 1.5266, 1.5266, 1.5265, 1.5264, 1.5263, 1.5262, 1.5261, 1.5254, 1.5242, 1.5231, 1.523, 1.5229, 1.5226, 1.521, 1.5195, 1.5192, 1.5179, 1.5176, 1.5175, 1.5161, 1.5152, 1.5146, 1.5139, 1.5113, 1.5108, 1.5096, 1.5095, 1.5092, 1.5091, 1.5079, 1.4943, 1.5071, 1.4988, 1.4648, 1.478, 1.4858, 1.4832, 1.4396, 1.4592, 1.3953, 1.4868, 1.473, 1.3358, 1.4143, 1.2784, 1.375, 1.44, 1.4044, 1.2469, 1.2384, 1.3108, 1.1027, 1.0589, 1.2182, 1.1588, 1.0627, 0.8653, 0.9872, 0.8994, 0.8966, 1.1434, 0.5767, 0.6143, 0.6365, 0.249, 1.5796, 1.5793, 1.5784, 1.5772, 1.5772, 1.5768, 1.5767, 1.5767, 1.5766, 1.5762, 1.5737, 1.5733, 1.5731, 1.5731, 1.573, 1.5726, 1.5709, 1.5699, 1.5691, 1.5689, 1.5688, 1.5676, 1.5656, 1.5653, 1.5651, 1.564, 1.5635, 1.5631, 1.563, 1.5628, 1.5334, 1.5407, 1.5625, 1.5554, 1.5454, 1.5378, 1.5335, 1.5063, 1.5167, 1.5163, 1.5435, 1.4943, 1.5429, 1.498, 1.4882, 1.4301, 1.4297, 1.4749, 1.3117, 1.3399, 1.3752, 1.2178, 1.3749, 1.2943, 1.1889, 1.2666, 1.062, 1.2033, 1.1805, 1.1555, 0.998, 0.9643, 1.2986, 0.9393, 0.5675, 0.8184, 0.9252, 0.882, 0.3758, 0.4586, 0.1272, 0.6013, 0.6475, 1.9431, 1.9427, 1.9407, 1.9379, 1.9337, 1.9277, 1.9274, 1.9267, 1.9267, 1.9256, 1.9119, 1.9113, 1.9026, 1.8964, 1.873, 1.8676, 1.8559, 1.853, 1.8503, 1.8497, 1.8441, 1.8408, 1.8381, 1.8279, 1.8211, 1.8203, 1.819, 1.8139, 1.7929, 1.7909, 1.7549, 1.741, 1.7169, 1.7403, 1.7567, 1.6694, 1.6541, 1.4422, 1.659, 1.6733, 1.756, 1.7086, 1.45, 1.5402, 1.3911, 1.5256, 1.4725, 1.5484, 1.4292, 1.5978, 1.6077, 1.4694, 1.3558, 1.0659, 1.4618, 1.1791, 1.3689, 1.3779, 0.98, 0.9149, 0.9218, 1.0357, 0.6925, 0.8308, 0.7893, 0.5204, 0.6586, 0.4273, 0.1594, 2.0375, 2.0374, 2.0373, 2.0373, 2.0373, 2.0372, 2.0372, 2.037, 2.0366, 2.0366, 2.0366, 2.0365, 2.0365, 2.0363, 2.0361, 2.0361, 2.0359, 2.0355, 2.0352, 2.0352, 2.035, 2.0349, 2.0349, 2.0349, 2.0349, 2.0348, 2.0347, 2.0346, 2.0346, 2.0345, 2.0327, 1.9946, 2.0047, 1.9873, 2.0014, 1.9742, 1.9233, 1.9616, 1.9454, 1.7795, 1.7699, 1.6645, 1.8322, 1.791, 1.8474, 1.8827, 1.2736, 1.2954, 1.5466, 1.2236, 2.3891, 2.389, 2.3889, 2.3889, 2.3884, 2.3884, 2.388, 2.3878, 2.3873, 2.3871, 2.3869, 2.3869, 2.3868, 2.3866, 2.3863, 2.386, 2.3859, 2.3859, 2.3856, 2.3853, 2.3853, 2.385, 2.3849, 2.3843, 2.3843, 2.3836, 2.3835, 2.383, 2.3826, 2.3825, 2.3825, 2.3803, 2.3791, 2.365, 2.3377, 2.2984, 2.2309, 2.2428, 2.2789, 2.1462, 2.142, 2.1617, 1.7667, 2.1284, 1.8407, 2.1946, 1.6973, 1.2094, 1.0091, 0.3481, 0.5669, 0.7109, 0.7533, 2.4776, 2.4752, 2.4742, 2.4739, 2.4734, 2.469, 2.4689, 2.4674, 2.4648, 2.4607, 2.4596, 2.4545, 2.4527, 2.4461, 2.4223, 2.3792, 2.3759, 2.3537, 2.3484, 2.3359, 2.3257, 2.2771, 2.2417, 2.208, 2.1839, 2.1769, 2.1117, 2.1098, 2.0772, 2.0678, 2.0314, 2.0446, 1.9047, 1.548, 2.0021, 1.7612, 1.6931, 1.5901, 1.5933, 1.3296, 1.7873, 1.1305, 1.0895, 1.2335, 1.7269, 1.1203, 0.7742, 1.1533, 1.1066, 1.1467, 1.0605, 0.3103, 0.5049, 0.6556, 0.3304, 0.2653, 1.3376, 0.8824, 0.9159, 0.4232, 0.2425, 2.5966, 2.5965, 2.5965, 2.5962, 2.5958, 2.5956, 2.5948, 2.5945, 2.5945, 2.5942, 2.5936, 2.5932, 2.5925, 2.5923, 2.5919, 2.5913, 2.5908, 2.5904, 2.5903, 2.5902, 2.5899, 2.5896, 2.5892, 2.5892, 2.589, 2.589, 2.5888, 2.5887, 2.5887, 2.5884, 2.5441, 2.5148, 2.3988, 2.4714, 2.24, 2.0875, 2.3639, 2.2112, 2.2288, 2.3208, 1.8612, 2.0961, 2.0488, 1.3678, 1.7387, 1.7663, 1.2473, 0.6063, 0.9033, 1.4371, 0.6035, 0.447, 0.4919, 0.7174, -0.0562, 2.9332, 2.9332, 2.9328, 2.9328, 2.9326, 2.9325, 2.9323, 2.9318, 2.9313, 2.9307, 2.9303, 2.9292, 2.9291, 2.9285, 2.9271, 2.9267, 2.9267, 2.9264, 2.9204, 2.9184, 2.9184, 2.9178, 2.9172, 2.9107, 2.8968, 2.8944, 2.8757, 2.8594, 2.8575, 2.8466, 2.7855, 2.8249, 2.7598, 2.7487, 2.3473, 2.6094, 1.9477, 2.1491, 2.7689, 2.0038, 1.3092, 1.9974, 1.7866, 0.9195, 1.5439, 0.8131, 0.4652, 1.1677, 1.2809]}, \"token.table\": {\"Topic\": [1, 1, 3, 6, 1, 2, 3, 5, 6, 8, 6, 6, 6, 7, 1, 2, 3, 6, 1, 3, 4, 5, 6, 1, 2, 3, 4, 6, 7, 1, 2, 3, 5, 2, 3, 4, 5, 6, 7, 4, 4, 1, 3, 4, 5, 6, 7, 8, 3, 7, 1, 3, 6, 4, 1, 3, 4, 5, 6, 8, 1, 2, 3, 5, 6, 2, 1, 3, 1, 4, 5, 8, 1, 3, 5, 6, 1, 2, 3, 4, 5, 6, 7, 8, 7, 1, 2, 3, 4, 5, 6, 7, 8, 1, 4, 6, 1, 2, 3, 5, 6, 7, 8, 1, 3, 6, 7, 2, 5, 6, 4, 1, 2, 6, 7, 8, 1, 8, 7, 1, 3, 1, 5, 2, 3, 6, 8, 8, 4, 4, 5, 1, 6, 2, 2, 3, 5, 1, 2, 3, 6, 2, 3, 2, 2, 2, 2, 2, 5, 2, 1, 2, 3, 4, 6, 7, 1, 2, 3, 6, 1, 2, 3, 6, 1, 2, 3, 6, 1, 2, 3, 6, 2, 3, 2, 3, 1, 2, 3, 5, 1, 2, 3, 6, 7, 8, 1, 2, 4, 5, 6, 8, 7, 1, 1, 1, 3, 4, 5, 6, 7, 8, 1, 2, 3, 4, 5, 6, 7, 8, 3, 6, 3, 1, 2, 3, 6, 7, 1, 3, 6, 7, 2, 2, 6, 2, 3, 6, 3, 3, 6, 3, 6, 3, 8, 7, 1, 2, 3, 6, 7, 3, 7, 3, 1, 3, 4, 6, 7, 8, 7, 1, 3, 4, 6, 7, 7, 7, 7, 1, 3, 7, 8, 1, 3, 4, 5, 2, 3, 6, 1, 2, 3, 4, 5, 6, 1, 3, 6, 2, 5, 5, 4, 2, 1, 5, 6, 7, 8, 1, 4, 5, 7, 8, 5, 1, 3, 1, 2, 3, 4, 5, 6, 7, 8, 4, 4, 3, 7, 1, 2, 6, 1, 5, 6, 4, 4, 2, 3, 8, 1, 6, 5, 3, 1, 2, 3, 4, 5, 6, 7, 8, 1, 3, 4, 5, 6, 1, 3, 4, 3, 6, 4, 7, 1, 2, 3, 4, 5, 6, 7, 8, 1, 5, 8, 3, 5, 1, 2, 3, 5, 6, 7, 1, 3, 5, 6, 7, 8, 7, 1, 2, 3, 4, 5, 6, 7, 8, 5, 6, 1, 5, 6, 6, 6, 1, 3, 7, 1, 2, 3, 5, 6, 8, 1, 2, 3, 4, 5, 6, 7, 8, 3, 4, 6, 8, 3, 6, 8, 3, 1, 5, 6, 3, 5, 1, 2, 3, 5, 6, 7, 8, 4, 8, 2, 3, 4, 6, 8, 1, 2, 3, 4, 5, 6, 7, 8, 4, 1, 1, 2, 3, 6, 7, 1, 2, 3, 1, 2, 3, 6, 4, 6, 8, 8, 7, 1, 5, 5, 3, 7, 3, 6, 8, 1, 3, 7, 7, 7, 1, 2, 3, 4, 5, 6, 7, 8, 1, 2, 3, 5, 6, 7, 8, 1, 2, 3, 4, 5, 7, 3, 1, 3, 6, 5, 7, 1, 2, 3, 5, 6, 7, 8, 1, 2, 3, 4, 5, 6, 7, 8, 1, 5, 6, 1, 3, 5, 6, 5, 5, 4, 1, 2, 3, 4, 5, 6, 7, 8, 1, 3, 6, 7, 8, 1, 3, 4, 6, 5, 4, 8, 7, 8, 2, 3, 6, 1, 2, 3, 4, 5, 6, 7, 8, 2, 3, 5, 2, 3, 4, 5, 6, 1, 2, 3, 6, 7, 2, 4, 2, 7, 2, 4, 1, 2, 3, 4, 6, 8, 1, 6, 1, 3, 5, 6, 7, 1, 3, 6, 1, 2, 3, 4, 5, 6, 7, 8, 3, 6, 1, 3, 6, 1, 3, 6, 1, 2, 3, 5, 6, 1, 2, 3, 4, 6, 7, 8, 5, 1, 5, 6, 5, 5, 5, 1, 3, 1, 2, 3, 6, 7, 2, 6, 7, 5, 4, 2, 5, 5, 5, 1, 3, 4, 6, 6, 1, 2, 3, 5, 6, 7, 8, 1, 1, 3, 1, 5, 6, 1, 2, 3, 4, 5, 6, 7, 8, 1, 2, 3, 5, 6, 7, 1, 6, 1, 2, 3, 4, 5, 6, 7, 8, 1, 2, 3, 4, 5, 6, 7, 8, 1, 2, 3, 4, 5, 6, 7, 8, 1, 2, 3, 4, 5, 6, 7, 8, 1, 2, 3, 4, 5, 6, 7, 8, 1, 2, 3, 6, 7, 8, 7, 1, 3, 4, 5, 6, 2, 3, 6, 1, 3, 2, 3, 6, 1, 2, 3, 4, 5, 6, 7, 4, 1, 1, 8, 1, 1, 3, 4, 6, 8, 7, 3, 5, 6, 7, 8, 8, 2, 3, 5, 6, 4, 2, 3, 6, 8, 1, 2, 3, 5, 6, 7, 8, 5, 7, 4, 4, 1, 2, 3, 4, 6, 7, 8, 1, 2, 3, 6, 1, 2, 3, 6, 7, 7, 1, 4, 5, 6, 8, 1, 3, 5, 6, 7, 5, 6, 7, 1, 6, 6, 4, 8, 1, 1, 1, 2, 3, 5, 6, 7, 8, 3, 6, 1, 3, 5, 6, 7, 1, 2, 3, 4, 5, 6, 7, 3, 6, 1, 2, 3, 4, 5, 6, 6, 2, 1, 2, 3, 6, 4, 7, 8, 1, 2, 3, 4, 5, 6, 7, 8, 7, 1, 2, 2, 2, 5, 4, 1, 3, 6, 1, 2, 3, 5, 6, 7, 8, 1, 2, 3, 4, 5, 6, 7, 1, 2, 3, 5, 6, 7, 2, 3, 6, 2, 2, 1, 2, 3, 4, 5, 6, 7, 8, 8, 1, 2, 3, 4, 5, 6, 7, 4, 1, 3, 5, 6, 7, 8, 1, 3, 4, 5, 6, 6, 1, 2, 3, 4, 5, 6, 7, 8, 1, 1, 2, 3, 6, 1, 3, 4, 1, 2, 3, 4, 6, 5, 2, 1, 1, 2, 3, 5, 6, 7, 8, 1, 3, 5, 6, 7, 8, 1, 2, 3, 4, 5, 6, 7, 8, 3, 5, 6, 7, 8, 1, 3, 1, 2, 3, 5, 6, 7, 8, 1, 1, 7, 8, 1, 3, 6, 8, 1, 2, 8, 2, 3, 5, 6, 1, 2, 3, 4, 5, 6, 7, 8, 3, 5, 7, 2, 5, 1, 5, 7, 1, 2, 3, 4, 6, 8, 8, 1, 2, 3, 6, 8, 1, 2, 5, 1, 2, 3, 6, 1, 2, 3, 5, 2, 6, 8, 1, 2, 1, 5, 7, 7, 5, 1, 6, 1, 3, 4, 3, 4, 2, 8, 1, 2, 3, 6, 7, 1, 2, 3, 6, 1, 2, 3, 6, 1, 2, 5, 7, 4, 5, 6, 8, 3, 6, 1, 3, 6, 7, 1, 2, 6, 8, 3, 4, 5, 2, 3, 4, 6, 8, 2, 3, 6, 7, 8, 1, 2, 3, 4, 5, 6, 7, 8, 1, 3, 4, 5, 6, 7, 8, 1, 2, 3, 4, 5, 6, 7, 8, 4, 2, 1, 3, 4, 5, 6, 7, 8, 1, 2, 3, 6, 1, 6, 2, 5, 6, 4, 1, 8, 8, 1, 2, 3, 4, 5, 6, 7, 8, 1, 2, 3, 6, 7, 8, 3, 4, 6, 1, 2, 3, 4, 5, 6, 7, 8, 5, 3, 8, 4, 3, 7, 5, 5, 2, 3, 6, 1, 3, 5, 8, 1, 2, 3, 4, 6, 7, 8, 1, 2, 3, 4, 5, 6, 2, 1, 2, 3, 4, 5, 6, 7, 8, 1, 3, 5, 6, 7, 3, 6, 1, 3, 6, 7, 1, 3, 6, 4, 1, 3, 4, 6, 8, 1, 2, 3, 5, 6, 7, 8, 1, 1, 4, 6, 8, 1, 6, 2, 3, 8, 2, 5, 1, 2, 3, 4, 6, 8, 2, 5, 6, 7, 8, 7, 1, 2, 3, 6, 1, 2, 3, 6, 8, 5, 3, 6, 3, 6, 2, 4, 7, 8, 1, 2, 3, 4, 5, 6, 7, 8, 1, 2, 3, 4, 5, 6, 7, 8, 1, 2, 3, 5, 6, 7, 8, 2, 6, 4, 5, 1, 2, 3, 5, 6, 7, 8], \"Freq\": [0.990015189383939, 0.01860384536434769, 0.07441538145739077, 0.9053871410649209, 0.11984883086543631, 0.047939532346174527, 0.14381859703852357, 0.020973545401451354, 0.6621647905315357, 0.9984895887236905, 0.9981891477583797, 0.9916170816908784, 0.9915656120878368, 0.9889301873340826, 0.7344576092744184, 0.017048691023083064, 0.11524915131604152, 0.1322978423391246, 0.04442964993535676, 0.021176749034609296, 0.005813225225186866, 0.8532984169827863, 0.07515669755420162, 0.7558231156954273, 0.041990173094190404, 0.06788411316894115, 0.013296888146493628, 0.07558231156954273, 0.044789517967136434, 0.03865433599495983, 0.03183298258408457, 0.03183298258408457, 0.8958710812949514, 0.09908232294629515, 0.0037248993588832767, 0.6123734546004107, 0.016389557179086415, 0.12292167884314813, 0.14601605486822444, 0.9988384853418235, 0.9969658806443633, 0.23293966423817508, 0.2766557382116408, 0.46587932847635016, 0.007339194900654831, 0.002871858874169282, 0.008615576622507845, 0.00542462231787531, 0.9641357713552218, 0.017216710202771816, 0.9894335565481228, 0.006369743926275469, 0.004246495950850313, 0.998495217592066, 0.1375035660165171, 0.032669286961371086, 0.7650464364536005, 0.05509894666619302, 0.004388411681378206, 0.005363614277240029, 0.1401796900572888, 0.6708599452741679, 0.08900297781415163, 0.047282831963768056, 0.052289249465814085, 0.9903494751503886, 0.09384316095860504, 0.904916194957977, 0.01625695984698829, 0.951032151048815, 0.021134047801084778, 0.011379871892891804, 0.034512884829013095, 0.23468761683728906, 0.034512884829013095, 0.6902576965802619, 0.41049941169971377, 0.1621769128635233, 0.2364644019816533, 0.010811794190901553, 0.019182215499986624, 0.12799769251809257, 0.009067956418175495, 0.023716193709074372, 0.9896018302284437, 0.3866237885413468, 0.14515160971607816, 0.04829443576505373, 0.06814881491290915, 0.08532016985159492, 0.2495212514527776, 0.005097745997422338, 0.012073608941263433, 0.9603071374703094, 0.025900399973265605, 0.011954030756891817, 0.5323478921461244, 0.07559018408117175, 0.17144497070325337, 0.03216603577922202, 0.10646957842922489, 0.018012980036364333, 0.0636887508428596, 0.017980427375568316, 0.8280459975590672, 0.15046778698501906, 0.003785353131698593, 0.11136912232887974, 0.7972614947670598, 0.09015595617099788, 0.9993229407896405, 0.07543289121175759, 0.09159708218570564, 0.03771644560587879, 0.7920453577234547, 0.9934045349739727, 0.019328145872619964, 0.9664072936309982, 0.9965463899263446, 0.9679895779292101, 0.03197477053447102, 0.9840146203178746, 0.9961703967663236, 0.9588709163807553, 0.017756868821865838, 0.02193495560348133, 0.9991368878375804, 0.9877965444630518, 0.9995699967628969, 0.9578646093194843, 0.04194184885477656, 0.10909671588955804, 0.88368339870542, 0.9969442808416958, 0.9887350421971102, 0.007520970687208262, 0.9902611404824212, 0.034274103997530274, 0.06854820799506055, 0.1370964159901211, 0.7368932359469009, 0.9005978803046254, 0.09841585083741267, 0.9984674690205748, 0.9961720071364603, 0.9961445376207141, 0.9982732775269891, 0.9980735166747746, 0.9939236756754236, 0.988623752161271, 0.10074719475756955, 0.595904258948157, 0.16783866724896412, 0.003959496737197057, 0.11680515374731316, 0.014738126744011265, 0.08007785281859166, 0.6962903261809885, 0.14050835141403445, 0.08305472467058392, 0.06756270838632884, 0.6764611913742308, 0.1543098895243313, 0.10134406257949327, 0.019983490265853276, 0.7869174410094115, 0.13880424319795384, 0.054549527482464354, 0.015366967598143084, 0.8605501854960127, 0.10372703128746583, 0.01997705787758601, 0.9184630867206278, 0.08085062383104118, 0.9126691402038866, 0.0861559668352469, 0.005823985966331415, 0.7551768469676402, 0.09027178247813694, 0.1485116421414511, 0.18371672577782858, 0.21741624352405747, 0.010870812176202874, 0.10544687810916788, 0.43591956826573525, 0.046744492357672356, 0.19534959414554687, 0.03148918831002845, 0.27523883115432274, 0.21984118505334677, 0.26415930193412757, 0.013412061687604709, 0.9942073597916559, 0.9995094743572178, 0.9995356130216173, 0.9166721529712074, 0.041939248828748055, 0.010984088978957824, 0.0009985535435416202, 0.010484812207187014, 0.013979749609582684, 0.004992767717708102, 0.20180672351088474, 0.08127558453726043, 0.0724292624107559, 0.10670876065096097, 0.25156728547247276, 0.07851110887272776, 0.03759686903764428, 0.17084459606811886, 0.8157102781191821, 0.18383918208357686, 0.9796105961011224, 0.7801031364998408, 0.005899356459295948, 0.029149761328285863, 0.11434340901988324, 0.07044525654335751, 0.03398695779520496, 0.0072829195275439206, 0.03398695779520496, 0.9200755003130486, 0.9912602953925636, 0.9820793743870198, 0.007672495112398592, 0.03441776266719245, 0.8810947242801268, 0.07571907786782339, 0.9983836750068836, 0.9316811539068104, 0.06624338479612643, 0.6054536806135913, 0.39448961691458895, 0.012722672431803863, 0.9870115349725734, 0.9905714090007252, 0.9569328763595643, 0.013212090995102465, 0.013212090995102465, 0.0037748831414578473, 0.01132464942437354, 0.9776555965535896, 0.9963404346401462, 0.9994060594410884, 0.1707162166730209, 0.34211257763557573, 0.03604764734529923, 0.04148880166157082, 0.21764617265086328, 0.19180068964857327, 0.9880464661634459, 0.0667677040258015, 0.041572344016065084, 0.05668956002190693, 0.013857448005355027, 0.8201089683169203, 0.9972601437156059, 0.9989578605787076, 0.9915316032801824, 0.15826971789080252, 0.21102629052107003, 0.6060871367291197, 0.023311043720350758, 0.024476655684198906, 0.04895331136839781, 0.9264414176469287, 0.9997303920488244, 0.9613456343166692, 0.027138071798503065, 0.010690755556986056, 0.04631305220086265, 0.7517480936951618, 0.08457166054070571, 0.026176942548313674, 0.01476648041186925, 0.07651721667968611, 0.020430846619162286, 0.5681346963713205, 0.41176013955542456, 0.9928163320503843, 0.9970943546039877, 0.9939236920386529, 0.9974683359006943, 0.9858742587763305, 0.09204441053685629, 0.03681776421474252, 0.791581930616964, 0.01840888210737126, 0.05522664632211377, 0.056506636264802214, 0.08410290048714748, 0.14192364457206139, 0.6793937429977382, 0.03679501896312703, 0.9989864706698247, 0.07263496681191635, 0.9079370851489543, 0.5831019687885837, 0.07241383357517522, 0.1929771795275612, 0.012132160598982235, 0.03980865196541046, 0.01023651050539126, 0.05535298273285645, 0.03450083170335573, 0.9998628443873512, 0.99689445275009, 0.9481199007423516, 0.03792479602969406, 0.046490246103898666, 0.20455708285715413, 0.7438439376623787, 0.1104043405491196, 0.07360289369941307, 0.8096318306935438, 0.9995875841676766, 0.9966452481688168, 0.14498777965518778, 0.023066237672416237, 0.8303845562069846, 0.9169906632338228, 0.08215170590714635, 0.9984456657177863, 0.9799582051691521, 0.09272456474139457, 0.08978092776547728, 0.6579028641175139, 0.039739099174883386, 0.07874228910578744, 0.022077277319379657, 0.008830910927751864, 0.010302729415710508, 0.04854123691405392, 0.4652961808698502, 0.011370019457345963, 0.18673070416487408, 0.28818626239965345, 0.035045235456448436, 0.9111761218676594, 0.035045235456448436, 0.9129738142382039, 0.08482397296100672, 0.9997803043783455, 0.9962891518114221, 0.06586403834546094, 0.29292164422060263, 0.015599377502872328, 0.06326414209498221, 0.08666320834929071, 0.06283082605323577, 0.039865075840673725, 0.37308511194369653, 0.03436100485366396, 0.03436100485366396, 0.9277471310489269, 0.9241884686781393, 0.0653466594014846, 0.3195220928014617, 0.12066340635329462, 0.05123139040698542, 0.016852431054929416, 0.45636383296748856, 0.03505305659425318, 0.8053029982585272, 0.12437925889333273, 0.006324369096271156, 0.04532464518994329, 0.014756861224632697, 0.003162184548135578, 0.9965463897915482, 0.17692359463281943, 0.03959891543116492, 0.2535783758803038, 0.05485721312023764, 0.1616652969437467, 0.07411173163263894, 0.15258297689072722, 0.08646368690474543, 0.9769532777931136, 0.021614010570644104, 0.048421895441473795, 0.048421895441473795, 0.9079105395276337, 0.9993971919208533, 0.9916795049920334, 0.9821892697847258, 0.006681559658399495, 0.006681559658399495, 0.08040778548536863, 0.18393937856130077, 0.5975402097834257, 0.023649348672167243, 0.09617401793348011, 0.018393937856130076, 0.01031576836143674, 0.16677158850989396, 0.02321047881323266, 0.6885775381259023, 0.04642095762646532, 0.044415113778408184, 0.0111754157248898, 0.008883022755681636, 0.01409636834112434, 0.07870472323794424, 0.044638499746893746, 0.8622278635321055, 0.025547517019445687, 0.008515839006481896, 0.9622898077324543, 0.9983923203835741, 0.020814222478433994, 0.03469037079738999, 0.9435780856890077, 0.008477631697104835, 0.9911764392531737, 0.21683138946945218, 0.29992844890684706, 0.020254908237864994, 0.12983915537092947, 0.06362118613175544, 0.13633111313947593, 0.13347465172131548, 0.999245845414582, 0.9988845197753086, 0.11436664268459701, 0.0220261682207372, 0.7810818115199885, 0.008471603161822001, 0.0737029475078514, 0.03400471803374294, 0.2790387156298318, 0.07401026866167582, 0.014001942719776506, 0.010001387656983218, 0.12201692941519526, 0.42405883665608846, 0.04300596692502784, 0.9992032884077011, 0.998963144174054, 0.05339488679810111, 0.5000746924854416, 0.21702437859873352, 0.2095605772183538, 0.019520711302531586, 0.026090608946152838, 0.9551431622895953, 0.01928436313411297, 0.029377854076225344, 0.3101955768636735, 0.4030814390164448, 0.25705622316697174, 0.04931677542109822, 0.018493790782911832, 0.9246895391455916, 0.9994768113026065, 0.9963764857537296, 0.9935227616614822, 0.9953964831918428, 0.99211698529516, 0.9914227012105823, 0.9959228557021385, 0.0781175743142548, 0.016739480210197458, 0.8983521046139302, 0.9800877886292196, 0.014738162235025859, 0.9991926124310051, 0.9954409975786265, 0.9971470998970701, 0.09335444633519624, 0.1609010081886488, 0.32849294939108303, 0.15930792889965228, 0.030905738206532543, 0.03855251879371585, 0.18384134995019874, 0.004460622009190264, 0.1972342427965555, 0.09936992385169971, 0.04817935701900592, 0.07979706006272856, 0.07151623307508692, 0.3131658206235385, 0.1904590207157578, 0.11006796322555638, 0.15358320450077634, 0.6675749955633745, 0.009726936285049169, 0.019965816585100923, 0.038907745140196674, 0.9788745965469186, 0.0158419580854843, 0.9029916108726052, 0.0633678323419372, 0.05090190314851963, 0.9486263768587749, 0.05009261051970916, 0.2709734128113401, 0.012227330126858142, 0.012227330126858142, 0.021299220220978698, 0.6007168962324178, 0.032343260335560245, 0.09763845698842936, 0.3999231748364455, 0.05769545185679917, 0.07347540450139381, 0.19478379045671515, 0.03747738753091228, 0.07939288674311681, 0.0596679459373735, 0.010044123044655797, 0.020088246089311593, 0.9692578738092843, 0.028362523253412018, 0.043832990482545846, 0.043832990482545846, 0.8818166320606282, 0.9986249038756047, 0.9910833725697838, 0.9985141634630532, 0.09339016493533735, 0.10799438825855884, 0.6101106454108973, 0.0044196991636065, 0.06149146662409044, 0.029977089979244087, 0.05707176746048394, 0.035165432475651716, 0.08364720467626881, 0.8596085076305922, 0.04805264949487782, 0.007118911036278196, 0.9996429929504093, 0.04443236279139542, 0.010454673597975393, 0.9383069554182915, 0.005227336798987696, 0.9990200143157493, 0.9976646105969953, 0.9949062927171965, 0.017790713337420244, 0.9784892335581133, 0.04910200342856623, 0.7078872160951631, 0.24278212806346636, 0.1492146646380367, 0.0959737514338546, 0.14431089631659888, 0.015411843295947454, 0.2283754961126759, 0.09667428976548857, 0.021016149949019253, 0.24939164606169517, 0.07570758353783584, 0.010541562264761953, 0.9132826216652856, 0.6540567067194879, 0.04621052819213773, 0.03199190413301843, 0.013710816057007899, 0.2539040010557018, 0.007095434695149258, 0.39358793632504413, 0.0588503701185909, 0.060937262675987744, 0.4791505311783146, 0.9872592086701865, 0.999465653829125, 0.9977794442345976, 0.9972363741995856, 0.9878944037980826, 0.008665740384193706, 0.026680283323687066, 0.038114690462410096, 0.8575805354042272, 0.007622938092482019, 0.04954909760113312, 0.022868814277446057, 0.9346981036739469, 0.06454142269511841, 0.20641634040041903, 0.7481308655806232, 0.018998518892575884, 0.019511992376159012, 0.006161681802997584, 0.004866953747490127, 0.8906525357906933, 0.10220602869729267, 0.13545293905253666, 0.09580817640301374, 0.18418295980924193, 0.11810835539337039, 0.029733571987142195, 0.41296627759919713, 0.008259325551983943, 0.015692718548769493, 0.32900010517107925, 0.669810470527787, 0.018046135083582108, 0.1172998780432837, 0.8571914164701502, 0.03001983098321707, 0.7600765717027301, 0.2101388168825195, 0.8842540714594701, 0.014035778912055081, 0.0824602011083236, 0.0035089447280137703, 0.015790251276061967, 0.07930503541898024, 0.07743903458559247, 0.6176462758513519, 0.01306200583371439, 0.04665002083469426, 0.15861007083796047, 0.007464003333551081, 0.992373424189371, 0.038787471099279505, 0.9494498360388852, 0.010118470721551174, 0.9967151214799561, 0.9955423884979266, 0.9977611120003255, 0.9978995281349597, 0.9866763745780849, 0.5160266033716886, 0.10325448947885146, 0.11087565417848097, 0.2598571318551095, 0.009833760902747759, 0.2363069764057159, 0.002513904004316127, 0.7591990093034703, 0.9975300980049213, 0.9978131433658215, 0.9911673929537252, 0.00864059668094553, 0.9960762641781731, 0.9996850543822278, 0.09226830287087724, 0.01069777424589881, 0.8919269277518134, 0.0046802762325807296, 0.9964150085895078, 0.2551811562929531, 0.05616890726751909, 0.5752470847742472, 0.0036316103836758033, 0.013073797381232892, 0.08352703882454347, 0.013073797381232892, 0.9974197309941506, 0.9829840920557029, 0.016954799822862104, 0.29154215155968294, 0.577705296633025, 0.13017195696945255, 0.050377116175415335, 0.8148719493637357, 0.01679237205847178, 0.041539025618324926, 0.005302854334254246, 0.004419045278545205, 0.03800378939548876, 0.02916569883839835, 0.7497359542742171, 0.10169290869144966, 0.03190365762869009, 0.0624779961895181, 0.03522695529834531, 0.019275126484000264, 0.9945456636972692, 0.0038251756296048814, 0.23292928576056313, 0.5270595995444899, 0.03608120308840096, 0.004567240897265944, 0.08677757704805293, 0.0648548207411764, 0.02283620448632972, 0.024206376755509504, 0.1163049205823818, 0.1552295512611628, 0.2781000721990016, 0.0023448572698060847, 0.023448572698060846, 0.10035989114770043, 0.25934121404055294, 0.06518703210060915, 0.07194335996024626, 0.4978480509249041, 0.1285388031289733, 0.03309394558171328, 0.1270999359297684, 0.12422220153135854, 0.0038369791978798006, 0.013429427192579302, 0.2785291486822325, 0.36332944458043953, 0.2408140999540244, 0.005153609142984958, 0.035138244156715626, 0.044976952520596, 0.011712748052238542, 0.02014592664985029, 0.2062874420484423, 0.21796909899841843, 0.2195620522188697, 0.05150548746125844, 0.0889398881418638, 0.13911791458607947, 0.058939269156697796, 0.018053469831781306, 0.054562854771790126, 0.1609739944262266, 0.037189607481269885, 0.036103779525612376, 0.6998161174212684, 0.011129736545489528, 0.9979416276264909, 0.02475626699485315, 0.030469251685973107, 0.814100318484594, 0.11140320147683917, 0.018091118188546532, 0.9642866225095703, 0.004506012254717619, 0.027036073528305712, 0.9961448613716677, 0.003576821764350692, 0.08256152463354065, 0.8815440210871598, 0.03195929985814477, 0.1632547064490801, 0.2379978250643216, 0.03245424887240749, 0.01770231756676772, 0.5005822023047095, 0.03343771095945015, 0.01475193130563977, 0.9998152238440345, 0.9998530665560529, 0.9601405574885664, 0.03516998379078998, 0.9874986484667824, 0.9810305419462637, 0.007932861525171944, 0.005288574350114629, 0.0026442871750573145, 0.9991293252883141, 0.9995239412450072, 0.012092531256180384, 0.17870073967466568, 0.02418506251236077, 0.3936790731178725, 0.39233545853385243, 0.9893254603913002, 0.8144393644703071, 0.11704517812746928, 0.009753764843955773, 0.05754721257933906, 0.997548319395347, 0.9290786667651133, 0.031877885632418106, 0.014321948617463208, 0.024485912152437096, 0.6541733401152936, 0.04800014026003202, 0.12411464838665423, 0.027428651577161154, 0.11794320178179296, 0.004457155881288688, 0.023657211985301498, 0.007655984787366751, 0.9922620283505331, 0.9979963846464149, 0.9993909528116005, 0.09822965382689886, 0.30422582107554114, 0.02479583494659583, 0.02479583494659583, 0.04005481029834711, 0.11444231513813459, 0.3948259872265643, 0.9398362321807313, 0.0432311432779684, 0.010146084646870134, 0.006837578783760308, 0.8260252980961194, 0.02582196730182827, 0.022212444990820014, 0.003887177873393503, 0.12189079188712483, 0.9994761904898515, 0.017255437129166242, 0.4432862296975466, 0.016065406982327193, 0.48850737527743054, 0.035105889331752016, 0.15223295634986583, 0.09033604003178851, 0.09702759855266173, 0.6390438387433928, 0.02007467556261967, 0.0813452494500252, 0.03486224976429651, 0.881240202375273, 0.9846540672682075, 0.9969003163220753, 0.9960720478834603, 0.9676075241891229, 0.032278606315075474, 0.9996171219023569, 0.999888634356259, 0.22463251430432624, 0.22721945304871385, 0.0961478899997404, 0.3074145541247305, 0.046996053856375355, 0.012934693721938171, 0.08450666564999605, 0.796598669204022, 0.2025621016276163, 0.6922214753414484, 0.17685377464825414, 0.005469704370564561, 0.11668702657204398, 0.009116173950940935, 0.08868734642486813, 0.46698204533448257, 0.26096055474574026, 0.038457344909898564, 0.005886328302535495, 0.12243562869273829, 0.016481719247099385, 0.01963685840309396, 0.972024490953151, 0.005899692797588226, 0.16165158265391738, 0.015339201273729388, 0.22241841846907612, 0.031268371827217596, 0.5634206621696756, 0.9915668430488729, 0.9929681709124145, 0.08814223802704495, 0.1849542043846189, 0.7138076325468886, 0.013004592495793518, 0.15104407631486957, 0.2924264846351846, 0.5565120764863425, 0.026770252989061674, 0.21862373274400368, 0.026770252989061674, 0.020523860624947283, 0.1008346195921323, 0.01695449355973906, 0.13385126494530836, 0.4559866425803505, 0.9949462202114596, 0.9978035317901771, 0.9992313771637887, 0.9997507511959066, 0.9898940563223712, 0.9901095544853528, 0.9983421632666718, 0.015078481785410637, 0.510992993838916, 0.4724590959428666, 0.533940080598682, 0.1994686819778509, 0.11476676339885045, 0.0202359532441298, 0.10696146714754323, 0.014743337363580284, 0.00982889157572019, 0.0438579085521082, 0.764859577169887, 0.05307644984013094, 0.009218541288022743, 0.008659841816021365, 0.03827091383209442, 0.08212882238420262, 0.03339326514176597, 0.8607284464091924, 0.044978683660337845, 0.0034074760348740793, 0.02453382745109337, 0.03134877952084153, 0.9222221338984531, 0.04024878383238031, 0.03849883670923333, 0.9981747952753708, 0.9939352640434358, 0.23868967382743947, 0.08065042395163172, 0.3813104603007294, 0.09903397647001837, 0.09784794082367083, 0.014232427756170304, 0.04566237238437972, 0.04269728326851091, 0.9990037253009921, 0.03812886908945357, 0.37578555514966616, 0.2256285655396531, 0.009433946991205009, 0.0196540562316771, 0.3172164675792684, 0.014150920486807512, 0.9975680055985645, 0.03499647739617293, 0.752424264017718, 0.03499647739617293, 0.06915970533053223, 0.07832544941048228, 0.030830230087104726, 0.012839339979877006, 0.12472501694737663, 0.009170957128483575, 0.7703603987926203, 0.08070442273065546, 0.9916659906753507, 0.20704502933144814, 0.05069766985341967, 0.02800780362531576, 0.47613266163036794, 0.0677150695244976, 0.16166529687524034, 0.0014181166392564942, 0.007445112356096594, 0.992114152050176, 0.0525612081436748, 0.0262806040718374, 0.9048036544732591, 0.015017488041049942, 0.05872199112868654, 0.7633858846729251, 0.17747090652225267, 0.8930366876804562, 0.009182896531418572, 0.026400827527828397, 0.053949517122084116, 0.0160700689299825, 0.9978517241106817, 0.9884595436563101, 0.995556424932093, 0.8767352910293679, 0.0017989345646937224, 0.05658466903491163, 0.015372713552837265, 0.02812879501157457, 0.01700810861164974, 0.004415566658793683, 0.38349027661864676, 0.038834458391761695, 0.04660135007011403, 0.002912584379382127, 0.2106769367753072, 0.31747169735265185, 0.2266369585024803, 0.0421757939135495, 0.2859611521391214, 0.12027053319303402, 0.020624426693988493, 0.18191207814360638, 0.03754109128568692, 0.08481505808988526, 0.04773158479127119, 0.7812906773729126, 0.10299973560221677, 0.06154862249400758, 0.006280471683061998, 0.9830579661970577, 0.015300513092561209, 0.00985074322208348, 0.1502238341367731, 0.029552229666250443, 0.027089543860729575, 0.014776114833125222, 0.04186565869385479, 0.7240296268231359, 0.9994660837953172, 0.054194122076506146, 0.09360802904123788, 0.8473989997417325, 0.10895088998385152, 0.8784165504948028, 0.012483956143982986, 0.9902648839817514, 0.029431724663673886, 0.052977104394613, 0.9167982232734415, 0.4433688758984221, 0.0012197218043973098, 0.5366775939348163, 0.0189056879681583, 0.6263650410256362, 0.20665785367172348, 0.07000192392414786, 0.009130685729236677, 0.015522165739702352, 0.045653428646183394, 0.004260986673643784, 0.02252235813211714, 0.0061253378811982504, 0.9930704039892664, 0.9988942685606916, 0.9862401005765888, 0.9968688152275149, 0.9883175076837196, 0.9992312212739348, 0.9978832665212689, 0.02207095813181809, 0.006621287439545427, 0.005517739532954522, 0.9115305708440872, 0.054073847422954326, 0.9996729000966713, 0.9969147304897037, 0.24762622655755287, 0.2848470630960173, 0.3599039566115986, 0.0999733212809996, 0.007690255483153816, 0.02412437391144913, 0.964974956457965, 0.008041457970483043, 0.01373176359918911, 0.03295623263805387, 0.3048451519019983, 0.6481392418817261, 0.09900025160576958, 0.08567329465883906, 0.790098161853738, 0.024750062901442396, 0.14357031693342365, 0.014357031693342365, 0.8398863540605284, 0.022238712110058848, 0.9740555904205775, 0.9523856989432975, 0.026139464290806495, 0.02045697205367465, 0.9927216975616742, 0.9994935328148291, 0.9718798314625429, 0.0240713270950475, 0.9998408408228258, 0.003186748016995485, 0.995858755311089, 0.03460889043160246, 0.9643295379351049, 0.9926607500352537, 0.9976378317094564, 0.15859192981762132, 0.06938396929520933, 0.17717692159312384, 0.017345992323802333, 0.5773737444922776, 0.014741644368003353, 0.9389293489774443, 0.01587561701169592, 0.029483288736006707, 0.037008536519098786, 0.6862906551556408, 0.010884863682087879, 0.2655906738429442, 0.9916878606349004, 0.9385250402566209, 0.05039974817052971, 0.0108972428476821, 0.9976263275626627, 0.9970026972912124, 0.014336433497216507, 0.984912981258774, 0.4974584253025431, 0.5011297051940747, 0.20340851369676863, 0.6240943033878128, 0.172203798527378, 0.9907958495099872, 0.9463059782966905, 0.04127191182602388, 0.005895987403717697, 0.0029479937018588487, 0.06747482370503237, 0.06747482370503237, 0.8639711122231318, 0.06501942699291532, 0.03250971349645766, 0.02702106056848429, 0.8672071626197927, 0.00844408142765134, 0.06118227608796346, 0.07647784510995433, 0.7647784510995432, 0.09177341413194519, 0.9995233305199603, 0.08797959272032761, 0.5588333389457847, 0.028783447001094836, 0.013848639594866383, 0.0893373024845302, 0.06571315258740519, 0.035571995822107766, 0.12002154315550866, 0.02781464820908662, 0.04933547091100766, 0.7725163243472598, 0.05644140293522686, 0.01563305045328226, 0.05725350945228049, 0.021114769443394223, 0.16988474369082016, 0.26671324948046854, 0.1785819148695311, 0.027830947771874975, 0.01739434235742186, 0.2423611701800779, 0.08059378625605462, 0.016814530945507798, 0.9971716386678354, 0.9895337840602948, 0.013376952853229665, 0.04218885130633971, 0.8262840877802632, 0.06791376063947369, 0.03601487306638756, 0.00823197098660287, 0.0051449818666267945, 0.25572269089456867, 0.07559098410091022, 0.6224193797245161, 0.04583708610374344, 0.29475158343027064, 0.7000350106468928, 0.09702900659522799, 0.8223208308945572, 0.0800489304410631, 0.9983572043254844, 0.052208170136002874, 0.9397470624480517, 0.98932546166301, 0.07188377384018553, 0.23397463642099606, 0.4155969445550223, 0.0016108408703683034, 0.014296212724518692, 0.10933582407624859, 0.13651876376371372, 0.01671247403007115, 0.25281586808873596, 0.07158039638656982, 0.5627437545710117, 0.0053304550500637106, 0.10356312668695208, 0.00380746789290265, 0.673785400646245, 0.0059892035612999555, 0.31942418993599764, 0.14227667808799646, 0.5403486603980291, 0.06483174870321824, 0.00403621781809919, 0.05272309524892067, 0.031028424476637523, 0.11654578949761411, 0.048182350203559085, 0.9985814498904573, 0.015389381831535445, 0.9841876095120049, 0.9989701737494291, 0.9788745929814882, 0.9981507997910366, 0.9898748391592719, 0.9962946654349032, 0.9657607227518091, 0.022699504167243378, 0.01031795643965608, 0.07238742717100394, 0.883126611486248, 0.024129142390334646, 0.014477485434200788, 0.018714590974300702, 0.07298690479977274, 0.8290563801615212, 0.007485836389720281, 0.009357295487150351, 0.028071886461451055, 0.033686263753741265, 0.04260779786204805, 0.036797643608132403, 0.09005739093569247, 0.018398821804066202, 0.7843708242786118, 0.028082412227258942, 0.9911838942809119, 0.1969845212198783, 0.3260123763046314, 0.02844001446183653, 0.10477900064887143, 0.0823263576526847, 0.039516651673288654, 0.025146960155729144, 0.1969845212198783, 0.38825989770478103, 0.5552767252090723, 0.021690497078479386, 0.02440180921328931, 0.009760723685315723, 0.9707744620701446, 0.02747474892651353, 0.9915756054685081, 0.01957220850721661, 0.972086355858425, 0.9962001620064315, 0.041597252906421286, 0.9151395639412683, 0.031197939679815965, 0.9986167412213991, 0.07260162296130962, 0.8288685288082849, 0.024200540987103208, 0.07562669058469752, 0.9951117414799817, 0.8588139240039284, 0.010133497628364936, 0.041800677717005366, 0.04813411373473345, 0.031667180088640424, 0.005066748814182468, 0.005066748814182468, 0.9962726196189355, 0.14214830275008666, 0.8565660657095739, 0.9915849088666732, 0.9971929613190162, 0.9860938415824637, 0.008017023102296452, 0.9546079525638782, 0.010790340685992265, 0.03439421093660035, 0.992028113424185, 0.0033067603780806165, 0.11838660833460009, 0.7312114044195888, 0.006963918137329416, 0.021524837879018197, 0.10066027125776157, 0.021524837879018197, 0.16937373439081094, 0.0454799842345696, 0.021955854458068084, 0.6916094154291447, 0.07057238932950456, 0.9902217881515469, 0.05421515593411542, 0.08132273390117312, 0.24396820170351938, 0.6207635354456215, 0.6288042770996555, 0.235689156795579, 0.07286573168107595, 0.052625250658554855, 0.009445557810509845, 0.9998088470850344, 0.9582276816096779, 0.034222417200345634, 0.8162432888017368, 0.1827271907885706, 0.9890016403256158, 0.9993915285436913, 0.015124285510390072, 0.984241964753077, 0.174271244801662, 0.20952458821573866, 0.3152846184579687, 0.08979625209245942, 0.04390038991186906, 0.1014365069933338, 0.04589586218059037, 0.02028730139866676, 0.40152338250138797, 0.07642378135342404, 0.35734088390643975, 0.03403246513394664, 0.010747094252825254, 0.10597829054869348, 0.0020897127713826883, 0.011941215836472506, 0.14372888301361267, 0.5194772486063429, 0.13038262959092006, 0.023099284770044894, 0.10317680530620052, 0.008726396468683626, 0.07083780662813767, 0.9830771404979707, 0.015704107675686432, 0.9991268889631276, 0.9976501928342264, 0.6813963716374323, 0.1258587141256826, 0.03450964742155814, 0.03383298766819425, 0.062252697309477426, 0.05142614125565527, 0.011503215807186046], \"Term\": [\"abhor\", \"active\", \"active\", \"active\", \"activity\", \"activity\", \"activity\", \"activity\", \"activity\", \"adapt\", \"addict\", \"addicted\", \"addiction\", \"admiration\", \"adult\", \"adult\", \"adult\", \"adult\", \"affect\", \"affect\", \"affect\", \"affect\", \"affect\", \"age\", \"age\", \"age\", \"age\", \"age\", \"age\", \"ahead\", \"ahead\", \"ahead\", \"ahead\", \"air\", \"air\", \"air\", \"air\", \"air\", \"air\", \"airship\", \"al\", \"allow\", \"allow\", \"allow\", \"allow\", \"allow\", \"allow\", \"allow\", \"application\", \"application\", \"appropriate\", \"appropriate\", \"appropriate\", \"architect\", \"area\", \"area\", \"area\", \"area\", \"area\", \"area\", \"ask\", \"ask\", \"ask\", \"ask\", \"ask\", \"asleep\", \"assignment\", \"assignment\", \"attempt\", \"attempt\", \"attempt\", \"attempt\", \"average\", \"average\", \"average\", \"average\", \"away\", \"away\", \"away\", \"away\", \"away\", \"away\", \"away\", \"away\", \"backdrop\", \"bad\", \"bad\", \"bad\", \"bad\", \"bad\", \"bad\", \"bad\", \"bad\", \"ban\", \"ban\", \"ban\", \"believe\", \"believe\", \"believe\", \"believe\", \"believe\", \"believe\", \"believe\", \"benefit\", \"benefit\", \"benefit\", \"benefit\", \"bike\", \"bike\", \"bike\", \"blimp\", \"blood\", \"blood\", \"blood\", \"blood\", \"bloom\", \"blossom\", \"blossom\", \"blueprints\", \"book\", \"book\", \"bookshelf\", \"bottle\", \"brother\", \"brother\", \"brother\", \"bud\", \"budding\", \"builder\", \"building\", \"building\", \"bully\", \"bully\", \"bus\", \"bust\", \"california\", \"california\", \"cancer\", \"cancer\", \"cancer\", \"cancer\", \"caps10\", \"caps10\", \"caps11\", \"caps12\", \"caps13\", \"caps14\", \"caps15\", \"caps16\", \"caps17\", \"caps3\", \"caps3\", \"caps3\", \"caps3\", \"caps3\", \"caps3\", \"caps4\", \"caps4\", \"caps4\", \"caps4\", \"caps5\", \"caps5\", \"caps5\", \"caps5\", \"caps6\", \"caps6\", \"caps6\", \"caps6\", \"caps7\", \"caps7\", \"caps7\", \"caps7\", \"caps8\", \"caps8\", \"caps9\", \"caps9\", \"car\", \"car\", \"car\", \"car\", \"care\", \"care\", \"care\", \"care\", \"care\", \"care\", \"cause\", \"cause\", \"cause\", \"cause\", \"cause\", \"cause\", \"celebration\", \"censor\", \"censorship\", \"certain\", \"certain\", \"certain\", \"certain\", \"certain\", \"certain\", \"certain\", \"change\", \"change\", \"change\", \"change\", \"change\", \"change\", \"change\", \"change\", \"chat\", \"chat\", \"chatting\", \"child\", \"child\", \"child\", \"child\", \"child\", \"childhood\", \"childhood\", \"childhood\", \"childhood\", \"chocolate\", \"clock\", \"clock\", \"com\", \"com\", \"com\", \"communicate\", \"communication\", \"communication\", \"computer\", \"computer\", \"conclude\", \"conclude\", \"congregation\", \"content\", \"content\", \"content\", \"content\", \"content\", \"convenient\", \"cooking\", \"coordination\", \"country\", \"country\", \"country\", \"country\", \"country\", \"country\", \"courageous\", \"create\", \"create\", \"create\", \"create\", \"create\", \"cuba\", \"cuban\", \"culinary\", \"culture\", \"culture\", \"culture\", \"culture\", \"current\", \"current\", \"current\", \"cyclist\", \"dad\", \"dad\", \"dad\", \"date1\", \"date1\", \"date1\", \"date1\", \"date1\", \"date1\", \"dear\", \"dear\", \"dear\", \"deer\", \"dehydrate\", \"dehydration\", \"densely\", \"dentist\", \"depression\", \"depression\", \"depression\", \"depression\", \"depression\", \"describe\", \"describe\", \"describe\", \"describe\", \"describe\", \"desert\", \"dictionary\", \"dictionary\", \"different\", \"different\", \"different\", \"different\", \"different\", \"different\", \"different\", \"different\", \"dirigible\", \"dirigibles\", \"distant\", \"distant\", \"distract\", \"distract\", \"distract\", \"distraction\", \"distraction\", \"distraction\", \"dock\", \"docking\", \"driver\", \"driver\", \"driver\", \"drug\", \"drug\", \"dry\", \"earthquake\", \"easy\", \"easy\", \"easy\", \"easy\", \"easy\", \"easy\", \"easy\", \"easy\", \"effect\", \"effect\", \"effect\", \"effect\", \"effect\", \"efficient\", \"efficient\", \"efficient\", \"email\", \"email\", \"empire\", \"encompass\", \"end\", \"end\", \"end\", \"end\", \"end\", \"end\", \"end\", \"end\", \"ending\", \"ending\", \"ending\", \"engine\", \"engine\", \"enjoy\", \"enjoy\", \"enjoy\", \"enjoy\", \"enjoy\", \"enjoy\", \"etc\", \"etc\", \"etc\", \"etc\", \"etc\", \"etc\", \"eternally\", \"example\", \"example\", \"example\", \"example\", \"example\", \"example\", \"example\", \"example\", \"exceed\", \"exceed\", \"excessive\", \"excessive\", \"excessive\", \"exercise\", \"exercising\", \"explicit\", \"explicit\", \"explicit\", \"eye\", \"eye\", \"eye\", \"eye\", \"eye\", \"eye\", \"face\", \"face\", \"face\", \"face\", \"face\", \"face\", \"face\", \"face\", \"fail\", \"fail\", \"fail\", \"fail\", \"familiar\", \"familiar\", \"familiar\", \"faraway\", \"fat\", \"fat\", \"fat\", \"feature\", \"feature\", \"feel\", \"feel\", \"feel\", \"feel\", \"feel\", \"feel\", \"feel\", \"flammable\", \"flower\", \"fly\", \"fly\", \"fly\", \"fly\", \"fly\", \"forget\", \"forget\", \"forget\", \"forget\", \"forget\", \"forget\", \"forget\", \"forget\", \"frame\", \"freedom\", \"fun\", \"fun\", \"fun\", \"fun\", \"fun\", \"funny\", \"funny\", \"funny\", \"game\", \"game\", \"game\", \"game\", \"garden\", \"garden\", \"garden\", \"geese\", \"generosity\", \"genre\", \"ghost\", \"giggle\", \"google\", \"gracious\", \"grandmother\", \"grandmother\", \"grandmother\", \"graphic\", \"graphic\", \"grateful\", \"gratefulness\", \"gratitude\", \"great\", \"great\", \"great\", \"great\", \"great\", \"great\", \"great\", \"great\", \"grow\", \"grow\", \"grow\", \"grow\", \"grow\", \"grow\", \"grow\", \"hand\", \"hand\", \"hand\", \"hand\", \"hand\", \"hand\", \"handwriting\", \"handy\", \"handy\", \"handy\", \"happiness\", \"happiness\", \"happy\", \"happy\", \"happy\", \"happy\", \"happy\", \"happy\", \"happy\", \"hard\", \"hard\", \"hard\", \"hard\", \"hard\", \"hard\", \"hard\", \"hard\", \"health\", \"health\", \"health\", \"healthy\", \"healthy\", \"healthy\", \"healthy\", \"heat\", \"heatstroke\", \"helium\", \"help\", \"help\", \"help\", \"help\", \"help\", \"help\", \"help\", \"help\", \"helpful\", \"helpful\", \"helpful\", \"helpful\", \"hibiscus\", \"highly\", \"highly\", \"highly\", \"highly\", \"hill\", \"hindenburg\", \"ho\", \"homeland\", \"homeland\", \"homework\", \"homework\", \"homework\", \"hope\", \"hope\", \"hope\", \"hope\", \"hope\", \"hope\", \"hope\", \"hope\", \"hot\", \"hot\", \"hot\", \"hour\", \"hour\", \"hour\", \"hour\", \"hour\", \"house\", \"house\", \"house\", \"house\", \"house\", \"hunt\", \"hydrogen\", \"ibm\", \"immigrant\", \"impatient\", \"impatient\", \"improve\", \"improve\", \"improve\", \"improve\", \"improve\", \"improve\", \"inappropriate\", \"inappropriate\", \"information\", \"information\", \"information\", \"information\", \"information\", \"instant\", \"instant\", \"instant\", \"instead\", \"instead\", \"instead\", \"instead\", \"instead\", \"instead\", \"instead\", \"instead\", \"interact\", \"interact\", \"interaction\", \"interaction\", \"interaction\", \"internet\", \"internet\", \"internet\", \"item\", \"item\", \"item\", \"item\", \"item\", \"job\", \"job\", \"job\", \"job\", \"job\", \"job\", \"job\", \"joe\", \"joke\", \"joke\", \"joke\", \"journey\", \"juice\", \"june\", \"katherine\", \"keyboard\", \"kid\", \"kid\", \"kid\", \"kid\", \"kid\", \"kitchen\", \"kitchen\", \"kitchen\", \"kurmanji\", \"landing\", \"laugh\", \"laugh\", \"laughing\", \"laughter\", \"law\", \"law\", \"law\", \"law\", \"lazy\", \"learn\", \"learn\", \"learn\", \"learn\", \"learn\", \"learn\", \"learn\", \"librarian\", \"library\", \"library\", \"limit\", \"limit\", \"limit\", \"line\", \"line\", \"line\", \"line\", \"line\", \"line\", \"line\", \"line\", \"listen\", \"listen\", \"listen\", \"listen\", \"listen\", \"listen\", \"literature\", \"literature\", \"little\", \"little\", \"little\", \"little\", \"little\", \"little\", \"little\", \"little\", \"live\", \"live\", \"live\", \"live\", \"live\", \"live\", \"live\", \"live\", \"long\", \"long\", \"long\", \"long\", \"long\", \"long\", \"long\", \"long\", \"look\", \"look\", \"look\", \"look\", \"look\", \"look\", \"look\", \"look\", \"lot\", \"lot\", \"lot\", \"lot\", \"lot\", \"lot\", \"lot\", \"lot\", \"love\", \"love\", \"love\", \"love\", \"love\", \"love\", \"loving\", \"low\", \"low\", \"low\", \"low\", \"low\", \"lunch\", \"lunch\", \"lunch\", \"magazine\", \"magazine\", \"mail\", \"mail\", \"mail\", \"man\", \"man\", \"man\", \"man\", \"man\", \"man\", \"man\", \"mast\", \"material\", \"mature\", \"mature\", \"maturity\", \"medium\", \"medium\", \"medium\", \"medium\", \"melt\", \"memoir\", \"memory\", \"memory\", \"memory\", \"memory\", \"memory\", \"mining\", \"minute\", \"minute\", \"minute\", \"minute\", \"modify\", \"mom\", \"mom\", \"mom\", \"mom\", \"month1\", \"month1\", \"month1\", \"month1\", \"month1\", \"month1\", \"month1\", \"mood\", \"mood\", \"moor\", \"mooring\", \"mother\", \"mother\", \"mother\", \"mother\", \"mother\", \"mother\", \"mother\", \"movie\", \"movie\", \"movie\", \"movie\", \"music\", \"music\", \"music\", \"music\", \"music\", \"narcs\", \"nature\", \"nature\", \"nature\", \"nature\", \"nature\", \"negative\", \"negative\", \"negative\", \"negative\", \"negative\", \"neighborhood\", \"neighborhood\", \"neighborhood\", \"nudity\", \"obese\", \"obesity\", \"obstacle\", \"obstacle\", \"offend\", \"offensive\", \"old\", \"old\", \"old\", \"old\", \"old\", \"old\", \"old\", \"online\", \"online\", \"opinion\", \"opinion\", \"opinion\", \"opinion\", \"opinion\", \"organization1\", \"organization1\", \"organization1\", \"organization1\", \"organization1\", \"organization1\", \"organization1\", \"outdoors\", \"outdoors\", \"outside\", \"outside\", \"outside\", \"outside\", \"outside\", \"outside\", \"overweight\", \"pant\", \"paper\", \"paper\", \"paper\", \"paper\", \"paragraph\", \"paragraph\", \"paragraph\", \"pass\", \"pass\", \"pass\", \"pass\", \"pass\", \"pass\", \"pass\", \"pass\", \"passionate\", \"paterson\", \"patience\", \"patient\", \"patiently\", \"pedal\", \"pedestrian\", \"percent1\", \"percent1\", \"percent1\", \"person\", \"person\", \"person\", \"person\", \"person\", \"person\", \"person\", \"person1\", \"person1\", \"person1\", \"person1\", \"person1\", \"person1\", \"person1\", \"person2\", \"person2\", \"person2\", \"person2\", \"person2\", \"person2\", \"person3\", \"person3\", \"person3\", \"person4\", \"person5\", \"place\", \"place\", \"place\", \"place\", \"place\", \"place\", \"place\", \"place\", \"plant\", \"play\", \"play\", \"play\", \"play\", \"play\", \"play\", \"play\", \"populated\", \"positive\", \"positive\", \"positive\", \"positive\", \"positive\", \"positive\", \"post\", \"post\", \"post\", \"post\", \"post\", \"predator\", \"problem\", \"problem\", \"problem\", \"problem\", \"problem\", \"problem\", \"problem\", \"problem\", \"profanity\", \"program\", \"program\", \"program\", \"program\", \"project\", \"project\", \"project\", \"public\", \"public\", \"public\", \"public\", \"public\", \"pump\", \"puppy\", \"rating\", \"read\", \"read\", \"read\", \"read\", \"read\", \"read\", \"read\", \"reader\", \"reader\", \"reader\", \"reader\", \"reader\", \"reader\", \"reason\", \"reason\", \"reason\", \"reason\", \"reason\", \"reason\", \"reason\", \"reason\", \"relationship\", \"relationship\", \"relationship\", \"relationship\", \"relationship\", \"religion\", \"religion\", \"remind\", \"remind\", \"remind\", \"remind\", \"remind\", \"remind\", \"remind\", \"remove\", \"represent\", \"represent\", \"represent\", \"research\", \"research\", \"research\", \"retake\", \"return\", \"return\", \"return\", \"ride\", \"ride\", \"ride\", \"ride\", \"right\", \"right\", \"right\", \"right\", \"right\", \"right\", \"right\", \"right\", \"road\", \"road\", \"rodriguez\", \"roller\", \"rolling\", \"romance\", \"rough\", \"sacrifice\", \"safety\", \"safety\", \"safety\", \"safety\", \"safety\", \"sang\", \"sangs\", \"school\", \"school\", \"school\", \"school\", \"school\", \"scream\", \"scream\", \"scream\", \"screen\", \"screen\", \"screen\", \"screen\", \"search\", \"search\", \"search\", \"search\", \"season\", \"season\", \"season\", \"seat\", \"seat\", \"section\", \"section\", \"section\", \"selflessly\", \"setting\", \"sex\", \"sex\", \"shelf\", \"shift\", \"shift\", \"ship\", \"ship\", \"shower\", \"silently\", \"simple\", \"simple\", \"simple\", \"simple\", \"simple\", \"sister\", \"sister\", \"sister\", \"sister\", \"sit\", \"sit\", \"sit\", \"sit\", \"slavery\", \"smile\", \"smile\", \"smile\", \"smith\", \"snake\", \"snow\", \"snow\", \"social\", \"social\", \"society\", \"society\", \"society\", \"solidarity\", \"speech\", \"speech\", \"speech\", \"speech\", \"speed\", \"speed\", \"speed\", \"spend\", \"spend\", \"spend\", \"spend\", \"spend\", \"spending\", \"spending\", \"spending\", \"spending\", \"spring\", \"start\", \"start\", \"start\", \"start\", \"start\", \"start\", \"start\", \"start\", \"state\", \"state\", \"state\", \"state\", \"state\", \"state\", \"state\", \"stay\", \"stay\", \"stay\", \"stay\", \"stay\", \"stay\", \"stay\", \"stay\", \"steel\", \"stomach\", \"stress\", \"stress\", \"stress\", \"stress\", \"stress\", \"stress\", \"stress\", \"student\", \"student\", \"student\", \"student\", \"suicide\", \"suicide\", \"sun\", \"sun\", \"sun\", \"swivel\", \"symbol\", \"symbol\", \"symbolize\", \"talk\", \"talk\", \"talk\", \"talk\", \"talk\", \"talk\", \"talk\", \"talk\", \"teach\", \"teach\", \"teach\", \"teach\", \"teach\", \"teach\", \"technology\", \"technology\", \"technology\", \"tell\", \"tell\", \"tell\", \"tell\", \"tell\", \"tell\", \"tell\", \"tell\", \"terrain\", \"test\", \"test\", \"tether\", \"textbook\", \"thankful\", \"thirst\", \"thirsty\", \"time1\", \"time1\", \"time1\", \"tool\", \"tool\", \"tool\", \"tool\", \"touch\", \"touch\", \"touch\", \"touch\", \"touch\", \"touch\", \"touch\", \"town\", \"town\", \"town\", \"town\", \"town\", \"town\", \"truck\", \"try\", \"try\", \"try\", \"try\", \"try\", \"try\", \"try\", \"try\", \"type\", \"type\", \"type\", \"type\", \"type\", \"typing\", \"typing\", \"uncensored\", \"unhealthy\", \"unhealthy\", \"unity\", \"update\", \"update\", \"update\", \"urban\", \"useful\", \"useful\", \"useful\", \"useful\", \"vietnam\", \"view\", \"view\", \"view\", \"view\", \"view\", \"view\", \"view\", \"violence\", \"violent\", \"violent\", \"virus\", \"vow\", \"vulgar\", \"vulgar\", \"wait\", \"wait\", \"wait\", \"wake\", \"wake\", \"walk\", \"walk\", \"walk\", \"walk\", \"walk\", \"walk\", \"warm\", \"warm\", \"warm\", \"warm\", \"warm\", \"warmth\", \"waste\", \"waste\", \"waste\", \"waste\", \"watch\", \"watch\", \"watch\", \"watch\", \"watch\", \"water\", \"webcam\", \"webcam\", \"website\", \"website\", \"wet\", \"wind\", \"winter\", \"winter\", \"work\", \"work\", \"work\", \"work\", \"work\", \"work\", \"work\", \"work\", \"world\", \"world\", \"world\", \"world\", \"world\", \"world\", \"world\", \"world\", \"year\", \"year\", \"year\", \"year\", \"year\", \"year\", \"year\", \"yell\", \"yell\", \"york\", \"yosemite\", \"young\", \"young\", \"young\", \"young\", \"young\", \"young\", \"young\"]}, \"R\": 30, \"lambda.step\": 0.01, \"plot.opts\": {\"xlab\": \"PC1\", \"ylab\": \"PC2\"}, \"topic.order\": [1, 2, 5, 4, 8, 3, 6, 7]};\n",
              "\n",
              "function LDAvis_load_lib(url, callback){\n",
              "  var s = document.createElement('script');\n",
              "  s.src = url;\n",
              "  s.async = true;\n",
              "  s.onreadystatechange = s.onload = callback;\n",
              "  s.onerror = function(){console.warn(\"failed to load library \" + url);};\n",
              "  document.getElementsByTagName(\"head\")[0].appendChild(s);\n",
              "}\n",
              "\n",
              "if(typeof(LDAvis) !== \"undefined\"){\n",
              "   // already loaded: just create the visualization\n",
              "   !function(LDAvis){\n",
              "       new LDAvis(\"#\" + \"ldavis_el591401483769147682668067831\", ldavis_el591401483769147682668067831_data);\n",
              "   }(LDAvis);\n",
              "}else if(typeof define === \"function\" && define.amd){\n",
              "   // require.js is available: use it to load d3/LDAvis\n",
              "   require.config({paths: {d3: \"https://d3js.org/d3.v5\"}});\n",
              "   require([\"d3\"], function(d3){\n",
              "      window.d3 = d3;\n",
              "      LDAvis_load_lib(\"https://cdn.jsdelivr.net/gh/bmabey/pyLDAvis@3.3.1/pyLDAvis/js/ldavis.v3.0.0.js\", function(){\n",
              "        new LDAvis(\"#\" + \"ldavis_el591401483769147682668067831\", ldavis_el591401483769147682668067831_data);\n",
              "      });\n",
              "    });\n",
              "}else{\n",
              "    // require.js not available: dynamically load d3 & LDAvis\n",
              "    LDAvis_load_lib(\"https://d3js.org/d3.v5.js\", function(){\n",
              "         LDAvis_load_lib(\"https://cdn.jsdelivr.net/gh/bmabey/pyLDAvis@3.3.1/pyLDAvis/js/ldavis.v3.0.0.js\", function(){\n",
              "                 new LDAvis(\"#\" + \"ldavis_el591401483769147682668067831\", ldavis_el591401483769147682668067831_data);\n",
              "            })\n",
              "         });\n",
              "}\n",
              "</script>"
            ],
            "text/plain": [
              "PreparedData(topic_coordinates=              x         y  topics  cluster       Freq\n",
              "topic                                                \n",
              "0      0.125666 -0.036865       1        1  21.722537\n",
              "1      0.101280  0.005777       2        1  20.600739\n",
              "4      0.169791 -0.098755       3        1  14.313386\n",
              "3     -0.319324 -0.205423       4        1  13.033776\n",
              "7     -0.095521  0.003767       5        1   9.169467\n",
              "2      0.138786 -0.118434       6        1   8.389788\n",
              "5     -0.008862  0.216847       7        1   7.449849\n",
              "6     -0.111816  0.233086       8        1   5.320459, topic_info=           Term          Freq         Total Category  logprob  loglift\n",
              "362    computer  20482.000000  20482.000000  Default  30.0000  30.0000\n",
              "204        book  13948.000000  13948.000000  Default  29.0000  29.0000\n",
              "231    building   7796.000000   7796.000000  Default  28.0000  28.0000\n",
              "520   dirigible   6023.000000   6023.000000  Default  27.0000  27.0000\n",
              "1158       mood   4310.000000   4310.000000  Default  26.0000  26.0000\n",
              "...         ...           ...           ...      ...      ...      ...\n",
              "890        hope    355.668423   1427.473637   Topic8  -4.8607   1.5439\n",
              "1705      start    441.816498   3682.672197   Topic8  -4.6438   0.8131\n",
              "1443     reason    365.591380   4315.271465   Topic8  -4.8332   0.4652\n",
              "301      change    309.338885   1808.661246   Topic8  -5.0003   1.1677\n",
              "412     country    281.612966   1470.276257   Topic8  -5.0942   1.2809\n",
              "\n",
              "[505 rows x 6 columns], token_table=      Topic      Freq      Term\n",
              "term                           \n",
              "4         1  0.990015     abhor\n",
              "21        1  0.018604    active\n",
              "21        3  0.074415    active\n",
              "21        6  0.905387    active\n",
              "22        1  0.119849  activity\n",
              "...     ...       ...       ...\n",
              "1996      3  0.034510     young\n",
              "1996      5  0.033833     young\n",
              "1996      6  0.062253     young\n",
              "1996      7  0.051426     young\n",
              "1996      8  0.011503     young\n",
              "\n",
              "[1311 rows x 3 columns], R=30, lambda_step=0.01, plot_opts={'xlab': 'PC1', 'ylab': 'PC2'}, topic_order=[1, 2, 5, 4, 8, 3, 6, 7])"
            ]
          },
          "execution_count": 60,
          "metadata": {},
          "output_type": "execute_result"
        }
      ],
      "source": [
        "prepare(lda_base, doc_term_matrix, vectorizer)"
      ]
    },
    {
      "cell_type": "markdown",
      "metadata": {
        "id": "TRdcyXUUF7lb"
      },
      "source": [
        "### \"Score Allocation\"\n",
        "\n",
        "Can we take this to the next level and assign target scores based on word probabilities? To keep it simple, we'll limit the essays to topic number 4, \"hibiscus\". This topic has only four target scores and a reasonably balanced distribution."
      ]
    },
    {
      "cell_type": "code",
      "execution_count": 61,
      "metadata": {
        "id": "vtNH3LLOF7lb"
      },
      "outputs": [],
      "source": [
        "hibiscus = training_set[training_set.topic == 'hibiscus']\n",
        "\n",
        "# Split essays into training and test sets\n",
        "train_essays, test_essays = train_test_split(hibiscus, \n",
        "                                         stratify=hibiscus.target_score, \n",
        "                                         test_size=0.2, \n",
        "                                         random_state=42)"
      ]
    },
    {
      "cell_type": "code",
      "execution_count": 62,
      "metadata": {
        "id": "oHHnNrgTF7lb"
      },
      "outputs": [],
      "source": [
        "vectorizer = CountVectorizer(max_df=.2, \n",
        "                             min_df=3, \n",
        "                             stop_words=STOP_WORDS, \n",
        "                             max_features=400) # limit to account for smaller set of essays\n",
        "\n",
        "# Train and test doc-term matrices\n",
        "train_dtm = vectorizer.fit_transform(train_essays.l_essay)\n",
        "test_dtm = vectorizer.fit_transform(test_essays.l_essay)"
      ]
    },
    {
      "cell_type": "code",
      "execution_count": 63,
      "metadata": {
        "colab": {
          "base_uri": "https://localhost:8080/"
        },
        "id": "RsfsGGNaF7lc",
        "outputId": "092db15d-fd72-45a6-d92d-04ba031d1d94"
      },
      "outputs": [
        {
          "name": "stdout",
          "output_type": "stream",
          "text": [
            "iteration: 1 of max_iter: 500\n",
            "iteration: 2 of max_iter: 500\n",
            "iteration: 3 of max_iter: 500\n",
            "iteration: 4 of max_iter: 500\n",
            "iteration: 5 of max_iter: 500, perplexity: 278.1914\n",
            "iteration: 6 of max_iter: 500\n",
            "iteration: 7 of max_iter: 500\n",
            "iteration: 8 of max_iter: 500\n",
            "iteration: 9 of max_iter: 500\n",
            "iteration: 10 of max_iter: 500, perplexity: 268.4819\n",
            "iteration: 11 of max_iter: 500\n",
            "iteration: 12 of max_iter: 500\n",
            "iteration: 13 of max_iter: 500\n",
            "iteration: 14 of max_iter: 500\n",
            "iteration: 15 of max_iter: 500, perplexity: 265.0489\n",
            "iteration: 16 of max_iter: 500\n",
            "iteration: 17 of max_iter: 500\n",
            "iteration: 18 of max_iter: 500\n",
            "iteration: 19 of max_iter: 500\n",
            "iteration: 20 of max_iter: 500, perplexity: 263.4927\n",
            "iteration: 21 of max_iter: 500\n",
            "iteration: 22 of max_iter: 500\n",
            "iteration: 23 of max_iter: 500\n",
            "iteration: 24 of max_iter: 500\n",
            "iteration: 25 of max_iter: 500, perplexity: 262.8497\n",
            "iteration: 26 of max_iter: 500\n",
            "iteration: 27 of max_iter: 500\n",
            "iteration: 28 of max_iter: 500\n",
            "iteration: 29 of max_iter: 500\n",
            "iteration: 30 of max_iter: 500, perplexity: 262.3772\n",
            "iteration: 31 of max_iter: 500\n",
            "iteration: 32 of max_iter: 500\n",
            "iteration: 33 of max_iter: 500\n",
            "iteration: 34 of max_iter: 500\n",
            "iteration: 35 of max_iter: 500, perplexity: 262.0276\n",
            "iteration: 36 of max_iter: 500\n",
            "iteration: 37 of max_iter: 500\n",
            "iteration: 38 of max_iter: 500\n",
            "iteration: 39 of max_iter: 500\n",
            "iteration: 40 of max_iter: 500, perplexity: 261.6960\n",
            "iteration: 41 of max_iter: 500\n",
            "iteration: 42 of max_iter: 500\n",
            "iteration: 43 of max_iter: 500\n",
            "iteration: 44 of max_iter: 500\n",
            "iteration: 45 of max_iter: 500, perplexity: 261.4530\n",
            "iteration: 46 of max_iter: 500\n",
            "iteration: 47 of max_iter: 500\n",
            "iteration: 48 of max_iter: 500\n",
            "iteration: 49 of max_iter: 500\n",
            "iteration: 50 of max_iter: 500, perplexity: 261.3268\n",
            "iteration: 51 of max_iter: 500\n",
            "iteration: 52 of max_iter: 500\n",
            "iteration: 53 of max_iter: 500\n",
            "iteration: 54 of max_iter: 500\n",
            "iteration: 55 of max_iter: 500, perplexity: 261.2569\n"
          ]
        },
        {
          "data": {
            "text/plain": [
              "['lda_score.pkl']"
            ]
          },
          "execution_count": 63,
          "metadata": {},
          "output_type": "execute_result"
        }
      ],
      "source": [
        "lda_score = LatentDirichletAllocation(n_components=4,\n",
        "                                     n_jobs=-1,\n",
        "                                     learning_method='batch',\n",
        "                                     evaluate_every=5,\n",
        "                                     verbose=1, \n",
        "                                     max_iter=500)\n",
        "lda_score.fit(train_dtm)\n",
        "\n",
        "# save training model\n",
        "joblib.dump(lda_score, 'lda_score.pkl')"
      ]
    },
    {
      "cell_type": "code",
      "execution_count": 64,
      "metadata": {
        "colab": {
          "base_uri": "https://localhost:8080/",
          "height": 235
        },
        "id": "LV20LgyhF7lc",
        "outputId": "c87d3043-26bc-41fa-ca48-b95f3c7fdb7d"
      },
      "outputs": [
        {
          "data": {
            "text/html": [
              "\n",
              "  <div id=\"df-b17272bd-cedc-4db5-b490-c1d48821476e\">\n",
              "    <div class=\"colab-df-container\">\n",
              "      <div>\n",
              "<style scoped>\n",
              "    .dataframe tbody tr th:only-of-type {\n",
              "        vertical-align: middle;\n",
              "    }\n",
              "\n",
              "    .dataframe tbody tr th {\n",
              "        vertical-align: top;\n",
              "    }\n",
              "\n",
              "    .dataframe thead th {\n",
              "        text-align: right;\n",
              "    }\n",
              "</style>\n",
              "<table border=\"1\" class=\"dataframe\">\n",
              "  <thead>\n",
              "    <tr style=\"text-align: right;\">\n",
              "      <th></th>\n",
              "      <th>Score A</th>\n",
              "      <th>Score B</th>\n",
              "      <th>Score C</th>\n",
              "      <th>Score D</th>\n",
              "    </tr>\n",
              "    <tr>\n",
              "      <th>target_score</th>\n",
              "      <th></th>\n",
              "      <th></th>\n",
              "      <th></th>\n",
              "      <th></th>\n",
              "    </tr>\n",
              "  </thead>\n",
              "  <tbody>\n",
              "    <tr>\n",
              "      <th>0</th>\n",
              "      <td>0.025526</td>\n",
              "      <td>0.025393</td>\n",
              "      <td>0.026262</td>\n",
              "      <td>0.922819</td>\n",
              "    </tr>\n",
              "    <tr>\n",
              "      <th>3</th>\n",
              "      <td>0.006790</td>\n",
              "      <td>0.632096</td>\n",
              "      <td>0.125416</td>\n",
              "      <td>0.235697</td>\n",
              "    </tr>\n",
              "    <tr>\n",
              "      <th>2</th>\n",
              "      <td>0.594034</td>\n",
              "      <td>0.390968</td>\n",
              "      <td>0.007537</td>\n",
              "      <td>0.007461</td>\n",
              "    </tr>\n",
              "    <tr>\n",
              "      <th>1</th>\n",
              "      <td>0.026297</td>\n",
              "      <td>0.026314</td>\n",
              "      <td>0.025787</td>\n",
              "      <td>0.921603</td>\n",
              "    </tr>\n",
              "    <tr>\n",
              "      <th>0</th>\n",
              "      <td>0.198511</td>\n",
              "      <td>0.206606</td>\n",
              "      <td>0.404848</td>\n",
              "      <td>0.190036</td>\n",
              "    </tr>\n",
              "  </tbody>\n",
              "</table>\n",
              "</div>\n",
              "      <button class=\"colab-df-convert\" onclick=\"convertToInteractive('df-b17272bd-cedc-4db5-b490-c1d48821476e')\"\n",
              "              title=\"Convert this dataframe to an interactive table.\"\n",
              "              style=\"display:none;\">\n",
              "        \n",
              "  <svg xmlns=\"http://www.w3.org/2000/svg\" height=\"24px\"viewBox=\"0 0 24 24\"\n",
              "       width=\"24px\">\n",
              "    <path d=\"M0 0h24v24H0V0z\" fill=\"none\"/>\n",
              "    <path d=\"M18.56 5.44l.94 2.06.94-2.06 2.06-.94-2.06-.94-.94-2.06-.94 2.06-2.06.94zm-11 1L8.5 8.5l.94-2.06 2.06-.94-2.06-.94L8.5 2.5l-.94 2.06-2.06.94zm10 10l.94 2.06.94-2.06 2.06-.94-2.06-.94-.94-2.06-.94 2.06-2.06.94z\"/><path d=\"M17.41 7.96l-1.37-1.37c-.4-.4-.92-.59-1.43-.59-.52 0-1.04.2-1.43.59L10.3 9.45l-7.72 7.72c-.78.78-.78 2.05 0 2.83L4 21.41c.39.39.9.59 1.41.59.51 0 1.02-.2 1.41-.59l7.78-7.78 2.81-2.81c.8-.78.8-2.07 0-2.86zM5.41 20L4 18.59l7.72-7.72 1.47 1.35L5.41 20z\"/>\n",
              "  </svg>\n",
              "      </button>\n",
              "      \n",
              "  <style>\n",
              "    .colab-df-container {\n",
              "      display:flex;\n",
              "      flex-wrap:wrap;\n",
              "      gap: 12px;\n",
              "    }\n",
              "\n",
              "    .colab-df-convert {\n",
              "      background-color: #E8F0FE;\n",
              "      border: none;\n",
              "      border-radius: 50%;\n",
              "      cursor: pointer;\n",
              "      display: none;\n",
              "      fill: #1967D2;\n",
              "      height: 32px;\n",
              "      padding: 0 0 0 0;\n",
              "      width: 32px;\n",
              "    }\n",
              "\n",
              "    .colab-df-convert:hover {\n",
              "      background-color: #E2EBFA;\n",
              "      box-shadow: 0px 1px 2px rgba(60, 64, 67, 0.3), 0px 1px 3px 1px rgba(60, 64, 67, 0.15);\n",
              "      fill: #174EA6;\n",
              "    }\n",
              "\n",
              "    [theme=dark] .colab-df-convert {\n",
              "      background-color: #3B4455;\n",
              "      fill: #D2E3FC;\n",
              "    }\n",
              "\n",
              "    [theme=dark] .colab-df-convert:hover {\n",
              "      background-color: #434B5C;\n",
              "      box-shadow: 0px 1px 3px 1px rgba(0, 0, 0, 0.15);\n",
              "      filter: drop-shadow(0px 1px 2px rgba(0, 0, 0, 0.3));\n",
              "      fill: #FFFFFF;\n",
              "    }\n",
              "  </style>\n",
              "\n",
              "      <script>\n",
              "        const buttonEl =\n",
              "          document.querySelector('#df-b17272bd-cedc-4db5-b490-c1d48821476e button.colab-df-convert');\n",
              "        buttonEl.style.display =\n",
              "          google.colab.kernel.accessAllowed ? 'block' : 'none';\n",
              "\n",
              "        async function convertToInteractive(key) {\n",
              "          const element = document.querySelector('#df-b17272bd-cedc-4db5-b490-c1d48821476e');\n",
              "          const dataTable =\n",
              "            await google.colab.kernel.invokeFunction('convertToInteractive',\n",
              "                                                     [key], {});\n",
              "          if (!dataTable) return;\n",
              "\n",
              "          const docLinkHtml = 'Like what you see? Visit the ' +\n",
              "            '<a target=\"_blank\" href=https://colab.research.google.com/notebooks/data_table.ipynb>data table notebook</a>'\n",
              "            + ' to learn more about interactive tables.';\n",
              "          element.innerHTML = '';\n",
              "          dataTable['output_type'] = 'display_data';\n",
              "          await google.colab.output.renderOutput(dataTable, element);\n",
              "          const docLink = document.createElement('div');\n",
              "          docLink.innerHTML = docLinkHtml;\n",
              "          element.appendChild(docLink);\n",
              "        }\n",
              "      </script>\n",
              "    </div>\n",
              "  </div>\n",
              "  "
            ],
            "text/plain": [
              "               Score A   Score B   Score C   Score D\n",
              "target_score                                        \n",
              "0             0.025526  0.025393  0.026262  0.922819\n",
              "3             0.006790  0.632096  0.125416  0.235697\n",
              "2             0.594034  0.390968  0.007537  0.007461\n",
              "1             0.026297  0.026314  0.025787  0.921603\n",
              "0             0.198511  0.206606  0.404848  0.190036"
            ]
          },
          "execution_count": 64,
          "metadata": {},
          "output_type": "execute_result"
        }
      ],
      "source": [
        "topic_labels = ['Score A', 'Score B', 'Score C', 'Score D'] #.format(i) for i in range(1, 5)]\n",
        "\n",
        "train_preds = lda_score.transform(train_dtm)\n",
        "train_eval = pd.DataFrame(train_preds, columns=topic_labels, index=train_essays.target_score)\n",
        "train_eval.sample(5)"
      ]
    },
    {
      "cell_type": "code",
      "execution_count": 65,
      "metadata": {
        "colab": {
          "base_uri": "https://localhost:8080/",
          "height": 480
        },
        "id": "vSkciCjDF7lc",
        "outputId": "5b02bcc9-2e79-4e52-a79e-f11f47731f33",
        "scrolled": false
      },
      "outputs": [
        {
          "data": {
            "image/png": "[encoded data removed]",
            "text/plain": [
              "<Figure size 800x500 with 1 Axes>"
            ]
          },
          "metadata": {
            "needs_background": "light"
          },
          "output_type": "display_data"
        }
      ],
      "source": [
        "train_eval.groupby(level='target_score')\\\n",
        "            .mean()\\\n",
        "            .plot\\\n",
        "            .bar(title='Avg. Topic Probabilities', rot=0, colormap='tab10', figsize=(8,5));"
      ]
    },
    {
      "cell_type": "code",
      "execution_count": 66,
      "metadata": {
        "colab": {
          "base_uri": "https://localhost:8080/",
          "height": 541
        },
        "id": "iF5RN2kGF7lc",
        "outputId": "ab927ffd-925e-4fff-d2af-0a357bdfcce6",
        "scrolled": false
      },
      "outputs": [
        {
          "data": {
            "text/html": [
              "\n",
              "  <div id=\"df-afd051b1-2196-494a-828e-266824597e82\">\n",
              "    <div class=\"colab-df-container\">\n",
              "      <div>\n",
              "<style scoped>\n",
              "    .dataframe tbody tr th:only-of-type {\n",
              "        vertical-align: middle;\n",
              "    }\n",
              "\n",
              "    .dataframe tbody tr th {\n",
              "        vertical-align: top;\n",
              "    }\n",
              "\n",
              "    .dataframe thead th {\n",
              "        text-align: right;\n",
              "    }\n",
              "</style>\n",
              "<table border=\"1\" class=\"dataframe\">\n",
              "  <thead>\n",
              "    <tr style=\"text-align: right;\">\n",
              "      <th></th>\n",
              "      <th>target_score</th>\n",
              "      <th>assignment</th>\n",
              "    </tr>\n",
              "  </thead>\n",
              "  <tbody>\n",
              "    <tr>\n",
              "      <th>0</th>\n",
              "      <td>0</td>\n",
              "      <td>Score D</td>\n",
              "    </tr>\n",
              "    <tr>\n",
              "      <th>1</th>\n",
              "      <td>1</td>\n",
              "      <td>Score D</td>\n",
              "    </tr>\n",
              "    <tr>\n",
              "      <th>2</th>\n",
              "      <td>2</td>\n",
              "      <td>Score B</td>\n",
              "    </tr>\n",
              "    <tr>\n",
              "      <th>3</th>\n",
              "      <td>3</td>\n",
              "      <td>Score B</td>\n",
              "    </tr>\n",
              "  </tbody>\n",
              "</table>\n",
              "</div>\n",
              "      <button class=\"colab-df-convert\" onclick=\"convertToInteractive('df-afd051b1-2196-494a-828e-266824597e82')\"\n",
              "              title=\"Convert this dataframe to an interactive table.\"\n",
              "              style=\"display:none;\">\n",
              "        \n",
              "  <svg xmlns=\"http://www.w3.org/2000/svg\" height=\"24px\"viewBox=\"0 0 24 24\"\n",
              "       width=\"24px\">\n",
              "    <path d=\"M0 0h24v24H0V0z\" fill=\"none\"/>\n",
              "    <path d=\"M18.56 5.44l.94 2.06.94-2.06 2.06-.94-2.06-.94-.94-2.06-.94 2.06-2.06.94zm-11 1L8.5 8.5l.94-2.06 2.06-.94-2.06-.94L8.5 2.5l-.94 2.06-2.06.94zm10 10l.94 2.06.94-2.06 2.06-.94-2.06-.94-.94-2.06-.94 2.06-2.06.94z\"/><path d=\"M17.41 7.96l-1.37-1.37c-.4-.4-.92-.59-1.43-.59-.52 0-1.04.2-1.43.59L10.3 9.45l-7.72 7.72c-.78.78-.78 2.05 0 2.83L4 21.41c.39.39.9.59 1.41.59.51 0 1.02-.2 1.41-.59l7.78-7.78 2.81-2.81c.8-.78.8-2.07 0-2.86zM5.41 20L4 18.59l7.72-7.72 1.47 1.35L5.41 20z\"/>\n",
              "  </svg>\n",
              "      </button>\n",
              "      \n",
              "  <style>\n",
              "    .colab-df-container {\n",
              "      display:flex;\n",
              "      flex-wrap:wrap;\n",
              "      gap: 12px;\n",
              "    }\n",
              "\n",
              "    .colab-df-convert {\n",
              "      background-color: #E8F0FE;\n",
              "      border: none;\n",
              "      border-radius: 50%;\n",
              "      cursor: pointer;\n",
              "      display: none;\n",
              "      fill: #1967D2;\n",
              "      height: 32px;\n",
              "      padding: 0 0 0 0;\n",
              "      width: 32px;\n",
              "    }\n",
              "\n",
              "    .colab-df-convert:hover {\n",
              "      background-color: #E2EBFA;\n",
              "      box-shadow: 0px 1px 2px rgba(60, 64, 67, 0.3), 0px 1px 3px 1px rgba(60, 64, 67, 0.15);\n",
              "      fill: #174EA6;\n",
              "    }\n",
              "\n",
              "    [theme=dark] .colab-df-convert {\n",
              "      background-color: #3B4455;\n",
              "      fill: #D2E3FC;\n",
              "    }\n",
              "\n",
              "    [theme=dark] .colab-df-convert:hover {\n",
              "      background-color: #434B5C;\n",
              "      box-shadow: 0px 1px 3px 1px rgba(0, 0, 0, 0.15);\n",
              "      filter: drop-shadow(0px 1px 2px rgba(0, 0, 0, 0.3));\n",
              "      fill: #FFFFFF;\n",
              "    }\n",
              "  </style>\n",
              "\n",
              "      <script>\n",
              "        const buttonEl =\n",
              "          document.querySelector('#df-afd051b1-2196-494a-828e-266824597e82 button.colab-df-convert');\n",
              "        buttonEl.style.display =\n",
              "          google.colab.kernel.accessAllowed ? 'block' : 'none';\n",
              "\n",
              "        async function convertToInteractive(key) {\n",
              "          const element = document.querySelector('#df-afd051b1-2196-494a-828e-266824597e82');\n",
              "          const dataTable =\n",
              "            await google.colab.kernel.invokeFunction('convertToInteractive',\n",
              "                                                     [key], {});\n",
              "          if (!dataTable) return;\n",
              "\n",
              "          const docLinkHtml = 'Like what you see? Visit the ' +\n",
              "            '<a target=\"_blank\" href=https://colab.research.google.com/notebooks/data_table.ipynb>data table notebook</a>'\n",
              "            + ' to learn more about interactive tables.';\n",
              "          element.innerHTML = '';\n",
              "          dataTable['output_type'] = 'display_data';\n",
              "          await google.colab.output.renderOutput(dataTable, element);\n",
              "          const docLink = document.createElement('div');\n",
              "          docLink.innerHTML = docLinkHtml;\n",
              "          element.appendChild(docLink);\n",
              "        }\n",
              "      </script>\n",
              "    </div>\n",
              "  </div>\n",
              "  "
            ],
            "text/plain": [
              "   target_score assignment\n",
              "0             0    Score D\n",
              "1             1    Score D\n",
              "2             2    Score B\n",
              "3             3    Score B"
            ]
          },
          "execution_count": 66,
          "metadata": {},
          "output_type": "execute_result"
        },
        {
          "data": {
            "image/png": "[encoded data removed]",
            "text/plain": [
              "<Figure size 600x400 with 2 Axes>"
            ]
          },
          "metadata": {
            "needs_background": "light"
          },
          "output_type": "display_data"
        }
      ],
      "source": [
        "df = train_eval.groupby(level='target_score').agg('median')\n",
        "sns.heatmap(df, annot=True, fmt='.1%', cmap='Blues', square=True)\n",
        "plt.title('Train Data: Score Assignments');\n",
        "\n",
        "df = train_eval\\\n",
        "            .idxmax(axis=1)\\\n",
        "            .reset_index()\\\n",
        "            .groupby('target_score', as_index=False)\\\n",
        "            .agg(lambda x:x.value_counts().index[0])\\\n",
        "            .rename(columns={0:'assignment'})\n",
        "df"
      ]
    },
    {
      "cell_type": "code",
      "execution_count": 67,
      "metadata": {
        "colab": {
          "base_uri": "https://localhost:8080/",
          "height": 235
        },
        "id": "T4uQ-CtIF7lc",
        "outputId": "cceff4cc-921c-4593-8c2b-c461eb85aba6"
      },
      "outputs": [
        {
          "data": {
            "text/html": [
              "\n",
              "  <div id=\"df-0e30efec-a4ff-45c3-b3e1-911679aea006\">\n",
              "    <div class=\"colab-df-container\">\n",
              "      <div>\n",
              "<style scoped>\n",
              "    .dataframe tbody tr th:only-of-type {\n",
              "        vertical-align: middle;\n",
              "    }\n",
              "\n",
              "    .dataframe tbody tr th {\n",
              "        vertical-align: top;\n",
              "    }\n",
              "\n",
              "    .dataframe thead th {\n",
              "        text-align: right;\n",
              "    }\n",
              "</style>\n",
              "<table border=\"1\" class=\"dataframe\">\n",
              "  <thead>\n",
              "    <tr style=\"text-align: right;\">\n",
              "      <th></th>\n",
              "      <th>Score A</th>\n",
              "      <th>Score B</th>\n",
              "      <th>Score C</th>\n",
              "      <th>Score D</th>\n",
              "    </tr>\n",
              "    <tr>\n",
              "      <th>target_score</th>\n",
              "      <th></th>\n",
              "      <th></th>\n",
              "      <th></th>\n",
              "      <th></th>\n",
              "    </tr>\n",
              "  </thead>\n",
              "  <tbody>\n",
              "    <tr>\n",
              "      <th>2</th>\n",
              "      <td>0.205004</td>\n",
              "      <td>0.040307</td>\n",
              "      <td>0.503171</td>\n",
              "      <td>0.251518</td>\n",
              "    </tr>\n",
              "    <tr>\n",
              "      <th>3</th>\n",
              "      <td>0.186792</td>\n",
              "      <td>0.242765</td>\n",
              "      <td>0.367021</td>\n",
              "      <td>0.203422</td>\n",
              "    </tr>\n",
              "    <tr>\n",
              "      <th>0</th>\n",
              "      <td>0.043742</td>\n",
              "      <td>0.420921</td>\n",
              "      <td>0.353320</td>\n",
              "      <td>0.182017</td>\n",
              "    </tr>\n",
              "    <tr>\n",
              "      <th>1</th>\n",
              "      <td>0.218729</td>\n",
              "      <td>0.341264</td>\n",
              "      <td>0.146198</td>\n",
              "      <td>0.293809</td>\n",
              "    </tr>\n",
              "    <tr>\n",
              "      <th>1</th>\n",
              "      <td>0.431356</td>\n",
              "      <td>0.226562</td>\n",
              "      <td>0.312932</td>\n",
              "      <td>0.029150</td>\n",
              "    </tr>\n",
              "  </tbody>\n",
              "</table>\n",
              "</div>\n",
              "      <button class=\"colab-df-convert\" onclick=\"convertToInteractive('df-0e30efec-a4ff-45c3-b3e1-911679aea006')\"\n",
              "              title=\"Convert this dataframe to an interactive table.\"\n",
              "              style=\"display:none;\">\n",
              "        \n",
              "  <svg xmlns=\"http://www.w3.org/2000/svg\" height=\"24px\"viewBox=\"0 0 24 24\"\n",
              "       width=\"24px\">\n",
              "    <path d=\"M0 0h24v24H0V0z\" fill=\"none\"/>\n",
              "    <path d=\"M18.56 5.44l.94 2.06.94-2.06 2.06-.94-2.06-.94-.94-2.06-.94 2.06-2.06.94zm-11 1L8.5 8.5l.94-2.06 2.06-.94-2.06-.94L8.5 2.5l-.94 2.06-2.06.94zm10 10l.94 2.06.94-2.06 2.06-.94-2.06-.94-.94-2.06-.94 2.06-2.06.94z\"/><path d=\"M17.41 7.96l-1.37-1.37c-.4-.4-.92-.59-1.43-.59-.52 0-1.04.2-1.43.59L10.3 9.45l-7.72 7.72c-.78.78-.78 2.05 0 2.83L4 21.41c.39.39.9.59 1.41.59.51 0 1.02-.2 1.41-.59l7.78-7.78 2.81-2.81c.8-.78.8-2.07 0-2.86zM5.41 20L4 18.59l7.72-7.72 1.47 1.35L5.41 20z\"/>\n",
              "  </svg>\n",
              "      </button>\n",
              "      \n",
              "  <style>\n",
              "    .colab-df-container {\n",
              "      display:flex;\n",
              "      flex-wrap:wrap;\n",
              "      gap: 12px;\n",
              "    }\n",
              "\n",
              "    .colab-df-convert {\n",
              "      background-color: #E8F0FE;\n",
              "      border: none;\n",
              "      border-radius: 50%;\n",
              "      cursor: pointer;\n",
              "      display: none;\n",
              "      fill: #1967D2;\n",
              "      height: 32px;\n",
              "      padding: 0 0 0 0;\n",
              "      width: 32px;\n",
              "    }\n",
              "\n",
              "    .colab-df-convert:hover {\n",
              "      background-color: #E2EBFA;\n",
              "      box-shadow: 0px 1px 2px rgba(60, 64, 67, 0.3), 0px 1px 3px 1px rgba(60, 64, 67, 0.15);\n",
              "      fill: #174EA6;\n",
              "    }\n",
              "\n",
              "    [theme=dark] .colab-df-convert {\n",
              "      background-color: #3B4455;\n",
              "      fill: #D2E3FC;\n",
              "    }\n",
              "\n",
              "    [theme=dark] .colab-df-convert:hover {\n",
              "      background-color: #434B5C;\n",
              "      box-shadow: 0px 1px 3px 1px rgba(0, 0, 0, 0.15);\n",
              "      filter: drop-shadow(0px 1px 2px rgba(0, 0, 0, 0.3));\n",
              "      fill: #FFFFFF;\n",
              "    }\n",
              "  </style>\n",
              "\n",
              "      <script>\n",
              "        const buttonEl =\n",
              "          document.querySelector('#df-0e30efec-a4ff-45c3-b3e1-911679aea006 button.colab-df-convert');\n",
              "        buttonEl.style.display =\n",
              "          google.colab.kernel.accessAllowed ? 'block' : 'none';\n",
              "\n",
              "        async function convertToInteractive(key) {\n",
              "          const element = document.querySelector('#df-0e30efec-a4ff-45c3-b3e1-911679aea006');\n",
              "          const dataTable =\n",
              "            await google.colab.kernel.invokeFunction('convertToInteractive',\n",
              "                                                     [key], {});\n",
              "          if (!dataTable) return;\n",
              "\n",
              "          const docLinkHtml = 'Like what you see? Visit the ' +\n",
              "            '<a target=\"_blank\" href=https://colab.research.google.com/notebooks/data_table.ipynb>data table notebook</a>'\n",
              "            + ' to learn more about interactive tables.';\n",
              "          element.innerHTML = '';\n",
              "          dataTable['output_type'] = 'display_data';\n",
              "          await google.colab.output.renderOutput(dataTable, element);\n",
              "          const docLink = document.createElement('div');\n",
              "          docLink.innerHTML = docLinkHtml;\n",
              "          element.appendChild(docLink);\n",
              "        }\n",
              "      </script>\n",
              "    </div>\n",
              "  </div>\n",
              "  "
            ],
            "text/plain": [
              "               Score A   Score B   Score C   Score D\n",
              "target_score                                        \n",
              "2             0.205004  0.040307  0.503171  0.251518\n",
              "3             0.186792  0.242765  0.367021  0.203422\n",
              "0             0.043742  0.420921  0.353320  0.182017\n",
              "1             0.218729  0.341264  0.146198  0.293809\n",
              "1             0.431356  0.226562  0.312932  0.029150"
            ]
          },
          "execution_count": 67,
          "metadata": {},
          "output_type": "execute_result"
        }
      ],
      "source": [
        "test_preds = lda_score.transform(test_dtm)\n",
        "test_eval = pd.DataFrame(test_preds, columns=topic_labels, index=test_essays.target_score)\n",
        "test_eval.head()"
      ]
    },
    {
      "cell_type": "code",
      "execution_count": 68,
      "metadata": {
        "colab": {
          "base_uri": "https://localhost:8080/",
          "height": 404
        },
        "id": "ljDSbuaHF7ld",
        "outputId": "6adb6e7a-518d-4dc9-b012-f975e22beed6"
      },
      "outputs": [
        {
          "data": {
            "image/png": "[encoded data removed]",
            "text/plain": [
              "<Figure size 600x400 with 1 Axes>"
            ]
          },
          "metadata": {
            "needs_background": "light"
          },
          "output_type": "display_data"
        }
      ],
      "source": [
        "test_eval.groupby(level='target_score')\\\n",
        "            .mean()\\\n",
        "            .plot\\\n",
        "            .bar(title='Avg. Topic Probabilities', rot=0);"
      ]
    },
    {
      "cell_type": "code",
      "execution_count": 69,
      "metadata": {
        "colab": {
          "base_uri": "https://localhost:8080/",
          "height": 385
        },
        "id": "lgHIJvXaF7ld",
        "outputId": "30e6af92-6be0-473e-9430-44882459db6d"
      },
      "outputs": [
        {
          "data": {
            "image/png": "[encoded data removed]",
            "text/plain": [
              "<Figure size 600x400 with 2 Axes>"
            ]
          },
          "metadata": {
            "needs_background": "light"
          },
          "output_type": "display_data"
        }
      ],
      "source": [
        "df = test_eval.groupby(level='target_score').agg('median')\n",
        "sns.heatmap(df, annot=True, fmt='.1%', cmap='Blues', square=True)\n",
        "plt.title('Topic Assignments')\n",
        "plt.show()"
      ]
    },
    {
      "cell_type": "code",
      "execution_count": 70,
      "metadata": {
        "colab": {
          "base_uri": "https://localhost:8080/",
          "height": 429
        },
        "id": "qXvIBaeSF7ld",
        "outputId": "8911ae9b-9155-4a35-8842-6d72c2eb0fbd"
      },
      "outputs": [
        {
          "data": {
            "image/png": "[encoded data removed]",
            "text/plain": [
              "<Figure size 800x600 with 2 Axes>"
            ]
          },
          "metadata": {
            "needs_background": "light"
          },
          "output_type": "display_data"
        }
      ],
      "source": [
        "fig, axes = plt.subplots(ncols=2, figsize=(8,6), sharey=True)\n",
        "source = ['Train', 'Test']\n",
        "for i, df in enumerate([train_eval, test_eval]):\n",
        "    df = df.groupby(level='target_score').agg('median')\n",
        "    sns.heatmap(df, annot=True, fmt='.1%', cmap='Blues', square=True, ax=axes[i], cbar=False)\n",
        "    axes[i].set_title('{} Data: Topic Assignments'.format(source[i]))\n",
        "plt.tight_layout()\n",
        "plt.show()"
      ]
    },
    {
      "cell_type": "markdown",
      "metadata": {
        "id": "CHS8HywnF7ld"
      },
      "source": [
        "While the charts above are very similar to a confusion matrix, the ordering of the LDA derived topics (A,B,C,D) doesn't necessarily match the human-labeled topic ordering (0,1,2,3). Thus, the high percentages, shown here as deep blues, are not expected to be found along the diagonal. Instead the goal is to find topic distinction, indicated by a single dark square in each column, and model accuracy, indicated by identical color patterns between train and test data sets.\n",
        "\n",
        "As seen above, there is some agreement between train and test data that essays with highest and lowest scores are distinct and assigned \"Score A\" and \"Score B\" respectively.  Overall, both topic distinction and model accuracy are rather poor. It is highly improbable this approach could be extended to any of the other topics due to the larger range of scores and class imbalance. \n",
        "\n",
        "Furthermore, repeated LDA runs show a lack of reproducability, which is a sign of poor distinction of topics. In summary, topic modelling, or more specifically using word frequencies and probabilities is not a useful tool to grade student essays. In the next notebook we'll continue with machine learning algorithms."
      ]
    }
  ],
  "metadata": {
    "colab": {
      "name": "0_EDA_and_Topic_Modeling_with_LDA.ipynb",
      "provenance": []
    },
    "interpreter": {
      "hash": "31f2aee4e71d21fbe5cf8b01ff0e069b9275f58929596ceb00d14d90e3e16cd6"
    },
    "kernelspec": {
      "display_name": "Python [conda env:capstone2]",
      "language": "python",
      "name": "python3"
    },
    "language_info": {
      "codemirror_mode": {
        "name": "ipython",
        "version": 3
      },
      "file_extension": ".py",
      "mimetype": "text/x-python",
      "name": "python",
      "nbconvert_exporter": "python",
      "pygments_lexer": "ipython3",
      "version": "3.9.7"
    },
    "widgets": {
      "application/vnd.jupyter.widget-state+json": {
        "14df679685284b4fbfeffb07f3ac9129": {
          "model_module": "@jupyter-widgets/controls",
          "model_module_version": "1.5.0",
          "model_name": "FloatProgressModel",
          "state": {
            "_dom_classes": [],
            "_model_module": "@jupyter-widgets/controls",
            "_model_module_version": "1.5.0",
            "_model_name": "FloatProgressModel",
            "_view_count": null,
            "_view_module": "@jupyter-widgets/controls",
            "_view_module_version": "1.5.0",
            "_view_name": "ProgressView",
            "bar_style": "success",
            "description": "",
            "description_tooltip": null,
            "layout": "IPY_MODEL_b195ba6e1fc649dd85c564b5aa093b74",
            "max": 12976,
            "min": 0,
            "orientation": "horizontal",
            "style": "IPY_MODEL_28e85182e56a4489a4cf3c443e3179cb",
            "value": 12976
          }
        },
        "28e85182e56a4489a4cf3c443e3179cb": {
          "model_module": "@jupyter-widgets/controls",
          "model_module_version": "1.5.0",
          "model_name": "ProgressStyleModel",
          "state": {
            "_model_module": "@jupyter-widgets/controls",
            "_model_module_version": "1.5.0",
            "_model_name": "ProgressStyleModel",
            "_view_count": null,
            "_view_module": "@jupyter-widgets/base",
            "_view_module_version": "1.2.0",
            "_view_name": "StyleView",
            "bar_color": null,
            "description_width": ""
          }
        },
        "3441dabd8770428c8c9c17bb3dca180a": {
          "model_module": "@jupyter-widgets/controls",
          "model_module_version": "1.5.0",
          "model_name": "DescriptionStyleModel",
          "state": {
            "_model_module": "@jupyter-widgets/controls",
            "_model_module_version": "1.5.0",
            "_model_name": "DescriptionStyleModel",
            "_view_count": null,
            "_view_module": "@jupyter-widgets/base",
            "_view_module_version": "1.2.0",
            "_view_name": "StyleView",
            "description_width": ""
          }
        },
        "63f2625f03564b8c878d0b78258cf93c": {
          "model_module": "@jupyter-widgets/base",
          "model_module_version": "1.2.0",
          "model_name": "LayoutModel",
          "state": {
            "_model_module": "@jupyter-widgets/base",
            "_model_module_version": "1.2.0",
            "_model_name": "LayoutModel",
            "_view_count": null,
            "_view_module": "@jupyter-widgets/base",
            "_view_module_version": "1.2.0",
            "_view_name": "LayoutView",
            "align_content": null,
            "align_items": null,
            "align_self": null,
            "border": null,
            "bottom": null,
            "display": null,
            "flex": null,
            "flex_flow": null,
            "grid_area": null,
            "grid_auto_columns": null,
            "grid_auto_flow": null,
            "grid_auto_rows": null,
            "grid_column": null,
            "grid_gap": null,
            "grid_row": null,
            "grid_template_areas": null,
            "grid_template_columns": null,
            "grid_template_rows": null,
            "height": null,
            "justify_content": null,
            "justify_items": null,
            "left": null,
            "margin": null,
            "max_height": null,
            "max_width": null,
            "min_height": null,
            "min_width": null,
            "object_fit": null,
            "object_position": null,
            "order": null,
            "overflow": null,
            "overflow_x": null,
            "overflow_y": null,
            "padding": null,
            "right": null,
            "top": null,
            "visibility": null,
            "width": null
          }
        },
        "8045f83b93914187a255f95fac31869f": {
          "model_module": "@jupyter-widgets/base",
          "model_module_version": "1.2.0",
          "model_name": "LayoutModel",
          "state": {
            "_model_module": "@jupyter-widgets/base",
            "_model_module_version": "1.2.0",
            "_model_name": "LayoutModel",
            "_view_count": null,
            "_view_module": "@jupyter-widgets/base",
            "_view_module_version": "1.2.0",
            "_view_name": "LayoutView",
            "align_content": null,
            "align_items": null,
            "align_self": null,
            "border": null,
            "bottom": null,
            "display": null,
            "flex": null,
            "flex_flow": null,
            "grid_area": null,
            "grid_auto_columns": null,
            "grid_auto_flow": null,
            "grid_auto_rows": null,
            "grid_column": null,
            "grid_gap": null,
            "grid_row": null,
            "grid_template_areas": null,
            "grid_template_columns": null,
            "grid_template_rows": null,
            "height": null,
            "justify_content": null,
            "justify_items": null,
            "left": null,
            "margin": null,
            "max_height": null,
            "max_width": null,
            "min_height": null,
            "min_width": null,
            "object_fit": null,
            "object_position": null,
            "order": null,
            "overflow": null,
            "overflow_x": null,
            "overflow_y": null,
            "padding": null,
            "right": null,
            "top": null,
            "visibility": null,
            "width": null
          }
        },
        "8c7bd94b136449309a63ea4c0aba9722": {
          "model_module": "@jupyter-widgets/base",
          "model_module_version": "1.2.0",
          "model_name": "LayoutModel",
          "state": {
            "_model_module": "@jupyter-widgets/base",
            "_model_module_version": "1.2.0",
            "_model_name": "LayoutModel",
            "_view_count": null,
            "_view_module": "@jupyter-widgets/base",
            "_view_module_version": "1.2.0",
            "_view_name": "LayoutView",
            "align_content": null,
            "align_items": null,
            "align_self": null,
            "border": null,
            "bottom": null,
            "display": null,
            "flex": null,
            "flex_flow": null,
            "grid_area": null,
            "grid_auto_columns": null,
            "grid_auto_flow": null,
            "grid_auto_rows": null,
            "grid_column": null,
            "grid_gap": null,
            "grid_row": null,
            "grid_template_areas": null,
            "grid_template_columns": null,
            "grid_template_rows": null,
            "height": null,
            "justify_content": null,
            "justify_items": null,
            "left": null,
            "margin": null,
            "max_height": null,
            "max_width": null,
            "min_height": null,
            "min_width": null,
            "object_fit": null,
            "object_position": null,
            "order": null,
            "overflow": null,
            "overflow_x": null,
            "overflow_y": null,
            "padding": null,
            "right": null,
            "top": null,
            "visibility": null,
            "width": null
          }
        },
        "aff33b4d00754d2a9ee1b45ce33c0669": {
          "model_module": "@jupyter-widgets/controls",
          "model_module_version": "1.5.0",
          "model_name": "HTMLModel",
          "state": {
            "_dom_classes": [],
            "_model_module": "@jupyter-widgets/controls",
            "_model_module_version": "1.5.0",
            "_model_name": "HTMLModel",
            "_view_count": null,
            "_view_module": "@jupyter-widgets/controls",
            "_view_module_version": "1.5.0",
            "_view_name": "HTMLView",
            "description": "",
            "description_tooltip": null,
            "layout": "IPY_MODEL_63f2625f03564b8c878d0b78258cf93c",
            "placeholder": "​",
            "style": "IPY_MODEL_3441dabd8770428c8c9c17bb3dca180a",
            "value": " 12976/12976 [32:32&lt;00:00,  3.13it/s]"
          }
        },
        "b195ba6e1fc649dd85c564b5aa093b74": {
          "model_module": "@jupyter-widgets/base",
          "model_module_version": "1.2.0",
          "model_name": "LayoutModel",
          "state": {
            "_model_module": "@jupyter-widgets/base",
            "_model_module_version": "1.2.0",
            "_model_name": "LayoutModel",
            "_view_count": null,
            "_view_module": "@jupyter-widgets/base",
            "_view_module_version": "1.2.0",
            "_view_name": "LayoutView",
            "align_content": null,
            "align_items": null,
            "align_self": null,
            "border": null,
            "bottom": null,
            "display": null,
            "flex": null,
            "flex_flow": null,
            "grid_area": null,
            "grid_auto_columns": null,
            "grid_auto_flow": null,
            "grid_auto_rows": null,
            "grid_column": null,
            "grid_gap": null,
            "grid_row": null,
            "grid_template_areas": null,
            "grid_template_columns": null,
            "grid_template_rows": null,
            "height": null,
            "justify_content": null,
            "justify_items": null,
            "left": null,
            "margin": null,
            "max_height": null,
            "max_width": null,
            "min_height": null,
            "min_width": null,
            "object_fit": null,
            "object_position": null,
            "order": null,
            "overflow": null,
            "overflow_x": null,
            "overflow_y": null,
            "padding": null,
            "right": null,
            "top": null,
            "visibility": null,
            "width": null
          }
        },
        "b86d569150314f6f99ddebb7138ecd52": {
          "model_module": "@jupyter-widgets/controls",
          "model_module_version": "1.5.0",
          "model_name": "HBoxModel",
          "state": {
            "_dom_classes": [],
            "_model_module": "@jupyter-widgets/controls",
            "_model_module_version": "1.5.0",
            "_model_name": "HBoxModel",
            "_view_count": null,
            "_view_module": "@jupyter-widgets/controls",
            "_view_module_version": "1.5.0",
            "_view_name": "HBoxView",
            "box_style": "",
            "children": [
              "IPY_MODEL_de8bec6a161646859bd48a6d6083c4ee",
              "IPY_MODEL_14df679685284b4fbfeffb07f3ac9129",
              "IPY_MODEL_aff33b4d00754d2a9ee1b45ce33c0669"
            ],
            "layout": "IPY_MODEL_8045f83b93914187a255f95fac31869f"
          }
        },
        "cf9a7d6ed86644b79449db21103cc3c3": {
          "model_module": "@jupyter-widgets/controls",
          "model_module_version": "1.5.0",
          "model_name": "DescriptionStyleModel",
          "state": {
            "_model_module": "@jupyter-widgets/controls",
            "_model_module_version": "1.5.0",
            "_model_name": "DescriptionStyleModel",
            "_view_count": null,
            "_view_module": "@jupyter-widgets/base",
            "_view_module_version": "1.2.0",
            "_view_name": "StyleView",
            "description_width": ""
          }
        },
        "de8bec6a161646859bd48a6d6083c4ee": {
          "model_module": "@jupyter-widgets/controls",
          "model_module_version": "1.5.0",
          "model_name": "HTMLModel",
          "state": {
            "_dom_classes": [],
            "_model_module": "@jupyter-widgets/controls",
            "_model_module_version": "1.5.0",
            "_model_name": "HTMLModel",
            "_view_count": null,
            "_view_module": "@jupyter-widgets/controls",
            "_view_module_version": "1.5.0",
            "_view_name": "HTMLView",
            "description": "",
            "description_tooltip": null,
            "layout": "IPY_MODEL_8c7bd94b136449309a63ea4c0aba9722",
            "placeholder": "​",
            "style": "IPY_MODEL_cf9a7d6ed86644b79449db21103cc3c3",
            "value": "Pandas Apply: 100%"
          }
        }
      }
    }
  },
  "nbformat": 4,
  "nbformat_minor": 0
}

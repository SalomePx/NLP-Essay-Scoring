{
  "nbformat": 4,
  "nbformat_minor": 0,
  "metadata": {
    "colab": {
      "name": "Demo_NLP.ipynb",
      "provenance": [],
      "collapsed_sections": [],
      "machine_shape": "hm"
    },
    "kernelspec": {
      "name": "python3",
      "display_name": "Python 3"
    },
    "language_info": {
      "name": "python"
    },
    "accelerator": "GPU"
  },
  "cells": [
    {
      "cell_type": "markdown",
      "source": [
        "# Installation"
      ],
      "metadata": {
        "id": "3bqEy6uVvPZy"
      }
    },
    {
      "cell_type": "code",
      "execution_count": 1,
      "metadata": {
        "colab": {
          "base_uri": "https://localhost:8080/"
        },
        "id": "zz34ADJZMa0l",
        "outputId": "a2fde3e3-5a4c-420c-8e40-091f1d2acab2"
      },
      "outputs": [
        {
          "output_type": "stream",
          "name": "stdout",
          "text": [
            "Error: Failed to call git rev-parse --git-dir --show-toplevel: \"fatal: not a git repository (or any of the parent directories): .git\\n\"\n",
            "Git LFS initialized.\n",
            "Cloning into 'NLP-Essay-Scoring'...\n",
            "remote: Enumerating objects: 79, done.\u001b[K\n",
            "remote: Total 79 (delta 0), reused 0 (delta 0), pack-reused 79\u001b[K\n",
            "Unpacking objects: 100% (79/79), done.\n",
            "Checking out files: 100% (46/46), done.\n",
            "Filtering content: 100% (5/5), 608.32 MiB | 78.71 MiB/s, done.\n"
          ]
        }
      ],
      "source": [
        "!git lfs install\n",
        "!git clone https://github.com/SalomePx/NLP-Essay-Scoring"
      ]
    },
    {
      "cell_type": "code",
      "source": [
        "%cd NLP-Essay-Scoring"
      ],
      "metadata": {
        "colab": {
          "base_uri": "https://localhost:8080/"
        },
        "id": "M-Q9rktjMfcZ",
        "outputId": "f5538873-3f7a-4031-a037-44d89b0af3a2"
      },
      "execution_count": 2,
      "outputs": [
        {
          "output_type": "stream",
          "name": "stdout",
          "text": [
            "/content/NLP-Essay-Scoring\n"
          ]
        }
      ]
    },
    {
      "cell_type": "code",
      "source": [
        "!pip install -r requirements.txt"
      ],
      "metadata": {
        "colab": {
          "base_uri": "https://localhost:8080/",
          "height": 1000
        },
        "id": "OJH4BdVqM-fm",
        "outputId": "1259ebdb-73fe-48da-cc64-febd06b86206"
      },
      "execution_count": 3,
      "outputs": [
        {
          "output_type": "stream",
          "name": "stdout",
          "text": [
            "Collecting language-tool-python\n",
            "  Downloading language_tool_python-2.7.1-py3-none-any.whl (34 kB)\n",
            "Collecting swifter\n",
            "  Downloading swifter-1.1.3.tar.gz (647 kB)\n",
            "\u001b[K     |████████████████████████████████| 647 kB 8.2 MB/s \n",
            "\u001b[?25hCollecting pyLDAvis\n",
            "  Downloading pyLDAvis-3.3.1.tar.gz (1.7 MB)\n",
            "\u001b[K     |████████████████████████████████| 1.7 MB 41.9 MB/s \n",
            "\u001b[?25h  Installing build dependencies ... \u001b[?25l\u001b[?25hdone\n",
            "  Getting requirements to build wheel ... \u001b[?25l\u001b[?25hdone\n",
            "  Installing backend dependencies ... \u001b[?25l\u001b[?25hdone\n",
            "    Preparing wheel metadata ... \u001b[?25l\u001b[?25hdone\n",
            "Requirement already satisfied: seaborn in /usr/local/lib/python3.7/dist-packages (from -r requirements.txt (line 4)) (0.11.2)\n",
            "Requirement already satisfied: spacy in /usr/local/lib/python3.7/dist-packages (from -r requirements.txt (line 5)) (2.2.4)\n",
            "Requirement already satisfied: TextBlob in /usr/local/lib/python3.7/dist-packages (from -r requirements.txt (line 6)) (0.15.3)\n",
            "Collecting skll\n",
            "  Downloading skll-3.0.0-py2.py3-none-any.whl (125 kB)\n",
            "\u001b[K     |████████████████████████████████| 125 kB 47.5 MB/s \n",
            "\u001b[?25hCollecting black\n",
            "  Downloading black-22.3.0-cp37-cp37m-manylinux_2_17_x86_64.manylinux2014_x86_64.whl (1.4 MB)\n",
            "\u001b[K     |████████████████████████████████| 1.4 MB 35.5 MB/s \n",
            "\u001b[?25hCollecting pickle5\n",
            "  Downloading pickle5-0.0.12-cp37-cp37m-manylinux_2_5_x86_64.manylinux1_x86_64.whl (256 kB)\n",
            "\u001b[K     |████████████████████████████████| 256 kB 49.6 MB/s \n",
            "\u001b[?25hRequirement already satisfied: requests in /usr/local/lib/python3.7/dist-packages (from language-tool-python->-r requirements.txt (line 1)) (2.23.0)\n",
            "Requirement already satisfied: tqdm in /usr/local/lib/python3.7/dist-packages (from language-tool-python->-r requirements.txt (line 1)) (4.64.0)\n",
            "Requirement already satisfied: pandas>=1.0.0 in /usr/local/lib/python3.7/dist-packages (from swifter->-r requirements.txt (line 2)) (1.3.5)\n",
            "Collecting psutil>=5.6.6\n",
            "  Downloading psutil-5.9.0-cp37-cp37m-manylinux_2_12_x86_64.manylinux2010_x86_64.manylinux_2_17_x86_64.manylinux2014_x86_64.whl (280 kB)\n",
            "\u001b[K     |████████████████████████████████| 280 kB 61.2 MB/s \n",
            "\u001b[?25hRequirement already satisfied: dask[dataframe]>=2.10.0 in /usr/local/lib/python3.7/dist-packages (from swifter->-r requirements.txt (line 2)) (2.12.0)\n",
            "Requirement already satisfied: ipywidgets>=7.0.0 in /usr/local/lib/python3.7/dist-packages (from swifter->-r requirements.txt (line 2)) (7.7.0)\n",
            "Requirement already satisfied: cloudpickle>=0.2.2 in /usr/local/lib/python3.7/dist-packages (from swifter->-r requirements.txt (line 2)) (1.3.0)\n",
            "Requirement already satisfied: parso>0.4.0 in /usr/local/lib/python3.7/dist-packages (from swifter->-r requirements.txt (line 2)) (0.8.3)\n",
            "Requirement already satisfied: bleach>=3.1.1 in /usr/local/lib/python3.7/dist-packages (from swifter->-r requirements.txt (line 2)) (5.0.0)\n",
            "Requirement already satisfied: six>=1.9.0 in /usr/local/lib/python3.7/dist-packages (from bleach>=3.1.1->swifter->-r requirements.txt (line 2)) (1.15.0)\n",
            "Requirement already satisfied: webencodings in /usr/local/lib/python3.7/dist-packages (from bleach>=3.1.1->swifter->-r requirements.txt (line 2)) (0.5.1)\n",
            "Requirement already satisfied: toolz>=0.7.3 in /usr/local/lib/python3.7/dist-packages (from dask[dataframe]>=2.10.0->swifter->-r requirements.txt (line 2)) (0.11.2)\n",
            "Requirement already satisfied: numpy>=1.13.0 in /usr/local/lib/python3.7/dist-packages (from dask[dataframe]>=2.10.0->swifter->-r requirements.txt (line 2)) (1.21.6)\n",
            "Collecting fsspec>=0.6.0\n",
            "  Downloading fsspec-2022.3.0-py3-none-any.whl (136 kB)\n",
            "\u001b[K     |████████████████████████████████| 136 kB 59.7 MB/s \n",
            "\u001b[?25hCollecting partd>=0.3.10\n",
            "  Downloading partd-1.2.0-py3-none-any.whl (19 kB)\n",
            "Requirement already satisfied: ipykernel>=4.5.1 in /usr/local/lib/python3.7/dist-packages (from ipywidgets>=7.0.0->swifter->-r requirements.txt (line 2)) (4.10.1)\n",
            "Requirement already satisfied: nbformat>=4.2.0 in /usr/local/lib/python3.7/dist-packages (from ipywidgets>=7.0.0->swifter->-r requirements.txt (line 2)) (5.3.0)\n",
            "Requirement already satisfied: jupyterlab-widgets>=1.0.0 in /usr/local/lib/python3.7/dist-packages (from ipywidgets>=7.0.0->swifter->-r requirements.txt (line 2)) (1.1.0)\n",
            "Requirement already satisfied: widgetsnbextension~=3.6.0 in /usr/local/lib/python3.7/dist-packages (from ipywidgets>=7.0.0->swifter->-r requirements.txt (line 2)) (3.6.0)\n",
            "Requirement already satisfied: ipython>=4.0.0 in /usr/local/lib/python3.7/dist-packages (from ipywidgets>=7.0.0->swifter->-r requirements.txt (line 2)) (5.5.0)\n",
            "Requirement already satisfied: ipython-genutils~=0.2.0 in /usr/local/lib/python3.7/dist-packages (from ipywidgets>=7.0.0->swifter->-r requirements.txt (line 2)) (0.2.0)\n",
            "Requirement already satisfied: traitlets>=4.3.1 in /usr/local/lib/python3.7/dist-packages (from ipywidgets>=7.0.0->swifter->-r requirements.txt (line 2)) (5.1.1)\n",
            "Requirement already satisfied: tornado>=4.0 in /usr/local/lib/python3.7/dist-packages (from ipykernel>=4.5.1->ipywidgets>=7.0.0->swifter->-r requirements.txt (line 2)) (5.1.1)\n",
            "Requirement already satisfied: jupyter-client in /usr/local/lib/python3.7/dist-packages (from ipykernel>=4.5.1->ipywidgets>=7.0.0->swifter->-r requirements.txt (line 2)) (5.3.5)\n",
            "Requirement already satisfied: decorator in /usr/local/lib/python3.7/dist-packages (from ipython>=4.0.0->ipywidgets>=7.0.0->swifter->-r requirements.txt (line 2)) (4.4.2)\n",
            "Requirement already satisfied: setuptools>=18.5 in /usr/local/lib/python3.7/dist-packages (from ipython>=4.0.0->ipywidgets>=7.0.0->swifter->-r requirements.txt (line 2)) (57.4.0)\n",
            "Requirement already satisfied: simplegeneric>0.8 in /usr/local/lib/python3.7/dist-packages (from ipython>=4.0.0->ipywidgets>=7.0.0->swifter->-r requirements.txt (line 2)) (0.8.1)\n",
            "Requirement already satisfied: prompt-toolkit<2.0.0,>=1.0.4 in /usr/local/lib/python3.7/dist-packages (from ipython>=4.0.0->ipywidgets>=7.0.0->swifter->-r requirements.txt (line 2)) (1.0.18)\n",
            "Requirement already satisfied: pexpect in /usr/local/lib/python3.7/dist-packages (from ipython>=4.0.0->ipywidgets>=7.0.0->swifter->-r requirements.txt (line 2)) (4.8.0)\n",
            "Requirement already satisfied: pygments in /usr/local/lib/python3.7/dist-packages (from ipython>=4.0.0->ipywidgets>=7.0.0->swifter->-r requirements.txt (line 2)) (2.6.1)\n",
            "Requirement already satisfied: pickleshare in /usr/local/lib/python3.7/dist-packages (from ipython>=4.0.0->ipywidgets>=7.0.0->swifter->-r requirements.txt (line 2)) (0.7.5)\n",
            "Requirement already satisfied: fastjsonschema in /usr/local/lib/python3.7/dist-packages (from nbformat>=4.2.0->ipywidgets>=7.0.0->swifter->-r requirements.txt (line 2)) (2.15.3)\n",
            "Requirement already satisfied: jsonschema>=2.6 in /usr/local/lib/python3.7/dist-packages (from nbformat>=4.2.0->ipywidgets>=7.0.0->swifter->-r requirements.txt (line 2)) (4.3.3)\n",
            "Requirement already satisfied: jupyter-core in /usr/local/lib/python3.7/dist-packages (from nbformat>=4.2.0->ipywidgets>=7.0.0->swifter->-r requirements.txt (line 2)) (4.10.0)\n",
            "Requirement already satisfied: importlib-resources>=1.4.0 in /usr/local/lib/python3.7/dist-packages (from jsonschema>=2.6->nbformat>=4.2.0->ipywidgets>=7.0.0->swifter->-r requirements.txt (line 2)) (5.7.1)\n",
            "Requirement already satisfied: attrs>=17.4.0 in /usr/local/lib/python3.7/dist-packages (from jsonschema>=2.6->nbformat>=4.2.0->ipywidgets>=7.0.0->swifter->-r requirements.txt (line 2)) (21.4.0)\n",
            "Requirement already satisfied: importlib-metadata in /usr/local/lib/python3.7/dist-packages (from jsonschema>=2.6->nbformat>=4.2.0->ipywidgets>=7.0.0->swifter->-r requirements.txt (line 2)) (4.11.3)\n",
            "Requirement already satisfied: pyrsistent!=0.17.0,!=0.17.1,!=0.17.2,>=0.14.0 in /usr/local/lib/python3.7/dist-packages (from jsonschema>=2.6->nbformat>=4.2.0->ipywidgets>=7.0.0->swifter->-r requirements.txt (line 2)) (0.18.1)\n",
            "Requirement already satisfied: typing-extensions in /usr/local/lib/python3.7/dist-packages (from jsonschema>=2.6->nbformat>=4.2.0->ipywidgets>=7.0.0->swifter->-r requirements.txt (line 2)) (4.2.0)\n",
            "Requirement already satisfied: zipp>=3.1.0 in /usr/local/lib/python3.7/dist-packages (from importlib-resources>=1.4.0->jsonschema>=2.6->nbformat>=4.2.0->ipywidgets>=7.0.0->swifter->-r requirements.txt (line 2)) (3.8.0)\n",
            "Requirement already satisfied: python-dateutil>=2.7.3 in /usr/local/lib/python3.7/dist-packages (from pandas>=1.0.0->swifter->-r requirements.txt (line 2)) (2.8.2)\n",
            "Requirement already satisfied: pytz>=2017.3 in /usr/local/lib/python3.7/dist-packages (from pandas>=1.0.0->swifter->-r requirements.txt (line 2)) (2022.1)\n",
            "Collecting locket\n",
            "  Downloading locket-1.0.0-py2.py3-none-any.whl (4.4 kB)\n",
            "Requirement already satisfied: wcwidth in /usr/local/lib/python3.7/dist-packages (from prompt-toolkit<2.0.0,>=1.0.4->ipython>=4.0.0->ipywidgets>=7.0.0->swifter->-r requirements.txt (line 2)) (0.2.5)\n",
            "Requirement already satisfied: notebook>=4.4.1 in /usr/local/lib/python3.7/dist-packages (from widgetsnbextension~=3.6.0->ipywidgets>=7.0.0->swifter->-r requirements.txt (line 2)) (5.3.1)\n",
            "Requirement already satisfied: Send2Trash in /usr/local/lib/python3.7/dist-packages (from notebook>=4.4.1->widgetsnbextension~=3.6.0->ipywidgets>=7.0.0->swifter->-r requirements.txt (line 2)) (1.8.0)\n",
            "Requirement already satisfied: jinja2 in /usr/local/lib/python3.7/dist-packages (from notebook>=4.4.1->widgetsnbextension~=3.6.0->ipywidgets>=7.0.0->swifter->-r requirements.txt (line 2)) (2.11.3)\n",
            "Requirement already satisfied: nbconvert in /usr/local/lib/python3.7/dist-packages (from notebook>=4.4.1->widgetsnbextension~=3.6.0->ipywidgets>=7.0.0->swifter->-r requirements.txt (line 2)) (5.6.1)\n",
            "Requirement already satisfied: terminado>=0.8.1 in /usr/local/lib/python3.7/dist-packages (from notebook>=4.4.1->widgetsnbextension~=3.6.0->ipywidgets>=7.0.0->swifter->-r requirements.txt (line 2)) (0.13.3)\n",
            "Requirement already satisfied: pyzmq>=13 in /usr/local/lib/python3.7/dist-packages (from jupyter-client->ipykernel>=4.5.1->ipywidgets>=7.0.0->swifter->-r requirements.txt (line 2)) (22.3.0)\n",
            "Requirement already satisfied: ptyprocess in /usr/local/lib/python3.7/dist-packages (from terminado>=0.8.1->notebook>=4.4.1->widgetsnbextension~=3.6.0->ipywidgets>=7.0.0->swifter->-r requirements.txt (line 2)) (0.7.0)\n",
            "Requirement already satisfied: scikit-learn in /usr/local/lib/python3.7/dist-packages (from pyLDAvis->-r requirements.txt (line 3)) (1.0.2)\n",
            "Requirement already satisfied: joblib in /usr/local/lib/python3.7/dist-packages (from pyLDAvis->-r requirements.txt (line 3)) (1.1.0)\n",
            "Collecting funcy\n",
            "  Downloading funcy-1.17-py2.py3-none-any.whl (33 kB)\n",
            "Requirement already satisfied: future in /usr/local/lib/python3.7/dist-packages (from pyLDAvis->-r requirements.txt (line 3)) (0.16.0)\n",
            "Requirement already satisfied: scipy in /usr/local/lib/python3.7/dist-packages (from pyLDAvis->-r requirements.txt (line 3)) (1.4.1)\n",
            "Requirement already satisfied: numexpr in /usr/local/lib/python3.7/dist-packages (from pyLDAvis->-r requirements.txt (line 3)) (2.8.1)\n",
            "Requirement already satisfied: sklearn in /usr/local/lib/python3.7/dist-packages (from pyLDAvis->-r requirements.txt (line 3)) (0.0)\n",
            "Requirement already satisfied: gensim in /usr/local/lib/python3.7/dist-packages (from pyLDAvis->-r requirements.txt (line 3)) (3.6.0)\n",
            "Requirement already satisfied: matplotlib>=2.2 in /usr/local/lib/python3.7/dist-packages (from seaborn->-r requirements.txt (line 4)) (3.2.2)\n",
            "Requirement already satisfied: cycler>=0.10 in /usr/local/lib/python3.7/dist-packages (from matplotlib>=2.2->seaborn->-r requirements.txt (line 4)) (0.11.0)\n",
            "Requirement already satisfied: pyparsing!=2.0.4,!=2.1.2,!=2.1.6,>=2.0.1 in /usr/local/lib/python3.7/dist-packages (from matplotlib>=2.2->seaborn->-r requirements.txt (line 4)) (3.0.8)\n",
            "Requirement already satisfied: kiwisolver>=1.0.1 in /usr/local/lib/python3.7/dist-packages (from matplotlib>=2.2->seaborn->-r requirements.txt (line 4)) (1.4.2)\n",
            "Requirement already satisfied: murmurhash<1.1.0,>=0.28.0 in /usr/local/lib/python3.7/dist-packages (from spacy->-r requirements.txt (line 5)) (1.0.7)\n",
            "Requirement already satisfied: srsly<1.1.0,>=1.0.2 in /usr/local/lib/python3.7/dist-packages (from spacy->-r requirements.txt (line 5)) (1.0.5)\n",
            "Requirement already satisfied: catalogue<1.1.0,>=0.0.7 in /usr/local/lib/python3.7/dist-packages (from spacy->-r requirements.txt (line 5)) (1.0.0)\n",
            "Requirement already satisfied: plac<1.2.0,>=0.9.6 in /usr/local/lib/python3.7/dist-packages (from spacy->-r requirements.txt (line 5)) (1.1.3)\n",
            "Requirement already satisfied: preshed<3.1.0,>=3.0.2 in /usr/local/lib/python3.7/dist-packages (from spacy->-r requirements.txt (line 5)) (3.0.6)\n",
            "Requirement already satisfied: thinc==7.4.0 in /usr/local/lib/python3.7/dist-packages (from spacy->-r requirements.txt (line 5)) (7.4.0)\n",
            "Requirement already satisfied: cymem<2.1.0,>=2.0.2 in /usr/local/lib/python3.7/dist-packages (from spacy->-r requirements.txt (line 5)) (2.0.6)\n",
            "Requirement already satisfied: blis<0.5.0,>=0.4.0 in /usr/local/lib/python3.7/dist-packages (from spacy->-r requirements.txt (line 5)) (0.4.1)\n",
            "Requirement already satisfied: wasabi<1.1.0,>=0.4.0 in /usr/local/lib/python3.7/dist-packages (from spacy->-r requirements.txt (line 5)) (0.9.1)\n",
            "Requirement already satisfied: chardet<4,>=3.0.2 in /usr/local/lib/python3.7/dist-packages (from requests->language-tool-python->-r requirements.txt (line 1)) (3.0.4)\n",
            "Requirement already satisfied: idna<3,>=2.5 in /usr/local/lib/python3.7/dist-packages (from requests->language-tool-python->-r requirements.txt (line 1)) (2.10)\n",
            "Requirement already satisfied: urllib3!=1.25.0,!=1.25.1,<1.26,>=1.21.1 in /usr/local/lib/python3.7/dist-packages (from requests->language-tool-python->-r requirements.txt (line 1)) (1.24.3)\n",
            "Requirement already satisfied: certifi>=2017.4.17 in /usr/local/lib/python3.7/dist-packages (from requests->language-tool-python->-r requirements.txt (line 1)) (2021.10.8)\n",
            "Requirement already satisfied: nltk>=3.1 in /usr/local/lib/python3.7/dist-packages (from TextBlob->-r requirements.txt (line 6)) (3.2.5)\n",
            "Collecting ruamel.yaml\n",
            "  Downloading ruamel.yaml-0.17.21-py3-none-any.whl (109 kB)\n",
            "\u001b[K     |████████████████████████████████| 109 kB 49.4 MB/s \n",
            "\u001b[?25hRequirement already satisfied: beautifulsoup4 in /usr/local/lib/python3.7/dist-packages (from skll->-r requirements.txt (line 7)) (4.6.3)\n",
            "Requirement already satisfied: tabulate in /usr/local/lib/python3.7/dist-packages (from skll->-r requirements.txt (line 7)) (0.8.9)\n",
            "Requirement already satisfied: threadpoolctl>=2.0.0 in /usr/local/lib/python3.7/dist-packages (from scikit-learn->pyLDAvis->-r requirements.txt (line 3)) (3.1.0)\n",
            "Collecting typed-ast>=1.4.2\n",
            "  Downloading typed_ast-1.5.3-cp37-cp37m-manylinux_2_5_x86_64.manylinux1_x86_64.manylinux_2_12_x86_64.manylinux2010_x86_64.whl (843 kB)\n",
            "\u001b[K     |████████████████████████████████| 843 kB 48.1 MB/s \n",
            "\u001b[?25hCollecting mypy-extensions>=0.4.3\n",
            "  Downloading mypy_extensions-0.4.3-py2.py3-none-any.whl (4.5 kB)\n",
            "Requirement already satisfied: tomli>=1.1.0 in /usr/local/lib/python3.7/dist-packages (from black->-r requirements.txt (line 8)) (2.0.1)\n",
            "Collecting click>=8.0.0\n",
            "  Downloading click-8.1.3-py3-none-any.whl (96 kB)\n",
            "\u001b[K     |████████████████████████████████| 96 kB 5.8 MB/s \n",
            "\u001b[?25hCollecting pathspec>=0.9.0\n",
            "  Downloading pathspec-0.9.0-py2.py3-none-any.whl (31 kB)\n",
            "Collecting platformdirs>=2\n",
            "  Downloading platformdirs-2.5.2-py3-none-any.whl (14 kB)\n",
            "Requirement already satisfied: smart-open>=1.2.1 in /usr/local/lib/python3.7/dist-packages (from gensim->pyLDAvis->-r requirements.txt (line 3)) (6.0.0)\n",
            "Requirement already satisfied: MarkupSafe>=0.23 in /usr/local/lib/python3.7/dist-packages (from jinja2->notebook>=4.4.1->widgetsnbextension~=3.6.0->ipywidgets>=7.0.0->swifter->-r requirements.txt (line 2)) (2.0.1)\n",
            "Requirement already satisfied: defusedxml in /usr/local/lib/python3.7/dist-packages (from nbconvert->notebook>=4.4.1->widgetsnbextension~=3.6.0->ipywidgets>=7.0.0->swifter->-r requirements.txt (line 2)) (0.7.1)\n",
            "Requirement already satisfied: testpath in /usr/local/lib/python3.7/dist-packages (from nbconvert->notebook>=4.4.1->widgetsnbextension~=3.6.0->ipywidgets>=7.0.0->swifter->-r requirements.txt (line 2)) (0.6.0)\n",
            "Requirement already satisfied: pandocfilters>=1.4.1 in /usr/local/lib/python3.7/dist-packages (from nbconvert->notebook>=4.4.1->widgetsnbextension~=3.6.0->ipywidgets>=7.0.0->swifter->-r requirements.txt (line 2)) (1.5.0)\n",
            "Requirement already satisfied: mistune<2,>=0.8.1 in /usr/local/lib/python3.7/dist-packages (from nbconvert->notebook>=4.4.1->widgetsnbextension~=3.6.0->ipywidgets>=7.0.0->swifter->-r requirements.txt (line 2)) (0.8.4)\n",
            "Requirement already satisfied: entrypoints>=0.2.2 in /usr/local/lib/python3.7/dist-packages (from nbconvert->notebook>=4.4.1->widgetsnbextension~=3.6.0->ipywidgets>=7.0.0->swifter->-r requirements.txt (line 2)) (0.4)\n",
            "Requirement already satisfied: packaging in /usr/local/lib/python3.7/dist-packages (from numexpr->pyLDAvis->-r requirements.txt (line 3)) (21.3)\n",
            "Collecting ruamel.yaml.clib>=0.2.6\n",
            "  Downloading ruamel.yaml.clib-0.2.6-cp37-cp37m-manylinux1_x86_64.whl (546 kB)\n",
            "\u001b[K     |████████████████████████████████| 546 kB 61.6 MB/s \n",
            "\u001b[?25hBuilding wheels for collected packages: swifter, pyLDAvis\n",
            "  Building wheel for swifter (setup.py) ... \u001b[?25l\u001b[?25hdone\n",
            "  Created wheel for swifter: filename=swifter-1.1.3-py3-none-any.whl size=13078 sha256=c054ac178a12c1c9aca91fc85c4838c866ee41103946970f6f62c91a5bf5ebd9\n",
            "  Stored in directory: /root/.cache/pip/wheels/e8/1a/1b/46aa7b0fac16d3ce1bccaac14bfe4fad972642217ae78d8160\n",
            "  Building wheel for pyLDAvis (PEP 517) ... \u001b[?25l\u001b[?25hdone\n",
            "  Created wheel for pyLDAvis: filename=pyLDAvis-3.3.1-py2.py3-none-any.whl size=136898 sha256=0c5cb8aa64546f3b735b8264978c209cf49bf0c792b0fccb8ba7560d99afe8e8\n",
            "  Stored in directory: /root/.cache/pip/wheels/c9/21/f6/17bcf2667e8a68532ba2fbf6d5c72fdf4c7f7d9abfa4852d2f\n",
            "Successfully built swifter pyLDAvis\n",
            "Installing collected packages: locket, ruamel.yaml.clib, partd, fsspec, typed-ast, ruamel.yaml, psutil, platformdirs, pathspec, mypy-extensions, funcy, click, swifter, skll, pyLDAvis, pickle5, language-tool-python, black\n",
            "  Attempting uninstall: psutil\n",
            "    Found existing installation: psutil 5.4.8\n",
            "    Uninstalling psutil-5.4.8:\n",
            "      Successfully uninstalled psutil-5.4.8\n",
            "  Attempting uninstall: click\n",
            "    Found existing installation: click 7.1.2\n",
            "    Uninstalling click-7.1.2:\n",
            "      Successfully uninstalled click-7.1.2\n",
            "\u001b[31mERROR: pip's dependency resolver does not currently take into account all the packages that are installed. This behaviour is the source of the following dependency conflicts.\n",
            "flask 1.1.4 requires click<8.0,>=5.1, but you have click 8.1.3 which is incompatible.\u001b[0m\n",
            "Successfully installed black-22.3.0 click-8.1.3 fsspec-2022.3.0 funcy-1.17 language-tool-python-2.7.1 locket-1.0.0 mypy-extensions-0.4.3 partd-1.2.0 pathspec-0.9.0 pickle5-0.0.12 platformdirs-2.5.2 psutil-5.9.0 pyLDAvis-3.3.1 ruamel.yaml-0.17.21 ruamel.yaml.clib-0.2.6 skll-3.0.0 swifter-1.1.3 typed-ast-1.5.3\n"
          ]
        },
        {
          "output_type": "display_data",
          "data": {
            "application/vnd.colab-display-data+json": {
              "pip_warning": {
                "packages": [
                  "psutil"
                ]
              }
            }
          },
          "metadata": {}
        }
      ]
    },
    {
      "cell_type": "markdown",
      "source": [
        "# Topic Modeling Plots"
      ],
      "metadata": {
        "id": "DxT7gSj2vW4P"
      }
    },
    {
      "cell_type": "code",
      "source": [
        "from topic_modeling import create_plots, spacy_analysis, prepare\n",
        "import pickle5 as pickle5\n",
        "\n",
        "training_set = spacy_analysis()\n",
        "lda_base, doc_term_matrix, vectorizer = create_plots(training_set)"
      ],
      "metadata": {
        "id": "9JVCP-D5ptoG"
      },
      "execution_count": null,
      "outputs": []
    },
    {
      "cell_type": "code",
      "source": [
        "from pyLDAvis.sklearn import prepare\n",
        "from sklearn.decomposition import LatentDirichletAllocation\n",
        "import pyLDAvis\n",
        "\n",
        "pyLDAvis.enable_notebook()\n",
        "prepare(lda_base, doc_term_matrix, vectorizer, n_jobs=1)"
      ],
      "metadata": {
        "colab": {
          "base_uri": "https://localhost:8080/",
          "height": 861
        },
        "id": "o-3PE3ltd3V3",
        "outputId": "7ab3bda0-a5e3-4105-8e94-c6c6cf520afa"
      },
      "execution_count": null,
      "outputs": [
        {
          "output_type": "execute_result",
          "data": {
            "text/plain": [
              "PreparedData(topic_coordinates=              x         y  topics  cluster       Freq\n",
              "topic                                                \n",
              "7      0.063518 -0.021168       1        1  21.754269\n",
              "3      0.062968 -0.074080       2        1  21.325591\n",
              "0      0.115176 -0.063530       3        1  15.188533\n",
              "2     -0.429028 -0.020653       4        1  10.148675\n",
              "4     -0.008827 -0.147362       5        1   9.729296\n",
              "5      0.123018 -0.126696       6        1   9.215630\n",
              "6      0.057578  0.278160       7        1   7.217582\n",
              "1      0.015598  0.175331       8        1   5.420424, topic_info=           Term          Freq         Total Category  logprob  loglift\n",
              "363    computer  20341.000000  20341.000000  Default  30.0000  30.0000\n",
              "203        book  13905.000000  13905.000000  Default  29.0000  29.0000\n",
              "230    building   7822.000000   7822.000000  Default  28.0000  28.0000\n",
              "522   dirigible   6253.000000   6253.000000  Default  27.0000  27.0000\n",
              "1162       mood   4312.000000   4312.000000  Default  26.0000  26.0000\n",
              "...         ...           ...           ...      ...      ...      ...\n",
              "1710      start    440.334937   3691.756131   Topic8  -4.6619   0.7887\n",
              "1448     reason    369.176035   4302.204551   Topic8  -4.8382   0.4594\n",
              "302      change    307.533573   1804.831577   Topic8  -5.0209   1.1454\n",
              "413     country    278.055251   1467.547595   Topic8  -5.1216   1.2515\n",
              "1122       mean    259.572748   2433.489559   Topic8  -5.1904   0.6770\n",
              "\n",
              "[510 rows x 6 columns], token_table=      Topic      Freq         Term\n",
              "term                              \n",
              "3         3  0.008427      abandon\n",
              "3         5  0.990194      abandon\n",
              "4         1  0.990129        abhor\n",
              "13        4  0.994927  accommodate\n",
              "18        5  0.989417         acid\n",
              "...     ...       ...          ...\n",
              "1996      3  0.128378        young\n",
              "1996      5  0.022297        young\n",
              "1996      6  0.027027        young\n",
              "1996      7  0.047973        young\n",
              "1996      8  0.012162        young\n",
              "\n",
              "[1298 rows x 3 columns], R=30, lambda_step=0.01, plot_opts={'xlab': 'PC1', 'ylab': 'PC2'}, topic_order=[8, 4, 1, 3, 5, 6, 7, 2])"
            ],
            "text/html": [
              "\n",
              "<link rel=\"stylesheet\" type=\"text/css\" href=\"https://cdn.jsdelivr.net/gh/bmabey/pyLDAvis@3.3.1/pyLDAvis/js/ldavis.v1.0.0.css\">\n",
              "\n",
              "\n",
              "<div id=\"ldavis_el611405965523500327973314684\"></div>\n",
              "<script type=\"text/javascript\">\n",
              "\n",
              "var ldavis_el611405965523500327973314684_data = {\"mdsDat\": {\"x\": [0.06351763655736511, 0.06296831998474073, 0.11517572330869263, -0.4290281043864341, -0.00882698527237927, 0.12301759176714738, 0.05757819824172358, 0.01559761979914458], \"y\": [-0.0211684053078581, -0.0740804581583857, -0.06353023427180045, -0.02065323829892759, -0.14736242761009977, -0.12669615111336358, 0.2781600696441308, 0.17533084511630423], \"topics\": [1, 2, 3, 4, 5, 6, 7, 8], \"cluster\": [1, 1, 1, 1, 1, 1, 1, 1], \"Freq\": [21.75426940679939, 21.32559114268885, 15.188532990047998, 10.148674817620051, 9.729295802757038, 9.215629503338064, 7.217581916432801, 5.420424420315809]}, \"tinfo\": {\"Term\": [\"computer\", \"book\", \"building\", \"dirigible\", \"mood\", \"library\", \"cyclist\", \"laugh\", \"obstacle\", \"empire\", \"test\", \"patient\", \"offensive\", \"sang\", \"mast\", \"memoir\", \"love\", \"wait\", \"paragraph\", \"builder\", \"water\", \"hibiscus\", \"read\", \"dock\", \"setting\", \"mooring\", \"movie\", \"shelf\", \"narcs\", \"create\", \"offensive\", \"shelf\", \"material\", \"remove\", \"censorship\", \"censor\", \"freedom\", \"violence\", \"sex\", \"offend\", \"literature\", \"katherine\", \"paterson\", \"librarian\", \"libraries\", \"rating\", \"magazine\", \"censoring\", \"genre\", \"profanity\", \"uncensored\", \"slavery\", \"abhor\", \"appropriate\", \"books\", \"library\", \"viewer\", \"vulgar\", \"nudity\", \"bookshelf\", \"book\", \"inappropriate\", \"medium\", \"movie\", \"section\", \"ban\", \"religion\", \"novel\", \"content\", \"certain\", \"read\", \"music\", \"child\", \"public\", \"drug\", \"view\", \"item\", \"etc\", \"age\", \"listen\", \"month1\", \"right\", \"adult\", \"opinion\", \"watch\", \"kid\", \"person\", \"different\", \"believe\", \"young\", \"bad\", \"world\", \"away\", \"look\", \"learn\", \"computer\", \"online\", \"website\", \"technology\", \"coordination\", \"interact\", \"facebook\", \"email\", \"faraway\", \"myspace\", \"percent2\", \"obesity\", \"exercise\", \"obese\", \"webcam\", \"google\", \"chat\", \"twitter\", \"messaging\", \"networking\", \"socialize\", \"electronic\", \"percent3\", \"keyboard\", \"web\", \"statistic\", \"outdoors\", \"chatting\", \"earthquake\", \"cellphone\", \"dear\", \"communicate\", \"communication\", \"internet\", \"unhealthy\", \"percent1\", \"benefit\", \"addict\", \"social\", \"laptop\", \"homework\", \"advance\", \"spend\", \"newspaper\", \"screen\", \"research\", \"society\", \"helpful\", \"effect\", \"positive\", \"information\", \"help\", \"eye\", \"learn\", \"game\", \"hand\", \"talk\", \"reason\", \"easy\", \"play\", \"world\", \"type\", \"school\", \"kid\", \"place\", \"work\", \"lot\", \"great\", \"look\", \"caps3\", \"bad\", \"away\", \"laugh\", \"laughter\", \"caps8\", \"smile\", \"caps9\", \"joke\", \"caps11\", \"caps10\", \"caps12\", \"caps13\", \"caps14\", \"person4\", \"caps15\", \"caps16\", \"giggle\", \"hilarious\", \"caps18\", \"caps17\", \"caps21\", \"caps19\", \"person5\", \"caps20\", \"caps22\", \"mud\", \"caps24\", \"caps23\", \"funniest\", \"caps7\", \"girlfriend\", \"person3\", \"funny\", \"person2\", \"caps6\", \"relationship\", \"caps5\", \"boyfriend\", \"moment\", \"caps4\", \"humor\", \"person1\", \"caps3\", \"girl\", \"start\", \"cry\", \"walk\", \"tell\", \"feel\", \"look\", \"fun\", \"organization1\", \"little\", \"talk\", \"year\", \"try\", \"sit\", \"love\", \"school\", \"person\", \"face\", \"dirigible\", \"empire\", \"mast\", \"builder\", \"dock\", \"mooring\", \"frame\", \"york\", \"airship\", \"blimp\", \"architect\", \"moor\", \"tether\", \"landing\", \"smith\", \"modify\", \"strengthen\", \"foundation\", \"steel\", \"al\", \"cable\", \"modification\", \"marcia\", \"framework\", \"amid\", \"docking\", \"lusted\", \"transmit\", \"accommodate\", \"aircraft\", \"wind\", \"shift\", \"building\", \"obstacle\", \"attempt\", \"ship\", \"safety\", \"law\", \"current\", \"stress\", \"violent\", \"area\", \"face\", \"low\", \"city\", \"constantly\", \"tie\", \"thousand\", \"allow\", \"problem\", \"build\", \"add\", \"nature\", \"idea\", \"cyclist\", \"setting\", \"hydrogen\", \"desert\", \"flammable\", \"urban\", \"helium\", \"exceed\", \"terrain\", \"california\", \"june\", \"dehydrate\", \"swivel\", \"pedestrian\", \"hindenburg\", \"populated\", \"densely\", \"yosemite\", \"kurmanji\", \"dangle\", \"heat\", \"german\", \"dehydration\", \"populate\", \"joe\", \"heatstroke\", \"tumbleweed\", \"thirst\", \"acid\", \"shortcut\", \"feature\", \"snake\", \"abandon\", \"hill\", \"water\", \"highly\", \"practical\", \"rough\", \"journey\", \"road\", \"affect\", \"speed\", \"hot\", \"fly\", \"town\", \"air\", \"weight\", \"ride\", \"post\", \"limit\", \"old\", \"man\", \"hard\", \"example\", \"outside\", \"patient\", \"patience\", \"ibm\", \"impatient\", \"coaster\", \"roller\", \"dentist\", \"patiently\", \"inpatient\", \"waiting\", \"deer\", \"tolerant\", \"wait\", \"hunt\", \"shot\", \"airport\", \"concert\", \"clock\", \"pack\", \"min\", \"pole\", \"breakfast\", \"appointment\", \"boat\", \"mom\", \"dad\", \"num7\", \"ill\", \"hurry\", \"line\", \"brother\", \"doctor\", \"hungry\", \"didn\", \"donut\", \"hour\", \"minute\", \"sister\", \"till\", \"num5\", \"ride\", \"excited\", \"car\", \"complain\", \"wake\", \"birthday\", \"finally\", \"long\", \"sit\", \"date1\", \"sleep\", \"eat\", \"ask\", \"num2\", \"tell\", \"food\", \"num4\", \"walk\", \"person1\", \"start\", \"play\", \"leave\", \"little\", \"game\", \"caps3\", \"house\", \"lot\", \"memoir\", \"narcs\", \"grateful\", \"rodriguez\", \"cuban\", \"sacrifice\", \"cuba\", \"immigrant\", \"gratitude\", \"gratefulness\", \"loving\", \"passionate\", \"celebration\", \"blueprints\", \"selflessly\", \"culinary\", \"solidarity\", \"congregation\", \"warmth\", \"backdrop\", \"admiration\", \"courageous\", \"eternally\", \"generosity\", \"encompass\", \"unity\", \"gracious\", \"unwittingly\", \"selflessness\", \"italian\", \"mood\", \"cooking\", \"thankful\", \"caring\", \"create\", \"neighborhood\", \"love\", \"happiness\", \"blood\", \"happy\", \"childhood\", \"describe\", \"warm\", \"kitchen\", \"house\", \"culture\", \"simple\", \"paragraph\", \"forget\", \"live\", \"care\", \"talk\", \"great\", \"grow\", \"feel\", \"tell\", \"music\", \"example\", \"child\", \"turn\", \"sang\", \"hibiscus\", \"plant\", \"spring\", \"geese\", \"winter\", \"flower\", \"bud\", \"melt\", \"vow\", \"adapt\", \"homeland\", \"vietnam\", \"ho\", \"bloom\", \"retake\", \"mining\", \"symbolize\", \"sangs\", \"repetition\", \"conclude\", \"test\", \"silently\", \"garden\", \"ending\", \"return\", \"snow\", \"blossom\", \"familiar\", \"adjust\", \"fail\", \"driver\", \"season\", \"represent\", \"paragraph\", \"remind\", \"end\", \"pass\", \"mother\", \"try\", \"feel\", \"reader\", \"hope\", \"start\", \"reason\", \"change\", \"country\", \"mean\"], \"Freq\": [20341.0, 13905.0, 7822.0, 6253.0, 4312.0, 7449.0, 3896.0, 4722.0, 4006.0, 3452.0, 2725.0, 3276.0, 5106.0, 2408.0, 2984.0, 2583.0, 3744.0, 2997.0, 3103.0, 2579.0, 2871.0, 1983.0, 6104.0, 2380.0, 2315.0, 2322.0, 4520.0, 3335.0, 1919.0, 2382.0, 5105.150754297653, 3334.3042308371155, 2926.261150461878, 2161.056044179331, 1848.7886050469554, 1365.9211797648052, 609.6945676897375, 334.34060992925373, 331.3476455184938, 1138.0227331294936, 260.5137715833852, 229.5864659029116, 224.59816563800464, 200.6543223655226, 175.7128382147679, 149.77354271575803, 2759.9308575916466, 128.822812166753, 113.85787059545484, 97.89512688815705, 94.90229949992504, 93.9047060683796, 80.9351421586068, 465.48433059519704, 74.94915989559203, 7359.2489089863875, 58.986304893021654, 122.81104802373942, 55.993649384032956, 54.99575810595383, 13488.41108881752, 847.8024607757461, 398.02888195427033, 4238.956645625238, 838.6608690852788, 481.5929575593787, 254.41125221286325, 201.84880071813956, 507.0554470227056, 1825.815795086393, 5357.759884976241, 2981.5552352801237, 4524.492604613782, 775.3618065498566, 411.0555641986785, 677.6398449393583, 505.3125907860895, 768.3449116257515, 1076.6150750933189, 1123.3722318203854, 1903.2685916967532, 2054.290922844829, 1083.5449729166664, 1135.0614991592017, 1382.8159912291785, 2104.402969719152, 1835.9558070598193, 1525.6541177951974, 1646.255559025799, 1006.0593578087911, 1445.0214789785455, 1341.0214696059609, 1160.4029788649423, 1187.9330724059885, 1106.0931801950435, 20340.54518547894, 1820.9547715937513, 1071.6706699600477, 992.8509963635017, 971.8993343377791, 584.7855902681395, 542.8816594439888, 444.1077587808957, 265.5169431267618, 254.54205470050752, 228.60138932245792, 215.63114711138104, 1651.7602884234354, 182.70653208336887, 173.72710989243976, 141.80023427999558, 807.7391705457894, 108.87564385899752, 99.8961145565661, 95.90532201358222, 95.90526065086355, 92.91173590354286, 88.92124833488425, 83.93263573917972, 211.28170036425925, 64.97584676963294, 55.99651929340172, 54.99900347091908, 53.00352249928564, 51.0078415563369, 1235.2356707281538, 667.8306566376139, 455.03610560493746, 1498.6914417099028, 147.5295902721666, 569.7332036952926, 995.5097747467405, 271.7956568222887, 512.391461552651, 193.88447892945246, 681.4643662263029, 297.34669625327473, 2015.7621384568338, 816.6709401776167, 335.64741417869124, 757.9081848701571, 1356.8983659534692, 494.6840721902729, 1697.2163094580462, 960.2770780803135, 1425.2756538369983, 3187.6313135620903, 1283.6769593772676, 2359.9918626780595, 1461.0737534501532, 1274.9460627491953, 2499.711919492293, 1942.7272733162474, 900.3301216256118, 1266.9792136680478, 1478.79646073706, 1081.2739044852724, 1417.6697786188038, 1423.2542847048317, 1288.1042517216367, 1189.1044492256476, 1274.9287391862176, 1106.558100934042, 1162.8869858020025, 1147.9661442738836, 1003.4732860912612, 998.3147552362117, 4721.522912529491, 2473.0951452277495, 933.3778510369336, 740.9129349328193, 688.7874357303676, 600.574569576323, 592.5552789815224, 541.4317563950291, 331.92608682572757, 330.9237008009678, 287.8196880594163, 283.80988391690113, 279.8003307101174, 175.54868072238463, 145.47611338095092, 141.46616566233874, 121.41798420634234, 120.41556210167478, 106.38174805398951, 92.34781274946434, 88.3379556300067, 78.31395464741583, 66.28492046059566, 56.26037814798731, 49.24380956362397, 46.23654003243889, 80.8014213500639, 1261.972077575765, 98.1816828542195, 550.9273853034439, 797.1292743264454, 1350.758481737207, 1662.40927364876, 690.7780119045391, 1929.4787089011954, 152.83242612326012, 407.81532233601365, 2379.1032176734725, 156.22576217743475, 2169.145246936115, 2390.3928990619197, 653.5445409731904, 1560.6415653793179, 318.52383311184724, 719.5017416986664, 1293.7709107760104, 1237.5850723344133, 1261.881675727939, 720.9960769399478, 848.5262267152702, 746.7096459814129, 1039.380635879987, 680.4140713630092, 760.9696510430612, 625.953659664397, 672.054615022287, 650.2225127334779, 647.8647888349176, 643.2536410800808, 6252.517071289603, 3451.477302159791, 2983.971371572439, 2578.3999989445656, 2379.610033317529, 2321.6713244745083, 868.2071627834134, 849.227381174625, 795.2844471721497, 659.4280188926591, 559.5335891954899, 441.6581866024647, 392.70992131918086, 327.77840250354785, 321.7848642356916, 316.7900742203001, 312.7936420057297, 307.7990537046858, 299.80781379741296, 291.8164584074988, 264.84472206015226, 258.8513925058123, 245.86510726148597, 243.86722883108754, 240.87038600811331, 237.87353434789378, 230.88094325055079, 191.92203536390417, 161.95337951891415, 130.9864937305098, 2002.0850313223034, 612.2332473896448, 7427.729076355589, 3805.7798664343286, 1163.1482424773378, 605.8317196577473, 843.2637538499979, 1344.406629868024, 756.9183494333452, 831.8149312813619, 701.1241749418502, 1530.8654347648173, 2379.4722873585547, 814.0539013803893, 565.5940602988588, 554.2249936044033, 446.5287990734498, 581.3699006872366, 1462.6255668284398, 1297.4894342789091, 612.7143910069561, 623.1271607105489, 739.6117475149931, 622.3998860004122, 3895.381558076346, 2314.639612397691, 1364.406766630209, 932.483577589137, 865.9567507085543, 761.6990235299578, 560.1349052888722, 459.84967383515766, 440.98414869213764, 397.2952692704366, 393.3236676558728, 389.35197560467236, 364.52746070717, 361.548943291646, 321.83216000986437, 319.8462571684724, 311.90284191888134, 258.28544303538473, 254.31373576104474, 228.4966615511838, 592.2584020468587, 194.7373497958162, 173.88654563134799, 154.0272380594187, 153.03502135849342, 139.13405781652713, 129.20474772067416, 128.2117580660113, 112.32491912835258, 102.39546664627778, 1394.6384901419715, 354.45638108233817, 235.0408545518143, 901.4498492623261, 2641.001808235695, 727.1349160485271, 297.50469575604365, 616.9665303651849, 335.45256956766923, 1172.9963988240113, 2053.8303645144088, 604.8981398457445, 865.8951168055779, 937.3534650575851, 756.6013528071703, 868.1373828609843, 596.5186507107674, 778.8743893103049, 434.6478809388389, 523.4248675006887, 593.9454122654877, 450.6683005212793, 502.79179150320863, 484.32256973737094, 438.4745594673448, 3275.8869760805246, 1496.7317316423253, 267.6966709582799, 114.94079141335166, 59.030291391245136, 52.04163898891308, 51.043367245685026, 127.47966813644379, 47.049624779445764, 93.76999178715127, 78.9787939261812, 62.74277781866703, 2891.3134631454104, 62.60830904968201, 103.70853969691413, 79.02146939196165, 47.38122825113127, 114.92343816070638, 134.28226513484162, 83.76336062750883, 65.43018088359442, 64.63375555442747, 51.76870318280859, 106.78482581979473, 1784.1266344609226, 992.0203495086483, 54.73687395464294, 82.56769381143818, 65.09729473218627, 902.1361849749015, 747.9946383624822, 326.38535956620643, 91.26730349447703, 565.4589494022312, 360.25504736146837, 1226.7491819731654, 663.9514375583162, 571.1858367898136, 192.7319832711319, 166.46160240531609, 799.5342945109757, 218.14211829750448, 551.259055078426, 272.63950791156077, 207.07243544776776, 216.7307484717277, 723.3843355251448, 926.9761615107241, 735.1807157741382, 625.5329963271382, 213.00003685119842, 388.84217181136813, 646.5515654629013, 605.013248977132, 970.9148644577505, 327.78118210903966, 246.37482948717158, 481.43624698483717, 698.5871643436083, 676.4539833535614, 546.6410937136819, 529.9638505528482, 504.98360500420097, 511.7428716372552, 548.3487655029062, 474.40867508342825, 501.6488854674139, 2582.518139099557, 1918.27513698349, 1684.5967543801692, 1171.4989396085643, 738.9454815684561, 638.5134896974278, 354.1220553180107, 349.15007883928195, 232.8081776024477, 194.02753762102915, 191.04422263145204, 185.0780228228457, 173.14561276917485, 163.20191683769772, 153.25816086363415, 140.33127608222472, 133.37064529547575, 131.38172552891183, 128.39847505067053, 123.42686720241412, 118.45490609230109, 112.48862779471553, 108.51121187249831, 106.52248886387261, 104.53369125888426, 104.53356325756644, 101.55049051553505, 74.70247675733836, 70.72496878095157, 67.74184229140795, 4221.547730635419, 316.8043654941855, 384.3150269926668, 124.94657424769288, 1909.6212101713134, 450.81432346478863, 2546.4205781523765, 496.2693779037058, 298.5828877872089, 1442.3797593313907, 325.04308410769863, 524.4804657240601, 428.06971553754533, 299.4415676042704, 1127.149841758699, 492.46455451807395, 441.57843510141475, 906.3881629389318, 409.25022033280425, 508.6567283765128, 348.7415345217512, 659.3895874769445, 552.4837586184431, 395.6933761993331, 488.5985952303279, 447.37654321358775, 430.6698049866341, 414.9231709041208, 387.43282069862715, 364.5568493348629, 2408.0888790260396, 1982.7447309068432, 1127.087105127591, 1060.5030779239178, 883.6077308815726, 857.7687231984016, 791.1846677643305, 677.8921018656267, 495.03385393195435, 375.7785953974739, 302.23753278570365, 223.7278613998117, 197.8893733384955, 193.91407391950554, 188.94503620537336, 133.29271662759956, 128.323698835681, 124.34825248535721, 105.46646232007312, 53.788603840400505, 1443.1904044947785, 2668.2629236807165, 247.603580871055, 141.9065606895378, 101.70446220499045, 609.0698863854983, 630.5245334917212, 45.79350509656854, 209.43041804630747, 108.00691182009264, 727.0495851033245, 255.89456125331762, 232.94527211682018, 172.57069638966632, 1721.7422711552738, 300.9804678218532, 861.0971278682229, 513.7927108009551, 415.3696913261733, 655.3924989429901, 512.8364188598687, 323.8317850351592, 357.642994259835, 440.3349370869604, 369.1760345117961, 307.53357315410176, 278.05525124253944, 259.5727483622251], \"Total\": [20341.0, 13905.0, 7822.0, 6253.0, 4312.0, 7449.0, 3896.0, 4722.0, 4006.0, 3452.0, 2725.0, 3276.0, 5106.0, 2408.0, 2984.0, 2583.0, 3744.0, 2997.0, 3103.0, 2579.0, 2871.0, 1983.0, 6104.0, 2380.0, 2315.0, 2322.0, 4520.0, 3335.0, 1919.0, 2382.0, 5106.023104696717, 3335.1766553196967, 2927.133726737962, 2161.9285288899173, 1849.6609575615798, 1366.7935313301716, 610.5672731942165, 335.2131205285502, 332.22014102636297, 1141.3339586227503, 261.3862827794277, 230.45882376976803, 225.47052391117617, 201.5266845987698, 176.58518526199845, 150.64602605660534, 2777.4856553955074, 129.69516660687327, 114.73026703971445, 98.76770823761318, 95.77472757762123, 94.77706764003662, 81.80748796682143, 470.89512871334466, 75.82152817956442, 7449.531330626277, 59.8589687731132, 124.70763009586678, 56.865988652066086, 55.868328975733895, 13905.407104345579, 866.9668992685384, 406.0510773247688, 4520.149848820903, 879.7701818089423, 500.84253697641896, 261.39649331328, 206.51986766391153, 529.7821377624506, 2002.3291658973367, 6104.067366873342, 3601.502978018271, 5752.704753323965, 871.0780850961261, 449.99392274710806, 790.0595061633635, 568.6860231897291, 947.7801179967814, 1426.882161824531, 1502.643423923946, 2912.620347133976, 3285.0891021161874, 1466.6919153330543, 1639.3155618581832, 2210.2111363976696, 4056.8597013371436, 3458.851251621111, 2636.6248167337108, 3105.896395912828, 1480.006005008428, 3714.7650024777868, 3343.496170495958, 2839.608415236072, 4289.186075709543, 4147.790197127765, 20341.417584762617, 1821.8273395888125, 1072.5431958467486, 993.723691930143, 972.7716719380535, 585.6581597516883, 543.7541200353658, 444.9803117670011, 266.3892835323116, 255.414415920682, 229.47381996029014, 216.50352172138216, 1659.230721629163, 183.5789189270658, 174.59948169360092, 142.67259407590402, 814.1609942677384, 109.74799120179854, 100.76855404786993, 96.77769314656558, 96.77769340626917, 93.7845481038707, 89.79368659692489, 84.8051103697049, 213.5113121376005, 65.8485213386391, 56.869084432319866, 55.87136837026147, 53.87593800066679, 51.880508058517165, 1264.1029710500632, 681.498875579304, 465.9795977979651, 1556.4319361699015, 150.66493454629554, 592.6765583022286, 1052.696820412589, 280.38162622000374, 540.8560788482481, 199.54566475006715, 729.418203108325, 310.31061926474854, 2369.404570918566, 927.8850107646159, 361.2247485202593, 875.9928185285827, 1722.0356370698753, 559.6976161350842, 2274.8169919847514, 1195.897047136693, 1941.2885551113338, 5176.928942478625, 1901.0131386099981, 4147.790197127765, 2304.2346227855155, 1951.261011377887, 4970.824090798875, 4302.204551290198, 1362.987977596628, 2519.541965142797, 3343.496170495958, 1900.792593762832, 3248.70508127054, 4056.8597013371436, 3370.7210365035353, 3007.9345189802907, 3762.3496363778713, 3136.48672530148, 4289.186075709543, 4557.011257526253, 3714.7650024777868, 2839.608415236072, 4722.394801914316, 2473.9669459756765, 934.2499639811696, 741.7853379188041, 689.6595062815456, 601.4465545609927, 593.4271957314467, 542.3037798622846, 332.79801925887745, 331.79559949733476, 288.69154359726843, 284.68186336600183, 280.6721843297823, 176.42051386286772, 146.34791671657024, 142.33823556254933, 122.28983865065207, 121.28741875321155, 107.2535403063918, 93.2196613140398, 89.20998084948792, 79.18578268325705, 67.15674376453512, 57.13254242200524, 50.1156054806443, 47.10834569201522, 83.1893634047122, 1309.9353740413583, 102.22639564155956, 575.2729486660443, 853.8031937124447, 1476.8465135576666, 1861.5558475935982, 800.2798641203469, 2407.5775683985703, 164.3486553749595, 473.7627995532437, 3372.6048914534376, 169.34513879970515, 3596.3917631258173, 4557.011257526253, 1092.7995288791187, 3691.756130815122, 464.2613390402529, 1579.974478379262, 3970.5364465658386, 3859.7058066808167, 4289.186075709543, 1742.453731548857, 2550.3029284332056, 2181.719193640324, 4970.824090798875, 1950.2161226645926, 3345.3466839658217, 1838.2380767619272, 3744.8370319779256, 3248.70508127054, 3458.851251621111, 3492.0402762828035, 6253.389301529438, 3452.349530058927, 2984.843605275525, 2579.2722261370513, 2380.482313703378, 2322.5435452109964, 869.0796128196283, 850.0996710453992, 796.1566796360848, 660.3002570299693, 560.405828793458, 442.53040329258715, 393.5821334185319, 328.65075500226635, 322.65708927084336, 317.66236764518493, 313.66659042043625, 308.6718688861341, 300.6803150926886, 292.6887606929863, 265.71726513240196, 259.72359943877746, 246.73732369602791, 244.73943518619737, 241.7426022790494, 238.74576931863595, 231.75315944113123, 192.79433235874626, 162.82600308472493, 131.858730952533, 2021.927086400746, 623.3749234232436, 7822.343020173268, 4006.661948970077, 1228.7530201694915, 636.2964211553501, 907.9587570627715, 1499.2331583621926, 818.0828351110929, 970.1296161618227, 817.9841400805319, 2056.5302098741913, 3492.0402762828035, 1054.103317412973, 669.1476801684909, 691.1303906006099, 510.4712647039003, 746.1218518686493, 3135.4304925878555, 2819.602910426371, 855.217458182, 919.203718470007, 1673.6019620854966, 1719.3586486440875, 3896.2544851674356, 2315.5127401144837, 1365.280425729875, 933.3566412476122, 866.8304534296961, 762.5729906293795, 561.008557611217, 460.7228030215851, 441.8571657324159, 398.1683237803125, 394.1966102921644, 390.2248972738873, 365.4016997959125, 362.422913436785, 322.7057817129696, 320.7199254817656, 312.77649935287883, 259.15837064401126, 255.18665768589355, 229.37052951478506, 594.7837586787846, 195.61096794272265, 174.75947089737355, 154.9009106754818, 153.90797819796924, 140.00698277613606, 130.077700624957, 129.08477271972606, 113.19792102448645, 103.26864025621376, 1413.025006108811, 358.4810362036387, 237.32733325709214, 940.6353876641273, 2871.1420667029965, 762.737703401678, 304.870672581399, 652.6102534759469, 346.6018153869971, 1303.7054461590085, 2401.627769834702, 680.5829082506275, 1038.8158300810192, 1182.7167123804804, 1031.3379034242294, 1338.5970483697777, 838.2323527405559, 1638.3152666857152, 559.6203767939672, 917.354858755107, 2317.955134152328, 1015.5073365332972, 2236.6245077300578, 2747.495432136272, 1684.782361085893, 3276.7592683120606, 1497.604038737443, 268.56919635119937, 115.8134451647441, 59.90284304185425, 52.91401822379488, 51.9156142574679, 129.7968844725709, 47.92199995815728, 95.84454384358303, 80.86461884730473, 64.89390797574058, 2997.9610997730038, 66.89139689574027, 112.83144753875244, 87.85265363279997, 52.91072773754443, 130.84981415248902, 154.8209843143713, 96.84254224920099, 75.89991866115233, 75.91334646725443, 60.89555167365664, 128.8602170778822, 2172.4036733993016, 1220.823386571646, 67.88160497840771, 103.82660686804647, 81.89264805784788, 1134.9194184239163, 961.2059898690637, 416.3018194152355, 114.89306396196554, 773.6683964138498, 486.73410317383957, 1970.0099830707973, 1027.045867538399, 885.6787405247215, 260.5175760682237, 220.56398996234543, 1638.3152666857152, 319.4927597590031, 1033.7246695617912, 424.2447364470002, 299.888088041391, 321.54937147312154, 1614.520555806821, 2378.1661500649966, 1838.2380767619272, 1494.433287233594, 319.8019755465604, 789.0587089600439, 1800.9184201384683, 1708.7854526804779, 3970.5364465658386, 665.549018166244, 421.13090221586924, 1579.974478379262, 3596.3917631258173, 3691.756130815122, 2519.541965142797, 2425.488332528558, 2181.719193640324, 2304.2346227855155, 4557.011257526253, 2401.4673466917798, 3762.3496363778713, 2583.3908850275507, 1919.1478757531904, 1685.4695719971523, 1172.371678252393, 739.8182216549951, 639.3862698356568, 354.99480165849246, 350.02292288076956, 233.68095866256442, 194.90030412095234, 191.91717742652273, 185.95092246056555, 174.0184131881097, 164.07465525305173, 154.13089762277806, 141.2040127190486, 134.24338238713975, 132.2546322142098, 129.27150494804116, 124.29962488154112, 119.32774653794202, 113.36149163214988, 109.38398849199301, 107.39523689030322, 105.4064852453429, 105.40648635944035, 102.42335840986436, 75.5752124002092, 71.59770938068411, 68.61458209536552, 4312.337518186546, 321.2002392723598, 396.8521858225615, 127.29458912636107, 2382.5135498436807, 516.1719258315707, 3744.8370319779256, 649.5161180584515, 371.25856177307486, 2540.8039033039504, 411.97481055706066, 760.5915663092304, 631.3307867215754, 398.4478944228208, 2401.4673466917798, 814.3874586218263, 807.0461641304083, 3103.6196457781725, 1000.2386774206811, 2095.254832914596, 886.2977384606241, 4970.824090798875, 3136.48672530148, 1330.1120684737039, 3859.7058066808167, 3970.5364465658386, 3601.502978018271, 2747.495432136272, 5752.704753323965, 1588.340298111485, 2408.9616894587225, 1983.6175399906417, 1127.960268734956, 1061.3760204366658, 884.4805557181237, 858.6418935090809, 792.057645623325, 678.7650448667007, 495.9068126172584, 376.6514426466046, 303.1106331243387, 224.6008473242891, 198.76218384133983, 194.78700522779957, 189.8180322436758, 134.16552562276706, 129.19655216046098, 125.2213741819826, 106.33927286075195, 54.66194661810497, 1467.931860225772, 2725.2087550838396, 265.4928460823516, 154.11165874125192, 111.3690411800472, 670.2423489147023, 697.0873922559888, 50.71731845093238, 234.71316901094076, 122.30691662428177, 852.3279650579035, 303.3817276091395, 278.6027158904606, 202.79009390678434, 3103.6196457781725, 407.14114917710754, 2313.51680342931, 1124.1287766221105, 1050.725931911765, 3345.3466839658217, 3859.7058066808167, 1021.3838985797032, 1425.442429003028, 3691.756130815122, 4302.204551290198, 1804.831576886306, 1467.547594997396, 2433.4895594865948], \"Category\": [\"Default\", \"Default\", \"Default\", \"Default\", \"Default\", \"Default\", \"Default\", \"Default\", \"Default\", \"Default\", \"Default\", \"Default\", \"Default\", \"Default\", \"Default\", \"Default\", \"Default\", \"Default\", \"Default\", \"Default\", \"Default\", \"Default\", \"Default\", \"Default\", \"Default\", \"Default\", \"Default\", \"Default\", \"Default\", \"Default\", \"Topic1\", \"Topic1\", \"Topic1\", \"Topic1\", \"Topic1\", \"Topic1\", \"Topic1\", \"Topic1\", \"Topic1\", \"Topic1\", \"Topic1\", \"Topic1\", \"Topic1\", \"Topic1\", \"Topic1\", \"Topic1\", \"Topic1\", \"Topic1\", \"Topic1\", \"Topic1\", \"Topic1\", \"Topic1\", \"Topic1\", \"Topic1\", \"Topic1\", \"Topic1\", \"Topic1\", \"Topic1\", \"Topic1\", \"Topic1\", \"Topic1\", \"Topic1\", \"Topic1\", \"Topic1\", \"Topic1\", \"Topic1\", \"Topic1\", \"Topic1\", \"Topic1\", \"Topic1\", \"Topic1\", \"Topic1\", \"Topic1\", \"Topic1\", \"Topic1\", \"Topic1\", \"Topic1\", \"Topic1\", \"Topic1\", \"Topic1\", \"Topic1\", \"Topic1\", \"Topic1\", \"Topic1\", \"Topic1\", \"Topic1\", \"Topic1\", \"Topic1\", \"Topic1\", \"Topic1\", \"Topic1\", \"Topic1\", \"Topic1\", \"Topic1\", \"Topic1\", \"Topic2\", \"Topic2\", \"Topic2\", \"Topic2\", \"Topic2\", \"Topic2\", \"Topic2\", \"Topic2\", \"Topic2\", \"Topic2\", \"Topic2\", \"Topic2\", \"Topic2\", \"Topic2\", \"Topic2\", \"Topic2\", \"Topic2\", \"Topic2\", \"Topic2\", \"Topic2\", \"Topic2\", \"Topic2\", \"Topic2\", \"Topic2\", \"Topic2\", \"Topic2\", \"Topic2\", \"Topic2\", \"Topic2\", \"Topic2\", \"Topic2\", \"Topic2\", \"Topic2\", \"Topic2\", \"Topic2\", \"Topic2\", \"Topic2\", \"Topic2\", \"Topic2\", \"Topic2\", \"Topic2\", \"Topic2\", \"Topic2\", \"Topic2\", \"Topic2\", \"Topic2\", \"Topic2\", \"Topic2\", \"Topic2\", \"Topic2\", \"Topic2\", \"Topic2\", \"Topic2\", \"Topic2\", \"Topic2\", \"Topic2\", \"Topic2\", \"Topic2\", \"Topic2\", \"Topic2\", \"Topic2\", \"Topic2\", \"Topic2\", \"Topic2\", \"Topic2\", \"Topic2\", \"Topic2\", \"Topic2\", \"Topic2\", \"Topic2\", \"Topic2\", \"Topic2\", \"Topic3\", \"Topic3\", \"Topic3\", \"Topic3\", \"Topic3\", \"Topic3\", \"Topic3\", \"Topic3\", \"Topic3\", \"Topic3\", \"Topic3\", \"Topic3\", \"Topic3\", \"Topic3\", \"Topic3\", \"Topic3\", \"Topic3\", \"Topic3\", \"Topic3\", \"Topic3\", \"Topic3\", \"Topic3\", \"Topic3\", \"Topic3\", \"Topic3\", \"Topic3\", \"Topic3\", \"Topic3\", \"Topic3\", \"Topic3\", \"Topic3\", \"Topic3\", \"Topic3\", \"Topic3\", \"Topic3\", \"Topic3\", \"Topic3\", \"Topic3\", \"Topic3\", \"Topic3\", \"Topic3\", \"Topic3\", \"Topic3\", \"Topic3\", \"Topic3\", \"Topic3\", \"Topic3\", \"Topic3\", \"Topic3\", \"Topic3\", \"Topic3\", \"Topic3\", \"Topic3\", \"Topic3\", \"Topic3\", \"Topic3\", \"Topic3\", \"Topic3\", \"Topic3\", \"Topic4\", \"Topic4\", \"Topic4\", \"Topic4\", \"Topic4\", \"Topic4\", \"Topic4\", \"Topic4\", \"Topic4\", \"Topic4\", \"Topic4\", \"Topic4\", \"Topic4\", \"Topic4\", \"Topic4\", \"Topic4\", \"Topic4\", \"Topic4\", \"Topic4\", \"Topic4\", \"Topic4\", \"Topic4\", \"Topic4\", \"Topic4\", \"Topic4\", \"Topic4\", \"Topic4\", \"Topic4\", \"Topic4\", \"Topic4\", \"Topic4\", \"Topic4\", \"Topic4\", \"Topic4\", \"Topic4\", \"Topic4\", \"Topic4\", \"Topic4\", \"Topic4\", \"Topic4\", \"Topic4\", \"Topic4\", \"Topic4\", \"Topic4\", \"Topic4\", \"Topic4\", \"Topic4\", \"Topic4\", \"Topic4\", \"Topic4\", \"Topic4\", \"Topic4\", \"Topic4\", \"Topic4\", \"Topic5\", \"Topic5\", \"Topic5\", \"Topic5\", \"Topic5\", \"Topic5\", \"Topic5\", \"Topic5\", \"Topic5\", \"Topic5\", \"Topic5\", \"Topic5\", \"Topic5\", \"Topic5\", \"Topic5\", \"Topic5\", \"Topic5\", \"Topic5\", \"Topic5\", \"Topic5\", \"Topic5\", \"Topic5\", \"Topic5\", \"Topic5\", \"Topic5\", \"Topic5\", \"Topic5\", \"Topic5\", \"Topic5\", \"Topic5\", \"Topic5\", \"Topic5\", \"Topic5\", \"Topic5\", \"Topic5\", \"Topic5\", \"Topic5\", \"Topic5\", \"Topic5\", \"Topic5\", \"Topic5\", \"Topic5\", \"Topic5\", \"Topic5\", \"Topic5\", \"Topic5\", \"Topic5\", \"Topic5\", \"Topic5\", \"Topic5\", \"Topic5\", \"Topic5\", \"Topic5\", \"Topic5\", \"Topic5\", \"Topic6\", \"Topic6\", \"Topic6\", \"Topic6\", \"Topic6\", \"Topic6\", \"Topic6\", \"Topic6\", \"Topic6\", \"Topic6\", \"Topic6\", \"Topic6\", \"Topic6\", \"Topic6\", \"Topic6\", \"Topic6\", \"Topic6\", \"Topic6\", \"Topic6\", \"Topic6\", \"Topic6\", \"Topic6\", \"Topic6\", \"Topic6\", \"Topic6\", \"Topic6\", \"Topic6\", \"Topic6\", \"Topic6\", \"Topic6\", \"Topic6\", \"Topic6\", \"Topic6\", \"Topic6\", \"Topic6\", \"Topic6\", \"Topic6\", \"Topic6\", \"Topic6\", \"Topic6\", \"Topic6\", \"Topic6\", \"Topic6\", \"Topic6\", \"Topic6\", \"Topic6\", \"Topic6\", \"Topic6\", \"Topic6\", \"Topic6\", \"Topic6\", \"Topic6\", \"Topic6\", \"Topic6\", \"Topic6\", \"Topic6\", \"Topic6\", \"Topic6\", \"Topic6\", \"Topic6\", \"Topic6\", \"Topic6\", \"Topic6\", \"Topic6\", \"Topic6\", \"Topic6\", \"Topic6\", \"Topic7\", \"Topic7\", \"Topic7\", \"Topic7\", \"Topic7\", \"Topic7\", \"Topic7\", \"Topic7\", \"Topic7\", \"Topic7\", \"Topic7\", \"Topic7\", \"Topic7\", \"Topic7\", \"Topic7\", \"Topic7\", \"Topic7\", \"Topic7\", \"Topic7\", \"Topic7\", \"Topic7\", \"Topic7\", \"Topic7\", \"Topic7\", \"Topic7\", \"Topic7\", \"Topic7\", \"Topic7\", \"Topic7\", \"Topic7\", \"Topic7\", \"Topic7\", \"Topic7\", \"Topic7\", \"Topic7\", \"Topic7\", \"Topic7\", \"Topic7\", \"Topic7\", \"Topic7\", \"Topic7\", \"Topic7\", \"Topic7\", \"Topic7\", \"Topic7\", \"Topic7\", \"Topic7\", \"Topic7\", \"Topic7\", \"Topic7\", \"Topic7\", \"Topic7\", \"Topic7\", \"Topic7\", \"Topic7\", \"Topic7\", \"Topic7\", \"Topic7\", \"Topic7\", \"Topic7\", \"Topic8\", \"Topic8\", \"Topic8\", \"Topic8\", \"Topic8\", \"Topic8\", \"Topic8\", \"Topic8\", \"Topic8\", \"Topic8\", \"Topic8\", \"Topic8\", \"Topic8\", \"Topic8\", \"Topic8\", \"Topic8\", \"Topic8\", \"Topic8\", \"Topic8\", \"Topic8\", \"Topic8\", \"Topic8\", \"Topic8\", \"Topic8\", \"Topic8\", \"Topic8\", \"Topic8\", \"Topic8\", \"Topic8\", \"Topic8\", \"Topic8\", \"Topic8\", \"Topic8\", \"Topic8\", \"Topic8\", \"Topic8\", \"Topic8\", \"Topic8\", \"Topic8\", \"Topic8\", \"Topic8\", \"Topic8\", \"Topic8\", \"Topic8\", \"Topic8\", \"Topic8\", \"Topic8\", \"Topic8\"], \"logprob\": [30.0, 29.0, 28.0, 27.0, 26.0, 25.0, 24.0, 23.0, 22.0, 21.0, 20.0, 19.0, 18.0, 17.0, 16.0, 15.0, 14.0, 13.0, 12.0, 11.0, 10.0, 9.0, 8.0, 7.0, 6.0, 5.0, 4.0, 3.0, 2.0, 1.0, -3.6011, -4.0271, -4.1576, -4.4607, -4.6168, -4.9195, -5.7261, -6.3269, -6.3359, -5.102, -6.5764, -6.7028, -6.7248, -6.8375, -6.9702, -7.13, -4.2161, -7.2806, -7.4041, -7.5552, -7.5862, -7.5968, -7.7454, -5.996, -7.8223, -3.2354, -8.0618, -7.3284, -8.1138, -8.1318, -2.6295, -5.3964, -6.1526, -3.787, -5.4073, -5.962, -6.6001, -6.8316, -5.9105, -4.6293, -3.5528, -4.1389, -3.7218, -5.4857, -6.1203, -5.6205, -5.9139, -5.4948, -5.1575, -5.115, -4.5877, -4.5114, -5.1511, -5.1046, -4.9072, -4.4873, -4.6238, -4.8089, -4.7328, -5.2253, -4.8632, -4.9379, -5.0826, -5.0591, -5.1305, -2.1988, -4.6121, -5.1422, -5.2186, -5.2399, -5.7479, -5.8223, -6.0231, -6.5375, -6.5797, -6.6872, -6.7456, -4.7096, -6.9113, -6.9617, -7.1648, -5.4249, -7.429, -7.515, -7.5558, -7.5558, -7.5875, -7.6314, -7.6892, -6.766, -7.9452, -8.0939, -8.1119, -8.1488, -8.1872, -5.0002, -5.6151, -5.9988, -4.8068, -7.1251, -5.774, -5.2159, -6.5141, -5.8801, -6.8519, -5.5949, -6.4243, -4.5104, -5.4139, -6.3031, -5.4886, -4.9062, -5.9153, -4.6824, -5.252, -4.8571, -4.0521, -4.9617, -4.3528, -4.8322, -4.9685, -4.2952, -4.5473, -5.3164, -4.9748, -4.8202, -5.1333, -4.8624, -4.8585, -4.9582, -5.0382, -4.9685, -5.1102, -5.0605, -5.0734, -5.208, -5.2131, -3.3199, -3.9666, -4.941, -5.1719, -5.2449, -5.3819, -5.3954, -5.4856, -5.9749, -5.9779, -6.1175, -6.1315, -6.1457, -6.6119, -6.7998, -6.8277, -6.9806, -6.9889, -7.1128, -7.2542, -7.2986, -7.4191, -7.5858, -7.7498, -7.883, -7.946, -7.3878, -4.6394, -7.193, -5.4682, -5.0988, -4.5714, -4.3638, -5.242, -4.2148, -6.7505, -5.769, -4.0053, -6.7285, -4.0977, -4.0006, -5.2974, -4.427, -6.0161, -5.2012, -4.6145, -4.6589, -4.6394, -5.1992, -5.0363, -5.1641, -4.8334, -5.2571, -5.1452, -5.3405, -5.2695, -5.3025, -5.3061, -5.3133, -2.6359, -3.2301, -3.3756, -3.5217, -3.6019, -3.6266, -4.6102, -4.6323, -4.6979, -4.8852, -5.0495, -5.2861, -5.4035, -5.5843, -5.6027, -5.6184, -5.6311, -5.6472, -5.6735, -5.7005, -5.7975, -5.8204, -5.8718, -5.88, -5.8924, -5.9049, -5.9347, -6.1195, -6.2893, -6.5015, -3.7747, -4.9595, -2.4636, -3.1323, -4.3177, -4.97, -4.6393, -4.1729, -4.7474, -4.653, -4.8239, -4.043, -3.602, -4.6746, -5.0387, -5.059, -5.2751, -5.0112, -4.0886, -4.2084, -4.9587, -4.9419, -4.7705, -4.943, -3.0669, -3.5874, -4.1159, -4.4966, -4.5706, -4.6989, -5.0062, -5.2035, -5.2454, -5.3497, -5.3598, -5.3699, -5.4358, -5.444, -5.5604, -5.5666, -5.5917, -5.7803, -5.7958, -5.9029, -4.9505, -6.0628, -6.176, -6.2973, -6.3037, -6.399, -6.473, -6.4807, -6.613, -6.7056, -4.094, -5.4638, -5.8746, -4.5304, -3.4555, -4.7453, -5.639, -4.9096, -5.5189, -4.2671, -3.7069, -4.9293, -4.5706, -4.4913, -4.7056, -4.5681, -4.9433, -4.6766, -5.2599, -5.074, -4.9476, -5.2237, -5.1142, -5.1517, -5.2511, -3.1858, -3.9691, -5.6903, -6.5358, -7.2021, -7.3281, -7.3475, -6.4322, -7.429, -6.7393, -6.911, -7.1411, -3.3107, -7.1433, -6.6386, -6.9104, -7.4219, -6.5359, -6.3802, -6.8522, -7.0992, -7.1114, -7.3334, -6.6094, -3.7935, -4.3804, -7.2776, -6.8665, -7.1043, -4.4754, -4.6628, -5.4921, -6.7664, -4.9425, -5.3934, -4.168, -4.782, -4.9325, -6.0189, -6.1654, -4.5961, -5.895, -4.968, -5.672, -5.9471, -5.9015, -4.6962, -4.4482, -4.6801, -4.8416, -5.9189, -5.317, -4.8085, -4.8749, -4.4019, -5.4878, -5.7733, -5.1034, -4.7311, -4.7633, -4.9764, -5.0074, -5.0556, -5.0423, -4.9733, -5.1181, -5.0623, -3.1793, -3.4766, -3.6065, -3.9697, -4.4306, -4.5766, -5.1661, -5.1803, -5.5856, -5.7678, -5.7833, -5.815, -5.8817, -5.9408, -6.0037, -6.0918, -6.1427, -6.1577, -6.1806, -6.2201, -6.2613, -6.3129, -6.3489, -6.3674, -6.3863, -6.3863, -6.4152, -6.7223, -6.777, -6.8201, -2.6878, -5.2775, -5.0843, -6.2079, -3.4811, -4.9247, -3.1933, -4.8287, -5.3367, -3.7617, -5.2518, -4.7734, -4.9765, -5.3339, -4.0083, -4.8364, -4.9454, -4.2263, -5.0215, -4.804, -5.1815, -4.5445, -4.7214, -5.0551, -4.8442, -4.9324, -4.9704, -5.0077, -5.0762, -5.1371, -2.9629, -3.1572, -3.722, -3.7829, -3.9654, -3.9951, -4.0759, -4.2305, -4.5448, -4.8204, -5.0382, -5.339, -5.4617, -5.482, -5.508, -5.8569, -5.8949, -5.9264, -6.091, -6.7644, -3.4748, -2.8603, -5.2376, -5.7943, -6.1274, -4.3375, -4.3029, -6.9253, -5.405, -6.0672, -4.1604, -5.2047, -5.2986, -5.5986, -3.2983, -5.0424, -3.9912, -4.5076, -4.7203, -4.2642, -4.5095, -4.9692, -4.8699, -4.6619, -4.8382, -5.0209, -5.1216, -5.1904], \"loglift\": [30.0, 29.0, 28.0, 27.0, 26.0, 25.0, 24.0, 23.0, 22.0, 21.0, 20.0, 19.0, 18.0, 17.0, 16.0, 15.0, 14.0, 13.0, 12.0, 11.0, 10.0, 9.0, 8.0, 7.0, 6.0, 5.0, 4.0, 3.0, 2.0, 1.0, 1.5252, 1.5251, 1.5251, 1.525, 1.5249, 1.5247, 1.5239, 1.5228, 1.5227, 1.5225, 1.522, 1.5216, 1.5215, 1.521, 1.5204, 1.5196, 1.519, 1.5186, 1.5177, 1.5165, 1.5162, 1.5161, 1.5146, 1.5138, 1.5138, 1.5132, 1.5107, 1.51, 1.5099, 1.5096, 1.4949, 1.503, 1.5054, 1.4611, 1.4775, 1.4862, 1.4983, 1.5025, 1.4815, 1.4331, 1.395, 1.3365, 1.2852, 1.409, 1.4349, 1.3719, 1.4072, 1.3155, 1.2437, 1.2345, 1.0999, 1.0559, 1.2226, 1.1578, 1.0564, 0.869, 0.892, 0.9783, 0.8906, 1.1394, 0.5812, 0.6118, 0.6305, 0.2415, 0.2036, 1.5452, 1.5448, 1.5444, 1.5444, 1.5444, 1.5438, 1.5437, 1.5433, 1.542, 1.5418, 1.5415, 1.5412, 1.5407, 1.5405, 1.5403, 1.5391, 1.5373, 1.5373, 1.5366, 1.5362, 1.5362, 1.5359, 1.5355, 1.5349, 1.5348, 1.5319, 1.5298, 1.5295, 1.5289, 1.5283, 1.5222, 1.525, 1.5215, 1.5075, 1.5242, 1.5058, 1.4894, 1.5142, 1.4912, 1.5165, 1.4773, 1.5026, 1.3836, 1.4176, 1.4718, 1.4005, 1.307, 1.4218, 1.2524, 1.3258, 1.2363, 1.0603, 1.1526, 0.9813, 1.0897, 1.1197, 0.8579, 0.7502, 1.1306, 0.8578, 0.7295, 0.9811, 0.716, 0.4978, 0.5833, 0.6172, 0.4631, 0.5034, 0.2401, 0.1666, 0.2364, 0.4999, 1.8844, 1.8843, 1.8837, 1.8835, 1.8834, 1.8832, 1.8832, 1.883, 1.882, 1.882, 1.8816, 1.8816, 1.8815, 1.8797, 1.8787, 1.8785, 1.8775, 1.8774, 1.8765, 1.8752, 1.8748, 1.8736, 1.8716, 1.8692, 1.8671, 1.8659, 1.8555, 1.8473, 1.8443, 1.8414, 1.8159, 1.7954, 1.7715, 1.7375, 1.6633, 1.812, 1.7347, 1.5357, 1.804, 1.379, 1.2394, 1.3705, 1.0236, 1.5079, 1.098, 0.7633, 0.7472, 0.6611, 1.0022, 0.7842, 0.8124, 0.3197, 0.8316, 0.4039, 0.8073, 0.1668, 0.2759, 0.2096, 0.1929, 2.2877, 2.2876, 2.2875, 2.2875, 2.2875, 2.2875, 2.2868, 2.2868, 2.2867, 2.2865, 2.2863, 2.2859, 2.2856, 2.2852, 2.2851, 2.2851, 2.285, 2.285, 2.2849, 2.2848, 2.2845, 2.2845, 2.2843, 2.2843, 2.2842, 2.2842, 2.2841, 2.2833, 2.2825, 2.2812, 2.278, 2.2698, 2.2361, 2.2364, 2.233, 2.2388, 2.2139, 2.1788, 2.2101, 2.134, 2.1337, 1.9926, 1.9042, 2.0294, 2.1197, 2.0671, 2.154, 2.0383, 1.5253, 1.5117, 1.9544, 1.8991, 1.4712, 1.2717, 2.3298, 2.3297, 2.3294, 2.3291, 2.329, 2.3289, 2.3285, 2.3281, 2.3281, 2.3278, 2.3278, 2.3278, 2.3276, 2.3276, 2.3273, 2.3273, 2.3272, 2.3267, 2.3266, 2.3262, 2.3258, 2.3256, 2.325, 2.3244, 2.3243, 2.3238, 2.3233, 2.3232, 2.3223, 2.3215, 2.3169, 2.3187, 2.3203, 2.2875, 2.2465, 2.2822, 2.3056, 2.2739, 2.2973, 2.2244, 2.1736, 2.2121, 2.148, 2.0975, 2.0203, 1.897, 1.9898, 1.5865, 2.0773, 1.7689, 0.9684, 1.5176, 0.8375, 0.5943, 0.9839, 2.384, 2.3837, 2.381, 2.3767, 2.3696, 2.3676, 2.3673, 2.3663, 2.3659, 2.3624, 2.3607, 2.3506, 2.348, 2.3181, 2.3, 2.2783, 2.2739, 2.2545, 2.2419, 2.2392, 2.2358, 2.2234, 2.2219, 2.1964, 2.1874, 2.1767, 2.169, 2.1552, 2.1547, 2.1547, 2.1335, 2.1409, 2.1541, 2.0708, 2.0834, 1.9106, 1.948, 1.9456, 2.0829, 2.1028, 1.6669, 2.0027, 1.7556, 1.9421, 2.0139, 1.9898, 1.5814, 1.4421, 1.4678, 1.5134, 1.9779, 1.6766, 1.3599, 1.346, 0.9759, 1.676, 1.8482, 1.1959, 0.7456, 0.6873, 0.8562, 0.8633, 0.9209, 0.8796, 0.2668, 0.7625, 0.3694, 2.6283, 2.6282, 2.6281, 2.6279, 2.6275, 2.6273, 2.6262, 2.6262, 2.6249, 2.6242, 2.6241, 2.6239, 2.6236, 2.6233, 2.623, 2.6225, 2.6221, 2.622, 2.6219, 2.6216, 2.6213, 2.6209, 2.6206, 2.6205, 2.6203, 2.6203, 2.6201, 2.617, 2.6164, 2.6158, 2.6074, 2.6149, 2.5965, 2.61, 2.4074, 2.4933, 2.243, 2.3595, 2.4108, 2.0625, 2.3916, 2.257, 2.2401, 2.343, 1.8723, 2.1256, 2.0256, 1.3978, 1.735, 1.213, 1.6959, 0.6086, 0.8922, 1.4163, 0.5618, 0.4454, 0.5049, 0.7383, -0.0692, 1.1569, 2.9146, 2.9146, 2.9142, 2.9142, 2.914, 2.914, 2.9139, 2.9137, 2.9132, 2.9127, 2.9121, 2.9111, 2.9106, 2.9105, 2.9104, 2.9085, 2.9082, 2.908, 2.9068, 2.8989, 2.898, 2.8939, 2.8452, 2.8325, 2.8242, 2.8193, 2.8146, 2.8129, 2.801, 2.7907, 2.756, 2.7448, 2.736, 2.7536, 2.3258, 2.6129, 1.9267, 2.1321, 1.9869, 1.2849, 0.8966, 1.7663, 1.5323, 0.7887, 0.4594, 1.1454, 1.2515, 0.677]}, \"token.table\": {\"Topic\": [3, 5, 1, 4, 5, 8, 1, 2, 3, 4, 5, 7, 8, 1, 2, 3, 4, 6, 8, 7, 1, 2, 3, 6, 1, 2, 3, 1, 2, 3, 5, 1, 2, 3, 4, 6, 7, 2, 3, 5, 6, 7, 4, 2, 6, 4, 4, 1, 2, 3, 4, 5, 7, 8, 4, 2, 6, 1, 2, 4, 1, 2, 3, 4, 5, 6, 8, 1, 2, 3, 5, 6, 1, 3, 4, 8, 1, 2, 3, 4, 5, 6, 7, 8, 7, 1, 2, 3, 4, 5, 6, 7, 8, 1, 2, 4, 1, 2, 3, 5, 6, 7, 8, 1, 2, 3, 7, 2, 3, 6, 7, 4, 1, 2, 3, 6, 7, 8, 1, 3, 8, 7, 2, 3, 6, 1, 2, 1, 1, 3, 6, 2, 3, 6, 2, 3, 6, 8, 1, 2, 3, 4, 6, 8, 4, 4, 5, 4, 5, 3, 3, 3, 3, 3, 3, 3, 3, 3, 3, 3, 3, 3, 3, 3, 1, 2, 3, 4, 6, 7, 1, 2, 3, 6, 1, 2, 3, 6, 2, 3, 2, 3, 3, 3, 1, 2, 3, 5, 6, 1, 2, 3, 6, 7, 8, 3, 7, 7, 2, 1, 1, 1, 1, 2, 3, 4, 7, 8, 1, 2, 3, 4, 5, 6, 7, 8, 2, 3, 2, 1, 2, 3, 7, 1, 2, 3, 7, 8, 1, 2, 3, 4, 5, 6, 3, 6, 6, 2, 3, 2, 3, 1, 3, 6, 2, 1, 2, 6, 2, 8, 7, 1, 2, 3, 4, 5, 7, 1, 2, 3, 7, 6, 7, 2, 1, 2, 3, 4, 5, 6, 7, 8, 7, 1, 2, 3, 4, 7, 1, 3, 6, 8, 7, 7, 7, 1, 2, 7, 8, 1, 2, 3, 4, 5, 2, 3, 6, 5, 1, 2, 3, 4, 5, 6, 1, 2, 6, 8, 5, 5, 5, 6, 1, 5, 7, 8, 5, 5, 6, 8, 1, 2, 3, 5, 6, 7, 8, 4, 4, 4, 2, 3, 6, 2, 5, 6, 8, 3, 6, 8, 1, 2, 3, 2, 1, 2, 3, 4, 5, 6, 7, 8, 1, 2, 3, 6, 7, 8, 1, 2, 3, 5, 8, 2, 2, 4, 7, 1, 2, 3, 4, 5, 6, 7, 8, 1, 3, 8, 1, 2, 3, 7, 8, 7, 1, 2, 3, 4, 5, 6, 7, 8, 5, 3, 5, 6, 7, 2, 3, 1, 2, 3, 5, 6, 8, 1, 2, 3, 4, 5, 6, 7, 8, 2, 2, 3, 4, 8, 2, 3, 8, 2, 2, 5, 1, 2, 3, 5, 6, 7, 8, 1, 2, 3, 4, 5, 6, 7, 8, 5, 8, 2, 3, 5, 6, 8, 1, 2, 3, 5, 6, 7, 8, 1, 2, 3, 5, 6, 7, 8, 4, 4, 4, 1, 1, 2, 3, 6, 7, 3, 6, 1, 2, 3, 6, 1, 2, 3, 6, 3, 4, 8, 8, 7, 1, 5, 3, 1, 2, 3, 6, 8, 1, 2, 3, 2, 7, 7, 7, 7, 1, 2, 3, 4, 5, 6, 7, 8, 1, 2, 3, 5, 6, 7, 8, 1, 2, 3, 5, 6, 7, 8, 3, 7, 8, 1, 2, 3, 6, 7, 8, 1, 2, 3, 4, 5, 6, 7, 8, 3, 5, 5, 5, 1, 2, 3, 5, 6, 7, 8, 1, 2, 7, 8, 1, 5, 3, 3, 5, 6, 5, 8, 8, 2, 3, 6, 1, 2, 3, 5, 6, 7, 8, 2, 3, 5, 6, 2, 3, 4, 5, 6, 1, 2, 3, 6, 7, 8, 1, 3, 1, 3, 6, 3, 6, 8, 2, 3, 5, 6, 5, 6, 1, 2, 3, 4, 5, 6, 7, 8, 1, 2, 3, 6, 8, 7, 6, 1, 2, 1, 2, 5, 7, 6, 2, 1, 2, 7, 1, 2, 3, 6, 5, 3, 3, 5, 8, 5, 1, 2, 1, 2, 3, 6, 7, 3, 6, 7, 5, 4, 2, 6, 3, 3, 1, 2, 3, 4, 1, 2, 3, 6, 7, 8, 1, 2, 3, 5, 6, 7, 8, 1, 1, 1, 2, 1, 2, 5, 1, 2, 3, 4, 6, 7, 8, 1, 2, 3, 5, 6, 7, 1, 1, 2, 3, 5, 6, 7, 8, 1, 2, 3, 5, 6, 7, 8, 1, 2, 3, 4, 5, 6, 8, 1, 2, 3, 5, 6, 7, 8, 1, 2, 3, 4, 5, 6, 7, 8, 1, 2, 3, 6, 7, 8, 7, 1, 2, 3, 4, 5, 4, 1, 2, 1, 2, 3, 5, 6, 7, 4, 4, 1, 1, 2, 3, 4, 5, 6, 7, 8, 1, 2, 4, 8, 7, 2, 2, 3, 6, 8, 8, 2, 3, 6, 4, 4, 2, 3, 6, 8, 1, 2, 3, 6, 7, 8, 1, 2, 3, 5, 6, 7, 8, 3, 7, 4, 4, 1, 2, 3, 5, 6, 7, 8, 1, 2, 3, 6, 3, 1, 2, 3, 6, 7, 2, 7, 1, 2, 3, 4, 5, 8, 2, 3, 5, 7, 2, 1, 2, 4, 1, 4, 1, 1, 2, 3, 4, 5, 6, 7, 8, 2, 3, 4, 6, 7, 2, 6, 7, 2, 6, 2, 2, 4, 5, 8, 1, 3, 1, 1, 2, 3, 5, 6, 7, 8, 2, 1, 2, 3, 7, 8, 1, 2, 3, 4, 5, 6, 7, 8, 2, 1, 2, 3, 5, 6, 8, 2, 3, 6, 4, 7, 8, 1, 2, 3, 5, 6, 7, 8, 7, 1, 6, 6, 3, 6, 5, 1, 2, 3, 6, 2, 2, 1, 2, 3, 6, 7, 8, 1, 2, 3, 4, 5, 6, 7, 8, 1, 2, 3, 7, 2, 3, 3, 3, 1, 2, 3, 4, 5, 6, 7, 8, 8, 1, 2, 3, 5, 6, 7, 2, 3, 6, 5, 5, 1, 2, 3, 5, 7, 8, 1, 2, 5, 6, 2, 3, 5, 1, 2, 3, 4, 5, 6, 7, 8, 1, 1, 2, 3, 4, 1, 1, 2, 3, 5, 6, 7, 8, 1, 2, 5, 7, 8, 1, 2, 3, 4, 5, 6, 7, 8, 2, 3, 7, 1, 2, 3, 1, 2, 3, 6, 7, 8, 1, 8, 1, 7, 8, 1, 2, 4, 8, 1, 3, 8, 3, 5, 6, 1, 2, 3, 4, 5, 6, 7, 8, 3, 5, 6, 7, 6, 3, 5, 8, 7, 1, 2, 4, 8, 8, 1, 2, 3, 6, 8, 1, 2, 3, 6, 3, 6, 8, 1, 5, 7, 7, 7, 5, 1, 1, 3, 4, 2, 4, 6, 5, 3, 6, 8, 3, 8, 1, 2, 3, 7, 8, 1, 2, 3, 6, 1, 2, 3, 6, 1, 1, 2, 3, 6, 3, 4, 3, 5, 3, 6, 8, 1, 2, 3, 2, 1, 2, 7, 2, 3, 5, 6, 2, 3, 4, 6, 7, 8, 8, 1, 2, 3, 5, 6, 7, 8, 2, 4, 4, 2, 3, 4, 5, 5, 8, 1, 2, 3, 5, 6, 7, 8, 2, 1, 2, 3, 5, 6, 7, 8, 5, 2, 8, 4, 3, 7, 5, 1, 2, 3, 4, 2, 3, 4, 6, 8, 1, 3, 6, 7, 8, 1, 6, 1, 2, 3, 5, 6, 4, 1, 2, 3, 4, 5, 6, 7, 8, 5, 1, 2, 3, 4, 5, 6, 7, 8, 2, 1, 2, 3, 5, 7, 1, 2, 3, 7, 7, 5, 8, 1, 2, 3, 5, 6, 7, 8, 1, 1, 1, 4, 8, 1, 6, 3, 6, 8, 2, 6, 3, 6, 1, 2, 3, 4, 6, 8, 3, 5, 6, 7, 8, 7, 1, 2, 3, 6, 8, 3, 5, 6, 2, 6, 2, 2, 2, 3, 5, 3, 4, 8, 1, 2, 3, 4, 5, 6, 7, 8, 1, 2, 3, 4, 5, 6, 7, 8, 1, 2, 3, 5, 6, 7, 8, 4, 5, 1, 2, 3, 5, 6, 7, 8], \"Freq\": [0.008427179341510733, 0.9901935726275112, 0.9901294125160166, 0.9949270812457692, 0.9894174644406472, 0.9963358820081938, 0.022845860583499387, 0.06418598925840305, 0.05439490615118902, 0.6777605306438151, 0.06962547987352194, 0.03263694369071341, 0.07724076673468841, 0.010699702546293191, 0.9701063641972494, 0.01783283757715532, 0.07358537234363749, 0.03270460993050555, 0.8830244681236499, 0.9888731114391752, 0.7390781858600801, 0.2359050298040477, 0.01499974177944812, 0.010227096667805536, 0.022558042056652246, 0.9571054986893881, 0.016112887183323033, 0.04580226852039233, 0.09368645833716611, 0.004996611111315526, 0.8552532685535076, 0.7547925321477547, 0.1289524846009163, 0.05816878381454377, 0.013315745692485921, 0.0014016574413143075, 0.04275055196008638, 0.10682826484202533, 0.07470508030910862, 0.6484400970830628, 0.028387930517461277, 0.1411926017842153, 0.993487492664842, 0.09106156352929086, 0.8992329398517472, 0.9985471708450483, 0.9976467812041858, 0.2360122483178488, 0.26981940821202716, 0.0073355158260953015, 0.46660259363380113, 0.00669764488469571, 0.0073355158260953015, 0.006378709413995914, 0.9969281282155132, 0.13137248584055103, 0.8539211579635816, 0.9874810157211601, 0.010618075437861937, 0.9992758305274381, 0.13615165906905352, 0.03306540291677014, 0.007780094803945916, 0.7444578215525749, 0.06856208545977338, 0.006321327028206057, 0.003890047401972958, 0.13826278703998984, 0.12271516440095484, 0.34426878700720365, 0.03553742317493715, 0.35926113740913024, 0.013021331168563879, 0.030925661525339213, 0.9464880093149869, 0.008952165178387667, 0.4085070299749633, 0.3514569102715632, 0.12396075392343714, 0.005986740956529635, 0.017960222869588902, 0.05775444216887412, 0.008804030818425934, 0.02535560875706669, 0.9895444183135735, 0.3889882668314604, 0.2700036205065431, 0.12517615507033156, 0.030957543727071244, 0.10498645263963291, 0.06191508745414249, 0.005114724615776988, 0.012652213523237813, 0.9623783213579039, 0.009983177607447135, 0.02795289730085198, 0.5299597250462174, 0.2598283706636072, 0.09369275819468363, 0.021571872161662554, 0.013522666131191453, 0.016742348543379894, 0.06471561648498766, 0.025648410327123197, 0.946141358733878, 0.02469846920389641, 0.00379976449290714, 0.015549711626222078, 0.18037665486417612, 0.6748574845780382, 0.12750763533502105, 0.998030809444452, 0.07811267667875557, 0.016161243450777015, 0.06195143322797856, 0.04040310862694254, 0.8053686319637212, 0.9956904397648288, 0.019717130766041438, 0.059151392298124314, 0.9069880152379062, 0.9934502056311239, 0.031041388030430123, 0.13968624613693556, 0.8303571298140059, 0.9699823887777341, 0.029916420057201767, 0.9891649746544433, 0.9844575810364572, 0.9309476834534017, 0.06693087920253216, 0.01317291420463666, 0.11855622784172994, 0.8562394233013828, 0.023928273692024202, 0.19766834789063473, 0.7781890748536567, 0.9988728870579201, 0.028063037968166137, 0.09822063288858147, 0.11809861811603249, 0.71677676143691, 0.019877985227451014, 0.019877985227451014, 0.9995067499567671, 0.9495876083219202, 0.05036854034448527, 0.997300645360607, 0.9970657540780238, 0.9975958495760149, 0.9992801210754756, 0.9976020913205715, 0.9976021396952217, 0.9976045588705115, 0.9976050910374771, 0.9976164117558654, 0.9893853891323129, 0.9894526097598609, 0.9869162653366549, 0.9850253082930281, 0.9883123643022803, 0.9827754637927221, 0.9764724132054783, 0.9777393594281691, 0.08843515568113085, 0.25191950055071516, 0.5244665560245725, 0.0035110731784071796, 0.12025425636044591, 0.011191545756172885, 0.04714456780956583, 0.18413067050151183, 0.7053894768487868, 0.06315593046187121, 0.016198855028351725, 0.17112636594053618, 0.8012202910177045, 0.010799236685567816, 0.10636264297735212, 0.8928015789311072, 0.03587963263790453, 0.9634063061496919, 0.9986620668671551, 0.9990437219011139, 0.0058042534696820915, 0.0754552951058672, 0.26796303518365655, 0.11801982055020252, 0.5330239436324721, 0.1861676870422597, 0.10831574518822382, 0.1579604617328264, 0.09477627703969584, 0.3937728653196887, 0.05867102864362123, 0.015711586908180888, 0.9819741817613056, 0.9941476699537031, 0.983028152740447, 0.9994194212132396, 0.994639996037937, 0.9996426601540797, 0.9119379725868821, 0.04644590988531218, 0.012485459646589295, 0.010487786103135008, 0.013484296418316439, 0.0044947654727721465, 0.19447798038060976, 0.13353046516161524, 0.16067981285007643, 0.05540683201726774, 0.2399115826347693, 0.011081366403453547, 0.03490630417087867, 0.17065304261318462, 0.9924327076449055, 0.007369549809244348, 0.9844040266834547, 0.7864126865516594, 0.13002579344399673, 0.015992477268512967, 0.06727270329254911, 0.029127994461054404, 0.031555327332808934, 0.07039265328088147, 0.7888831833202234, 0.07767465189614507, 0.03736096042910142, 0.050810906183577934, 0.008966630502984341, 0.8458521441148561, 0.019427699423132737, 0.038855398846265474, 0.11463524115150354, 0.8788701821615272, 0.9849282104820396, 0.9801923729252974, 0.0190756000718995, 0.9764375997364471, 0.02146016702717466, 0.3370695914759207, 0.01885704008256899, 0.6434964928176667, 0.9999794712064252, 0.03779951789589238, 0.056699276843838575, 0.8882886705534709, 0.016349532733970863, 0.9830156556299982, 0.9905135102400217, 0.02459738456187199, 0.07379215368561597, 0.04919476912374398, 0.8015853557221814, 0.013022144768049877, 0.03617262435569411, 0.9569971576265829, 0.013212978507664853, 0.016988115224140527, 0.011325410149427017, 0.012453290847670336, 0.9869232996778741, 0.9992067286082498, 0.1778477242507853, 0.36932362660507906, 0.004769862336227958, 0.036114671974297394, 0.0020442267155262677, 0.0054512712414033805, 0.21532521403543353, 0.18943167563876748, 0.9879898225354353, 0.06631651686109678, 0.0537247731532936, 0.021405964303265416, 0.05708257147537445, 0.8016743493968028, 0.008615836951379637, 0.6871129968725259, 0.17877861674112744, 0.12492963579500473, 0.997197700772392, 0.9988940233816291, 0.9914732400597978, 0.1645408442644314, 0.2038341802081762, 0.6041350401350765, 0.025786251713082534, 0.025669772177958326, 0.04156058352621824, 0.006111850518561506, 0.925334168510212, 0.9996780279182966, 0.02375445975149501, 0.1630047410533623, 0.8125663473614845, 0.9940248229897524, 0.046840498400286465, 0.14119064517800634, 0.3559877878421771, 0.022081949245849334, 0.01605959945152679, 0.4188878856939904, 0.022150094289186743, 0.9769773731123439, 0.9769414748516202, 0.012366347782931901, 0.9968610478663857, 0.9956541931978065, 0.9975173986713024, 0.982363412808196, 0.05653494188563968, 0.20904780836783043, 0.6889374313505858, 0.04470204707236626, 0.9985464921042414, 0.19129642710755373, 0.7302870359173503, 0.07626006215774102, 0.578770248355028, 0.19570474977142494, 0.08268146405071829, 0.03830654985836031, 0.01744654746024331, 0.05309818792247963, 0.03375527660786205, 0.9999377455151652, 0.9997973882432977, 0.9968763035225113, 0.19937457904120423, 0.016814723533595536, 0.7830856959931636, 0.07396235391203401, 0.10067098171360185, 0.7396235391203402, 0.08628941289737302, 0.04614648387142432, 0.10877385483978588, 0.8438214193631874, 0.9133456680724503, 0.062223062545081774, 0.022222522337529204, 0.9837415730811786, 0.0983134130326547, 0.6603139681297704, 0.091710273351357, 0.029347287472434237, 0.07043348993384217, 0.03228201621967766, 0.007336821868108559, 0.010271550615351984, 0.002534665643112844, 0.2534665643112844, 0.19897125298435825, 0.4929924675854482, 0.04562398157603119, 0.00633666410778211, 0.05450987944828539, 0.7459940759979058, 0.010110703446052936, 0.18726781165298045, 0.0017583832080092063, 0.9916345696627787, 0.9977969547391696, 0.9996090980802561, 0.996143641025533, 0.06483635639804129, 0.06483635639804129, 0.20315391671386274, 0.03976629859079866, 0.09033865658127087, 0.12751150091614788, 0.037605086710863954, 0.372160685724757, 0.026937468152841364, 0.05387493630568273, 0.9158739171966064, 0.8103145290948254, 0.16037475055001754, 0.011606067474014426, 0.013716261560198867, 0.0031652911292766616, 0.9964895365648408, 0.18198392403194383, 0.3148321885752628, 0.028389492148983238, 0.021110135187705485, 0.17616043846292162, 0.038580591894772094, 0.15104665694651337, 0.08808021923146081, 0.9984311542279986, 0.17840779879642885, 0.1064186870013786, 0.6823315813617805, 0.028169652441541397, 0.9956421240669511, 0.004218822559605725, 0.0794313289756691, 0.6754293139388021, 0.18306028134789964, 0.015781058736887902, 0.026301764561479833, 0.019989341066724675, 0.007159138504156065, 0.056700376952916035, 0.18413304232689398, 0.6812636200554911, 0.04095027224377269, 0.009736428365652248, 0.009736428365652248, 0.010309159445984734, 0.9986131230871101, 0.04810354896335548, 0.017598859376837372, 0.0809547531334519, 0.8529580511307179, 0.03408415485893377, 0.07242882907523426, 0.8904485456896448, 0.9985386666942839, 0.012738628065449746, 0.9872436750723553, 0.20675150904473885, 0.0647717760165222, 0.3207498348338179, 0.09171683483939544, 0.056740075790473445, 0.1266935938883174, 0.13291168438590356, 0.03406584066222369, 0.15732224596736033, 0.13316646804323806, 0.03592397742561771, 0.12697267883192467, 0.4478109599779587, 0.037162735267880394, 0.026633293608647614, 0.9990419655580738, 0.998664686050101, 0.02621084125682608, 0.0481941274722286, 0.7922438147627754, 0.05664923755507572, 0.07694150175390882, 0.012020151456375108, 0.17128715825334528, 0.11268891990351664, 0.031552897572984656, 0.4928262097113794, 0.16527708252515771, 0.013522670388421995, 0.03099260276551173, 0.17595800279774404, 0.23694344694923486, 0.014996420692989548, 0.08397995588074147, 0.4089024042288483, 0.047988546217566555, 0.997823355628232, 0.9987577515296606, 0.9969786839393708, 0.9990709079586779, 0.050503493095209656, 0.39082816815724747, 0.4137843013823428, 0.1279804427299063, 0.016643196588194093, 0.97368217143265, 0.024041535097102468, 0.0316232127015133, 0.015225991300728626, 0.9334703897446703, 0.019910911700952817, 0.036454621056971656, 0.6340500162409, 0.10719394525085714, 0.2221995950139225, 0.025955206975715316, 0.05191041395143063, 0.9214098476378937, 0.9994566802910285, 0.9963197912519441, 0.9936349225138501, 0.9968766171490877, 0.990789641924451, 0.10065890137491794, 0.0027452427647704893, 0.5984629227199667, 0.10340414413968843, 0.19491223629870474, 0.019564418636187457, 0.019564418636187457, 0.9586565131731853, 0.9952857514068456, 0.9958665834001437, 0.999721399896531, 0.9953806941194221, 0.997085947154352, 0.09437310785096609, 0.3529426702399306, 0.1619646580685499, 0.1520809879895636, 0.02837569796870264, 0.028694526035766714, 0.1759930930193692, 0.005101249073025194, 0.19246498552092575, 0.1067579216561385, 0.14209329009162094, 0.05788985892621595, 0.008269979846602278, 0.297719274477682, 0.19396861822030798, 0.11172262384623718, 0.6534236027704239, 0.13273467695493318, 0.025624455010604858, 0.03433676971421051, 0.03792419341569519, 0.004099912801696777, 0.22786193580908354, 0.763645406495307, 0.0076980383719284975, 0.048409875252496334, 0.025188878180160693, 0.22276414140579615, 0.09996836027751275, 0.5675369114967457, 0.03542185994085098, 0.09210307733284595, 0.08181972403840197, 0.28033315285288546, 0.026826139028984255, 0.224892465526318, 0.161851038808205, 0.06795955220676012, 0.06482983598671195, 0.003362566598056872, 0.995319713024834, 0.9928076246186508, 0.998202242020137, 0.0998661572805883, 0.6158091091112485, 0.10778591056589608, 0.049257002140328854, 0.03592863685529869, 0.05505194356860284, 0.03670129571240189, 0.10541406341412793, 0.8844061252541242, 0.008933395204587113, 0.9996886799102187, 0.04588733432726095, 0.9531454873119631, 0.9905982004254841, 0.031893335497932704, 0.9578631761212455, 0.00956800064937981, 0.9978129251071263, 0.9959596625715397, 0.9973248216493966, 0.9336207913347969, 0.019193378970172037, 0.04524153614397695, 0.14872575397399626, 0.22940246013913576, 0.09049821822002603, 0.20835636287866457, 0.053316779726526965, 0.018941487534424054, 0.25115009397495597, 0.008663710870961672, 0.0635338797203856, 0.8336415126947565, 0.09337555049814247, 0.2604047717567145, 0.0766493577685456, 0.02842625188767254, 0.011167456098728499, 0.6228394833245394, 0.004996944895599349, 0.10701790318075272, 0.21778351503320495, 0.19737932337617425, 0.4692964081117055, 0.002914884522432953, 0.07086120147914687, 0.9211956192289094, 0.026111236801841464, 0.17407491201227643, 0.7920408496558577, 0.02989921115143228, 0.9418251512701168, 0.02989921115143228, 0.03663332510484751, 0.13432219205110751, 0.03663332510484751, 0.7937220439383627, 0.9990621518438672, 0.9978806342688122, 0.33966153627141804, 0.1233017905642819, 0.10934309729285376, 0.36176280061784594, 0.013377081051785299, 0.016866754369642335, 0.005816122196428391, 0.029662223201784795, 0.009631442557598967, 0.07705154046079174, 0.057788655345593805, 0.7994097322807143, 0.057788655345593805, 0.9970775546002797, 0.9929762458617221, 0.9781226950134534, 0.020762038337549717, 0.23747113677984952, 0.7340485247533309, 0.020089749098512216, 0.0077268265763508525, 0.9807604031767807, 0.9988762049316151, 0.03662222463788987, 0.963100258459595, 0.9910429812935196, 0.8880119774484387, 0.09319729664310347, 0.005275318677911517, 0.012309076915126872, 0.9941005124711513, 0.999257532431425, 0.02019608579425406, 0.96652696301073, 0.011540620453859462, 0.996964432821283, 0.9980090856914795, 0.9905063460657612, 0.5186277453239313, 0.35076391710834326, 0.06581445247219089, 0.05398264079179703, 0.010352835220344636, 0.18823038357033525, 0.05772398429490281, 0.7504117958337365, 0.9953498443192348, 0.9980199193448929, 0.9722085430569832, 0.025056921212808846, 0.9999163979440778, 0.9996091516189214, 0.09138004935113823, 0.00933810723296303, 0.0026680306379894374, 0.896458294364451, 0.26664800952706713, 0.5689776695152607, 0.03278854366698113, 0.03495837376259018, 0.08076589800322558, 0.015912087367799668, 0.28942625309113273, 0.05029914939760426, 0.13976566922776923, 0.08822965550071568, 0.21851269820270705, 0.1438885503259335, 0.06967669055897639, 0.9973865267529289, 0.9966861021714238, 0.9878473790352303, 0.012081296930720306, 0.29541457966196366, 0.13299106538287664, 0.5701174360265941, 0.05991614813889858, 0.020265755988156876, 0.02202799563930095, 0.037007032674025594, 0.7947700826659783, 0.03612591284845356, 0.02995807406944929, 0.7473496254137527, 0.059894449053640025, 0.07786278376973203, 0.04924654699965957, 0.04658457148616446, 0.018633828594465784, 0.9985221765453023, 0.22871871020550072, 0.08067032664562751, 0.34239053411524856, 0.07150324407226075, 0.23146883497751075, 0.021084289918743553, 0.02429276881942192, 0.1183626908307953, 0.35842895489486803, 0.15033970811169564, 0.01956802550025245, 0.041999664488346716, 0.24292987755191453, 0.06824945479356341, 0.08746234992635617, 0.21445095414635407, 0.1517976361702624, 0.0033639365356290837, 0.13455746142516334, 0.3897961460660201, 0.01850165094595996, 0.2769756263846571, 0.2711470147183133, 0.29422831691703477, 0.030775069598295235, 0.09558923132803823, 0.010258356532765078, 0.021216146465491414, 0.207317255275331, 0.33888397496929107, 0.12120085693019352, 0.033489710467553474, 0.0893058945801426, 0.1334272591643797, 0.057410932230091666, 0.019136977410030558, 0.05020245164065345, 0.05954865274396659, 0.17944706118361234, 0.016556127668726137, 0.6798693716867217, 0.014152818813588472, 0.9952209727194749, 0.020870819431622105, 0.04743368052641388, 0.03225490275796144, 0.7722203189700179, 0.1271222638107892, 0.9967501653787699, 0.9937045019975027, 0.006120643671723748, 0.1565719855287196, 0.0541601207803747, 0.20580845896542388, 0.4441129903990726, 0.12506064252922885, 0.014770942031011283, 0.9970117058701007, 0.9997173703593601, 0.9996126836544548, 0.3735376617731519, 0.1002675351734313, 0.12122509375476326, 0.051777497671526, 0.051777497671526, 0.08136463919811229, 0.1134173758519141, 0.1068424555126727, 0.9801722547374764, 0.0098509774345475, 0.007388233075910626, 0.9981714052031821, 0.9998486930375825, 0.9923730765502021, 0.09293436325577518, 0.030978121085258395, 0.867387390387235, 0.010326040361752798, 0.9907385132153149, 0.15870761487086726, 0.19473326978020525, 0.6465144556702814, 0.9972139634583032, 0.9979148690161349, 0.029000135090648135, 0.12934980889638295, 0.821210174630417, 0.02025406260299235, 0.0316614137161992, 0.018996848229719514, 0.861190453080618, 0.04010445737385231, 0.023218370058546076, 0.023218370058546076, 0.6533635603667178, 0.22831674600308322, 0.06798002362197064, 0.01613667227390212, 0.0058366686948156605, 0.003776667978998369, 0.024720008589807503, 0.020870351548421335, 0.9790513804159432, 0.9988014308426252, 0.9997659698514083, 0.09707574249587045, 0.05424820904180996, 0.23983418734273876, 0.01522756745033262, 0.08851023580505835, 0.11039986401491149, 0.3949650307430023, 0.9378007680665185, 0.013273896221748316, 0.03229981413958757, 0.01637113867348959, 0.9801769293997141, 0.8279876535437012, 0.021102301029282792, 0.01999165360668896, 0.01138413608158677, 0.11967225978448531, 0.9983774763879785, 0.9994018825919082, 0.017925409195037403, 0.46725566635064164, 0.0029875681991729007, 0.4421600934775893, 0.024498059233217784, 0.04541103662742809, 0.03487210190868359, 0.01937338994926866, 0.06974420381736718, 0.8737398867120166, 0.9919641280828237, 0.10561653530672288, 0.8804970341387, 0.0140103567243612, 0.9781141266695603, 0.019368596567714065, 0.9847714130608961, 0.022823228006080484, 0.23525481175498344, 0.04272040113958655, 0.13108725829133405, 0.03920913529249724, 0.35405263958150496, 0.17146681553286108, 0.0035112658470893053, 0.23270674150092593, 0.018996468693953137, 0.06411308184209184, 0.584141412339059, 0.09973146064325397, 0.18135326626449214, 0.7526160549976423, 0.06347364319257225, 0.17677837764468077, 0.8102342308714535, 0.9968464847137715, 0.9976743023975835, 0.9499179238164434, 0.01821965539637424, 0.031697208703281216, 0.9970788929939722, 0.0026285032328487844, 0.9997996278756012, 0.22304141800788824, 0.13244432365265316, 0.16738891718967241, 0.25626035260480773, 0.12511027315722936, 0.011216783110648151, 0.08455728806488606, 0.9995458737659524, 0.692362121368179, 0.2720647631103153, 0.02501043786440118, 0.008540149514673573, 0.002440042718478164, 0.0866563722827126, 0.3572124667400506, 0.3329016292670724, 0.03685836649128952, 0.005489543945511205, 0.16194154639258054, 0.015684411272889158, 0.0031368822545778316, 0.9847178050957692, 0.01127742101226293, 0.534193626896665, 0.08547098030346642, 0.259974231756377, 0.10327743453335525, 0.005341936268966651, 0.012918145488204014, 0.11626330939383614, 0.865515747709669, 0.15304710441762362, 0.29191721389972, 0.5548360290676797, 0.025797756096184964, 0.040031000838907704, 0.129878358277345, 0.10141186879189952, 0.11564511353462226, 0.12898878048092483, 0.45724298735996804, 0.9948861643277558, 0.9979131466809315, 0.9995966632555611, 0.9997682868194184, 0.01540869034050387, 0.9784518366219958, 0.9988330940977914, 0.02024713114076082, 0.961738729186139, 0.011810826498777146, 0.006749043713586941, 0.9979351894679221, 0.991160997760481, 0.530812072111946, 0.2000664236936093, 0.18734543721598096, 0.05695532582029051, 0.013010099806665345, 0.011564533161480307, 0.03753762351036647, 0.07173856937536703, 0.603104484399888, 0.007229468231626135, 0.0061172423498374985, 0.19436147284256416, 0.07813386819565168, 0.0022244517635772723, 0.01489660557006892, 0.04536693514520989, 0.9147870056892322, 0.02505338209511591, 0.04171932654864397, 0.9578062053459512, 0.9976048233001581, 0.9864367099066038, 0.24267804755759773, 0.38211408955279447, 0.06615795184027419, 0.06764131398915926, 0.11332886817481948, 0.039457433160342906, 0.044500864466552145, 0.04390751960699812, 0.9991486679437451, 0.0408804462973739, 0.5028691792113856, 0.20003635858132468, 0.026989032507004126, 0.21710295266663612, 0.011906926106031232, 0.039525734057676704, 0.07905146811535341, 0.8563909045829952, 0.9941839549454347, 0.9977552829600962, 0.03344769526421277, 0.8027446863411065, 0.03679246479063405, 0.018396232395317024, 0.07525731434447873, 0.03344769526421277, 0.014295405120577519, 0.20192259732815745, 0.7773126534314027, 0.0071477025602887595, 0.016400396790101298, 0.006560158716040519, 0.9774636486900374, 0.204284084780186, 0.17626595509679244, 0.04610578302330587, 0.45999385062482856, 0.07802517127020993, 0.025180850728113206, 0.0017732993470502257, 0.007802517127020993, 0.9922271332269222, 0.8897020981930414, 0.04018009475710509, 0.013776032488150318, 0.05510412995260127, 0.9957116289522129, 0.8777753713987111, 0.0804381685996206, 0.006716832815854266, 0.01326984044107794, 0.00016382519063059184, 0.016546344253689775, 0.004914755718917755, 0.38966739200945244, 0.03133004156859919, 0.050911317548973684, 0.2104987167890258, 0.3172166708820668, 0.2282550697654545, 0.45162892113470277, 0.0464877942495834, 0.11366265694023142, 0.0232438971247917, 0.014178777246122938, 0.036492918485922975, 0.08576998039048138, 0.08497027483597175, 0.8634479398773011, 0.049982514609395144, 0.9717039306092932, 0.015302424104083357, 0.007651212052041678, 0.009824602617752079, 0.03438610916213227, 0.15964979253847128, 0.022105355889942176, 0.03438610916213227, 0.7393013469858438, 0.9995705089795942, 0.9878901748097327, 0.05424328076427798, 0.09369293950193469, 0.8530988702018264, 0.12899649130663843, 0.8653038974374506, 0.005707809349851258, 0.9913127786191203, 0.031331950351995055, 0.05967990543237153, 0.9086265602078566, 0.03601260465536406, 0.475488458076756, 0.4883065038015466, 0.6252494030304552, 0.10623760548083196, 0.134851745638993, 0.004870491941814646, 0.015524693064534183, 0.08736444920630021, 0.002435245970907323, 0.023134836723619566, 0.05139197676698839, 0.8997431156369758, 0.04832379904955625, 0.998829997109417, 0.9827263501341151, 0.03984001149463747, 0.9454341189304354, 0.013790773209682201, 0.9993958740531665, 0.022027432242296557, 0.048460350933052426, 0.9284562690127999, 0.9996007867360736, 0.9874056609122607, 0.24994574136056508, 0.4364816025237454, 0.20007971906941785, 0.10527271372575524, 0.008003188762776715, 0.024915236391936293, 0.930168825298955, 0.030451955590144356, 0.016610157594624194, 0.11844823513125675, 0.04307208550227518, 0.8363163268358431, 0.9536581454430376, 0.025006530631402655, 0.020459888698420355, 0.9926627454960664, 0.9916518365482044, 0.999778563034614, 0.9963273116958128, 0.9996471985021184, 0.016041710412548066, 0.9817526772479417, 0.029860296818110185, 0.9523863090407775, 0.017287540263116425, 0.9877151451489415, 0.05317666422687057, 0.9217288465990898, 0.01772555474229019, 0.06403185716999273, 0.934111798715188, 0.15364672494740114, 0.1846238872351836, 0.10780052476148305, 0.5476762292479944, 0.007434518949067797, 0.01016169812845224, 0.029356016815528692, 0.31501264198201945, 0.6447032923718032, 0.03535994647358088, 0.2241276607248511, 0.3405434844994097, 0.3998393947397222, 0.9918011006313476, 0.012507740120003212, 0.06253870060001607, 0.25953560749006666, 0.6660371613901711, 0.9989412868135039, 0.9979635058621267, 0.00836864351813528, 0.987499935139963, 0.04733983194445946, 0.04733983194445946, 0.905194968392543, 0.012942444901250783, 0.9466473984914858, 0.03697841400357366, 0.9919641254208815, 0.21137773932446782, 0.7880208578662167, 0.9907378496799641, 0.06758912021202318, 0.016162615702875107, 0.8889438636581308, 0.02644791660470472, 0.8508466746219034, 0.07976687574580345, 0.028277146428406515, 0.021102348080900384, 0.006330704424270115, 0.013505502771776244, 0.9996457236366513, 0.0845126246004532, 0.07665728449335979, 0.4228339967990623, 0.07963689625811936, 0.18311068663431526, 0.03358835080274422, 0.11918447059038272, 0.9871140411145238, 0.9977374139292129, 0.9978748440516322, 0.055662665174209584, 0.0793708373780396, 0.857617359721155, 0.007215530670730872, 0.9989006624869646, 0.9902462803178665, 0.07181907737608666, 0.5029347155188142, 0.20901966776961917, 0.011869259286244013, 0.05431694927603193, 0.1325735910107594, 0.017300954213847208, 0.999271737268599, 0.1405351663457517, 0.08462332597163544, 0.32590054704552457, 0.04382279380673978, 0.2445513378525536, 0.11257924615869357, 0.04785247599586528, 0.9980600841201814, 0.020548884519592404, 0.9790075696120095, 0.9985209353547742, 0.030237958687634337, 0.9676146780042988, 0.991596431578484, 0.05897160080461759, 0.12732504719178797, 0.03350659136625999, 0.7786931833518822, 0.0019589741267415934, 0.058769223802247805, 0.8756614346534923, 0.035261534281348685, 0.031343586027865494, 0.034546613460134074, 0.09212430256035753, 0.7408329330895418, 0.015354050426726254, 0.11515537820044691, 0.015409766974949822, 0.9708153194218389, 0.03975418712322368, 0.11344487544919926, 0.0669033880854252, 0.73399804029952, 0.045571873043695435, 0.99587989776967, 0.1940008200377688, 0.05500177332349686, 0.22748016032163645, 0.08429619607188105, 0.08310050534745721, 0.1369065879465302, 0.023614891807370933, 0.19579435612440457, 0.991714947144828, 0.073661796618213, 0.073661796618213, 0.33305205479516814, 0.0031479400264193586, 0.06610674055480653, 0.21909662583878736, 0.22979962192861317, 0.0025183520211354868, 0.9931844656689599, 0.3745805840870393, 0.5687101283681032, 0.037878935469475884, 0.0110480228452638, 0.007891444889474143, 0.9919109393760128, 0.9823121779840771, 0.013274488891676718, 0.9961436304967588, 0.992388874844795, 0.9992486088067365, 0.9961653478211517, 0.8581632075949067, 0.06581782713117279, 0.02151736656211418, 0.03670609590007713, 0.0063286372241512295, 0.005062909779320984, 0.007594364668981475, 0.985650124104727, 0.9963810469988842, 0.1418120404982175, 0.8569848309418143, 0.9982704363428767, 0.9863069317045472, 0.008018755542313391, 0.009673240924372163, 0.9643220521503423, 0.02568412245436747, 0.010433562098558122, 0.9807548372644634, 0.3067811082489613, 0.690257493560163, 0.11455881248516736, 0.08101396684033935, 0.4557035634769088, 0.020253491710084837, 0.3044352972672127, 0.024683943021665895, 0.1583955702830333, 0.03326306975943699, 0.05860636100472232, 0.6779330408113825, 0.07127800662736498, 0.9901640740660348, 0.6257320747438155, 0.11356381110679514, 0.1194456021202945, 0.13075673868471632, 0.010406245639268081, 0.02786347667284398, 0.9198430236622619, 0.05224401876158246, 0.9882380370742041, 0.00468359259276874, 0.9965665322268658, 0.9994935440839566, 0.27915887430847725, 0.008350906496407438, 0.7122130254793201, 0.009396975849323084, 0.990144507912885, 0.9992524316435836, 0.17653309826040112, 0.3952878603231957, 0.11702382408222446, 0.08111878714790559, 0.044881296167898585, 0.11968345644772957, 0.04454884212221045, 0.020944604878352674, 0.4010771753930505, 0.44235133661918097, 0.08882917307362864, 0.03289969373097357, 0.008075379370329877, 0.0110662606186002, 0.002691793123443292, 0.013159877492389428, 0.14203553994904583, 0.20613100021486072, 0.3486793038460331, 0.01897225623868121, 0.2051054728506077, 0.007691455231897788, 0.07127415181558618, 0.9987064210434914, 0.9955302595816886, 0.6797269717795984, 0.08243209796929524, 0.12837785749316472, 0.022297206827760187, 0.027026917366982046, 0.04797277832639313, 0.01216211281514192], \"Term\": [\"abandon\", \"abandon\", \"abhor\", \"accommodate\", \"acid\", \"adapt\", \"add\", \"add\", \"add\", \"add\", \"add\", \"add\", \"add\", \"addict\", \"addict\", \"addict\", \"adjust\", \"adjust\", \"adjust\", \"admiration\", \"adult\", \"adult\", \"adult\", \"adult\", \"advance\", \"advance\", \"advance\", \"affect\", \"affect\", \"affect\", \"affect\", \"age\", \"age\", \"age\", \"age\", \"age\", \"age\", \"air\", \"air\", \"air\", \"air\", \"air\", \"aircraft\", \"airport\", \"airport\", \"airship\", \"al\", \"allow\", \"allow\", \"allow\", \"allow\", \"allow\", \"allow\", \"allow\", \"amid\", \"appointment\", \"appointment\", \"appropriate\", \"appropriate\", \"architect\", \"area\", \"area\", \"area\", \"area\", \"area\", \"area\", \"area\", \"ask\", \"ask\", \"ask\", \"ask\", \"ask\", \"attempt\", \"attempt\", \"attempt\", \"attempt\", \"away\", \"away\", \"away\", \"away\", \"away\", \"away\", \"away\", \"away\", \"backdrop\", \"bad\", \"bad\", \"bad\", \"bad\", \"bad\", \"bad\", \"bad\", \"bad\", \"ban\", \"ban\", \"ban\", \"believe\", \"believe\", \"believe\", \"believe\", \"believe\", \"believe\", \"believe\", \"benefit\", \"benefit\", \"benefit\", \"benefit\", \"birthday\", \"birthday\", \"birthday\", \"birthday\", \"blimp\", \"blood\", \"blood\", \"blood\", \"blood\", \"blood\", \"bloom\", \"blossom\", \"blossom\", \"blossom\", \"blueprints\", \"boat\", \"boat\", \"boat\", \"book\", \"book\", \"books\", \"bookshelf\", \"boyfriend\", \"boyfriend\", \"breakfast\", \"breakfast\", \"breakfast\", \"brother\", \"brother\", \"brother\", \"bud\", \"build\", \"build\", \"build\", \"build\", \"build\", \"build\", \"builder\", \"building\", \"building\", \"cable\", \"california\", \"caps10\", \"caps11\", \"caps12\", \"caps13\", \"caps14\", \"caps15\", \"caps16\", \"caps17\", \"caps18\", \"caps19\", \"caps20\", \"caps21\", \"caps22\", \"caps23\", \"caps24\", \"caps3\", \"caps3\", \"caps3\", \"caps3\", \"caps3\", \"caps3\", \"caps4\", \"caps4\", \"caps4\", \"caps4\", \"caps5\", \"caps5\", \"caps5\", \"caps5\", \"caps6\", \"caps6\", \"caps7\", \"caps7\", \"caps8\", \"caps9\", \"car\", \"car\", \"car\", \"car\", \"car\", \"care\", \"care\", \"care\", \"care\", \"care\", \"care\", \"caring\", \"caring\", \"celebration\", \"cellphone\", \"censor\", \"censoring\", \"censorship\", \"certain\", \"certain\", \"certain\", \"certain\", \"certain\", \"certain\", \"change\", \"change\", \"change\", \"change\", \"change\", \"change\", \"change\", \"change\", \"chat\", \"chat\", \"chatting\", \"child\", \"child\", \"child\", \"child\", \"childhood\", \"childhood\", \"childhood\", \"childhood\", \"childhood\", \"city\", \"city\", \"city\", \"city\", \"city\", \"city\", \"clock\", \"clock\", \"coaster\", \"communicate\", \"communicate\", \"communication\", \"communication\", \"complain\", \"complain\", \"complain\", \"computer\", \"concert\", \"concert\", \"concert\", \"conclude\", \"conclude\", \"congregation\", \"constantly\", \"constantly\", \"constantly\", \"constantly\", \"constantly\", \"constantly\", \"content\", \"content\", \"content\", \"content\", \"cooking\", \"cooking\", \"coordination\", \"country\", \"country\", \"country\", \"country\", \"country\", \"country\", \"country\", \"country\", \"courageous\", \"create\", \"create\", \"create\", \"create\", \"create\", \"cry\", \"cry\", \"cry\", \"cry\", \"cuba\", \"cuban\", \"culinary\", \"culture\", \"culture\", \"culture\", \"culture\", \"current\", \"current\", \"current\", \"current\", \"cyclist\", \"dad\", \"dad\", \"dad\", \"dangle\", \"date1\", \"date1\", \"date1\", \"date1\", \"date1\", \"date1\", \"dear\", \"dear\", \"deer\", \"deer\", \"dehydrate\", \"dehydration\", \"densely\", \"dentist\", \"describe\", \"describe\", \"describe\", \"describe\", \"desert\", \"didn\", \"didn\", \"didn\", \"different\", \"different\", \"different\", \"different\", \"different\", \"different\", \"different\", \"dirigible\", \"dock\", \"docking\", \"doctor\", \"doctor\", \"doctor\", \"donut\", \"donut\", \"donut\", \"donut\", \"driver\", \"driver\", \"driver\", \"drug\", \"drug\", \"drug\", \"earthquake\", \"easy\", \"easy\", \"easy\", \"easy\", \"easy\", \"easy\", \"easy\", \"easy\", \"eat\", \"eat\", \"eat\", \"eat\", \"eat\", \"eat\", \"effect\", \"effect\", \"effect\", \"effect\", \"effect\", \"electronic\", \"email\", \"empire\", \"encompass\", \"end\", \"end\", \"end\", \"end\", \"end\", \"end\", \"end\", \"end\", \"ending\", \"ending\", \"ending\", \"etc\", \"etc\", \"etc\", \"etc\", \"etc\", \"eternally\", \"example\", \"example\", \"example\", \"example\", \"example\", \"example\", \"example\", \"example\", \"exceed\", \"excited\", \"excited\", \"excited\", \"excited\", \"exercise\", \"exercise\", \"eye\", \"eye\", \"eye\", \"eye\", \"eye\", \"eye\", \"face\", \"face\", \"face\", \"face\", \"face\", \"face\", \"face\", \"face\", \"facebook\", \"fail\", \"fail\", \"fail\", \"fail\", \"familiar\", \"familiar\", \"familiar\", \"faraway\", \"feature\", \"feature\", \"feel\", \"feel\", \"feel\", \"feel\", \"feel\", \"feel\", \"feel\", \"finally\", \"finally\", \"finally\", \"finally\", \"finally\", \"finally\", \"finally\", \"finally\", \"flammable\", \"flower\", \"fly\", \"fly\", \"fly\", \"fly\", \"fly\", \"food\", \"food\", \"food\", \"food\", \"food\", \"food\", \"food\", \"forget\", \"forget\", \"forget\", \"forget\", \"forget\", \"forget\", \"forget\", \"foundation\", \"frame\", \"framework\", \"freedom\", \"fun\", \"fun\", \"fun\", \"fun\", \"fun\", \"funniest\", \"funniest\", \"funny\", \"funny\", \"funny\", \"funny\", \"game\", \"game\", \"game\", \"game\", \"garden\", \"garden\", \"garden\", \"geese\", \"generosity\", \"genre\", \"german\", \"giggle\", \"girl\", \"girl\", \"girl\", \"girl\", \"girl\", \"girlfriend\", \"girlfriend\", \"girlfriend\", \"google\", \"gracious\", \"grateful\", \"gratefulness\", \"gratitude\", \"great\", \"great\", \"great\", \"great\", \"great\", \"great\", \"great\", \"great\", \"grow\", \"grow\", \"grow\", \"grow\", \"grow\", \"grow\", \"grow\", \"hand\", \"hand\", \"hand\", \"hand\", \"hand\", \"hand\", \"hand\", \"happiness\", \"happiness\", \"happiness\", \"happy\", \"happy\", \"happy\", \"happy\", \"happy\", \"happy\", \"hard\", \"hard\", \"hard\", \"hard\", \"hard\", \"hard\", \"hard\", \"hard\", \"heat\", \"heat\", \"heatstroke\", \"helium\", \"help\", \"help\", \"help\", \"help\", \"help\", \"help\", \"help\", \"helpful\", \"helpful\", \"helpful\", \"hibiscus\", \"highly\", \"highly\", \"hilarious\", \"hill\", \"hill\", \"hill\", \"hindenburg\", \"ho\", \"homeland\", \"homework\", \"homework\", \"homework\", \"hope\", \"hope\", \"hope\", \"hope\", \"hope\", \"hope\", \"hope\", \"hot\", \"hot\", \"hot\", \"hot\", \"hour\", \"hour\", \"hour\", \"hour\", \"hour\", \"house\", \"house\", \"house\", \"house\", \"house\", \"house\", \"humor\", \"humor\", \"hungry\", \"hungry\", \"hungry\", \"hunt\", \"hunt\", \"hunt\", \"hurry\", \"hurry\", \"hurry\", \"hurry\", \"hydrogen\", \"ibm\", \"idea\", \"idea\", \"idea\", \"idea\", \"idea\", \"idea\", \"idea\", \"idea\", \"ill\", \"ill\", \"ill\", \"ill\", \"ill\", \"immigrant\", \"impatient\", \"inappropriate\", \"inappropriate\", \"information\", \"information\", \"information\", \"information\", \"inpatient\", \"interact\", \"internet\", \"internet\", \"italian\", \"item\", \"item\", \"item\", \"item\", \"joe\", \"joke\", \"journey\", \"journey\", \"journey\", \"june\", \"katherine\", \"keyboard\", \"kid\", \"kid\", \"kid\", \"kid\", \"kid\", \"kitchen\", \"kitchen\", \"kitchen\", \"kurmanji\", \"landing\", \"laptop\", \"laptop\", \"laugh\", \"laughter\", \"law\", \"law\", \"law\", \"law\", \"learn\", \"learn\", \"learn\", \"learn\", \"learn\", \"learn\", \"leave\", \"leave\", \"leave\", \"leave\", \"leave\", \"leave\", \"leave\", \"librarian\", \"libraries\", \"library\", \"library\", \"limit\", \"limit\", \"limit\", \"line\", \"line\", \"line\", \"line\", \"line\", \"line\", \"line\", \"listen\", \"listen\", \"listen\", \"listen\", \"listen\", \"listen\", \"literature\", \"little\", \"little\", \"little\", \"little\", \"little\", \"little\", \"little\", \"live\", \"live\", \"live\", \"live\", \"live\", \"live\", \"live\", \"long\", \"long\", \"long\", \"long\", \"long\", \"long\", \"long\", \"look\", \"look\", \"look\", \"look\", \"look\", \"look\", \"look\", \"lot\", \"lot\", \"lot\", \"lot\", \"lot\", \"lot\", \"lot\", \"lot\", \"love\", \"love\", \"love\", \"love\", \"love\", \"love\", \"loving\", \"low\", \"low\", \"low\", \"low\", \"low\", \"lusted\", \"magazine\", \"magazine\", \"man\", \"man\", \"man\", \"man\", \"man\", \"man\", \"marcia\", \"mast\", \"material\", \"mean\", \"mean\", \"mean\", \"mean\", \"mean\", \"mean\", \"mean\", \"mean\", \"medium\", \"medium\", \"medium\", \"melt\", \"memoir\", \"messaging\", \"min\", \"min\", \"min\", \"min\", \"mining\", \"minute\", \"minute\", \"minute\", \"modification\", \"modify\", \"mom\", \"mom\", \"mom\", \"mom\", \"moment\", \"moment\", \"moment\", \"moment\", \"moment\", \"moment\", \"month1\", \"month1\", \"month1\", \"month1\", \"month1\", \"month1\", \"month1\", \"mood\", \"mood\", \"moor\", \"mooring\", \"mother\", \"mother\", \"mother\", \"mother\", \"mother\", \"mother\", \"mother\", \"movie\", \"movie\", \"movie\", \"movie\", \"mud\", \"music\", \"music\", \"music\", \"music\", \"music\", \"myspace\", \"narcs\", \"nature\", \"nature\", \"nature\", \"nature\", \"nature\", \"nature\", \"neighborhood\", \"neighborhood\", \"neighborhood\", \"neighborhood\", \"networking\", \"newspaper\", \"newspaper\", \"newspaper\", \"novel\", \"novel\", \"nudity\", \"num2\", \"num2\", \"num2\", \"num2\", \"num2\", \"num2\", \"num2\", \"num2\", \"num4\", \"num4\", \"num4\", \"num4\", \"num4\", \"num5\", \"num5\", \"num5\", \"num7\", \"num7\", \"obese\", \"obesity\", \"obstacle\", \"obstacle\", \"obstacle\", \"offend\", \"offend\", \"offensive\", \"old\", \"old\", \"old\", \"old\", \"old\", \"old\", \"old\", \"online\", \"opinion\", \"opinion\", \"opinion\", \"opinion\", \"opinion\", \"organization1\", \"organization1\", \"organization1\", \"organization1\", \"organization1\", \"organization1\", \"organization1\", \"organization1\", \"outdoors\", \"outside\", \"outside\", \"outside\", \"outside\", \"outside\", \"outside\", \"pack\", \"pack\", \"pack\", \"paragraph\", \"paragraph\", \"paragraph\", \"pass\", \"pass\", \"pass\", \"pass\", \"pass\", \"pass\", \"pass\", \"passionate\", \"paterson\", \"patience\", \"patient\", \"patiently\", \"patiently\", \"pedestrian\", \"percent1\", \"percent1\", \"percent1\", \"percent1\", \"percent2\", \"percent3\", \"person\", \"person\", \"person\", \"person\", \"person\", \"person\", \"person1\", \"person1\", \"person1\", \"person1\", \"person1\", \"person1\", \"person1\", \"person1\", \"person2\", \"person2\", \"person2\", \"person2\", \"person3\", \"person3\", \"person4\", \"person5\", \"place\", \"place\", \"place\", \"place\", \"place\", \"place\", \"place\", \"place\", \"plant\", \"play\", \"play\", \"play\", \"play\", \"play\", \"play\", \"pole\", \"pole\", \"pole\", \"populate\", \"populated\", \"positive\", \"positive\", \"positive\", \"positive\", \"positive\", \"positive\", \"post\", \"post\", \"post\", \"post\", \"practical\", \"practical\", \"practical\", \"problem\", \"problem\", \"problem\", \"problem\", \"problem\", \"problem\", \"problem\", \"problem\", \"profanity\", \"public\", \"public\", \"public\", \"public\", \"rating\", \"read\", \"read\", \"read\", \"read\", \"read\", \"read\", \"read\", \"reader\", \"reader\", \"reader\", \"reader\", \"reader\", \"reason\", \"reason\", \"reason\", \"reason\", \"reason\", \"reason\", \"reason\", \"reason\", \"relationship\", \"relationship\", \"relationship\", \"religion\", \"religion\", \"religion\", \"remind\", \"remind\", \"remind\", \"remind\", \"remind\", \"remind\", \"remove\", \"repetition\", \"represent\", \"represent\", \"represent\", \"research\", \"research\", \"research\", \"retake\", \"return\", \"return\", \"return\", \"ride\", \"ride\", \"ride\", \"right\", \"right\", \"right\", \"right\", \"right\", \"right\", \"right\", \"right\", \"road\", \"road\", \"road\", \"rodriguez\", \"roller\", \"rough\", \"rough\", \"rough\", \"sacrifice\", \"safety\", \"safety\", \"safety\", \"sang\", \"sangs\", \"school\", \"school\", \"school\", \"school\", \"school\", \"screen\", \"screen\", \"screen\", \"screen\", \"season\", \"season\", \"season\", \"section\", \"section\", \"section\", \"selflessly\", \"selflessness\", \"setting\", \"sex\", \"shelf\", \"shift\", \"shift\", \"ship\", \"ship\", \"ship\", \"shortcut\", \"shot\", \"shot\", \"shot\", \"silently\", \"silently\", \"simple\", \"simple\", \"simple\", \"simple\", \"simple\", \"sister\", \"sister\", \"sister\", \"sister\", \"sit\", \"sit\", \"sit\", \"sit\", \"slavery\", \"sleep\", \"sleep\", \"sleep\", \"sleep\", \"smile\", \"smith\", \"snake\", \"snake\", \"snow\", \"snow\", \"snow\", \"social\", \"social\", \"social\", \"socialize\", \"society\", \"society\", \"solidarity\", \"speed\", \"speed\", \"speed\", \"speed\", \"spend\", \"spend\", \"spend\", \"spend\", \"spend\", \"spend\", \"spring\", \"start\", \"start\", \"start\", \"start\", \"start\", \"start\", \"start\", \"statistic\", \"steel\", \"strengthen\", \"stress\", \"stress\", \"stress\", \"stress\", \"swivel\", \"symbolize\", \"talk\", \"talk\", \"talk\", \"talk\", \"talk\", \"talk\", \"talk\", \"technology\", \"tell\", \"tell\", \"tell\", \"tell\", \"tell\", \"tell\", \"tell\", \"terrain\", \"test\", \"test\", \"tether\", \"thankful\", \"thankful\", \"thirst\", \"thousand\", \"thousand\", \"thousand\", \"thousand\", \"tie\", \"tie\", \"tie\", \"tie\", \"tie\", \"till\", \"till\", \"till\", \"till\", \"till\", \"tolerant\", \"tolerant\", \"town\", \"town\", \"town\", \"town\", \"town\", \"transmit\", \"try\", \"try\", \"try\", \"try\", \"try\", \"try\", \"try\", \"try\", \"tumbleweed\", \"turn\", \"turn\", \"turn\", \"turn\", \"turn\", \"turn\", \"turn\", \"turn\", \"twitter\", \"type\", \"type\", \"type\", \"type\", \"type\", \"uncensored\", \"unhealthy\", \"unhealthy\", \"unity\", \"unwittingly\", \"urban\", \"vietnam\", \"view\", \"view\", \"view\", \"view\", \"view\", \"view\", \"view\", \"viewer\", \"violence\", \"violent\", \"violent\", \"vow\", \"vulgar\", \"vulgar\", \"wait\", \"wait\", \"wait\", \"waiting\", \"waiting\", \"wake\", \"wake\", \"walk\", \"walk\", \"walk\", \"walk\", \"walk\", \"walk\", \"warm\", \"warm\", \"warm\", \"warm\", \"warm\", \"warmth\", \"watch\", \"watch\", \"watch\", \"watch\", \"watch\", \"water\", \"water\", \"water\", \"web\", \"web\", \"webcam\", \"website\", \"weight\", \"weight\", \"weight\", \"wind\", \"wind\", \"winter\", \"work\", \"work\", \"work\", \"work\", \"work\", \"work\", \"work\", \"work\", \"world\", \"world\", \"world\", \"world\", \"world\", \"world\", \"world\", \"world\", \"year\", \"year\", \"year\", \"year\", \"year\", \"year\", \"year\", \"york\", \"yosemite\", \"young\", \"young\", \"young\", \"young\", \"young\", \"young\", \"young\"]}, \"R\": 30, \"lambda.step\": 0.01, \"plot.opts\": {\"xlab\": \"PC1\", \"ylab\": \"PC2\"}, \"topic.order\": [8, 4, 1, 3, 5, 6, 7, 2]};\n",
              "\n",
              "function LDAvis_load_lib(url, callback){\n",
              "  var s = document.createElement('script');\n",
              "  s.src = url;\n",
              "  s.async = true;\n",
              "  s.onreadystatechange = s.onload = callback;\n",
              "  s.onerror = function(){console.warn(\"failed to load library \" + url);};\n",
              "  document.getElementsByTagName(\"head\")[0].appendChild(s);\n",
              "}\n",
              "\n",
              "if(typeof(LDAvis) !== \"undefined\"){\n",
              "   // already loaded: just create the visualization\n",
              "   !function(LDAvis){\n",
              "       new LDAvis(\"#\" + \"ldavis_el611405965523500327973314684\", ldavis_el611405965523500327973314684_data);\n",
              "   }(LDAvis);\n",
              "}else if(typeof define === \"function\" && define.amd){\n",
              "   // require.js is available: use it to load d3/LDAvis\n",
              "   require.config({paths: {d3: \"https://d3js.org/d3.v5\"}});\n",
              "   require([\"d3\"], function(d3){\n",
              "      window.d3 = d3;\n",
              "      LDAvis_load_lib(\"https://cdn.jsdelivr.net/gh/bmabey/pyLDAvis@3.3.1/pyLDAvis/js/ldavis.v3.0.0.js\", function(){\n",
              "        new LDAvis(\"#\" + \"ldavis_el611405965523500327973314684\", ldavis_el611405965523500327973314684_data);\n",
              "      });\n",
              "    });\n",
              "}else{\n",
              "    // require.js not available: dynamically load d3 & LDAvis\n",
              "    LDAvis_load_lib(\"https://d3js.org/d3.v5.js\", function(){\n",
              "         LDAvis_load_lib(\"https://cdn.jsdelivr.net/gh/bmabey/pyLDAvis@3.3.1/pyLDAvis/js/ldavis.v3.0.0.js\", function(){\n",
              "                 new LDAvis(\"#\" + \"ldavis_el611405965523500327973314684\", ldavis_el611405965523500327973314684_data);\n",
              "            })\n",
              "         });\n",
              "}\n",
              "</script>"
            ]
          },
          "metadata": {},
          "execution_count": 31
        }
      ]
    },
    {
      "cell_type": "markdown",
      "source": [
        "# Demo"
      ],
      "metadata": {
        "id": "CstMHa-CvfAQ"
      }
    },
    {
      "cell_type": "code",
      "source": [
        "%cd NLP-Essay-Scoring"
      ],
      "metadata": {
        "colab": {
          "base_uri": "https://localhost:8080/"
        },
        "id": "RiCJgzgsKhSw",
        "outputId": "d6afd0c0-8dca-4d27-a731-c6027b6f826b"
      },
      "execution_count": 4,
      "outputs": [
        {
          "output_type": "stream",
          "name": "stdout",
          "text": [
            "[Errno 2] No such file or directory: 'NLP-Essay-Scoring'\n",
            "/content/NLP-Essay-Scoring\n"
          ]
        }
      ]
    },
    {
      "cell_type": "code",
      "source": [
        "from ml_framework import get_features, get_df, get_predictors, get_X_y\n",
        "import spacy\n",
        "from spacy.lang.en.stop_words import STOP_WORDS\n",
        "\"\"\"training_set = get_features()\n",
        "df = get_df(training_set)\n",
        "predictors = get_predictors()\n",
        "X, y = get_X_y(training_set, predictors)\"\"\"\n",
        "\n",
        "\n",
        "reference_essays = {\n",
        "    1: 161,\n",
        "    2: 3022,\n",
        "    3: 5263,\n",
        "    4: 5341,\n",
        "    5: 7209,\n",
        "    6: 8896,\n",
        "    7: 11796,\n",
        "    8: 12340,\n",
        "}  # topic: essay_id\n",
        "\n",
        "references = {}\n",
        "\n",
        "\n",
        "nlp = spacy.load(\"en_core_web_sm\")\n",
        "stop_words = set(STOP_WORDS)\n",
        "\n",
        "# generate nlp object for reference essays:\n",
        "for topic, index in reference_essays.items():\n",
        "    references[topic] = nlp(training_set.iloc[index][\"essay\"])\n",
        "\n",
        "  \n",
        "similarity = training_set.apply(\n",
        "          lambda row: nlp(row[\"essay\"]).similarity(references[row[\"topic\"]]), axis=1\n",
        "      )"
      ],
      "metadata": {
        "id": "4hpnGeEPscuI"
      },
      "execution_count": 6,
      "outputs": []
    },
    {
      "cell_type": "code",
      "source": [
        "import language_tool_python\n",
        "import swifter\n",
        "import pandas as pd\n",
        "import numpy as np\n",
        "import pickle5 as pickle\n",
        "from topic_modeling import STOP_WORDS, punctuation\n",
        "from ml_framework import get_predictors\n",
        "import spacy\n",
        "\n",
        "with open(\"data/training_spacy.pkl\", \"rb\") as fh:\n",
        "    training_set = pickle.load(fh)\n",
        "\n",
        "def preprocess_essay(essay_to_predict):\n",
        "    d = {\"essay\" : [essay_to_predict]}\n",
        "    essay_to_predict = pd.DataFrame(d)\n",
        "    tool = language_tool_python.LanguageTool(\"en-US\")\n",
        "\n",
        "    essay_to_predict[\"matches\"] = essay_to_predict[\"essay\"].apply(lambda txt: tool.check(txt))\n",
        "    essay_to_predict[\"corrections\"] = essay_to_predict.apply(\n",
        "        lambda l: len(l[\"matches\"]), axis=1\n",
        "    )\n",
        "    essay_to_predict[\"corrected\"] = essay_to_predict.swifter.apply(\n",
        "        lambda l: tool.correct(l[\"essay\"]), axis=1\n",
        "    )\n",
        "        \n",
        "    essay_to_predict[\"word_count\"] = essay_to_predict[\"essay\"].str.strip().str.split().str.len()\n",
        "\n",
        "    sents = []\n",
        "    tokens = []\n",
        "    lemma = []\n",
        "    pos = []\n",
        "    ner = []\n",
        "\n",
        "    stop_words = set(STOP_WORDS)\n",
        "    stop_words.update(punctuation)  # remove it if you need punctuation\n",
        "\n",
        "    nlp = spacy.load(\"en_core_web_sm\")\n",
        "\n",
        "    # suppress numpy warnings\n",
        "    np.warnings.filterwarnings(\"ignore\")\n",
        "\n",
        "    for essay in nlp.pipe(essay_to_predict[\"corrected\"], batch_size=100):\n",
        "        if essay.is_parsed:\n",
        "            tokens.append([e.text for e in essay])\n",
        "            sents.append([sent.text.strip() for sent in essay.sents])\n",
        "            pos.append([e.pos_ for e in essay])\n",
        "            ner.append([e.text for e in essay.ents])\n",
        "            lemma.append([n.lemma_ for n in essay])\n",
        "        else:\n",
        "            # We want to make sure that the lists of parsed results have the\n",
        "            # same number of entries of the original Dataframe, so add some blanks in case the parse fails\n",
        "            tokens.append(None)\n",
        "            lemma.append(None)\n",
        "            pos.append(None)\n",
        "            sents.append(None)\n",
        "            ner.append(None)\n",
        "\n",
        "\n",
        "    # generate document similarity for each essay compared to topic reference\n",
        "    essay_to_predict[\"similarity\"] = similarity\n",
        "    essay_to_predict[\"tokens\"] = tokens\n",
        "    essay_to_predict[\"lemma\"] = lemma\n",
        "    essay_to_predict[\"pos\"] = pos\n",
        "    essay_to_predict[\"sents\"] = sents\n",
        "    essay_to_predict[\"ner\"] = ner\n",
        "\n",
        "    essay_to_predict[\"token_count\"] = essay_to_predict.apply(lambda x: len(x[\"tokens\"]), axis=1)\n",
        "    essay_to_predict[\"unique_token_count\"] = essay_to_predict.apply(\n",
        "        lambda x: len(set(x[\"tokens\"])), axis=1\n",
        "    )\n",
        "    essay_to_predict[\"nostop_count\"] = essay_to_predict.apply(\n",
        "        lambda x: len([token for token in x[\"tokens\"] if token not in stop_words]),\n",
        "        axis=1,\n",
        "    )\n",
        "    essay_to_predict[\"sent_count\"] = essay_to_predict.apply(lambda x: len(x[\"sents\"]), axis=1)\n",
        "    essay_to_predict[\"ner_count\"] = essay_to_predict.apply(lambda x: len(x[\"ner\"]), axis=1)\n",
        "    essay_to_predict[\"comma\"] = essay_to_predict.apply(\n",
        "        lambda x: x[\"corrected\"].count(\",\"), axis=1\n",
        "    )\n",
        "    essay_to_predict[\"question\"] = essay_to_predict.apply(\n",
        "        lambda x: x[\"corrected\"].count(\"?\"), axis=1\n",
        "    )\n",
        "    essay_to_predict[\"exclamation\"] = essay_to_predict.apply(\n",
        "        lambda x: x[\"corrected\"].count(\"!\"), axis=1\n",
        "    )\n",
        "    essay_to_predict[\"quotation\"] = essay_to_predict.apply(\n",
        "        lambda x: x[\"corrected\"].count('\"') + x[\"corrected\"].count(\"'\"), axis=1\n",
        "    )\n",
        "    essay_to_predict[\"organization\"] = essay_to_predict.apply(\n",
        "        lambda x: x[\"corrected\"].count(r\"@ORGANIZATION\"), axis=1\n",
        "    )\n",
        "    essay_to_predict[\"caps\"] = essay_to_predict.apply(\n",
        "        lambda x: x[\"corrected\"].count(r\"@CAPS\"), axis=1\n",
        "    )\n",
        "    essay_to_predict[\"person\"] = essay_to_predict.apply(\n",
        "        lambda x: x[\"corrected\"].count(r\"@PERSON\"), axis=1\n",
        "    )\n",
        "    essay_to_predict[\"location\"] = essay_to_predict.apply(\n",
        "        lambda x: x[\"corrected\"].count(r\"@LOCATION\"), axis=1\n",
        "    )\n",
        "    essay_to_predict[\"money\"] = essay_to_predict.apply(\n",
        "        lambda x: x[\"corrected\"].count(r\"@MONEY\"), axis=1\n",
        "    )\n",
        "    essay_to_predict[\"time\"] = essay_to_predict.apply(\n",
        "        lambda x: x[\"corrected\"].count(r\"@TIME\"), axis=1\n",
        "    )\n",
        "    essay_to_predict[\"date\"] = essay_to_predict.apply(\n",
        "        lambda x: x[\"corrected\"].count(r\"@DATE\"), axis=1\n",
        "    )\n",
        "    essay_to_predict[\"percent\"] = essay_to_predict.apply(\n",
        "        lambda x: x[\"corrected\"].count(r\"@PERCENT\"), axis=1\n",
        "    )\n",
        "    essay_to_predict[\"noun\"] = essay_to_predict.apply(lambda x: x[\"pos\"].count(\"NOUN\"), axis=1)\n",
        "    essay_to_predict[\"adj\"] = essay_to_predict.apply(lambda x: x[\"pos\"].count(\"ADJ\"), axis=1)\n",
        "    essay_to_predict[\"pron\"] = essay_to_predict.apply(lambda x: x[\"pos\"].count(\"PRON\"), axis=1)\n",
        "    essay_to_predict[\"verb\"] = essay_to_predict.apply(lambda x: x[\"pos\"].count(\"VERB\"), axis=1)\n",
        "    essay_to_predict[\"noun\"] = essay_to_predict.apply(lambda x: x[\"pos\"].count(\"NOUN\"), axis=1)\n",
        "    essay_to_predict[\"cconj\"] = essay_to_predict.apply(\n",
        "        lambda x: x[\"pos\"].count(\"CCONJ\"), axis=1\n",
        "    )\n",
        "    essay_to_predict[\"adv\"] = essay_to_predict.apply(lambda x: x[\"pos\"].count(\"ADV\"), axis=1)\n",
        "    essay_to_predict[\"det\"] = essay_to_predict.apply(lambda x: x[\"pos\"].count(\"DET\"), axis=1)\n",
        "    essay_to_predict[\"propn\"] = essay_to_predict.apply(\n",
        "        lambda x: x[\"pos\"].count(\"PROPN\"), axis=1\n",
        "    )\n",
        "    essay_to_predict[\"num\"] = essay_to_predict.apply(lambda x: x[\"pos\"].count(\"NUM\"), axis=1)\n",
        "    essay_to_predict[\"part\"] = essay_to_predict.apply(lambda x: x[\"pos\"].count(\"PART\"), axis=1)\n",
        "    essay_to_predict[\"intj\"] = essay_to_predict.apply(lambda x: x[\"pos\"].count(\"INTJ\"), axis=1)\n",
        "\n",
        "    predictors = get_predictors()\n",
        "    return essay_to_predict[predictors]\n"
      ],
      "metadata": {
        "id": "mnqXbk6n1tW3"
      },
      "execution_count": 8,
      "outputs": []
    },
    {
      "cell_type": "code",
      "source": [
        "from sklearn.ensemble import GradientBoostingClassifier\n",
        "\n",
        "training_set = get_features()\n",
        "X, y = get_X_y(training_set, predictors)\n",
        "model = GradientBoostingClassifier(random_state=26)\n",
        "model.fit(X, y)"
      ],
      "metadata": {
        "colab": {
          "base_uri": "https://localhost:8080/"
        },
        "id": "qg4Gux--DGiK",
        "outputId": "17e1e28b-f35f-4e43-ef63-349894345e88"
      },
      "execution_count": 9,
      "outputs": [
        {
          "output_type": "execute_result",
          "data": {
            "text/plain": [
              "GradientBoostingClassifier(random_state=26)"
            ]
          },
          "metadata": {},
          "execution_count": 9
        }
      ]
    },
    {
      "cell_type": "code",
      "source": [
        "model.fit(X[:-1], y[:-1])"
      ],
      "metadata": {
        "id": "etOkKbgq2GR7",
        "outputId": "d41db411-c9c8-4ed2-e101-fd4e4827e847",
        "colab": {
          "base_uri": "https://localhost:8080/"
        }
      },
      "execution_count": 21,
      "outputs": [
        {
          "output_type": "execute_result",
          "data": {
            "text/plain": [
              "GradientBoostingClassifier(random_state=26)"
            ]
          },
          "metadata": {},
          "execution_count": 21
        }
      ]
    },
    {
      "cell_type": "code",
      "source": [
        "!pip install gradio"
      ],
      "metadata": {
        "id": "Hgr69tTnsoKC",
        "outputId": "7a5fdfd9-92c3-4082-9db0-601af70d52e0",
        "colab": {
          "base_uri": "https://localhost:8080/"
        }
      },
      "execution_count": 10,
      "outputs": [
        {
          "output_type": "stream",
          "name": "stdout",
          "text": [
            "Collecting gradio\n",
            "  Downloading gradio-2.9.4-py3-none-any.whl (2.9 MB)\n",
            "\u001b[K     |████████████████████████████████| 2.9 MB 5.1 MB/s \n",
            "\u001b[?25hCollecting ffmpy\n",
            "  Downloading ffmpy-0.3.0.tar.gz (4.8 kB)\n",
            "Collecting pycryptodome\n",
            "  Downloading pycryptodome-3.14.1-cp35-abi3-manylinux2010_x86_64.whl (2.0 MB)\n",
            "\u001b[K     |████████████████████████████████| 2.0 MB 54.8 MB/s \n",
            "\u001b[?25hCollecting markdown-it-py[linkify,plugins]\n",
            "  Downloading markdown_it_py-2.1.0-py3-none-any.whl (84 kB)\n",
            "\u001b[K     |████████████████████████████████| 84 kB 3.0 MB/s \n",
            "\u001b[?25hCollecting fastapi\n",
            "  Downloading fastapi-0.75.2-py3-none-any.whl (54 kB)\n",
            "\u001b[K     |████████████████████████████████| 54 kB 2.5 MB/s \n",
            "\u001b[?25hCollecting paramiko\n",
            "  Downloading paramiko-2.10.4-py2.py3-none-any.whl (212 kB)\n",
            "\u001b[K     |████████████████████████████████| 212 kB 59.1 MB/s \n",
            "\u001b[?25hRequirement already satisfied: matplotlib in /usr/local/lib/python3.7/dist-packages (from gradio) (3.2.2)\n",
            "Collecting pydub\n",
            "  Downloading pydub-0.25.1-py2.py3-none-any.whl (32 kB)\n",
            "Collecting orjson\n",
            "  Downloading orjson-3.6.8-cp37-cp37m-manylinux_2_24_x86_64.whl (253 kB)\n",
            "\u001b[K     |████████████████████████████████| 253 kB 49.6 MB/s \n",
            "\u001b[?25hRequirement already satisfied: pandas in /usr/local/lib/python3.7/dist-packages (from gradio) (1.3.5)\n",
            "Requirement already satisfied: requests in /usr/local/lib/python3.7/dist-packages (from gradio) (2.23.0)\n",
            "Requirement already satisfied: numpy in /usr/local/lib/python3.7/dist-packages (from gradio) (1.21.6)\n",
            "Collecting aiohttp\n",
            "  Downloading aiohttp-3.8.1-cp37-cp37m-manylinux_2_5_x86_64.manylinux1_x86_64.manylinux_2_12_x86_64.manylinux2010_x86_64.whl (1.1 MB)\n",
            "\u001b[K     |████████████████████████████████| 1.1 MB 48.4 MB/s \n",
            "\u001b[?25hRequirement already satisfied: pillow in /usr/local/lib/python3.7/dist-packages (from gradio) (7.1.2)\n",
            "Collecting python-multipart\n",
            "  Downloading python-multipart-0.0.5.tar.gz (32 kB)\n",
            "Requirement already satisfied: Jinja2 in /usr/local/lib/python3.7/dist-packages (from gradio) (2.11.3)\n",
            "Collecting analytics-python\n",
            "  Downloading analytics_python-1.4.0-py2.py3-none-any.whl (15 kB)\n",
            "Collecting uvicorn\n",
            "  Downloading uvicorn-0.17.6-py3-none-any.whl (53 kB)\n",
            "\u001b[K     |████████████████████████████████| 53 kB 1.9 MB/s \n",
            "\u001b[?25hCollecting multidict<7.0,>=4.5\n",
            "  Downloading multidict-6.0.2-cp37-cp37m-manylinux_2_17_x86_64.manylinux2014_x86_64.whl (94 kB)\n",
            "\u001b[K     |████████████████████████████████| 94 kB 2.8 MB/s \n",
            "\u001b[?25hRequirement already satisfied: attrs>=17.3.0 in /usr/local/lib/python3.7/dist-packages (from aiohttp->gradio) (21.4.0)\n",
            "Collecting asynctest==0.13.0\n",
            "  Downloading asynctest-0.13.0-py3-none-any.whl (26 kB)\n",
            "Requirement already satisfied: charset-normalizer<3.0,>=2.0 in /usr/local/lib/python3.7/dist-packages (from aiohttp->gradio) (2.0.12)\n",
            "Collecting aiosignal>=1.1.2\n",
            "  Downloading aiosignal-1.2.0-py3-none-any.whl (8.2 kB)\n",
            "Collecting frozenlist>=1.1.1\n",
            "  Downloading frozenlist-1.3.0-cp37-cp37m-manylinux_2_5_x86_64.manylinux1_x86_64.manylinux_2_17_x86_64.manylinux2014_x86_64.whl (144 kB)\n",
            "\u001b[K     |████████████████████████████████| 144 kB 67.0 MB/s \n",
            "\u001b[?25hRequirement already satisfied: typing-extensions>=3.7.4 in /usr/local/lib/python3.7/dist-packages (from aiohttp->gradio) (4.2.0)\n",
            "Collecting yarl<2.0,>=1.0\n",
            "  Downloading yarl-1.7.2-cp37-cp37m-manylinux_2_5_x86_64.manylinux1_x86_64.manylinux_2_12_x86_64.manylinux2010_x86_64.whl (271 kB)\n",
            "\u001b[K     |████████████████████████████████| 271 kB 52.3 MB/s \n",
            "\u001b[?25hCollecting async-timeout<5.0,>=4.0.0a3\n",
            "  Downloading async_timeout-4.0.2-py3-none-any.whl (5.8 kB)\n",
            "Requirement already satisfied: idna>=2.0 in /usr/local/lib/python3.7/dist-packages (from yarl<2.0,>=1.0->aiohttp->gradio) (2.10)\n",
            "Collecting backoff==1.10.0\n",
            "  Downloading backoff-1.10.0-py2.py3-none-any.whl (31 kB)\n",
            "Requirement already satisfied: six>=1.5 in /usr/local/lib/python3.7/dist-packages (from analytics-python->gradio) (1.15.0)\n",
            "Collecting monotonic>=1.5\n",
            "  Downloading monotonic-1.6-py2.py3-none-any.whl (8.2 kB)\n",
            "Requirement already satisfied: python-dateutil>2.1 in /usr/local/lib/python3.7/dist-packages (from analytics-python->gradio) (2.8.2)\n",
            "Requirement already satisfied: urllib3!=1.25.0,!=1.25.1,<1.26,>=1.21.1 in /usr/local/lib/python3.7/dist-packages (from requests->gradio) (1.24.3)\n",
            "Requirement already satisfied: certifi>=2017.4.17 in /usr/local/lib/python3.7/dist-packages (from requests->gradio) (2021.10.8)\n",
            "Requirement already satisfied: chardet<4,>=3.0.2 in /usr/local/lib/python3.7/dist-packages (from requests->gradio) (3.0.4)\n",
            "Collecting pydantic!=1.7,!=1.7.1,!=1.7.2,!=1.7.3,!=1.8,!=1.8.1,<2.0.0,>=1.6.2\n",
            "  Downloading pydantic-1.9.0-cp37-cp37m-manylinux_2_17_x86_64.manylinux2014_x86_64.whl (10.9 MB)\n",
            "\u001b[K     |████████████████████████████████| 10.9 MB 39.6 MB/s \n",
            "\u001b[?25hCollecting starlette==0.17.1\n",
            "  Downloading starlette-0.17.1-py3-none-any.whl (58 kB)\n",
            "\u001b[K     |████████████████████████████████| 58 kB 5.5 MB/s \n",
            "\u001b[?25hCollecting anyio<4,>=3.0.0\n",
            "  Downloading anyio-3.5.0-py3-none-any.whl (79 kB)\n",
            "\u001b[K     |████████████████████████████████| 79 kB 8.1 MB/s \n",
            "\u001b[?25hCollecting sniffio>=1.1\n",
            "  Downloading sniffio-1.2.0-py3-none-any.whl (10 kB)\n",
            "Requirement already satisfied: MarkupSafe>=0.23 in /usr/local/lib/python3.7/dist-packages (from Jinja2->gradio) (2.0.1)\n",
            "Collecting mdurl~=0.1\n",
            "  Downloading mdurl-0.1.1-py3-none-any.whl (10 kB)\n",
            "Collecting mdit-py-plugins\n",
            "  Downloading mdit_py_plugins-0.3.0-py3-none-any.whl (43 kB)\n",
            "\u001b[K     |████████████████████████████████| 43 kB 2.0 MB/s \n",
            "\u001b[?25hCollecting linkify-it-py~=1.0\n",
            "  Downloading linkify_it_py-1.0.3-py3-none-any.whl (19 kB)\n",
            "Collecting uc-micro-py\n",
            "  Downloading uc_micro_py-1.0.1-py3-none-any.whl (6.2 kB)\n",
            "Requirement already satisfied: cycler>=0.10 in /usr/local/lib/python3.7/dist-packages (from matplotlib->gradio) (0.11.0)\n",
            "Requirement already satisfied: pyparsing!=2.0.4,!=2.1.2,!=2.1.6,>=2.0.1 in /usr/local/lib/python3.7/dist-packages (from matplotlib->gradio) (3.0.8)\n",
            "Requirement already satisfied: kiwisolver>=1.0.1 in /usr/local/lib/python3.7/dist-packages (from matplotlib->gradio) (1.4.2)\n",
            "Requirement already satisfied: pytz>=2017.3 in /usr/local/lib/python3.7/dist-packages (from pandas->gradio) (2022.1)\n",
            "Collecting cryptography>=2.5\n",
            "  Downloading cryptography-37.0.1-cp36-abi3-manylinux_2_24_x86_64.whl (4.0 MB)\n",
            "\u001b[K     |████████████████████████████████| 4.0 MB 41.2 MB/s \n",
            "\u001b[?25hCollecting bcrypt>=3.1.3\n",
            "  Downloading bcrypt-3.2.0-cp36-abi3-manylinux_2_17_x86_64.manylinux2014_x86_64.manylinux_2_24_x86_64.whl (61 kB)\n",
            "\u001b[K     |████████████████████████████████| 61 kB 448 kB/s \n",
            "\u001b[?25hCollecting pynacl>=1.0.1\n",
            "  Downloading PyNaCl-1.5.0-cp36-abi3-manylinux_2_17_x86_64.manylinux2014_x86_64.manylinux_2_24_x86_64.whl (856 kB)\n",
            "\u001b[K     |████████████████████████████████| 856 kB 57.7 MB/s \n",
            "\u001b[?25hRequirement already satisfied: cffi>=1.1 in /usr/local/lib/python3.7/dist-packages (from bcrypt>=3.1.3->paramiko->gradio) (1.15.0)\n",
            "Requirement already satisfied: pycparser in /usr/local/lib/python3.7/dist-packages (from cffi>=1.1->bcrypt>=3.1.3->paramiko->gradio) (2.21)\n",
            "Collecting h11>=0.8\n",
            "  Downloading h11-0.13.0-py3-none-any.whl (58 kB)\n",
            "\u001b[K     |████████████████████████████████| 58 kB 6.1 MB/s \n",
            "\u001b[?25hCollecting asgiref>=3.4.0\n",
            "  Downloading asgiref-3.5.0-py3-none-any.whl (22 kB)\n",
            "Requirement already satisfied: click>=7.0 in /usr/local/lib/python3.7/dist-packages (from uvicorn->gradio) (8.1.3)\n",
            "Requirement already satisfied: importlib-metadata in /usr/local/lib/python3.7/dist-packages (from click>=7.0->uvicorn->gradio) (4.11.3)\n",
            "Requirement already satisfied: zipp>=0.5 in /usr/local/lib/python3.7/dist-packages (from importlib-metadata->click>=7.0->uvicorn->gradio) (3.8.0)\n",
            "Building wheels for collected packages: ffmpy, python-multipart\n",
            "  Building wheel for ffmpy (setup.py) ... \u001b[?25l\u001b[?25hdone\n",
            "  Created wheel for ffmpy: filename=ffmpy-0.3.0-py3-none-any.whl size=4712 sha256=922eaa2749e1768d00a509a30f5927524f0327727969835ae0ff1af649cad6b1\n",
            "  Stored in directory: /root/.cache/pip/wheels/13/e4/6c/e8059816e86796a597c6e6b0d4c880630f51a1fcfa0befd5e6\n",
            "  Building wheel for python-multipart (setup.py) ... \u001b[?25l\u001b[?25hdone\n",
            "  Created wheel for python-multipart: filename=python_multipart-0.0.5-py3-none-any.whl size=31678 sha256=b34264059e389ac33ecdb009c469dcb5f8aab3446e942780e03abc97814e7a6f\n",
            "  Stored in directory: /root/.cache/pip/wheels/2c/41/7c/bfd1c180534ffdcc0972f78c5758f89881602175d48a8bcd2c\n",
            "Successfully built ffmpy python-multipart\n",
            "Installing collected packages: sniffio, mdurl, uc-micro-py, multidict, markdown-it-py, frozenlist, anyio, yarl, starlette, pynacl, pydantic, monotonic, mdit-py-plugins, linkify-it-py, h11, cryptography, bcrypt, backoff, asynctest, async-timeout, asgiref, aiosignal, uvicorn, python-multipart, pydub, pycryptodome, paramiko, orjson, ffmpy, fastapi, analytics-python, aiohttp, gradio\n",
            "Successfully installed aiohttp-3.8.1 aiosignal-1.2.0 analytics-python-1.4.0 anyio-3.5.0 asgiref-3.5.0 async-timeout-4.0.2 asynctest-0.13.0 backoff-1.10.0 bcrypt-3.2.0 cryptography-37.0.1 fastapi-0.75.2 ffmpy-0.3.0 frozenlist-1.3.0 gradio-2.9.4 h11-0.13.0 linkify-it-py-1.0.3 markdown-it-py-2.1.0 mdit-py-plugins-0.3.0 mdurl-0.1.1 monotonic-1.6 multidict-6.0.2 orjson-3.6.8 paramiko-2.10.4 pycryptodome-3.14.1 pydantic-1.9.0 pydub-0.25.1 pynacl-1.5.0 python-multipart-0.0.5 sniffio-1.2.0 starlette-0.17.1 uc-micro-py-1.0.1 uvicorn-0.17.6 yarl-1.7.2\n"
          ]
        }
      ]
    },
    {
      "cell_type": "code",
      "source": [
        "from sklearn.linear_model import ElasticNet \n",
        "from sklearn.ensemble import ExtraTreesClassifier, RandomForestRegressor\n",
        "\n",
        "def gradio_predict(essay):\n",
        "    essay = preprocess_essay(essay)\n",
        "    pred = model.predict(essay)\n",
        "    print(f\"Your grade is {pred}\")\n",
        "\n",
        "    return pred[0]\n",
        "\n",
        "#essay = gradio_predict(\"\"\"The afternoon grew so glowering that in the sixth inning the arc lights were turned on--always a wan sight in the daytime, like the burning headlights of a funeral procession. Aided by the gloom, Fisher was slicing through the Sox rookies, and Williams did not come to bat in the seventh. He was second up in the eighth. This was almost certainly his last time to come to the plate in Fenway Park, and instead of merely cheering, as we had at his three previous appearances, we stood, all of us, and applauded.\"\"\")"
      ],
      "metadata": {
        "id": "YsPzTsVMxnRm"
      },
      "execution_count": 24,
      "outputs": []
    },
    {
      "cell_type": "code",
      "source": [
        "import gradio"
      ],
      "metadata": {
        "id": "KEHTjYE1t7ln"
      },
      "execution_count": 14,
      "outputs": []
    },
    {
      "cell_type": "markdown",
      "source": [
        "## Example of essay from the valid set that get a 10 and an 8"
      ],
      "metadata": {
        "id": "3Ubh27cwweHq"
      }
    },
    {
      "cell_type": "code",
      "source": [
        "#create interface object\n",
        "gui = gradio.Interface(fn=gradio_predict, #callable function\n",
        "                   inputs=\"text\", #input format\n",
        "                   outputs=\"text\",\n",
        "                   examples=[\"Many people believe that laughter can improve your life. Laughing lets out endorphins that give your body energy for daily activities. Relationships are usually better if both the people are happy. Happiness is like shaking up a soda bottle. Happy emotions build up in your body and when shaken, release with an explosion of positive emotions such as laughing. When I was born, my mother said that I was the most chubby baby in the world. As she said this, she laughed, in constant thought that I will eventually become a young adult. I giggled in the backseat of the car as we drove home together. I was taught by my mother, who laughed all the time until her eyes were full of tears, to laugh at every chance I had. Through my years as an infant, I giggled, chuckled, and laughed my way to adolescence. As I moved into adolescence, I was diagnosed with @ORGANIZATION1's @CAPS1, a mild autistic @CAPS1 that has a variation of side effects. Some people who have @ORGANIZATION1's @CAPS1 develop cases where their emotions do not show physically. This case is similar to the physical features of @CAPS3 @CAPS1. My main case with having @ORGANIZATION1's @CAPS1 is that I do not receive all the information given to me at one time. When people tell me a joke that they think is hilarious, I tend to miss the important parts of the joke, which are funny. As the joke comes to an end, everybody around me is laughing, but I am standing there with a blank look on my face. Sometimes I tell people I cannot laugh. Though I say this, I know it is not true. I can laugh, it is just really hard for me to find the right time. Most times, I laugh at a situation that really is not funny and everybody else has a blank gaze on their face. This usually makes me feel embarrassed and I don't feel normal. A lot of people tell me I look expressionless and then try to perk me up, or smile. I don't feel the need to smile, even in happy times in my life. I have not laughed enough, but have been learning in how to make bad situations into great and happy ones. Learning that at any moment I can laugh is important. Even if there is no joke being told, I can laugh. Most people would probably look a me in a weird way, but I wouldn't care because I am the one that feels happiness inside. Laughing relieves stress, makes other people feel good, and allows people with mental disabilities to feel more comfortable in the community they live in. I have finally learned that even with @ORGANIZATION1's @CAPS1, I can laugh just as much as anyone.\",\n",
        "                             \"Dear @ORGANIZATION1, @CAPS1 more and more people start to use computers, goes more and more into the dark aged. While computer @MONTH1 be helpful in some cases, they are also making people excercize less, most @CAPS1 many people are nature, and more people are becoming awkward. So are computer advancement recently worth society becoming less interactive? The answer is no. With more thing to do on the computer people arent getting enough exercize to keep up a healthy regimens. Kids would rather waste time on the computer than go out play. @NUM1 years ago, when most that many people had computers, you could see people outside playing and having fun with each other, But now, when you look outside, no one is on the local playground having fun and exercising, they are on the internet.\"]) #output format\n",
        "#display the interface\n",
        "gui.launch()"
      ],
      "metadata": {
        "colab": {
          "base_uri": "https://localhost:8080/",
          "height": 640
        },
        "id": "Kq_DRWUvvTkr",
        "outputId": "4edbaed2-fb87-410d-feb2-43437cfee957"
      },
      "execution_count": 26,
      "outputs": [
        {
          "output_type": "stream",
          "name": "stdout",
          "text": [
            "Colab notebook detected. To show errors in colab notebook, set `debug=True` in `launch()`\n",
            "Running on public URL: https://20028.gradio.app\n",
            "\n",
            "This share link expires in 72 hours. For free permanent hosting, check out Spaces (https://huggingface.co/spaces)\n"
          ]
        },
        {
          "output_type": "display_data",
          "data": {
            "text/plain": [
              "<IPython.lib.display.IFrame at 0x7f889141cd10>"
            ],
            "text/html": [
              "\n",
              "        <iframe\n",
              "            width=\"900\"\n",
              "            height=\"500\"\n",
              "            src=\"https://20028.gradio.app\"\n",
              "            frameborder=\"0\"\n",
              "            allowfullscreen\n",
              "        ></iframe>\n",
              "        "
            ]
          },
          "metadata": {}
        },
        {
          "output_type": "execute_result",
          "data": {
            "text/plain": [
              "(<fastapi.applications.FastAPI at 0x7f88870ef050>,\n",
              " 'http://127.0.0.1:7864/',\n",
              " 'https://20028.gradio.app')"
            ]
          },
          "metadata": {},
          "execution_count": 26
        }
      ]
    },
    {
      "cell_type": "code",
      "source": [
        ""
      ],
      "metadata": {
        "id": "GIccvT1wEMXb"
      },
      "execution_count": null,
      "outputs": []
    }
  ]
}
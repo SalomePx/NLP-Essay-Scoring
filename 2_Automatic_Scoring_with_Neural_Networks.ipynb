{
 "cells": [
  {
   "cell_type": "code",
   "execution_count": 1,
   "metadata": {},
   "outputs": [
    {
     "name": "stderr",
     "output_type": "stream",
     "text": [
      "[nltk_data] Downloading package stopwords to\n",
      "[nltk_data]     /Users/ryanbelkhir/nltk_data...\n",
      "[nltk_data]   Package stopwords is already up-to-date!\n"
     ]
    },
    {
     "name": "stdout",
     "output_type": "stream",
     "text": [
      "Numpy version: 1.22.3\n",
      "Pandas version: 1.3.4\n",
      "Seaborn version: 0.11.2\n"
     ]
    }
   ],
   "source": [
    "# Import necessary modules\n",
    "\n",
    "import numpy as np # linear algebra\n",
    "import pandas as pd # data processing, CSV file I/O (e.g. pd.read_csv)\n",
    "import seaborn as sns\n",
    "import matplotlib.pyplot as plt\n",
    "import string\n",
    "import re\n",
    "\n",
    "from sklearn.preprocessing import MinMaxScaler, OneHotEncoder, StandardScaler, RobustScaler\n",
    "from sklearn.model_selection import cross_val_score, KFold\n",
    "\n",
    "from gensim.models.word2vec import Word2Vec\n",
    "\n",
    "# from sklearn.feature_extraction.stop_words import ENGLISH_STOP_WORDS as stopwords\n",
    "import nltk\n",
    "nltk.download('stopwords')\n",
    "\n",
    "from nltk.corpus import stopwords\n",
    "import language_tool_python\n",
    "import spacy\n",
    "\n",
    "from sklearn.model_selection import train_test_split, KFold\n",
    "\n",
    "from skll.metrics import kappa\n",
    "from bhkappa import mean_quadratic_weighted_kappa\n",
    "\n",
    "from scipy.sparse import csr_matrix\n",
    "\n",
    "from tensorflow.keras.models import Sequential, Model\n",
    "from tensorflow.keras.layers import Dense, Dropout, Input, LSTM, Embedding, Bidirectional, Flatten\n",
    "from tensorflow.keras.layers import Conv1D, MaxPooling1D, GlobalMaxPooling1D\n",
    "from tensorflow.keras.optimizers import SGD, Adam\n",
    "from tensorflow.keras.wrappers.scikit_learn import KerasRegressor\n",
    "\n",
    "nlp = spacy.load('en_core_web_sm')\n",
    "\n",
    "stopwords = stopwords.words('english')\n",
    "\n",
    "print('Numpy version:', np.__version__)\n",
    "print('Pandas version:', pd.__version__)\n",
    "print('Seaborn version:', sns.__version__)\n",
    "\n",
    "\n"
   ]
  },
  {
   "cell_type": "markdown",
   "metadata": {},
   "source": [
    "## Process Overview (Recap)\n",
    "\n",
    "### Apply grammar and spelling corrections\n",
    "\n",
    "Feature importances generated from the extra trees algorithm did not rank grammar and spelling errors highly, suggesting that perhaps the essays could be processed \"as is\". On the other hand, word embeddings rely on known words and many usage examples. Misspelled words will either be ignored if their count is below the minimum, or worse, if misspelled to an existing word with a different meaning, the vectors could change the performance of the model in a way that might not be useful. LanguageTool will be used for applying these corrections.\n",
    "\n",
    "### Clean essays\n",
    "\n",
    "Remove less helpful parts of essay texts, i.e. punctuation, pronouns and capital letters and return lemma to be processed into word embeddings. SpaCy is a simple and efficient tool for this task.\n",
    "\n",
    "### Generate word embeddings\n",
    "\n",
    "SpaCy could also be used to generate word embeddings, however its simple 'en' language model is trained on a corpus that is very different from school essays. It also uses context sensitive tensors which don't provide specific word vectors. \n",
    "\n",
    "Instead, Gensim's Word2Vec will be used to generate a model based on the all available essays, not only from the \"training_set\" which includes target scores, but also from the \"validation\" and \"test\" sets which are otherwise not useful. Finally, cleaned essays of the \"training_set\" will be passed into the word model to generate averaged 300-dimensional word vectors.\n",
    "\n",
    "### Prepare inputs\n",
    "\n",
    "There are eight topics which each have a different scale for scoring. To deal with this there are several possible approaches. First, each topic could be processed individually and the resultant kappa scores would be averaged. This approach is useful if certain features are particularly useful for grading a specific topic. On the other hand, fewer essays mean fewer examples to learn from. \n",
    "\n",
    "An alternate approach is to combine all topics by scaling the scores with a min-max scaler to a common range, e.g. 0-60. This approach increases the number of examples nearly 8-fold. \n",
    "\n",
    "### Classification or regression?\n",
    "\n",
    "Automatic scoring can now be thought of as either a classification or a regression problem. For classification the target variable needs to be one-hot encoded to the range of unique target scores and the output layer of the neural network also needs to have the same dimension. For regression, the target variable and output layer have a single dimension. Where the classification results are approximated or rounded through `softmax` activation and again when reversing the min-max scaling, the regression results are only rounded after scaling. This might be the reason regression performs slightly better on this data set."
   ]
  },
  {
   "cell_type": "code",
   "execution_count": 2,
   "metadata": {},
   "outputs": [],
   "source": [
    "def correct_language(df):\n",
    "    \"\"\"\n",
    "    use language tool to correct for most spelling and grammatical errors. Also count the applied corrections. \n",
    "    Using language_check python wrapper for languagetool:\n",
    "    https://www.languagetool.org/dev\n",
    "    \"\"\"\n",
    "    tool = language_tool_python.LanguageTool('en-US')\n",
    "\n",
    "    df['matches'] = df['essay'].apply(lambda txt: tool.check(txt))\n",
    "    df['corrections'] = df.apply(lambda l: len(l['matches']), axis=1)\n",
    "    df['corrected'] = df.apply(lambda l: tool.correct(l['essay']), axis=1)\n",
    "    \n",
    "    return df"
   ]
  },
  {
   "cell_type": "code",
   "execution_count": 3,
   "metadata": {},
   "outputs": [
    {
     "data": {
      "text/html": [
       "<div>\n",
       "<style scoped>\n",
       "    .dataframe tbody tr th:only-of-type {\n",
       "        vertical-align: middle;\n",
       "    }\n",
       "\n",
       "    .dataframe tbody tr th {\n",
       "        vertical-align: top;\n",
       "    }\n",
       "\n",
       "    .dataframe thead th {\n",
       "        text-align: right;\n",
       "    }\n",
       "</style>\n",
       "<table border=\"1\" class=\"dataframe\">\n",
       "  <thead>\n",
       "    <tr style=\"text-align: right;\">\n",
       "      <th></th>\n",
       "      <th>essay_id</th>\n",
       "      <th>topic</th>\n",
       "      <th>essay</th>\n",
       "      <th>rater1_domain1</th>\n",
       "      <th>rater2_domain1</th>\n",
       "      <th>rater3_domain1</th>\n",
       "      <th>target_score</th>\n",
       "      <th>rater1_domain2</th>\n",
       "      <th>rater2_domain2</th>\n",
       "      <th>topic2_target</th>\n",
       "      <th>...</th>\n",
       "      <th>rater2_trait6</th>\n",
       "      <th>rater3_trait1</th>\n",
       "      <th>rater3_trait2</th>\n",
       "      <th>rater3_trait3</th>\n",
       "      <th>rater3_trait4</th>\n",
       "      <th>rater3_trait5</th>\n",
       "      <th>rater3_trait6</th>\n",
       "      <th>matches</th>\n",
       "      <th>corrections</th>\n",
       "      <th>corrected</th>\n",
       "    </tr>\n",
       "  </thead>\n",
       "  <tbody>\n",
       "    <tr>\n",
       "      <th>0</th>\n",
       "      <td>1</td>\n",
       "      <td>1</td>\n",
       "      <td>Dear local newspaper, I think effects computer...</td>\n",
       "      <td>4</td>\n",
       "      <td>4</td>\n",
       "      <td>NaN</td>\n",
       "      <td>8</td>\n",
       "      <td>NaN</td>\n",
       "      <td>NaN</td>\n",
       "      <td>NaN</td>\n",
       "      <td>...</td>\n",
       "      <td>NaN</td>\n",
       "      <td>NaN</td>\n",
       "      <td>NaN</td>\n",
       "      <td>NaN</td>\n",
       "      <td>NaN</td>\n",
       "      <td>NaN</td>\n",
       "      <td>NaN</td>\n",
       "      <td>[Offset 218, length 6, Rule ID: MORFOLOGIK_RUL...</td>\n",
       "      <td>16</td>\n",
       "      <td>Dear local newspaper, I think effects computer...</td>\n",
       "    </tr>\n",
       "    <tr>\n",
       "      <th>1</th>\n",
       "      <td>2</td>\n",
       "      <td>1</td>\n",
       "      <td>Dear @CAPS1 @CAPS2, I believe that using compu...</td>\n",
       "      <td>5</td>\n",
       "      <td>4</td>\n",
       "      <td>NaN</td>\n",
       "      <td>9</td>\n",
       "      <td>NaN</td>\n",
       "      <td>NaN</td>\n",
       "      <td>NaN</td>\n",
       "      <td>...</td>\n",
       "      <td>NaN</td>\n",
       "      <td>NaN</td>\n",
       "      <td>NaN</td>\n",
       "      <td>NaN</td>\n",
       "      <td>NaN</td>\n",
       "      <td>NaN</td>\n",
       "      <td>NaN</td>\n",
       "      <td>[Offset 148, length 8, Rule ID: MORFOLOGIK_RUL...</td>\n",
       "      <td>25</td>\n",
       "      <td>Dear @CAPS1 @CAPS2, I believe that using compu...</td>\n",
       "    </tr>\n",
       "    <tr>\n",
       "      <th>2</th>\n",
       "      <td>3</td>\n",
       "      <td>1</td>\n",
       "      <td>Dear, @CAPS1 @CAPS2 @CAPS3 More and more peopl...</td>\n",
       "      <td>4</td>\n",
       "      <td>3</td>\n",
       "      <td>NaN</td>\n",
       "      <td>7</td>\n",
       "      <td>NaN</td>\n",
       "      <td>NaN</td>\n",
       "      <td>NaN</td>\n",
       "      <td>...</td>\n",
       "      <td>NaN</td>\n",
       "      <td>NaN</td>\n",
       "      <td>NaN</td>\n",
       "      <td>NaN</td>\n",
       "      <td>NaN</td>\n",
       "      <td>NaN</td>\n",
       "      <td>NaN</td>\n",
       "      <td>[Offset 315, length 4, Rule ID: MORFOLOGIK_RUL...</td>\n",
       "      <td>17</td>\n",
       "      <td>Dear, @CAPS1 @CAPS2 @CAPS3 More and more peopl...</td>\n",
       "    </tr>\n",
       "    <tr>\n",
       "      <th>3</th>\n",
       "      <td>4</td>\n",
       "      <td>1</td>\n",
       "      <td>Dear Local Newspaper, @CAPS1 I have found that...</td>\n",
       "      <td>5</td>\n",
       "      <td>5</td>\n",
       "      <td>NaN</td>\n",
       "      <td>10</td>\n",
       "      <td>NaN</td>\n",
       "      <td>NaN</td>\n",
       "      <td>NaN</td>\n",
       "      <td>...</td>\n",
       "      <td>NaN</td>\n",
       "      <td>NaN</td>\n",
       "      <td>NaN</td>\n",
       "      <td>NaN</td>\n",
       "      <td>NaN</td>\n",
       "      <td>NaN</td>\n",
       "      <td>NaN</td>\n",
       "      <td>[Offset 86, length 7, Rule ID: MORFOLOGIK_RULE...</td>\n",
       "      <td>29</td>\n",
       "      <td>Dear Local Newspaper, @CAPS1 I have found that...</td>\n",
       "    </tr>\n",
       "    <tr>\n",
       "      <th>4</th>\n",
       "      <td>5</td>\n",
       "      <td>1</td>\n",
       "      <td>Dear @LOCATION1, I know having computers has a...</td>\n",
       "      <td>4</td>\n",
       "      <td>4</td>\n",
       "      <td>NaN</td>\n",
       "      <td>8</td>\n",
       "      <td>NaN</td>\n",
       "      <td>NaN</td>\n",
       "      <td>NaN</td>\n",
       "      <td>...</td>\n",
       "      <td>NaN</td>\n",
       "      <td>NaN</td>\n",
       "      <td>NaN</td>\n",
       "      <td>NaN</td>\n",
       "      <td>NaN</td>\n",
       "      <td>NaN</td>\n",
       "      <td>NaN</td>\n",
       "      <td>[Offset 177, length 8, Rule ID: MORFOLOGIK_RUL...</td>\n",
       "      <td>17</td>\n",
       "      <td>Dear @LOCATION1, I know having computers has a...</td>\n",
       "    </tr>\n",
       "  </tbody>\n",
       "</table>\n",
       "<p>5 rows × 31 columns</p>\n",
       "</div>"
      ],
      "text/plain": [
       "   essay_id  topic                                              essay  \\\n",
       "0         1      1  Dear local newspaper, I think effects computer...   \n",
       "1         2      1  Dear @CAPS1 @CAPS2, I believe that using compu...   \n",
       "2         3      1  Dear, @CAPS1 @CAPS2 @CAPS3 More and more peopl...   \n",
       "3         4      1  Dear Local Newspaper, @CAPS1 I have found that...   \n",
       "4         5      1  Dear @LOCATION1, I know having computers has a...   \n",
       "\n",
       "   rater1_domain1  rater2_domain1  rater3_domain1  target_score  \\\n",
       "0               4               4             NaN             8   \n",
       "1               5               4             NaN             9   \n",
       "2               4               3             NaN             7   \n",
       "3               5               5             NaN            10   \n",
       "4               4               4             NaN             8   \n",
       "\n",
       "   rater1_domain2  rater2_domain2  topic2_target  ...  rater2_trait6  \\\n",
       "0             NaN             NaN            NaN  ...            NaN   \n",
       "1             NaN             NaN            NaN  ...            NaN   \n",
       "2             NaN             NaN            NaN  ...            NaN   \n",
       "3             NaN             NaN            NaN  ...            NaN   \n",
       "4             NaN             NaN            NaN  ...            NaN   \n",
       "\n",
       "   rater3_trait1  rater3_trait2  rater3_trait3  rater3_trait4  rater3_trait5  \\\n",
       "0            NaN            NaN            NaN            NaN            NaN   \n",
       "1            NaN            NaN            NaN            NaN            NaN   \n",
       "2            NaN            NaN            NaN            NaN            NaN   \n",
       "3            NaN            NaN            NaN            NaN            NaN   \n",
       "4            NaN            NaN            NaN            NaN            NaN   \n",
       "\n",
       "   rater3_trait6                                            matches  \\\n",
       "0            NaN  [Offset 218, length 6, Rule ID: MORFOLOGIK_RUL...   \n",
       "1            NaN  [Offset 148, length 8, Rule ID: MORFOLOGIK_RUL...   \n",
       "2            NaN  [Offset 315, length 4, Rule ID: MORFOLOGIK_RUL...   \n",
       "3            NaN  [Offset 86, length 7, Rule ID: MORFOLOGIK_RULE...   \n",
       "4            NaN  [Offset 177, length 8, Rule ID: MORFOLOGIK_RUL...   \n",
       "\n",
       "   corrections                                          corrected  \n",
       "0           16  Dear local newspaper, I think effects computer...  \n",
       "1           25  Dear @CAPS1 @CAPS2, I believe that using compu...  \n",
       "2           17  Dear, @CAPS1 @CAPS2 @CAPS3 More and more peopl...  \n",
       "3           29  Dear Local Newspaper, @CAPS1 I have found that...  \n",
       "4           17  Dear @LOCATION1, I know having computers has a...  \n",
       "\n",
       "[5 rows x 31 columns]"
      ]
     },
     "execution_count": 3,
     "metadata": {},
     "output_type": "execute_result"
    }
   ],
   "source": [
    "# read essays from training_set\n",
    "training_set  = pd.read_csv('data/training_set_rel3.tsv', sep='\\t', encoding = \"ISO-8859-1\")\\\n",
    "            .rename(columns={'essay_set': 'topic', 'domain1_score': 'target_score', 'domain2_score': 'topic2_target'})\n",
    "\n",
    "# apply spelling and grammar corrections\n",
    "training_set = correct_language(training_set)\n",
    "\n",
    "training_set.head()"
   ]
  },
  {
   "cell_type": "code",
   "execution_count": 4,
   "metadata": {},
   "outputs": [],
   "source": [
    "training_set.to_pickle('data/training_corr.pkl')"
   ]
  },
  {
   "cell_type": "code",
   "execution_count": 5,
   "metadata": {},
   "outputs": [],
   "source": [
    "training_set = pd.read_pickle(\"data/training_corr.pkl\")"
   ]
  },
  {
   "cell_type": "code",
   "execution_count": 6,
   "metadata": {},
   "outputs": [],
   "source": [
    "# read essays from validation and test sets\n",
    "\n",
    "valid_set  = pd.read_csv('data/valid_set.tsv', sep='\\t', encoding = \"ISO-8859-1\")\\\n",
    "            .rename(columns={'essay_set': 'topic'})\n",
    "test_set  = pd.read_csv('data/test_set.tsv', sep='\\t', encoding = \"ISO-8859-1\")\\\n",
    "            .rename(columns={'essay_set': 'topic'})\n",
    "\n",
    "combo_set = pd.concat([valid_set, test_set], sort=False)\n",
    "\n",
    "# apply spelling and grammar corrections\n",
    "combo_set = correct_language(combo_set)"
   ]
  },
  {
   "cell_type": "code",
   "execution_count": null,
   "metadata": {},
   "outputs": [],
   "source": [
    "combo_set = pd.concat([combo_set, training_set], sort=False)\n",
    "combo_set.to_pickle('data/combo_set.pkl')"
   ]
  },
  {
   "cell_type": "code",
   "execution_count": null,
   "metadata": {},
   "outputs": [
    {
     "data": {
      "text/plain": [
       "21448"
      ]
     },
     "execution_count": 6,
     "metadata": {},
     "output_type": "execute_result"
    }
   ],
   "source": [
    "len(combo_set)"
   ]
  },
  {
   "cell_type": "code",
   "execution_count": null,
   "metadata": {},
   "outputs": [],
   "source": [
    "# skip if using language tool above\n",
    "training_set = pd.read_pickle('data/training_corr.pkl')\n",
    "combo_set = pd.read_pickle('data/combo_set.pkl')"
   ]
  },
  {
   "cell_type": "markdown",
   "metadata": {},
   "source": [
    "### Generate word embeddings with Word2Vec"
   ]
  },
  {
   "cell_type": "code",
   "execution_count": null,
   "metadata": {},
   "outputs": [],
   "source": [
    "# Clean training_set essays before feeding them to the Word2Vec model.\n",
    "punctuations = string.punctuation\n",
    "\n",
    "# Define function to cleanup text by removing personal pronouns, stopwords, and puncuation\n",
    "def cleanup_essays(essays, logging=False):\n",
    "    texts = []\n",
    "    counter = 1\n",
    "    for essay in essays.corrected:\n",
    "        if counter % 2000 == 0 and logging:\n",
    "            print(\"Processed %d out of %d documents.\" % (counter, len(essays)))\n",
    "        counter += 1\n",
    "        essay = nlp(essay, disable=['parser', 'ner'])\n",
    "        tokens = [tok.lemma_.lower().strip() for tok in essay if tok.lemma_ != '-PRON-']\n",
    "        tokens = [tok for tok in tokens if tok not in stopwords and tok not in punctuations]\n",
    "        tokens = ' '.join(tokens)\n",
    "        texts.append(tokens)\n",
    "    return pd.Series(texts)"
   ]
  },
  {
   "cell_type": "code",
   "execution_count": null,
   "metadata": {},
   "outputs": [
    {
     "name": "stdout",
     "output_type": "stream",
     "text": [
      "Original training data shape:  (12976,)\n",
      "Processed 2000 out of 12976 documents.\n",
      "Processed 4000 out of 12976 documents.\n",
      "Processed 6000 out of 12976 documents.\n",
      "Processed 8000 out of 12976 documents.\n",
      "Processed 10000 out of 12976 documents.\n",
      "Processed 12000 out of 12976 documents.\n",
      "Cleaned up training data shape:  (12976,)\n"
     ]
    }
   ],
   "source": [
    "# Cleanup text and make sure it retains original shape\n",
    "print('Original training data shape: ', training_set['corrected'].shape)\n",
    "train_cleaned = cleanup_essays(training_set, logging=True)\n",
    "print('Cleaned up training data shape: ', train_cleaned.shape)"
   ]
  },
  {
   "cell_type": "code",
   "execution_count": null,
   "metadata": {},
   "outputs": [],
   "source": [
    "# Define function to preprocess text for a word2vec model\n",
    "def cleanup_essay_word2vec(essays, logging=False):\n",
    "    sentences = []\n",
    "    counter = 1\n",
    "    for essay in essays:\n",
    "        if counter % 2000 == 0 and logging:\n",
    "            print(\"Processed %d out of %d documents\" % (counter, len(essays)))\n",
    "        # Disable tagger so that lemma_ of personal pronouns (I, me, etc) don't getted marked as \"-PRON-\"\n",
    "        essay = nlp(essay, disable=['tagger'])\n",
    "        # Grab lemmatized form of words and make lowercase\n",
    "        essay = \" \".join([tok.lemma_.lower() for tok in essay])\n",
    "        # Split into sentences based on punctuation\n",
    "        essay = re.split(\"[\\.?!;] \", essay)\n",
    "        # Remove commas, periods, and other punctuation (mostly commas)\n",
    "        essay = [re.sub(\"[\\.,;:!?]\", \"\", sent) for sent in essay]\n",
    "        # Split into words\n",
    "        essay = [sent.split() for sent in essay]\n",
    "        sentences += essay\n",
    "        counter += 1\n",
    "    return sentences"
   ]
  },
  {
   "cell_type": "code",
   "execution_count": null,
   "metadata": {},
   "outputs": [
    {
     "name": "stderr",
     "output_type": "stream",
     "text": [
      "/usr/local/Caskroom/miniforge/base/envs/myenv/lib/python3.9/site-packages/spacy/pipeline/lemmatizer.py:211: UserWarning: [W108] The rule-based lemmatizer did not find POS annotation for one or more tokens. Check that your pipeline includes components that assign token.pos, typically 'tagger'+'attribute_ruler' or 'morphologizer'.\n",
      "  warnings.warn(Warnings.W108)\n"
     ]
    },
    {
     "name": "stdout",
     "output_type": "stream",
     "text": [
      "Processed 2000 out of 21448 documents\n",
      "Processed 4000 out of 21448 documents\n",
      "Processed 6000 out of 21448 documents\n",
      "Processed 8000 out of 21448 documents\n",
      "Processed 10000 out of 21448 documents\n",
      "Processed 12000 out of 21448 documents\n",
      "Processed 14000 out of 21448 documents\n",
      "Processed 16000 out of 21448 documents\n",
      "Processed 18000 out of 21448 documents\n",
      "Processed 20000 out of 21448 documents\n",
      "Cleaned up training data size (i.e. number of sentences):  285373\n"
     ]
    }
   ],
   "source": [
    "cleaned_word2vec = cleanup_essay_word2vec(combo_set['corrected'], logging=True)\n",
    "print('Cleaned up training data size (i.e. number of sentences): ', len(cleaned_word2vec))"
   ]
  },
  {
   "cell_type": "code",
   "execution_count": null,
   "metadata": {},
   "outputs": [
    {
     "name": "stdout",
     "output_type": "stream",
     "text": [
      "Training Word2Vec model...\n"
     ]
    },
    {
     "name": "stderr",
     "output_type": "stream",
     "text": [
      "EPOCH - 1 : supplied example count (0) did not equal expected count (285373)\n",
      "EPOCH - 1 : supplied raw word count (0) did not equal expected count (4905468)\n",
      "EPOCH - 2 : supplied example count (0) did not equal expected count (285373)\n",
      "EPOCH - 2 : supplied raw word count (0) did not equal expected count (4905468)\n",
      "EPOCH - 3 : supplied example count (0) did not equal expected count (285373)\n",
      "EPOCH - 3 : supplied raw word count (0) did not equal expected count (4905468)\n",
      "EPOCH - 4 : supplied example count (0) did not equal expected count (285373)\n",
      "EPOCH - 4 : supplied raw word count (0) did not equal expected count (4905468)\n",
      "EPOCH - 5 : supplied example count (0) did not equal expected count (285373)\n",
      "EPOCH - 5 : supplied raw word count (0) did not equal expected count (4905468)\n"
     ]
    },
    {
     "name": "stdout",
     "output_type": "stream",
     "text": [
      "Word2Vec model created.\n",
      "14800 unique words represented by 300 dimensional vectors\n",
      "Word2Vec model saved.\n"
     ]
    }
   ],
   "source": [
    "text_dim = 300\n",
    "print(\"Training Word2Vec model...\")\n",
    "wordvec_model = Word2Vec(cleaned_word2vec, vector_size=text_dim, window=5, min_count=3, workers=-1, sg=1)\n",
    "print(\"Word2Vec model created.\")\n",
    "print(\"%d unique words represented by %d dimensional vectors\" % (len(wordvec_model.wv.index_to_key), text_dim))\n",
    "wordvec_model.save('wordvec_model')\n",
    "print(\"Word2Vec model saved.\")"
   ]
  },
  {
   "cell_type": "code",
   "execution_count": null,
   "metadata": {},
   "outputs": [],
   "source": [
    "# Define function to create averaged word vectors given a cleaned text.\n",
    "def create_average_vec(essay):\n",
    "    average = np.zeros((text_dim,), dtype='float32')\n",
    "    num_words = 0.\n",
    "    for word in essay.split():\n",
    "        if word in wordvec_model.wv.index_to_key:\n",
    "            average = np.add(average, wordvec_model.wv[word])\n",
    "            num_words += 1.\n",
    "    if num_words != 0.:\n",
    "        average = np.divide(average, num_words)\n",
    "    return average"
   ]
  },
  {
   "cell_type": "code",
   "execution_count": null,
   "metadata": {},
   "outputs": [
    {
     "name": "stdout",
     "output_type": "stream",
     "text": [
      "Word vectors for all essays in the training data set are of shape: (12976, 300)\n"
     ]
    }
   ],
   "source": [
    "# Create word vectors\n",
    "cleaned_vec = np.zeros((training_set.shape[0], text_dim), dtype=\"float32\")  \n",
    "for i in range(len(train_cleaned)):\n",
    "    cleaned_vec[i] = create_average_vec(train_cleaned[i])\n",
    "\n",
    "print(\"Word vectors for all essays in the training data set are of shape:\", cleaned_vec.shape)"
   ]
  },
  {
   "cell_type": "markdown",
   "metadata": {},
   "source": [
    "## Neural Network Models"
   ]
  },
  {
   "cell_type": "code",
   "execution_count": null,
   "metadata": {},
   "outputs": [
    {
     "data": {
      "text/plain": [
       "(12976, 31)"
      ]
     },
     "execution_count": 15,
     "metadata": {},
     "output_type": "execute_result"
    }
   ],
   "source": [
    "# Read generated features from file:\n",
    "additional_features = pd.read_pickle('data/training_features.pkl')\n",
    "\n",
    "# Use select features from Gini feature importances\n",
    "feature_list = [\n",
    "                'word_count',\n",
    "                'corrections',\n",
    "                'similarity',\n",
    "                'token_count',\n",
    "                'unique_token_count',\n",
    "                'nostop_count',\n",
    "                'sent_count',\n",
    "                'ner_count',\n",
    "                'comma',\n",
    "                'question',\n",
    "                'exclamation',\n",
    "                'quotation',\n",
    "                'organization',\n",
    "                'caps',\n",
    "                'person',\n",
    "                'location',\n",
    "                'money',\n",
    "                'time',\n",
    "                'date',\n",
    "                'percent',\n",
    "                'noun',\n",
    "                'adj',\n",
    "                'pron',\n",
    "                'verb',\n",
    "                'cconj',\n",
    "                'adv',\n",
    "                'det',\n",
    "                'propn',\n",
    "                'num',\n",
    "                'part',\n",
    "                'intj'\n",
    "                ]\n",
    "\n",
    "additional_features = additional_features[feature_list]\n",
    "\n",
    "stdscaler = StandardScaler()\n",
    "additional_features = stdscaler.fit_transform(additional_features)\n",
    "additional_features.shape"
   ]
  },
  {
   "cell_type": "code",
   "execution_count": null,
   "metadata": {},
   "outputs": [
    {
     "data": {
      "text/plain": [
       "(12976, 333)"
      ]
     },
     "execution_count": 16,
     "metadata": {},
     "output_type": "execute_result"
    }
   ],
   "source": [
    "# Combine topic number, target score, additional features and cleaned word vectors\n",
    "all_data = pd.concat([training_set[['topic','target_score']], pd.DataFrame(additional_features), pd.DataFrame(cleaned_vec)], axis=1)\n",
    "all_data.shape"
   ]
  },
  {
   "cell_type": "markdown",
   "metadata": {},
   "source": [
    "## Approach 1: Pass each topic individually through neural network"
   ]
  },
  {
   "cell_type": "code",
   "execution_count": null,
   "metadata": {},
   "outputs": [
    {
     "name": "stdout",
     "output_type": "stream",
     "text": [
      "Model: \"sequential\"\n",
      "_________________________________________________________________\n",
      "Layer (type)                 Output Shape              Param #   \n",
      "=================================================================\n",
      "dense (Dense)                (None, 14)                4648      \n",
      "_________________________________________________________________\n",
      "dropout (Dropout)            (None, 14)                0         \n",
      "_________________________________________________________________\n",
      "dense_1 (Dense)              (None, 1)                 15        \n",
      "=================================================================\n",
      "Total params: 4,663\n",
      "Trainable params: 4,663\n",
      "Non-trainable params: 0\n",
      "_________________________________________________________________\n"
     ]
    },
    {
     "name": "stderr",
     "output_type": "stream",
     "text": [
      "2022-04-28 11:35:37.143005: I tensorflow/core/platform/cpu_feature_guard.cc:142] This TensorFlow binary is optimized with oneAPI Deep Neural Network Library (oneDNN) to use the following CPU instructions in performance-critical operations:  SSE4.1 SSE4.2\n",
      "To enable them in other operations, rebuild TensorFlow with the appropriate compiler flags.\n"
     ]
    }
   ],
   "source": [
    "# Build model\n",
    "output_dim = 1\n",
    "input_dim = all_data.shape[1]-2\n",
    "dropout = 0.2\n",
    "\n",
    "model = None\n",
    "model = Sequential()\n",
    "\n",
    "# Densely Connected Neural Network (Multi-Layer Perceptron)\n",
    "model.add(Dense(14, activation='relu', kernel_initializer='he_normal', input_dim=input_dim)) \n",
    "model.add(Dropout(dropout))\n",
    "# model.add(Dense(8, activation='relu', kernel_initializer='he_normal'))\n",
    "# model.add(Dropout(dropout))\n",
    "model.add(Dense(output_dim))\n",
    "model.summary()\n",
    "\n",
    "# Compile the model\n",
    "adam = Adam(lr=0.0001, beta_1=0.9, beta_2=0.999, epsilon=None, decay=0.0, amsgrad=False)\n",
    "model.compile(optimizer=adam, loss='mse', metrics=['mse','mae'])"
   ]
  },
  {
   "cell_type": "code",
   "execution_count": null,
   "metadata": {},
   "outputs": [
    {
     "name": "stderr",
     "output_type": "stream",
     "text": [
      "2022-04-28 11:36:00.324916: I tensorflow/compiler/mlir/mlir_graph_optimization_pass.cc:116] None of the MLIR optimization passes are enabled (registered 2)\n"
     ]
    },
    {
     "name": "stdout",
     "output_type": "stream",
     "text": [
      "Combined Kappa score: 64.67%\n"
     ]
    }
   ],
   "source": [
    "# Run each topic individually through neural network\n",
    "kappa_list = []\n",
    "weights = []\n",
    "epochs = 100\n",
    "\n",
    "for topic in range(1,9):\n",
    "    # split data\n",
    "    X = all_data[all_data.topic == topic].drop(['topic', 'target_score'], axis=1)\n",
    "    y = all_data[all_data.topic == topic].target_score.to_frame()\n",
    "    X_train, X_test, y_train, y_test = train_test_split(X, y, test_size=0.2, random_state=26)\n",
    "    estimator = model.fit(X_train, y_train,\n",
    "#                       validation_split=0.3,\n",
    "                      epochs=epochs, batch_size=15, verbose=0)\n",
    "    # get predictions\n",
    "    y_pred = pd.DataFrame(model.predict(X_test).reshape(-1))\n",
    "    \n",
    "    # get topic kappa score\n",
    "    kappa_list.append(kappa(y_test.values, y_pred.round(0).astype(int).values, weights='quadratic'))\n",
    "\n",
    "    # get weights (number of essays)\n",
    "    weights.append(y_test.shape[0]/all_data.shape[0])    \n",
    "\n",
    "# get weighted average kappa\n",
    "qwk = mean_quadratic_weighted_kappa(kappa_list, weights=1) # weights)\n",
    "print('Combined Kappa score: {:.2f}%'.format(qwk * 100))"
   ]
  },
  {
   "cell_type": "markdown",
   "metadata": {},
   "source": [
    "Again with cross-validation:"
   ]
  },
  {
   "cell_type": "code",
   "execution_count": null,
   "metadata": {},
   "outputs": [
    {
     "name": "stdout",
     "output_type": "stream",
     "text": [
      "Kappa for topic 1 : 0.833%\n",
      "Kappa for topic 2 : 0.697%\n",
      "Kappa for topic 3 : 0.678%\n",
      "Kappa for topic 4 : 0.741%\n",
      "Kappa for topic 5 : 0.801%\n",
      "Kappa for topic 6 : 0.775%\n",
      "Kappa for topic 7 : 0.806%\n",
      "Kappa for topic 8 : 0.722%\n",
      "Combined Kappa score: 0.7616%\n"
     ]
    }
   ],
   "source": [
    "# Cross-validation\n",
    "\n",
    "kappa_dict = {}\n",
    "\n",
    "for topic in range(1,9):\n",
    "    \n",
    "    model = None\n",
    "    # create model\n",
    "    model = Sequential()\n",
    "    model.add(Dense(14, input_dim=input_dim, kernel_initializer='he_normal', activation='relu'))\n",
    "    model.add(Dropout(dropout))\n",
    "    model.add(Dense(1))\n",
    "    # Compile model\n",
    "    model.compile(loss='mean_squared_error', optimizer='adam')\n",
    "\n",
    "    X = all_data[all_data.topic == topic].drop(['topic', 'target_score'], axis=1)\n",
    "    y = all_data[all_data.topic == topic].target_score.to_frame()\n",
    "    # split data\n",
    "    kf = KFold(n_splits=5)\n",
    "    kappa_list = []\n",
    "    for train, test in kf.split(X):\n",
    "        X_train, X_test = X.iloc[train], X.iloc[test]\n",
    "        y_train, y_test = y.iloc[train], y.iloc[test]\n",
    "        model.fit(X_train, y_train, epochs=200, batch_size=15, verbose=0) \n",
    "        y_pred = pd.DataFrame(model.predict(X_test).reshape(-1))\n",
    "        kappa_list.append(kappa(y_pred.round(0).astype(int).values, \n",
    "                        y.iloc[test].values, \n",
    "                        weights='quadratic'))\n",
    "    print(\"Kappa for topic\", topic, \": {:.3f}%\".format(np.mean(kappa_list)))\n",
    "    kappa_dict[topic] = np.mean(kappa_list)\n",
    "\n",
    "mqwk = mean_quadratic_weighted_kappa(list(kappa_dict.values()), weights=1) # weights)\n",
    "print('Combined Kappa score: {:.4f}%'.format(mqwk))"
   ]
  },
  {
   "cell_type": "markdown",
   "metadata": {},
   "source": [
    "Weighted mean kappa score: 0.7844"
   ]
  },
  {
   "cell_type": "code",
   "execution_count": null,
   "metadata": {},
   "outputs": [
    {
     "data": {
      "text/plain": [
       "[0.6799888258313047,\n",
       " 0.7177379711740763,\n",
       " 0.682317575802045,\n",
       " 0.7423984432011675,\n",
       " 0.7870451469066009]"
      ]
     },
     "execution_count": 20,
     "metadata": {},
     "output_type": "execute_result"
    }
   ],
   "source": [
    "kappa_list"
   ]
  },
  {
   "cell_type": "markdown",
   "metadata": {},
   "source": [
    "## Approach 2: Combine all topics"
   ]
  },
  {
   "cell_type": "markdown",
   "metadata": {},
   "source": [
    "An alternative approach to individually fitting each topic is to combine all topics into a single model. Since each topic has a different range of scores, they essay scores need to be scaled to a common min-max range. \n",
    "\n",
    "A new dataframe with the original scores is created and passed through the train, test, split step. This is necessary to ensure proper re-scaling of target scores in cases where either the highest or lowest scores were eliminated in the *split* step."
   ]
  },
  {
   "cell_type": "code",
   "execution_count": null,
   "metadata": {},
   "outputs": [],
   "source": [
    "# DataFrame used to pass original values through train_test_split\n",
    "scores = all_data[['topic', 'target_score']].reset_index() \n",
    "\n",
    "# Rescale target_score (essay grades) in range 0 - 60:\n",
    "scaler = MinMaxScaler((0,10))\n",
    "\n",
    "# Use this for classification:\n",
    "# ohe = OneHotEncoder(n_values=61)"
   ]
  },
  {
   "cell_type": "code",
   "execution_count": null,
   "metadata": {},
   "outputs": [],
   "source": [
    "# Rescale and assign target variable y\n",
    "scaled = []\n",
    "for topic in range(1,9):\n",
    "    topic_scores = scores[scores['topic'] == topic]['target_score'].to_frame()\n",
    "    s = (scaler.fit_transform(topic_scores).reshape(-1))\n",
    "    scaled = np.append(scaled, s)\n",
    "    \n",
    "scores['scaled'] = scaled\n",
    "\n",
    "\"\"\"Use this for classification\"\"\"\n",
    "# Caution: using pd.get_dummies might return the wrong number of unique values\n",
    "# y = ohe.fit_transform(scores.scaled.to_frame()) # y = pd.get_dummies(scores.scaled)\n",
    "# print('Number of unique scores after scaling:', unique_scores)\n",
    "# y.shape\n",
    "\n",
    "\"\"\"Use this for regression\"\"\"\n",
    "y = scores['scaled'].to_frame()\n",
    "\n",
    "# Features\n",
    "X = all_data.drop(['topic', 'target_score'], axis=1)"
   ]
  },
  {
   "cell_type": "markdown",
   "metadata": {},
   "source": [
    "The histogram of scaled target scores show severe class imbalance due to rescaling. Rebalancing is not applied since our metric is insensitive to class imbalance. Although both classification and regression code is shown below, the focus will be on regression."
   ]
  },
  {
   "cell_type": "code",
   "execution_count": null,
   "metadata": {},
   "outputs": [
    {
     "data": {
      "image/png": "[encoded data removed]",
      "text/plain": [
       "<Figure size 432x288 with 1 Axes>"
      ]
     },
     "metadata": {
      "needs_background": "light"
     },
     "output_type": "display_data"
    }
   ],
   "source": [
    "# score histogram\n",
    "y.hist(bins=61)\n",
    "plt.title('Histogram of scaled target scores')\n",
    "plt.xlabel('target score')\n",
    "plt.ylabel('count')\n",
    "plt.savefig('images/scaled_target_score.png', dpi=300)\n",
    "plt.show()"
   ]
  },
  {
   "cell_type": "code",
   "execution_count": null,
   "metadata": {},
   "outputs": [
    {
     "name": "stdout",
     "output_type": "stream",
     "text": [
      "X_train size: (10380, 331)\n",
      "X_test size: (2596, 331)\n",
      "y_train size: (10380, 1)\n",
      "y_test size: (2596, 1)\n",
      "scores_train size: (10380, 4)\n",
      "scores_test size: (2596, 4)\n"
     ]
    }
   ],
   "source": [
    "from sklearn.model_selection import train_test_split\n",
    "\n",
    "# Data to be split\n",
    "X_train, X_test, y_train, y_test, scores_train, scores_test = \\\n",
    "        train_test_split(\n",
    "                X, \n",
    "                y, \n",
    "                scores,\n",
    "                test_size=0.2, \n",
    "                random_state=26\n",
    "                )\n",
    "\n",
    "print('X_train size: {}'.format(X_train.shape))\n",
    "print('X_test size: {}'.format(X_test.shape))\n",
    "print('y_train size: {}'.format(y_train.shape))\n",
    "print('y_test size: {}'.format(y_test.shape))\n",
    "print('scores_train size: {}'.format(scores_train.shape))\n",
    "print('scores_test size: {}'.format(scores_test.shape))"
   ]
  },
  {
   "cell_type": "code",
   "execution_count": null,
   "metadata": {},
   "outputs": [],
   "source": [
    "output_dim = y.shape[1]\n",
    "input_dim = X.shape[1]\n",
    "dropout = 0.2\n",
    "\n",
    "def build_model(architecture='mlp'):\n",
    "    model = Sequential()\n",
    "    if architecture == 'mlp':\n",
    "        # Densely Connected Neural Network (Multi-Layer Perceptron)\n",
    "        model.add(Dense(14, activation='relu', kernel_initializer='he_normal', input_dim=input_dim)) \n",
    "        model.add(Dropout(dropout))\n",
    "\n",
    "# Classification:\n",
    "#         model.add(Dense(output_dim, activation='softmax'))\n",
    "\n",
    "# Regression:\n",
    "        model.add(Dense(output_dim))\n",
    "    elif architecture == 'cnn':\n",
    "        # 1-D Convolutional Neural Network\n",
    "        inputs = Input(shape=(input_dim,1))\n",
    "\n",
    "        x = Conv1D(64, 3, strides=1, padding='same', activation='relu')(inputs)\n",
    "\n",
    "        #Cuts the size of the output in half, maxing over every 2 inputs\n",
    "        x = MaxPooling1D(pool_size=2)(x)\n",
    "        x = Conv1D(128, 3, strides=1, padding='same', activation='relu')(x)\n",
    "        x = GlobalMaxPooling1D()(x) \n",
    "        outputs = Dense(output_dim, activation='softmax')(x)\n",
    "\n",
    "        model = Model(inputs=inputs, outputs=outputs, name='CNN')\n",
    "    elif architecture == 'lstm':\n",
    "        # LSTM network\n",
    "        inputs = Input(shape=(input_dim,1))\n",
    "\n",
    "        x = Bidirectional(LSTM(64, return_sequences=True),\n",
    "                          merge_mode='concat')(inputs)\n",
    "        x = Dropout(dropout)(x)\n",
    "        x = Flatten()(x)\n",
    "        outputs = Dense(output_dim, activation='softmax')(x)\n",
    "\n",
    "        model = Model(inputs=inputs, outputs=outputs, name='LSTM')\n",
    "    else:\n",
    "        print('Error: Model type not found.')\n",
    "    return model"
   ]
  },
  {
   "cell_type": "markdown",
   "metadata": {},
   "source": [
    "### Model Architecture\n",
    "\n",
    "Of the three model architectures the multi-layer perceptron, or 'mlp', consistently produced the highest kappa scores in the shortest amount of calculation time. "
   ]
  },
  {
   "cell_type": "code",
   "execution_count": null,
   "metadata": {},
   "outputs": [
    {
     "name": "stdout",
     "output_type": "stream",
     "text": [
      "Model: \"sequential_9\"\n",
      "_________________________________________________________________\n",
      "Layer (type)                 Output Shape              Param #   \n",
      "=================================================================\n",
      "dense_18 (Dense)             (None, 14)                4648      \n",
      "_________________________________________________________________\n",
      "dropout_9 (Dropout)          (None, 14)                0         \n",
      "_________________________________________________________________\n",
      "dense_19 (Dense)             (None, 1)                 15        \n",
      "=================================================================\n",
      "Total params: 4,663\n",
      "Trainable params: 4,663\n",
      "Non-trainable params: 0\n",
      "_________________________________________________________________\n"
     ]
    }
   ],
   "source": [
    "# Define keras model\n",
    "model = None\n",
    "# Using MLP in kernel for speed\n",
    "model = build_model('mlp')\n",
    "# model = build_model('cnn')\n",
    "# model = build_model('lstm')\n",
    "\n",
    "# If the model is a CNN then expand the dimensions of the training data\n",
    "if model.name == \"CNN\" or model.name == \"LSTM\":\n",
    "    X_train = np.expand_dims(X_train, axis=2)\n",
    "    X_test = np.expand_dims(X_test, axis=2)\n",
    "    print('Text train shape: ', X_train.shape)\n",
    "    print('Text test shape: ', X_test.shape)\n",
    "    \n",
    "model.summary()"
   ]
  },
  {
   "cell_type": "code",
   "execution_count": null,
   "metadata": {},
   "outputs": [],
   "source": [
    "# Compile the model\n",
    "# Optimizer\n",
    "# sgd = SGD(lr=0.01, decay=1e-6, momentum=0.9, nesterov=True)\n",
    "adam = Adam(lr=0.0001, beta_1=0.9, beta_2=0.999, epsilon=None, decay=0.0, amsgrad=False)\n",
    "\n",
    "# Classification:\n",
    "# model.compile(optimizer=adam, loss='categorical_crossentropy', metrics=['acc'])\n",
    "\n",
    "# Regression:\n",
    "model.compile(optimizer=adam, loss='mse', metrics=['mse','mae'])"
   ]
  },
  {
   "cell_type": "code",
   "execution_count": null,
   "metadata": {},
   "outputs": [],
   "source": [
    "# Define number of epochs\n",
    "epochs = 100\n",
    "\n",
    "# Fit the model to the training data\n",
    "estimator = model.fit(X_train, y_train,\n",
    "#                       validation_split=0.3,\n",
    "                      epochs=epochs, batch_size=15, verbose=0)"
   ]
  },
  {
   "cell_type": "markdown",
   "metadata": {},
   "source": [
    "### Results"
   ]
  },
  {
   "cell_type": "code",
   "execution_count": null,
   "metadata": {},
   "outputs": [],
   "source": [
    "\"\"\"Classification: Test set predictions \"\"\"\n",
    "# y_proba = model.predict(X_test)\n",
    "# y_pred = pd.Series(y_proba.argmax(axis=-1))\n",
    "\n",
    "# Classification, if using pd.get_dummies:\n",
    "# y_t = pd.Series(y_test.columns[np.where(y_test != 0)[1]])\n",
    "\n",
    "# Classification, if using OneHotEncoder:\n",
    "# y_t = csr_matrix.argmax(y_test, axis=1)\n",
    "# y_t = pd.Series(np.squeeze(np.asarray(y_t)))\n",
    "\n",
    "# Regression, use 'y_test'"
   ]
  },
  {
   "cell_type": "code",
   "execution_count": 29,
   "metadata": {},
   "outputs": [],
   "source": [
    "\"\"\"\n",
    "Regression\n",
    "True y, not needed for kappa metric because already passed with train, test, split\n",
    "Used to verify reverse scaling\n",
    "\"\"\"\n",
    "y_pred = pd.DataFrame(model.predict(X_test).reshape(-1))"
   ]
  },
  {
   "cell_type": "code",
   "execution_count": 30,
   "metadata": {
    "scrolled": false
   },
   "outputs": [
    {
     "data": {
      "text/html": [
       "<div>\n",
       "<style scoped>\n",
       "    .dataframe tbody tr th:only-of-type {\n",
       "        vertical-align: middle;\n",
       "    }\n",
       "\n",
       "    .dataframe tbody tr th {\n",
       "        vertical-align: top;\n",
       "    }\n",
       "\n",
       "    .dataframe thead th {\n",
       "        text-align: right;\n",
       "    }\n",
       "</style>\n",
       "<table border=\"1\" class=\"dataframe\">\n",
       "  <thead>\n",
       "    <tr style=\"text-align: right;\">\n",
       "      <th></th>\n",
       "      <th>index</th>\n",
       "      <th>topic</th>\n",
       "      <th>target_score</th>\n",
       "      <th>scaled</th>\n",
       "      <th>y_pred</th>\n",
       "    </tr>\n",
       "  </thead>\n",
       "  <tbody>\n",
       "    <tr>\n",
       "      <th>0</th>\n",
       "      <td>1751</td>\n",
       "      <td>1</td>\n",
       "      <td>10</td>\n",
       "      <td>8.0</td>\n",
       "      <td>6.772967</td>\n",
       "    </tr>\n",
       "    <tr>\n",
       "      <th>1</th>\n",
       "      <td>1075</td>\n",
       "      <td>1</td>\n",
       "      <td>12</td>\n",
       "      <td>10.0</td>\n",
       "      <td>7.863214</td>\n",
       "    </tr>\n",
       "    <tr>\n",
       "      <th>2</th>\n",
       "      <td>383</td>\n",
       "      <td>1</td>\n",
       "      <td>10</td>\n",
       "      <td>8.0</td>\n",
       "      <td>7.057343</td>\n",
       "    </tr>\n",
       "    <tr>\n",
       "      <th>3</th>\n",
       "      <td>706</td>\n",
       "      <td>1</td>\n",
       "      <td>10</td>\n",
       "      <td>8.0</td>\n",
       "      <td>7.681651</td>\n",
       "    </tr>\n",
       "    <tr>\n",
       "      <th>4</th>\n",
       "      <td>831</td>\n",
       "      <td>1</td>\n",
       "      <td>10</td>\n",
       "      <td>8.0</td>\n",
       "      <td>7.555923</td>\n",
       "    </tr>\n",
       "  </tbody>\n",
       "</table>\n",
       "</div>"
      ],
      "text/plain": [
       "   index  topic  target_score  scaled    y_pred\n",
       "0   1751      1            10     8.0  6.772967\n",
       "1   1075      1            12    10.0  7.863214\n",
       "2    383      1            10     8.0  7.057343\n",
       "3    706      1            10     8.0  7.681651\n",
       "4    831      1            10     8.0  7.555923"
      ]
     },
     "execution_count": 30,
     "metadata": {},
     "output_type": "execute_result"
    }
   ],
   "source": [
    "\"\"\"Reverse scaling back to original target score scales\"\"\"\n",
    "\n",
    "# Merge results\n",
    "results = scores_test.reset_index(drop=True)\\\n",
    "                    .join(y_pred)\\\n",
    "                    .rename(columns={0:'y_pred'})\\\n",
    "                    .sort_values(by='topic')\\\n",
    "                    .reset_index(drop=True)\n",
    "results.head()"
   ]
  },
  {
   "cell_type": "markdown",
   "metadata": {},
   "source": [
    "Histograms of true and predicted target scores show generally a good agreement with the distribution trend. The plots are somewhat misleading since the scaled target scores have the same number of unique values before and after scaling. Since the Kappa metric calculates the distance, the spread of predicted values is not as worrisome."
   ]
  },
  {
   "cell_type": "code",
   "execution_count": 31,
   "metadata": {},
   "outputs": [
    {
     "data": {
      "image/png": "[encoded data removed]",
      "text/plain": [
       "<Figure size 648x648 with 8 Axes>"
      ]
     },
     "metadata": {
      "needs_background": "light"
     },
     "output_type": "display_data"
    }
   ],
   "source": [
    "topic_number = 0\n",
    "fig, ax = plt.subplots(4,2, figsize=(9,9), sharey=False)\n",
    "for i in range(4):\n",
    "    for j in range(2):\n",
    "        topic_number += 1\n",
    "        results[results['topic'] == topic_number]\\\n",
    "            [['scaled', 'y_pred']]\\\n",
    "            .plot.hist(histtype='step', bins=20, ax=ax[i, j], rot=0)\n",
    "        ax[i,j].set_title('Topic %i' % topic_number)\n",
    "ax[3,0].locator_params(nbins=10)\n",
    "ax[3,1].locator_params(nbins=10)\n",
    "plt.suptitle('Scaled prediction errors')\n",
    "plt.tight_layout(rect=[0, 0.03, 1, 0.95])\n",
    "plt.show()"
   ]
  },
  {
   "cell_type": "markdown",
   "metadata": {},
   "source": [
    "Prediction errors are greatest at the highest and lowest scores. Typically, the extreme scores have low representation and therefore the highest expected variance, therefore this is, once again, less worrisome."
   ]
  },
  {
   "cell_type": "code",
   "execution_count": 48,
   "metadata": {},
   "outputs": [
    {
     "data": {
      "image/png": "[encoded data removed]",
      "text/plain": [
       "<Figure size 648x648 with 8 Axes>"
      ]
     },
     "metadata": {
      "needs_background": "light"
     },
     "output_type": "display_data"
    }
   ],
   "source": [
    "topic_number = 0\n",
    "fig, ax = plt.subplots(4,2, figsize=(9,9), sharey=False)\n",
    "for i in range(4):\n",
    "    for j in range(2):\n",
    "        topic_number += 1\n",
    "        results[results['topic'] == topic_number]\\\n",
    "            .groupby('target_score')\\\n",
    "            .median()\\\n",
    "            .plot.bar(ax=ax[i, j], rot=0)\n",
    "        ax[i,j].set_title('Topic %i' % topic_number)\n",
    "ax[3,0].locator_params(nbins=10)\n",
    "ax[3,1].locator_params(nbins=10)\n",
    "plt.suptitle('Scaled prediction errors')\n",
    "plt.tight_layout(rect=[0, 0.03, 1, 0.95])\n",
    "plt.show()"
   ]
  },
  {
   "cell_type": "code",
   "execution_count": 49,
   "metadata": {},
   "outputs": [
    {
     "name": "stderr",
     "output_type": "stream",
     "text": [
      "/var/folders/b3/h5x9g13j4lv3wmnb5gjp50yh0000gn/T/ipykernel_1569/2318242772.py:8: DeprecationWarning: The default dtype for empty Series will be 'object' instead of 'float64' in a future version. Specify a dtype explicitly to silence this warning.\n",
      "  y_p_df = pd.Series()\n",
      "/var/folders/b3/h5x9g13j4lv3wmnb5gjp50yh0000gn/T/ipykernel_1569/2318242772.py:9: DeprecationWarning: The default dtype for empty Series will be 'object' instead of 'float64' in a future version. Specify a dtype explicitly to silence this warning.\n",
      "  y_t_df = pd.Series()\n"
     ]
    },
    {
     "data": {
      "text/html": [
       "<div>\n",
       "<style scoped>\n",
       "    .dataframe tbody tr th:only-of-type {\n",
       "        vertical-align: middle;\n",
       "    }\n",
       "\n",
       "    .dataframe tbody tr th {\n",
       "        vertical-align: top;\n",
       "    }\n",
       "\n",
       "    .dataframe thead th {\n",
       "        text-align: right;\n",
       "    }\n",
       "</style>\n",
       "<table border=\"1\" class=\"dataframe\">\n",
       "  <thead>\n",
       "    <tr style=\"text-align: right;\">\n",
       "      <th></th>\n",
       "      <th>index</th>\n",
       "      <th>topic</th>\n",
       "      <th>target_score</th>\n",
       "      <th>scaled</th>\n",
       "      <th>y_pred</th>\n",
       "      <th>pred</th>\n",
       "      <th>y_true</th>\n",
       "    </tr>\n",
       "  </thead>\n",
       "  <tbody>\n",
       "    <tr>\n",
       "      <th>0</th>\n",
       "      <td>1751</td>\n",
       "      <td>1</td>\n",
       "      <td>10</td>\n",
       "      <td>8.0</td>\n",
       "      <td>6.772967</td>\n",
       "      <td>9</td>\n",
       "      <td>10</td>\n",
       "    </tr>\n",
       "    <tr>\n",
       "      <th>1</th>\n",
       "      <td>1075</td>\n",
       "      <td>1</td>\n",
       "      <td>12</td>\n",
       "      <td>10.0</td>\n",
       "      <td>7.863214</td>\n",
       "      <td>11</td>\n",
       "      <td>12</td>\n",
       "    </tr>\n",
       "    <tr>\n",
       "      <th>2</th>\n",
       "      <td>383</td>\n",
       "      <td>1</td>\n",
       "      <td>10</td>\n",
       "      <td>8.0</td>\n",
       "      <td>7.057343</td>\n",
       "      <td>9</td>\n",
       "      <td>10</td>\n",
       "    </tr>\n",
       "    <tr>\n",
       "      <th>3</th>\n",
       "      <td>706</td>\n",
       "      <td>1</td>\n",
       "      <td>10</td>\n",
       "      <td>8.0</td>\n",
       "      <td>7.681651</td>\n",
       "      <td>10</td>\n",
       "      <td>10</td>\n",
       "    </tr>\n",
       "    <tr>\n",
       "      <th>4</th>\n",
       "      <td>831</td>\n",
       "      <td>1</td>\n",
       "      <td>10</td>\n",
       "      <td>8.0</td>\n",
       "      <td>7.555923</td>\n",
       "      <td>10</td>\n",
       "      <td>10</td>\n",
       "    </tr>\n",
       "  </tbody>\n",
       "</table>\n",
       "</div>"
      ],
      "text/plain": [
       "   index  topic  target_score  scaled    y_pred  pred  y_true\n",
       "0   1751      1            10     8.0  6.772967     9      10\n",
       "1   1075      1            12    10.0  7.863214    11      12\n",
       "2    383      1            10     8.0  7.057343     9      10\n",
       "3    706      1            10     8.0  7.681651    10      10\n",
       "4    831      1            10     8.0  7.555923    10      10"
      ]
     },
     "execution_count": 49,
     "metadata": {},
     "output_type": "execute_result"
    }
   ],
   "source": [
    "\"\"\" Create list of tuples with min/max target scores sorted by topic number.\n",
    " Performed here on results in case min/max values didn't pass through train_test_split\"\"\"\n",
    "\n",
    "score_df = results.groupby('topic')['target_score'].agg(['min', 'max'])  \n",
    "score_ranges = list(zip(score_df['min'], score_df['max'])) \n",
    "\n",
    "\"\"\"Shrink back to original range by topic number:\"\"\"\n",
    "y_p_df = pd.Series()\n",
    "y_t_df = pd.Series()\n",
    "\n",
    "for topic in range(1,9):\n",
    "    scaler = MinMaxScaler(score_ranges[topic-1])\n",
    "    scaled_pred = results[results.topic == topic]['y_pred'].to_frame()\n",
    "    y_pred_shrunk = scaler.fit_transform(scaled_pred).round(0).astype('int')\n",
    "    scaled_true = results[results.topic == topic]['scaled'].to_frame()\n",
    "    y_true_shrunk = scaler.fit_transform(scaled_true).round(0).astype('int')\n",
    "    y_p_df = y_p_df.append(pd.Series(np.squeeze(np.asarray(y_pred_shrunk))), ignore_index=True)\n",
    "    y_t_df = y_t_df.append(pd.Series(np.squeeze(np.asarray(y_true_shrunk))), ignore_index=True)\n",
    "    \n",
    "# Append to results df\n",
    "results['pred'] = y_p_df\n",
    "results['y_true'] = y_t_df\n",
    "results.head()"
   ]
  },
  {
   "cell_type": "markdown",
   "metadata": {},
   "source": [
    "The close agreement between true and predicted essay scores becomes apparent after re-scaling to their original ranges and plotting on a log scale by count."
   ]
  },
  {
   "cell_type": "code",
   "execution_count": 50,
   "metadata": {},
   "outputs": [
    {
     "data": {
      "image/png": "[encoded data removed]",
      "text/plain": [
       "<Figure size 432x288 with 1 Axes>"
      ]
     },
     "metadata": {
      "needs_background": "light"
     },
     "output_type": "display_data"
    }
   ],
   "source": [
    "# score histogram\n",
    "\n",
    "results[['pred', 'y_true']].plot.hist(histtype='step', bins=20, logy=True)\n",
    "plt.title('Histogram of target scores')\n",
    "plt.xlabel('target score')\n",
    "plt.ylabel('log count')\n",
    "plt.savefig('images/target_scores.png', dpi=300)\n",
    "plt.show()"
   ]
  },
  {
   "cell_type": "code",
   "execution_count": 51,
   "metadata": {},
   "outputs": [
    {
     "ename": "KeyError",
     "evalue": "'acc'",
     "output_type": "error",
     "traceback": [
      "\u001b[0;31m---------------------------------------------------------------------------\u001b[0m",
      "\u001b[0;31mKeyError\u001b[0m                                  Traceback (most recent call last)",
      "\u001b[0;32m/var/folders/b3/h5x9g13j4lv3wmnb5gjp50yh0000gn/T/ipykernel_1569/109708365.py\u001b[0m in \u001b[0;36m<module>\u001b[0;34m\u001b[0m\n\u001b[1;32m      1\u001b[0m \u001b[0;31m# Classification accuracy:\u001b[0m\u001b[0;34m\u001b[0m\u001b[0;34m\u001b[0m\u001b[0m\n\u001b[1;32m      2\u001b[0m print(\"Training accuracy: %.2f%% / Validation accuracy: %.2f%%\" % \n\u001b[0;32m----> 3\u001b[0;31m        (100*estimator.history['acc'][-1], 100*estimator.history['val_acc'][-1]))\n\u001b[0m",
      "\u001b[0;31mKeyError\u001b[0m: 'acc'"
     ]
    }
   ],
   "source": [
    "# Classification accuracy:\n",
    "# print(\"Training accuracy: %.2f%% / Validation accuracy: %.2f%%\" % \n",
    "#       (100*estimator.history['acc'][-1], 100*estimator.history['val_acc'][-1]))"
   ]
  },
  {
   "cell_type": "markdown",
   "metadata": {},
   "source": [
    "### A note on kappa scores\n",
    "\n",
    "Some previous studies apply the kappa metric directly to the complete set of essays. Due to the differences in scale, essay topics (sets) that have a narrow scoring range will end up with significantly smaller weighted distances and thus artificially high kappa scores. Kappa scores of up to 94.5% have been reported with this metric.\n",
    "\n",
    "Other studies calculate the kappa score for each topic individually and then report the geometric mean.\n",
    "\n",
    "The method most likely used in the original Kaggle competition (there is some doubt whether the published code matches the one actually used), uses the quadratic weighted kappa for each set individually and then calculates the mean of the quadratic weighted kappas after applying Fisher's r-to-z transform, which is approximately a variance-stabilizing transformation. Each set is weighted by a factor of one, except for topic 2 which has two domain raters which are each weighted 0.5. It is not clear why the scores are not weighted by the number of essays in each set, then again, the actual formulas used in the competition have not been published.\n",
    "\n",
    "The kappa scores from the original competition were based on comparison to unpublished test data scores. Since all published work on this data set only used the training data set, kappas cannot be compared directly to competition results.\n",
    "\n",
    "Finally, most published work used a subset of essay sets (topics). Omitting topics is likely going to change kappa scores for better or worse."
   ]
  },
  {
   "cell_type": "code",
   "execution_count": 52,
   "metadata": {},
   "outputs": [
    {
     "name": "stdout",
     "output_type": "stream",
     "text": [
      "Combined essay kappa score: 0.9595\n"
     ]
    }
   ],
   "source": [
    "k = kappa(results.pred, results.target_score, weights='quadratic')\n",
    "print('Combined essay kappa score: {:.4f}'.format(k))"
   ]
  },
  {
   "cell_type": "markdown",
   "metadata": {},
   "source": [
    "The combined essay topics kappa score is much higher than that obtained from individual topics, however, as noted above, this is deceptive, as shown in a recalculation below:"
   ]
  },
  {
   "cell_type": "code",
   "execution_count": 53,
   "metadata": {},
   "outputs": [
    {
     "name": "stdout",
     "output_type": "stream",
     "text": [
      "Weighted by topic Kappa score: 60.21%\n"
     ]
    }
   ],
   "source": [
    "qwk = []\n",
    "# weights = []\n",
    "for topic in range(1,9):\n",
    "    qwk.append(\n",
    "            kappa(results[results.topic == topic]['target_score'], \n",
    "                  results[results.topic == topic]['pred'],\n",
    "                    weights='quadratic'))\n",
    "#     weights.append(len(results[results.topic==topic])/X_test.shape[0])    \n",
    "mqwk = mean_quadratic_weighted_kappa(qwk, weights=1)\n",
    "print('Weighted by topic Kappa score: {:.2f}%'.format(mqwk * 100))"
   ]
  },
  {
   "cell_type": "code",
   "execution_count": 54,
   "metadata": {},
   "outputs": [
    {
     "data": {
      "text/plain": [
       "[0.5744170120233549,\n",
       " 0.40209295298277603,\n",
       " 0.5702471391479949,\n",
       " 0.5925805910944746,\n",
       " 0.7793811158968659,\n",
       " 0.6558993539612377,\n",
       " 0.7317354580030618,\n",
       " 0.38010287112877095]"
      ]
     },
     "execution_count": 54,
     "metadata": {},
     "output_type": "execute_result"
    }
   ],
   "source": [
    "qwk"
   ]
  },
  {
   "cell_type": "code",
   "execution_count": 55,
   "metadata": {},
   "outputs": [
    {
     "name": "stdout",
     "output_type": "stream",
     "text": [
      "Weighted by topic Kappa score: 0.7612\n"
     ]
    }
   ],
   "source": [
    "# kappa for two human raters\n",
    "qwk = []\n",
    "# weights = []\n",
    "for topic in range(1,9):\n",
    "    qwk.append(\n",
    "            kappa(training_set[training_set.topic == topic]['rater1_domain1'], \n",
    "                  training_set[training_set.topic == topic]['rater2_domain1'],\n",
    "                    weights='quadratic'))\n",
    "#     weights.append(len(results[results.topic==topic])/X_test.shape[0])    \n",
    "mqwk = mean_quadratic_weighted_kappa(qwk, weights=1)\n",
    "print('Weighted by topic Kappa score: {:.4f}'.format(mqwk))"
   ]
  },
  {
   "cell_type": "code",
   "execution_count": 56,
   "metadata": {},
   "outputs": [
    {
     "data": {
      "image/png": "[encoded data removed]",
      "text/plain": [
       "<Figure size 576x576 with 8 Axes>"
      ]
     },
     "metadata": {
      "needs_background": "light"
     },
     "output_type": "display_data"
    }
   ],
   "source": [
    "topic_number = 0\n",
    "fig, ax = plt.subplots(4,2, figsize=(8,8), sharey=False)\n",
    "for i in range(4):\n",
    "    for j in range(2):\n",
    "        topic_number += 1\n",
    "        results[results['topic'] == topic_number]\\\n",
    "            .groupby('y_true')['y_true']\\\n",
    "            .agg('count')\\\n",
    "            .plot.bar(ax=ax[i, j], rot=0, fill=False, ec='b', label='actual')\n",
    "        results[results['topic'] == topic_number]\\\n",
    "            .groupby('pred')['pred']\\\n",
    "            .agg('count')\\\n",
    "            .plot.bar(ax=ax[i, j], rot=0, fill=False, ec='r', label='prediction')\n",
    "        ax[i,j].set_title('Topic %i' % topic_number)\n",
    "ax[3,0].locator_params(nbins=10)\n",
    "ax[3,1].locator_params(nbins=10)\n",
    "plt.suptitle('Histograms of predicted essay scores')\n",
    "plt.legend(bbox_to_anchor=(1.0, 1.05))\n",
    "plt.tight_layout(rect=[0, 0.03, 1, 0.95])\n",
    "plt.show()"
   ]
  },
  {
   "cell_type": "code",
   "execution_count": 57,
   "metadata": {
    "scrolled": false
   },
   "outputs": [
    {
     "ename": "KeyError",
     "evalue": "'mean_squared_error'",
     "output_type": "error",
     "traceback": [
      "\u001b[0;31m---------------------------------------------------------------------------\u001b[0m",
      "\u001b[0;31mKeyError\u001b[0m                                  Traceback (most recent call last)",
      "\u001b[0;32m/var/folders/b3/h5x9g13j4lv3wmnb5gjp50yh0000gn/T/ipykernel_1569/2231134922.py\u001b[0m in \u001b[0;36m<module>\u001b[0;34m\u001b[0m\n\u001b[1;32m      5\u001b[0m \u001b[0;31m# Plot model mse over epochs\u001b[0m\u001b[0;34m\u001b[0m\u001b[0;34m\u001b[0m\u001b[0m\n\u001b[1;32m      6\u001b[0m \u001b[0msns\u001b[0m\u001b[0;34m.\u001b[0m\u001b[0mreset_orig\u001b[0m\u001b[0;34m(\u001b[0m\u001b[0;34m)\u001b[0m   \u001b[0;31m# Reset seaborn settings to get rid of black background\u001b[0m\u001b[0;34m\u001b[0m\u001b[0;34m\u001b[0m\u001b[0m\n\u001b[0;32m----> 7\u001b[0;31m \u001b[0mplt\u001b[0m\u001b[0;34m.\u001b[0m\u001b[0mplot\u001b[0m\u001b[0;34m(\u001b[0m\u001b[0mestimator\u001b[0m\u001b[0;34m.\u001b[0m\u001b[0mhistory\u001b[0m\u001b[0;34m[\u001b[0m\u001b[0;34m'mean_squared_error'\u001b[0m\u001b[0;34m]\u001b[0m\u001b[0;34m)\u001b[0m\u001b[0;34m\u001b[0m\u001b[0;34m\u001b[0m\u001b[0m\n\u001b[0m\u001b[1;32m      8\u001b[0m \u001b[0mplt\u001b[0m\u001b[0;34m.\u001b[0m\u001b[0mplot\u001b[0m\u001b[0;34m(\u001b[0m\u001b[0mestimator\u001b[0m\u001b[0;34m.\u001b[0m\u001b[0mhistory\u001b[0m\u001b[0;34m[\u001b[0m\u001b[0;34m'val_mean_squared_error'\u001b[0m\u001b[0;34m]\u001b[0m\u001b[0;34m)\u001b[0m\u001b[0;34m\u001b[0m\u001b[0;34m\u001b[0m\u001b[0m\n\u001b[1;32m      9\u001b[0m \u001b[0mplt\u001b[0m\u001b[0;34m.\u001b[0m\u001b[0mtitle\u001b[0m\u001b[0;34m(\u001b[0m\u001b[0;34m'model MSE'\u001b[0m\u001b[0;34m)\u001b[0m\u001b[0;34m\u001b[0m\u001b[0;34m\u001b[0m\u001b[0m\n",
      "\u001b[0;31mKeyError\u001b[0m: 'mean_squared_error'"
     ]
    }
   ],
   "source": [
    "\"\"\"\n",
    "Use this for plotting regression mean-squared error\n",
    "Validation split must be enabled during model fit.\n",
    "\"\"\"\n",
    "# Plot model mse over epochs\n",
    "sns.reset_orig()   # Reset seaborn settings to get rid of black background\n",
    "plt.plot(estimator.history['mean_squared_error'])\n",
    "plt.plot(estimator.history['val_mean_squared_error'])\n",
    "plt.title('model MSE')\n",
    "plt.ylabel('mse')\n",
    "plt.xlabel('epoch')\n",
    "plt.legend(['train', 'valid'], loc='upper left')\n",
    "# plt.ylim(0,300)\n",
    "plt.show()\n",
    "\n",
    "# Plot model loss over epochs\n",
    "plt.plot(estimator.history['loss'])\n",
    "plt.plot(estimator.history['val_loss'])\n",
    "plt.title('model loss')\n",
    "plt.ylabel('loss')\n",
    "plt.xlabel('epoch')\n",
    "plt.legend(['train', 'valid'], loc='upper left')\n",
    "plt.show()"
   ]
  },
  {
   "cell_type": "markdown",
   "metadata": {},
   "source": [
    "The most significant improvement occurs in the first 10 or 20 epochs, however the model continues to improve slightly with additional epochs."
   ]
  },
  {
   "cell_type": "code",
   "execution_count": null,
   "metadata": {},
   "outputs": [],
   "source": [
    "\"\"\"Use this for plotting classification accuracy\"\"\"\n",
    "# # Plot model accuracy over epochs\n",
    "# sns.reset_orig()   # Reset seaborn settings to get rid of black background\n",
    "# plt.plot(estimator.history['acc'])\n",
    "# plt.plot(estimator.history['val_acc'])\n",
    "# plt.title('model accuracy')\n",
    "# plt.ylabel('accuracy')\n",
    "# plt.xlabel('epoch')\n",
    "# plt.legend(['train', 'valid'], loc='upper left')\n",
    "# plt.show()\n",
    "\n",
    "# # Plot model loss over epochs\n",
    "# plt.plot(estimator.history['loss'])\n",
    "# plt.plot(estimator.history['val_loss'])\n",
    "# plt.title('model loss')\n",
    "# plt.ylabel('loss')\n",
    "# plt.xlabel('epoch')\n",
    "# plt.legend(['train', 'valid'], loc='upper left')\n",
    "# plt.show()"
   ]
  },
  {
   "cell_type": "code",
   "execution_count": 58,
   "metadata": {},
   "outputs": [
    {
     "name": "stdout",
     "output_type": "stream",
     "text": [
      "0.0% of target scores did not revert back to their original value.\n"
     ]
    }
   ],
   "source": [
    "# Check for scaling errors\n",
    "errors = len(results.query('y_true != target_score')[['topic', 'target_score', 'y_true']])\n",
    "\n",
    "print('{:.1f}% of target scores did not revert back to their original value.'.format(errors/results.shape[0] * 100))"
   ]
  },
  {
   "cell_type": "markdown",
   "metadata": {},
   "source": [
    "## Summary\n",
    "\n",
    "Adding Word2Vec word embeddings to the feature set and applying a neural network model produces superior results compared to traditional machine learning algorithms. \n",
    "\n",
    "Of all the model architectures attempted, a multi-layer perceptron with surprisingly few nodes in the hidden layer returned the highest Kappa score. Additional hidden layers did not improve the model.\n",
    "\n",
    "Automatic scoring can be framed as both a classification or a regression problem. The highest target metrics (mean quadratic weighted kappa) were found using regression analysis.\n",
    "\n",
    "Comparisons to the original Kaggle competition and later attempts are often unfair due to differences in data sets and methods of calculating kappa. The results obtained in this notebook are among the highest, if not the highest currently published."
   ]
  },
  {
   "cell_type": "markdown",
   "metadata": {},
   "source": [
    "## Outlook\n",
    "\n",
    "Additional optimization is definitely possibly by tweaking hyperparameters and calculating more epochs. Additional features could be extracted and added to the feature set. While this would almost certainly result in higher kappa scores, the additional gain wouldn't outweigh the benefit. Perhaps the biggest obstacle is the limited data. If some day scores for the validation and test data sets are released, it would be worthwhile revisiting the problem set."
   ]
  }
 ],
 "metadata": {
  "interpreter": {
   "hash": "9d5618ee9d93179d1442221b64d11b05e1bb41390beb758f1a55b5dbc1cfb010"
  },
  "kernelspec": {
   "display_name": "Python [conda env:capstone2]",
   "language": "python",
   "name": "python3"
  },
  "language_info": {
   "codemirror_mode": {
    "name": "ipython",
    "version": 3
   },
   "file_extension": ".py",
   "mimetype": "text/x-python",
   "name": "python",
   "nbconvert_exporter": "python",
   "pygments_lexer": "ipython3",
   "version": "3.9.7"
  }
 },
 "nbformat": 4,
 "nbformat_minor": 2
}
